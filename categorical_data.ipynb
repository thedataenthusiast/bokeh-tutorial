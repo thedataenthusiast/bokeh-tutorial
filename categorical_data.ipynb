{
 "cells": [
  {
   "cell_type": "code",
   "execution_count": 1,
   "metadata": {},
   "outputs": [
    {
     "data": {
      "text/html": [
       "\n",
       "    <div class=\"bk-root\">\n",
       "        <a href=\"https://bokeh.pydata.org\" target=\"_blank\" class=\"bk-logo bk-logo-small bk-logo-notebook\"></a>\n",
       "        <span id=\"28a3fc57-17ae-419e-a41f-687ae9d5e3f2\">Loading BokehJS ...</span>\n",
       "    </div>"
      ]
     },
     "metadata": {},
     "output_type": "display_data"
    },
    {
     "data": {
      "application/javascript": [
       "\n",
       "(function(root) {\n",
       "  function now() {\n",
       "    return new Date();\n",
       "  }\n",
       "\n",
       "  var force = true;\n",
       "\n",
       "  if (typeof (root._bokeh_onload_callbacks) === \"undefined\" || force === true) {\n",
       "    root._bokeh_onload_callbacks = [];\n",
       "    root._bokeh_is_loading = undefined;\n",
       "  }\n",
       "\n",
       "  var JS_MIME_TYPE = 'application/javascript';\n",
       "  var HTML_MIME_TYPE = 'text/html';\n",
       "  var EXEC_MIME_TYPE = 'application/vnd.bokehjs_exec.v0+json';\n",
       "  var CLASS_NAME = 'output_bokeh rendered_html';\n",
       "\n",
       "  /**\n",
       "   * Render data to the DOM node\n",
       "   */\n",
       "  function render(props, node) {\n",
       "    var script = document.createElement(\"script\");\n",
       "    node.appendChild(script);\n",
       "  }\n",
       "\n",
       "  /**\n",
       "   * Handle when an output is cleared or removed\n",
       "   */\n",
       "  function handleClearOutput(event, handle) {\n",
       "    var cell = handle.cell;\n",
       "\n",
       "    var id = cell.output_area._bokeh_element_id;\n",
       "    var server_id = cell.output_area._bokeh_server_id;\n",
       "    // Clean up Bokeh references\n",
       "    if (id !== undefined) {\n",
       "      Bokeh.index[id].model.document.clear();\n",
       "      delete Bokeh.index[id];\n",
       "    }\n",
       "\n",
       "    if (server_id !== undefined) {\n",
       "      // Clean up Bokeh references\n",
       "      var cmd = \"from bokeh.io.state import curstate; print(curstate().uuid_to_server['\" + server_id + \"'].get_sessions()[0].document.roots[0]._id)\";\n",
       "      cell.notebook.kernel.execute(cmd, {\n",
       "        iopub: {\n",
       "          output: function(msg) {\n",
       "            var element_id = msg.content.text.trim();\n",
       "            Bokeh.index[element_id].model.document.clear();\n",
       "            delete Bokeh.index[element_id];\n",
       "          }\n",
       "        }\n",
       "      });\n",
       "      // Destroy server and session\n",
       "      var cmd = \"import bokeh.io.notebook as ion; ion.destroy_server('\" + server_id + \"')\";\n",
       "      cell.notebook.kernel.execute(cmd);\n",
       "    }\n",
       "  }\n",
       "\n",
       "  /**\n",
       "   * Handle when a new output is added\n",
       "   */\n",
       "  function handleAddOutput(event, handle) {\n",
       "    var output_area = handle.output_area;\n",
       "    var output = handle.output;\n",
       "\n",
       "    // limit handleAddOutput to display_data with EXEC_MIME_TYPE content only\n",
       "    if ((output.output_type != \"display_data\") || (!output.data.hasOwnProperty(EXEC_MIME_TYPE))) {\n",
       "      return\n",
       "    }\n",
       "\n",
       "    var toinsert = output_area.element.find(\".\" + CLASS_NAME.split(' ')[0]);\n",
       "\n",
       "    if (output.metadata[EXEC_MIME_TYPE][\"id\"] !== undefined) {\n",
       "      toinsert[toinsert.length - 1].firstChild.textContent = output.data[JS_MIME_TYPE];\n",
       "      // store reference to embed id on output_area\n",
       "      output_area._bokeh_element_id = output.metadata[EXEC_MIME_TYPE][\"id\"];\n",
       "    }\n",
       "    if (output.metadata[EXEC_MIME_TYPE][\"server_id\"] !== undefined) {\n",
       "      var bk_div = document.createElement(\"div\");\n",
       "      bk_div.innerHTML = output.data[HTML_MIME_TYPE];\n",
       "      var script_attrs = bk_div.children[0].attributes;\n",
       "      for (var i = 0; i < script_attrs.length; i++) {\n",
       "        toinsert[toinsert.length - 1].firstChild.setAttribute(script_attrs[i].name, script_attrs[i].value);\n",
       "      }\n",
       "      // store reference to server id on output_area\n",
       "      output_area._bokeh_server_id = output.metadata[EXEC_MIME_TYPE][\"server_id\"];\n",
       "    }\n",
       "  }\n",
       "\n",
       "  function register_renderer(events, OutputArea) {\n",
       "\n",
       "    function append_mime(data, metadata, element) {\n",
       "      // create a DOM node to render to\n",
       "      var toinsert = this.create_output_subarea(\n",
       "        metadata,\n",
       "        CLASS_NAME,\n",
       "        EXEC_MIME_TYPE\n",
       "      );\n",
       "      this.keyboard_manager.register_events(toinsert);\n",
       "      // Render to node\n",
       "      var props = {data: data, metadata: metadata[EXEC_MIME_TYPE]};\n",
       "      render(props, toinsert[toinsert.length - 1]);\n",
       "      element.append(toinsert);\n",
       "      return toinsert\n",
       "    }\n",
       "\n",
       "    /* Handle when an output is cleared or removed */\n",
       "    events.on('clear_output.CodeCell', handleClearOutput);\n",
       "    events.on('delete.Cell', handleClearOutput);\n",
       "\n",
       "    /* Handle when a new output is added */\n",
       "    events.on('output_added.OutputArea', handleAddOutput);\n",
       "\n",
       "    /**\n",
       "     * Register the mime type and append_mime function with output_area\n",
       "     */\n",
       "    OutputArea.prototype.register_mime_type(EXEC_MIME_TYPE, append_mime, {\n",
       "      /* Is output safe? */\n",
       "      safe: true,\n",
       "      /* Index of renderer in `output_area.display_order` */\n",
       "      index: 0\n",
       "    });\n",
       "  }\n",
       "\n",
       "  // register the mime type if in Jupyter Notebook environment and previously unregistered\n",
       "  if (root.Jupyter !== undefined) {\n",
       "    var events = require('base/js/events');\n",
       "    var OutputArea = require('notebook/js/outputarea').OutputArea;\n",
       "\n",
       "    if (OutputArea.prototype.mime_types().indexOf(EXEC_MIME_TYPE) == -1) {\n",
       "      register_renderer(events, OutputArea);\n",
       "    }\n",
       "  }\n",
       "\n",
       "  \n",
       "  if (typeof (root._bokeh_timeout) === \"undefined\" || force === true) {\n",
       "    root._bokeh_timeout = Date.now() + 5000;\n",
       "    root._bokeh_failed_load = false;\n",
       "  }\n",
       "\n",
       "  var NB_LOAD_WARNING = {'data': {'text/html':\n",
       "     \"<div style='background-color: #fdd'>\\n\"+\n",
       "     \"<p>\\n\"+\n",
       "     \"BokehJS does not appear to have successfully loaded. If loading BokehJS from CDN, this \\n\"+\n",
       "     \"may be due to a slow or bad network connection. Possible fixes:\\n\"+\n",
       "     \"</p>\\n\"+\n",
       "     \"<ul>\\n\"+\n",
       "     \"<li>re-rerun `output_notebook()` to attempt to load from CDN again, or</li>\\n\"+\n",
       "     \"<li>use INLINE resources instead, as so:</li>\\n\"+\n",
       "     \"</ul>\\n\"+\n",
       "     \"<code>\\n\"+\n",
       "     \"from bokeh.resources import INLINE\\n\"+\n",
       "     \"output_notebook(resources=INLINE)\\n\"+\n",
       "     \"</code>\\n\"+\n",
       "     \"</div>\"}};\n",
       "\n",
       "  function display_loaded() {\n",
       "    var el = document.getElementById(\"28a3fc57-17ae-419e-a41f-687ae9d5e3f2\");\n",
       "    if (el != null) {\n",
       "      el.textContent = \"BokehJS is loading...\";\n",
       "    }\n",
       "    if (root.Bokeh !== undefined) {\n",
       "      if (el != null) {\n",
       "        el.textContent = \"BokehJS \" + root.Bokeh.version + \" successfully loaded.\";\n",
       "      }\n",
       "    } else if (Date.now() < root._bokeh_timeout) {\n",
       "      setTimeout(display_loaded, 100)\n",
       "    }\n",
       "  }\n",
       "\n",
       "\n",
       "  function run_callbacks() {\n",
       "    try {\n",
       "      root._bokeh_onload_callbacks.forEach(function(callback) { callback() });\n",
       "    }\n",
       "    finally {\n",
       "      delete root._bokeh_onload_callbacks\n",
       "    }\n",
       "    console.info(\"Bokeh: all callbacks have finished\");\n",
       "  }\n",
       "\n",
       "  function load_libs(js_urls, callback) {\n",
       "    root._bokeh_onload_callbacks.push(callback);\n",
       "    if (root._bokeh_is_loading > 0) {\n",
       "      console.log(\"Bokeh: BokehJS is being loaded, scheduling callback at\", now());\n",
       "      return null;\n",
       "    }\n",
       "    if (js_urls == null || js_urls.length === 0) {\n",
       "      run_callbacks();\n",
       "      return null;\n",
       "    }\n",
       "    console.log(\"Bokeh: BokehJS not loaded, scheduling load and callback at\", now());\n",
       "    root._bokeh_is_loading = js_urls.length;\n",
       "    for (var i = 0; i < js_urls.length; i++) {\n",
       "      var url = js_urls[i];\n",
       "      var s = document.createElement('script');\n",
       "      s.src = url;\n",
       "      s.async = false;\n",
       "      s.onreadystatechange = s.onload = function() {\n",
       "        root._bokeh_is_loading--;\n",
       "        if (root._bokeh_is_loading === 0) {\n",
       "          console.log(\"Bokeh: all BokehJS libraries loaded\");\n",
       "          run_callbacks()\n",
       "        }\n",
       "      };\n",
       "      s.onerror = function() {\n",
       "        console.warn(\"failed to load library \" + url);\n",
       "      };\n",
       "      console.log(\"Bokeh: injecting script tag for BokehJS library: \", url);\n",
       "      document.getElementsByTagName(\"head\")[0].appendChild(s);\n",
       "    }\n",
       "  };var element = document.getElementById(\"28a3fc57-17ae-419e-a41f-687ae9d5e3f2\");\n",
       "  if (element == null) {\n",
       "    console.log(\"Bokeh: ERROR: autoload.js configured with elementid '28a3fc57-17ae-419e-a41f-687ae9d5e3f2' but no matching script tag was found. \")\n",
       "    return false;\n",
       "  }\n",
       "\n",
       "  var js_urls = [\"https://cdn.pydata.org/bokeh/release/bokeh-0.12.16.min.js\", \"https://cdn.pydata.org/bokeh/release/bokeh-widgets-0.12.16.min.js\", \"https://cdn.pydata.org/bokeh/release/bokeh-tables-0.12.16.min.js\", \"https://cdn.pydata.org/bokeh/release/bokeh-gl-0.12.16.min.js\"];\n",
       "\n",
       "  var inline_js = [\n",
       "    function(Bokeh) {\n",
       "      Bokeh.set_log_level(\"info\");\n",
       "    },\n",
       "    \n",
       "    function(Bokeh) {\n",
       "      \n",
       "    },\n",
       "    function(Bokeh) {\n",
       "      console.log(\"Bokeh: injecting CSS: https://cdn.pydata.org/bokeh/release/bokeh-0.12.16.min.css\");\n",
       "      Bokeh.embed.inject_css(\"https://cdn.pydata.org/bokeh/release/bokeh-0.12.16.min.css\");\n",
       "      console.log(\"Bokeh: injecting CSS: https://cdn.pydata.org/bokeh/release/bokeh-widgets-0.12.16.min.css\");\n",
       "      Bokeh.embed.inject_css(\"https://cdn.pydata.org/bokeh/release/bokeh-widgets-0.12.16.min.css\");\n",
       "      console.log(\"Bokeh: injecting CSS: https://cdn.pydata.org/bokeh/release/bokeh-tables-0.12.16.min.css\");\n",
       "      Bokeh.embed.inject_css(\"https://cdn.pydata.org/bokeh/release/bokeh-tables-0.12.16.min.css\");\n",
       "    }\n",
       "  ];\n",
       "\n",
       "  function run_inline_js() {\n",
       "    \n",
       "    if ((root.Bokeh !== undefined) || (force === true)) {\n",
       "      for (var i = 0; i < inline_js.length; i++) {\n",
       "        inline_js[i].call(root, root.Bokeh);\n",
       "      }if (force === true) {\n",
       "        display_loaded();\n",
       "      }} else if (Date.now() < root._bokeh_timeout) {\n",
       "      setTimeout(run_inline_js, 100);\n",
       "    } else if (!root._bokeh_failed_load) {\n",
       "      console.log(\"Bokeh: BokehJS failed to load within specified timeout.\");\n",
       "      root._bokeh_failed_load = true;\n",
       "    } else if (force !== true) {\n",
       "      var cell = $(document.getElementById(\"28a3fc57-17ae-419e-a41f-687ae9d5e3f2\")).parents('.cell').data().cell;\n",
       "      cell.output_area.append_execute_result(NB_LOAD_WARNING)\n",
       "    }\n",
       "\n",
       "  }\n",
       "\n",
       "  if (root._bokeh_is_loading === 0) {\n",
       "    console.log(\"Bokeh: BokehJS loaded, going straight to plotting\");\n",
       "    run_inline_js();\n",
       "  } else {\n",
       "    load_libs(js_urls, function() {\n",
       "      console.log(\"Bokeh: BokehJS plotting callback run at\", now());\n",
       "      run_inline_js();\n",
       "    });\n",
       "  }\n",
       "}(window));"
      ],
      "application/vnd.bokehjs_load.v0+json": "\n(function(root) {\n  function now() {\n    return new Date();\n  }\n\n  var force = true;\n\n  if (typeof (root._bokeh_onload_callbacks) === \"undefined\" || force === true) {\n    root._bokeh_onload_callbacks = [];\n    root._bokeh_is_loading = undefined;\n  }\n\n  \n\n  \n  if (typeof (root._bokeh_timeout) === \"undefined\" || force === true) {\n    root._bokeh_timeout = Date.now() + 5000;\n    root._bokeh_failed_load = false;\n  }\n\n  var NB_LOAD_WARNING = {'data': {'text/html':\n     \"<div style='background-color: #fdd'>\\n\"+\n     \"<p>\\n\"+\n     \"BokehJS does not appear to have successfully loaded. If loading BokehJS from CDN, this \\n\"+\n     \"may be due to a slow or bad network connection. Possible fixes:\\n\"+\n     \"</p>\\n\"+\n     \"<ul>\\n\"+\n     \"<li>re-rerun `output_notebook()` to attempt to load from CDN again, or</li>\\n\"+\n     \"<li>use INLINE resources instead, as so:</li>\\n\"+\n     \"</ul>\\n\"+\n     \"<code>\\n\"+\n     \"from bokeh.resources import INLINE\\n\"+\n     \"output_notebook(resources=INLINE)\\n\"+\n     \"</code>\\n\"+\n     \"</div>\"}};\n\n  function display_loaded() {\n    var el = document.getElementById(\"28a3fc57-17ae-419e-a41f-687ae9d5e3f2\");\n    if (el != null) {\n      el.textContent = \"BokehJS is loading...\";\n    }\n    if (root.Bokeh !== undefined) {\n      if (el != null) {\n        el.textContent = \"BokehJS \" + root.Bokeh.version + \" successfully loaded.\";\n      }\n    } else if (Date.now() < root._bokeh_timeout) {\n      setTimeout(display_loaded, 100)\n    }\n  }\n\n\n  function run_callbacks() {\n    try {\n      root._bokeh_onload_callbacks.forEach(function(callback) { callback() });\n    }\n    finally {\n      delete root._bokeh_onload_callbacks\n    }\n    console.info(\"Bokeh: all callbacks have finished\");\n  }\n\n  function load_libs(js_urls, callback) {\n    root._bokeh_onload_callbacks.push(callback);\n    if (root._bokeh_is_loading > 0) {\n      console.log(\"Bokeh: BokehJS is being loaded, scheduling callback at\", now());\n      return null;\n    }\n    if (js_urls == null || js_urls.length === 0) {\n      run_callbacks();\n      return null;\n    }\n    console.log(\"Bokeh: BokehJS not loaded, scheduling load and callback at\", now());\n    root._bokeh_is_loading = js_urls.length;\n    for (var i = 0; i < js_urls.length; i++) {\n      var url = js_urls[i];\n      var s = document.createElement('script');\n      s.src = url;\n      s.async = false;\n      s.onreadystatechange = s.onload = function() {\n        root._bokeh_is_loading--;\n        if (root._bokeh_is_loading === 0) {\n          console.log(\"Bokeh: all BokehJS libraries loaded\");\n          run_callbacks()\n        }\n      };\n      s.onerror = function() {\n        console.warn(\"failed to load library \" + url);\n      };\n      console.log(\"Bokeh: injecting script tag for BokehJS library: \", url);\n      document.getElementsByTagName(\"head\")[0].appendChild(s);\n    }\n  };var element = document.getElementById(\"28a3fc57-17ae-419e-a41f-687ae9d5e3f2\");\n  if (element == null) {\n    console.log(\"Bokeh: ERROR: autoload.js configured with elementid '28a3fc57-17ae-419e-a41f-687ae9d5e3f2' but no matching script tag was found. \")\n    return false;\n  }\n\n  var js_urls = [\"https://cdn.pydata.org/bokeh/release/bokeh-0.12.16.min.js\", \"https://cdn.pydata.org/bokeh/release/bokeh-widgets-0.12.16.min.js\", \"https://cdn.pydata.org/bokeh/release/bokeh-tables-0.12.16.min.js\", \"https://cdn.pydata.org/bokeh/release/bokeh-gl-0.12.16.min.js\"];\n\n  var inline_js = [\n    function(Bokeh) {\n      Bokeh.set_log_level(\"info\");\n    },\n    \n    function(Bokeh) {\n      \n    },\n    function(Bokeh) {\n      console.log(\"Bokeh: injecting CSS: https://cdn.pydata.org/bokeh/release/bokeh-0.12.16.min.css\");\n      Bokeh.embed.inject_css(\"https://cdn.pydata.org/bokeh/release/bokeh-0.12.16.min.css\");\n      console.log(\"Bokeh: injecting CSS: https://cdn.pydata.org/bokeh/release/bokeh-widgets-0.12.16.min.css\");\n      Bokeh.embed.inject_css(\"https://cdn.pydata.org/bokeh/release/bokeh-widgets-0.12.16.min.css\");\n      console.log(\"Bokeh: injecting CSS: https://cdn.pydata.org/bokeh/release/bokeh-tables-0.12.16.min.css\");\n      Bokeh.embed.inject_css(\"https://cdn.pydata.org/bokeh/release/bokeh-tables-0.12.16.min.css\");\n    }\n  ];\n\n  function run_inline_js() {\n    \n    if ((root.Bokeh !== undefined) || (force === true)) {\n      for (var i = 0; i < inline_js.length; i++) {\n        inline_js[i].call(root, root.Bokeh);\n      }if (force === true) {\n        display_loaded();\n      }} else if (Date.now() < root._bokeh_timeout) {\n      setTimeout(run_inline_js, 100);\n    } else if (!root._bokeh_failed_load) {\n      console.log(\"Bokeh: BokehJS failed to load within specified timeout.\");\n      root._bokeh_failed_load = true;\n    } else if (force !== true) {\n      var cell = $(document.getElementById(\"28a3fc57-17ae-419e-a41f-687ae9d5e3f2\")).parents('.cell').data().cell;\n      cell.output_area.append_execute_result(NB_LOAD_WARNING)\n    }\n\n  }\n\n  if (root._bokeh_is_loading === 0) {\n    console.log(\"Bokeh: BokehJS loaded, going straight to plotting\");\n    run_inline_js();\n  } else {\n    load_libs(js_urls, function() {\n      console.log(\"Bokeh: BokehJS plotting callback run at\", now());\n      run_inline_js();\n    });\n  }\n}(window));"
     },
     "metadata": {},
     "output_type": "display_data"
    }
   ],
   "source": [
    "from bokeh.io import output_notebook, show #,output_file \n",
    "output_notebook()\n",
    "from bokeh.plotting import figure\n",
    "from bokeh.models import ColumnDataSource\n",
    "from bokeh.palettes import Spectral6\n",
    "from bokeh.transform import factor_cmap"
   ]
  },
  {
   "cell_type": "code",
   "execution_count": 2,
   "metadata": {},
   "outputs": [
    {
     "data": {
      "text/html": [
       "\n",
       "<div class=\"bk-root\">\n",
       "    <div class=\"bk-plotdiv\" id=\"dc3c73df-d279-4a0f-bfcd-e5f33caf5084\"></div>\n",
       "</div>"
      ]
     },
     "metadata": {},
     "output_type": "display_data"
    },
    {
     "data": {
      "application/javascript": [
       "(function(root) {\n",
       "  function embed_document(root) {\n",
       "    \n",
       "  var docs_json = {\"17299135-4d0a-4b6a-a782-a7670d1a544f\":{\"roots\":{\"references\":[{\"attributes\":{},\"id\":\"8004e459-7380-4064-8fce-d650f5133b02\",\"type\":\"BasicTickFormatter\"},{\"attributes\":{\"source\":{\"id\":\"cccac2fe-98e0-4ce4-a610-2cce8bd2ea57\",\"type\":\"ColumnDataSource\"}},\"id\":\"1adbf166-9022-4571-875a-5dbbbfe37dfc\",\"type\":\"CDSView\"},{\"attributes\":{\"callback\":null,\"start\":0},\"id\":\"0188b04c-0c58-428d-9286-abda9c40df9a\",\"type\":\"DataRange1d\"},{\"attributes\":{},\"id\":\"b7b8f2d4-e423-4b75-934b-ed7b369976b1\",\"type\":\"Selection\"},{\"attributes\":{},\"id\":\"83459d05-2076-4edb-9286-b9c7abf61442\",\"type\":\"CategoricalScale\"},{\"attributes\":{},\"id\":\"e9575ecd-2f39-45fa-93ec-2f8e9ecd79dc\",\"type\":\"LinearScale\"},{\"attributes\":{\"data_source\":{\"id\":\"cccac2fe-98e0-4ce4-a610-2cce8bd2ea57\",\"type\":\"ColumnDataSource\"},\"glyph\":{\"id\":\"5e42b07b-2541-463e-bb8a-85243617b8d5\",\"type\":\"VBar\"},\"hover_glyph\":null,\"muted_glyph\":null,\"nonselection_glyph\":{\"id\":\"1a4a1b45-1dd5-4c87-ada4-b91aaa6b5036\",\"type\":\"VBar\"},\"selection_glyph\":null,\"view\":{\"id\":\"1adbf166-9022-4571-875a-5dbbbfe37dfc\",\"type\":\"CDSView\"}},\"id\":\"036ad4fa-cacf-4156-9eba-a62fa4333eb5\",\"type\":\"GlyphRenderer\"},{\"attributes\":{\"formatter\":{\"id\":\"8004e459-7380-4064-8fce-d650f5133b02\",\"type\":\"BasicTickFormatter\"},\"plot\":{\"id\":\"ff79fdfa-41fe-410b-9543-e7fcc674a78c\",\"subtype\":\"Figure\",\"type\":\"Plot\"},\"ticker\":{\"id\":\"a6527a33-d57e-4c81-950a-d86de426b39e\",\"type\":\"BasicTicker\"}},\"id\":\"3c49af89-1f60-49bd-8578-28b6def98f50\",\"type\":\"LinearAxis\"},{\"attributes\":{\"formatter\":{\"id\":\"e1d1b3c7-4cda-4f8e-b868-f06e4cc8246f\",\"type\":\"CategoricalTickFormatter\"},\"plot\":{\"id\":\"ff79fdfa-41fe-410b-9543-e7fcc674a78c\",\"subtype\":\"Figure\",\"type\":\"Plot\"},\"ticker\":{\"id\":\"a1fce6e6-d68d-43b2-8e9b-57b689958229\",\"type\":\"CategoricalTicker\"}},\"id\":\"43c8f536-504b-4dbd-9413-59826c02e445\",\"type\":\"CategoricalAxis\"},{\"attributes\":{},\"id\":\"a1fce6e6-d68d-43b2-8e9b-57b689958229\",\"type\":\"CategoricalTicker\"},{\"attributes\":{\"grid_line_color\":{\"value\":null},\"plot\":{\"id\":\"ff79fdfa-41fe-410b-9543-e7fcc674a78c\",\"subtype\":\"Figure\",\"type\":\"Plot\"},\"ticker\":{\"id\":\"a1fce6e6-d68d-43b2-8e9b-57b689958229\",\"type\":\"CategoricalTicker\"}},\"id\":\"436d1c98-834a-435f-b2af-64df987c15bf\",\"type\":\"Grid\"},{\"attributes\":{\"fill_alpha\":{\"value\":0.1},\"fill_color\":{\"value\":\"#1f77b4\"},\"line_alpha\":{\"value\":0.1},\"line_color\":{\"value\":\"#1f77b4\"},\"top\":{\"field\":\"top\"},\"width\":{\"value\":0.9},\"x\":{\"field\":\"x\"}},\"id\":\"1a4a1b45-1dd5-4c87-ada4-b91aaa6b5036\",\"type\":\"VBar\"},{\"attributes\":{},\"id\":\"e1d1b3c7-4cda-4f8e-b868-f06e4cc8246f\",\"type\":\"CategoricalTickFormatter\"},{\"attributes\":{},\"id\":\"a6527a33-d57e-4c81-950a-d86de426b39e\",\"type\":\"BasicTicker\"},{\"attributes\":{\"callback\":null,\"factors\":[\"Apples\",\"Pears\",\"Nectarines\",\"Plums\",\"Grapes\",\"Strawberries\"]},\"id\":\"c513fa37-aeec-4933-b2d5-03b53e99c142\",\"type\":\"FactorRange\"},{\"attributes\":{\"dimension\":1,\"plot\":{\"id\":\"ff79fdfa-41fe-410b-9543-e7fcc674a78c\",\"subtype\":\"Figure\",\"type\":\"Plot\"},\"ticker\":{\"id\":\"a6527a33-d57e-4c81-950a-d86de426b39e\",\"type\":\"BasicTicker\"}},\"id\":\"e423b654-0197-4124-8671-e5cd7601b1ea\",\"type\":\"Grid\"},{\"attributes\":{\"fill_color\":{\"value\":\"#1f77b4\"},\"line_color\":{\"value\":\"#1f77b4\"},\"top\":{\"field\":\"top\"},\"width\":{\"value\":0.9},\"x\":{\"field\":\"x\"}},\"id\":\"5e42b07b-2541-463e-bb8a-85243617b8d5\",\"type\":\"VBar\"},{\"attributes\":{\"below\":[{\"id\":\"43c8f536-504b-4dbd-9413-59826c02e445\",\"type\":\"CategoricalAxis\"}],\"left\":[{\"id\":\"3c49af89-1f60-49bd-8578-28b6def98f50\",\"type\":\"LinearAxis\"}],\"plot_height\":250,\"renderers\":[{\"id\":\"43c8f536-504b-4dbd-9413-59826c02e445\",\"type\":\"CategoricalAxis\"},{\"id\":\"436d1c98-834a-435f-b2af-64df987c15bf\",\"type\":\"Grid\"},{\"id\":\"3c49af89-1f60-49bd-8578-28b6def98f50\",\"type\":\"LinearAxis\"},{\"id\":\"e423b654-0197-4124-8671-e5cd7601b1ea\",\"type\":\"Grid\"},{\"id\":\"036ad4fa-cacf-4156-9eba-a62fa4333eb5\",\"type\":\"GlyphRenderer\"}],\"title\":{\"id\":\"8bdd5183-c65a-4811-88a8-5d82d23d114f\",\"type\":\"Title\"},\"toolbar\":{\"id\":\"84dc9612-16f7-4813-96db-955e35923589\",\"type\":\"Toolbar\"},\"toolbar_location\":null,\"x_range\":{\"id\":\"c513fa37-aeec-4933-b2d5-03b53e99c142\",\"type\":\"FactorRange\"},\"x_scale\":{\"id\":\"83459d05-2076-4edb-9286-b9c7abf61442\",\"type\":\"CategoricalScale\"},\"y_range\":{\"id\":\"0188b04c-0c58-428d-9286-abda9c40df9a\",\"type\":\"DataRange1d\"},\"y_scale\":{\"id\":\"e9575ecd-2f39-45fa-93ec-2f8e9ecd79dc\",\"type\":\"LinearScale\"}},\"id\":\"ff79fdfa-41fe-410b-9543-e7fcc674a78c\",\"subtype\":\"Figure\",\"type\":\"Plot\"},{\"attributes\":{\"callback\":null,\"data\":{\"top\":[5,3,4,2,4,6],\"x\":[\"Apples\",\"Pears\",\"Nectarines\",\"Plums\",\"Grapes\",\"Strawberries\"]},\"selected\":{\"id\":\"b7b8f2d4-e423-4b75-934b-ed7b369976b1\",\"type\":\"Selection\"},\"selection_policy\":{\"id\":\"d20aec9e-a5dd-43de-950a-519bbfb3804e\",\"type\":\"UnionRenderers\"}},\"id\":\"cccac2fe-98e0-4ce4-a610-2cce8bd2ea57\",\"type\":\"ColumnDataSource\"},{\"attributes\":{\"active_drag\":\"auto\",\"active_inspect\":\"auto\",\"active_scroll\":\"auto\",\"active_tap\":\"auto\"},\"id\":\"84dc9612-16f7-4813-96db-955e35923589\",\"type\":\"Toolbar\"},{\"attributes\":{},\"id\":\"d20aec9e-a5dd-43de-950a-519bbfb3804e\",\"type\":\"UnionRenderers\"},{\"attributes\":{\"plot\":null,\"text\":\"Fruit Counts\"},\"id\":\"8bdd5183-c65a-4811-88a8-5d82d23d114f\",\"type\":\"Title\"}],\"root_ids\":[\"ff79fdfa-41fe-410b-9543-e7fcc674a78c\"]},\"title\":\"Bokeh Application\",\"version\":\"0.12.16\"}};\n",
       "  var render_items = [{\"docid\":\"17299135-4d0a-4b6a-a782-a7670d1a544f\",\"elementid\":\"dc3c73df-d279-4a0f-bfcd-e5f33caf5084\",\"modelid\":\"ff79fdfa-41fe-410b-9543-e7fcc674a78c\"}];\n",
       "  root.Bokeh.embed.embed_items_notebook(docs_json, render_items);\n",
       "\n",
       "  }\n",
       "  if (root.Bokeh !== undefined) {\n",
       "    embed_document(root);\n",
       "  } else {\n",
       "    var attempts = 0;\n",
       "    var timer = setInterval(function(root) {\n",
       "      if (root.Bokeh !== undefined) {\n",
       "        embed_document(root);\n",
       "        clearInterval(timer);\n",
       "      }\n",
       "      attempts++;\n",
       "      if (attempts > 100) {\n",
       "        console.log(\"Bokeh: ERROR: Unable to run BokehJS code because BokehJS library is missing\")\n",
       "        clearInterval(timer);\n",
       "      }\n",
       "    }, 10, root)\n",
       "  }\n",
       "})(window);"
      ],
      "application/vnd.bokehjs_exec.v0+json": ""
     },
     "metadata": {
      "application/vnd.bokehjs_exec.v0+json": {
       "id": "ff79fdfa-41fe-410b-9543-e7fcc674a78c"
      }
     },
     "output_type": "display_data"
    }
   ],
   "source": [
    "fruits = ['Apples', 'Pears', 'Nectarines', 'Plums', 'Grapes', 'Strawberries']\n",
    "\n",
    "p = figure(x_range=fruits, plot_height=250, title=\"Fruit Counts\",\n",
    "           toolbar_location=None, tools=\"\")\n",
    "\n",
    "p.vbar(x=fruits, top=[5, 3, 4, 2, 4, 6], width=0.9)\n",
    "\n",
    "p.xgrid.grid_line_color = None\n",
    "p.y_range.start = 0\n",
    "\n",
    "show(p)"
   ]
  },
  {
   "cell_type": "markdown",
   "metadata": {},
   "source": [
    "Colors\n",
    "Often times we may want to have bars that are shaded some color. This can be accomplished in different ways. One way is to supply all the colors up front. This can be done by putting all the data, including the colors for each bar, in a ColumnDataSource. Then the name of the column containing the colors is passed to figure as the color (or line_color/fill_color) arguments. This is shown below:"
   ]
  },
  {
   "cell_type": "code",
   "execution_count": 3,
   "metadata": {},
   "outputs": [
    {
     "data": {
      "text/html": [
       "\n",
       "<div class=\"bk-root\">\n",
       "    <div class=\"bk-plotdiv\" id=\"a7f6e427-03d8-4520-9b80-4a501ba60cab\"></div>\n",
       "</div>"
      ]
     },
     "metadata": {},
     "output_type": "display_data"
    },
    {
     "data": {
      "application/javascript": [
       "(function(root) {\n",
       "  function embed_document(root) {\n",
       "    \n",
       "  var docs_json = {\"2acb911b-0b3e-4f2e-8451-7f4b3e00ede2\":{\"roots\":{\"references\":[{\"attributes\":{},\"id\":\"11fc23a3-99e0-41da-8d3f-ea7be931f9d1\",\"type\":\"CategoricalTickFormatter\"},{\"attributes\":{\"fill_alpha\":{\"value\":0.1},\"fill_color\":{\"value\":\"#1f77b4\"},\"line_alpha\":{\"value\":0.1},\"line_color\":{\"value\":\"#1f77b4\"},\"top\":{\"field\":\"counts\"},\"width\":{\"value\":0.9},\"x\":{\"field\":\"fruits\"}},\"id\":\"a2ae8dcd-0cd9-4c68-bb7e-9c4efefe4c21\",\"type\":\"VBar\"},{\"attributes\":{},\"id\":\"ad367290-d82a-4ebc-8072-4047f14c3b24\",\"type\":\"CategoricalScale\"},{\"attributes\":{\"label\":{\"field\":\"fruits\"},\"renderers\":[{\"id\":\"cf95ab3d-3e43-49fb-9b49-fab83b5bc76b\",\"type\":\"GlyphRenderer\"}]},\"id\":\"6fbd45f3-8b1d-4a3f-9e8c-46add94bfe69\",\"type\":\"LegendItem\"},{\"attributes\":{},\"id\":\"ae8c62f8-8915-4b5d-99c6-a470388e8f35\",\"type\":\"LinearScale\"},{\"attributes\":{\"dimension\":1,\"plot\":{\"id\":\"8b657f61-72f6-4184-8a57-43caf00ad543\",\"subtype\":\"Figure\",\"type\":\"Plot\"},\"ticker\":{\"id\":\"c21b6e68-8b49-4c07-bb28-69dcb5747560\",\"type\":\"BasicTicker\"}},\"id\":\"6e398c10-a7a7-4f55-98d0-95d082c464e2\",\"type\":\"Grid\"},{\"attributes\":{\"formatter\":{\"id\":\"ee167c1a-b5ae-485c-a5ac-3e92f5332904\",\"type\":\"BasicTickFormatter\"},\"plot\":{\"id\":\"8b657f61-72f6-4184-8a57-43caf00ad543\",\"subtype\":\"Figure\",\"type\":\"Plot\"},\"ticker\":{\"id\":\"c21b6e68-8b49-4c07-bb28-69dcb5747560\",\"type\":\"BasicTicker\"}},\"id\":\"fdff58b3-e002-422c-8bff-b8fa4494d311\",\"type\":\"LinearAxis\"},{\"attributes\":{},\"id\":\"c21b6e68-8b49-4c07-bb28-69dcb5747560\",\"type\":\"BasicTicker\"},{\"attributes\":{},\"id\":\"2f7e715a-9378-46aa-be94-8275c5244cd2\",\"type\":\"UnionRenderers\"},{\"attributes\":{\"fill_color\":{\"field\":\"color\"},\"line_color\":{\"field\":\"color\"},\"top\":{\"field\":\"counts\"},\"width\":{\"value\":0.9},\"x\":{\"field\":\"fruits\"}},\"id\":\"8141cddc-e4ab-43e6-8311-d8a197574b08\",\"type\":\"VBar\"},{\"attributes\":{},\"id\":\"a0e58617-8ca7-4ee5-8c96-9a6138ddcdac\",\"type\":\"CategoricalTicker\"},{\"attributes\":{\"formatter\":{\"id\":\"11fc23a3-99e0-41da-8d3f-ea7be931f9d1\",\"type\":\"CategoricalTickFormatter\"},\"plot\":{\"id\":\"8b657f61-72f6-4184-8a57-43caf00ad543\",\"subtype\":\"Figure\",\"type\":\"Plot\"},\"ticker\":{\"id\":\"a0e58617-8ca7-4ee5-8c96-9a6138ddcdac\",\"type\":\"CategoricalTicker\"}},\"id\":\"d6abb700-cdca-4358-9ea5-0de769b5d0cd\",\"type\":\"CategoricalAxis\"},{\"attributes\":{\"grid_line_color\":{\"value\":null},\"plot\":{\"id\":\"8b657f61-72f6-4184-8a57-43caf00ad543\",\"subtype\":\"Figure\",\"type\":\"Plot\"},\"ticker\":{\"id\":\"a0e58617-8ca7-4ee5-8c96-9a6138ddcdac\",\"type\":\"CategoricalTicker\"}},\"id\":\"7a6e90f8-92cf-4280-b39e-c85c7aa179e5\",\"type\":\"Grid\"},{\"attributes\":{\"below\":[{\"id\":\"d6abb700-cdca-4358-9ea5-0de769b5d0cd\",\"type\":\"CategoricalAxis\"}],\"left\":[{\"id\":\"fdff58b3-e002-422c-8bff-b8fa4494d311\",\"type\":\"LinearAxis\"}],\"plot_height\":250,\"renderers\":[{\"id\":\"d6abb700-cdca-4358-9ea5-0de769b5d0cd\",\"type\":\"CategoricalAxis\"},{\"id\":\"7a6e90f8-92cf-4280-b39e-c85c7aa179e5\",\"type\":\"Grid\"},{\"id\":\"fdff58b3-e002-422c-8bff-b8fa4494d311\",\"type\":\"LinearAxis\"},{\"id\":\"6e398c10-a7a7-4f55-98d0-95d082c464e2\",\"type\":\"Grid\"},{\"id\":\"7cadbbf3-3324-4999-a6b5-00c9cdf0c58f\",\"type\":\"Legend\"},{\"id\":\"cf95ab3d-3e43-49fb-9b49-fab83b5bc76b\",\"type\":\"GlyphRenderer\"}],\"title\":{\"id\":\"f62fbd49-722b-4d54-acb9-62d7518b6a5b\",\"type\":\"Title\"},\"toolbar\":{\"id\":\"457fdeca-df15-452b-a7c9-94f581fcc990\",\"type\":\"Toolbar\"},\"toolbar_location\":null,\"x_range\":{\"id\":\"5465bcef-2996-4264-8666-729247be32cf\",\"type\":\"FactorRange\"},\"x_scale\":{\"id\":\"ad367290-d82a-4ebc-8072-4047f14c3b24\",\"type\":\"CategoricalScale\"},\"y_range\":{\"id\":\"1de0a15c-dfc3-4fda-a51c-b853f9d80010\",\"type\":\"Range1d\"},\"y_scale\":{\"id\":\"ae8c62f8-8915-4b5d-99c6-a470388e8f35\",\"type\":\"LinearScale\"}},\"id\":\"8b657f61-72f6-4184-8a57-43caf00ad543\",\"subtype\":\"Figure\",\"type\":\"Plot\"},{\"attributes\":{\"callback\":null,\"data\":{\"color\":[\"#3288bd\",\"#99d594\",\"#e6f598\",\"#fee08b\",\"#fc8d59\",\"#d53e4f\"],\"counts\":[5,3,4,2,4,6],\"fruits\":[\"Apples\",\"Pears\",\"Nectarines\",\"Plums\",\"Grapes\",\"Strawberries\"]},\"selected\":{\"id\":\"cc07b3c5-fef9-4b7f-94dd-6e094c291d3d\",\"type\":\"Selection\"},\"selection_policy\":{\"id\":\"2f7e715a-9378-46aa-be94-8275c5244cd2\",\"type\":\"UnionRenderers\"}},\"id\":\"102f1370-c1cc-4f47-955e-5d104ee86f15\",\"type\":\"ColumnDataSource\"},{\"attributes\":{\"callback\":null,\"factors\":[\"Apples\",\"Pears\",\"Nectarines\",\"Plums\",\"Grapes\",\"Strawberries\"]},\"id\":\"5465bcef-2996-4264-8666-729247be32cf\",\"type\":\"FactorRange\"},{\"attributes\":{},\"id\":\"ee167c1a-b5ae-485c-a5ac-3e92f5332904\",\"type\":\"BasicTickFormatter\"},{\"attributes\":{\"plot\":null,\"text\":\"Fruit Counts\"},\"id\":\"f62fbd49-722b-4d54-acb9-62d7518b6a5b\",\"type\":\"Title\"},{\"attributes\":{},\"id\":\"cc07b3c5-fef9-4b7f-94dd-6e094c291d3d\",\"type\":\"Selection\"},{\"attributes\":{\"data_source\":{\"id\":\"102f1370-c1cc-4f47-955e-5d104ee86f15\",\"type\":\"ColumnDataSource\"},\"glyph\":{\"id\":\"8141cddc-e4ab-43e6-8311-d8a197574b08\",\"type\":\"VBar\"},\"hover_glyph\":null,\"muted_glyph\":null,\"nonselection_glyph\":{\"id\":\"a2ae8dcd-0cd9-4c68-bb7e-9c4efefe4c21\",\"type\":\"VBar\"},\"selection_glyph\":null,\"view\":{\"id\":\"70011d7c-a7dd-4847-b734-84058d3a9e4a\",\"type\":\"CDSView\"}},\"id\":\"cf95ab3d-3e43-49fb-9b49-fab83b5bc76b\",\"type\":\"GlyphRenderer\"},{\"attributes\":{\"items\":[{\"id\":\"6fbd45f3-8b1d-4a3f-9e8c-46add94bfe69\",\"type\":\"LegendItem\"}],\"location\":\"top_center\",\"orientation\":\"horizontal\",\"plot\":{\"id\":\"8b657f61-72f6-4184-8a57-43caf00ad543\",\"subtype\":\"Figure\",\"type\":\"Plot\"}},\"id\":\"7cadbbf3-3324-4999-a6b5-00c9cdf0c58f\",\"type\":\"Legend\"},{\"attributes\":{\"active_drag\":\"auto\",\"active_inspect\":\"auto\",\"active_scroll\":\"auto\",\"active_tap\":\"auto\"},\"id\":\"457fdeca-df15-452b-a7c9-94f581fcc990\",\"type\":\"Toolbar\"},{\"attributes\":{\"source\":{\"id\":\"102f1370-c1cc-4f47-955e-5d104ee86f15\",\"type\":\"ColumnDataSource\"}},\"id\":\"70011d7c-a7dd-4847-b734-84058d3a9e4a\",\"type\":\"CDSView\"},{\"attributes\":{\"callback\":null,\"end\":9},\"id\":\"1de0a15c-dfc3-4fda-a51c-b853f9d80010\",\"type\":\"Range1d\"}],\"root_ids\":[\"8b657f61-72f6-4184-8a57-43caf00ad543\"]},\"title\":\"Bokeh Application\",\"version\":\"0.12.16\"}};\n",
       "  var render_items = [{\"docid\":\"2acb911b-0b3e-4f2e-8451-7f4b3e00ede2\",\"elementid\":\"a7f6e427-03d8-4520-9b80-4a501ba60cab\",\"modelid\":\"8b657f61-72f6-4184-8a57-43caf00ad543\"}];\n",
       "  root.Bokeh.embed.embed_items_notebook(docs_json, render_items);\n",
       "\n",
       "  }\n",
       "  if (root.Bokeh !== undefined) {\n",
       "    embed_document(root);\n",
       "  } else {\n",
       "    var attempts = 0;\n",
       "    var timer = setInterval(function(root) {\n",
       "      if (root.Bokeh !== undefined) {\n",
       "        embed_document(root);\n",
       "        clearInterval(timer);\n",
       "      }\n",
       "      attempts++;\n",
       "      if (attempts > 100) {\n",
       "        console.log(\"Bokeh: ERROR: Unable to run BokehJS code because BokehJS library is missing\")\n",
       "        clearInterval(timer);\n",
       "      }\n",
       "    }, 10, root)\n",
       "  }\n",
       "})(window);"
      ],
      "application/vnd.bokehjs_exec.v0+json": ""
     },
     "metadata": {
      "application/vnd.bokehjs_exec.v0+json": {
       "id": "8b657f61-72f6-4184-8a57-43caf00ad543"
      }
     },
     "output_type": "display_data"
    }
   ],
   "source": [
    "# output_file(\"colormapped_bars.html\")\n",
    "\n",
    "fruits = ['Apples', 'Pears', 'Nectarines', 'Plums', 'Grapes', 'Strawberries']\n",
    "counts = [5, 3, 4, 2, 4, 6]\n",
    "\n",
    "source = ColumnDataSource(data=dict(fruits=fruits, counts=counts, color=Spectral6))\n",
    "\n",
    "p = figure(x_range=fruits, y_range=(0,9), plot_height=250, title=\"Fruit Counts\",\n",
    "           toolbar_location=None, tools=\"\")\n",
    "\n",
    "p.vbar(x='fruits', top='counts', width=0.9, color='color', legend=\"fruits\", source=source)\n",
    "\n",
    "p.xgrid.grid_line_color = None\n",
    "p.legend.orientation = \"horizontal\"\n",
    "p.legend.location = \"top_center\"\n",
    "\n",
    "show(p)"
   ]
  },
  {
   "cell_type": "markdown",
   "metadata": {},
   "source": [
    "Another way to shade the bars is to use a CategoricalColorMapper that colormaps the bars inside the browser. There is a function factor_cmap() that makes this simple to do:\n",
    "factor_cmap('fruits', palette=Spectral6, factors=fruits))\n"
   ]
  },
  {
   "cell_type": "code",
   "execution_count": 4,
   "metadata": {},
   "outputs": [
    {
     "data": {
      "text/html": [
       "\n",
       "<div class=\"bk-root\">\n",
       "    <div class=\"bk-plotdiv\" id=\"e0a1744d-3e44-4dd7-bc91-a951b8dc6ec5\"></div>\n",
       "</div>"
      ]
     },
     "metadata": {},
     "output_type": "display_data"
    },
    {
     "data": {
      "application/javascript": [
       "(function(root) {\n",
       "  function embed_document(root) {\n",
       "    \n",
       "  var docs_json = {\"59ea2784-9917-4e9f-ae27-f45c472e1ec9\":{\"roots\":{\"references\":[{\"attributes\":{\"data_source\":{\"id\":\"57f67667-c602-4084-a3a8-a0911a005e96\",\"type\":\"ColumnDataSource\"},\"glyph\":{\"id\":\"0d7e4747-56bb-4482-843c-6043077f1885\",\"type\":\"VBar\"},\"hover_glyph\":null,\"muted_glyph\":null,\"nonselection_glyph\":{\"id\":\"37a8c231-c353-4617-a362-c0d0fe03560f\",\"type\":\"VBar\"},\"selection_glyph\":null,\"view\":{\"id\":\"5410fd68-c709-4096-905a-8bfd5e1834a7\",\"type\":\"CDSView\"}},\"id\":\"80454ae7-f77d-4aca-98e4-d0b586ea3398\",\"type\":\"GlyphRenderer\"},{\"attributes\":{\"below\":[{\"id\":\"e71004dd-7102-4ba8-821b-3a87ce6afec5\",\"type\":\"CategoricalAxis\"}],\"left\":[{\"id\":\"ee2805b2-7395-4a75-b91c-e4f9b951daec\",\"type\":\"LinearAxis\"}],\"plot_height\":250,\"renderers\":[{\"id\":\"e71004dd-7102-4ba8-821b-3a87ce6afec5\",\"type\":\"CategoricalAxis\"},{\"id\":\"73b3af7a-3280-48ae-88bb-1ec530b2ab21\",\"type\":\"Grid\"},{\"id\":\"ee2805b2-7395-4a75-b91c-e4f9b951daec\",\"type\":\"LinearAxis\"},{\"id\":\"3c5937c2-0421-4d86-81dc-51be3fc5f623\",\"type\":\"Grid\"},{\"id\":\"273ea499-c860-4caa-b583-aa4cd343079d\",\"type\":\"BoxAnnotation\"},{\"id\":\"31c49ada-3039-45ca-88ce-50a994bcdda4\",\"type\":\"Legend\"},{\"id\":\"80454ae7-f77d-4aca-98e4-d0b586ea3398\",\"type\":\"GlyphRenderer\"}],\"title\":{\"id\":\"d770945f-04b6-46bb-a310-0fc2221c7b41\",\"type\":\"Title\"},\"toolbar\":{\"id\":\"68782351-77ad-434b-a1ed-db7e7818be6b\",\"type\":\"Toolbar\"},\"toolbar_location\":null,\"x_range\":{\"id\":\"7dc4209f-b503-4f31-b1ca-ec6243c67671\",\"type\":\"FactorRange\"},\"x_scale\":{\"id\":\"25f30245-66b8-46ac-b3ec-088cc8936f46\",\"type\":\"CategoricalScale\"},\"y_range\":{\"id\":\"da59ba29-065a-45e9-8c28-fe1ffaec392e\",\"type\":\"DataRange1d\"},\"y_scale\":{\"id\":\"378e0021-12c8-4bb1-ad1d-e5fb26fb776a\",\"type\":\"LinearScale\"}},\"id\":\"d2b8d494-5b58-4d20-a98b-7b9a12839bd0\",\"subtype\":\"Figure\",\"type\":\"Plot\"},{\"attributes\":{\"fill_color\":{\"field\":\"fruits\",\"transform\":{\"id\":\"7bc3e43b-81de-4ed5-ac1a-17506ccca4e9\",\"type\":\"CategoricalColorMapper\"}},\"line_color\":{\"value\":\"white\"},\"top\":{\"field\":\"counts\"},\"width\":{\"value\":0.9},\"x\":{\"field\":\"fruits\"}},\"id\":\"0d7e4747-56bb-4482-843c-6043077f1885\",\"type\":\"VBar\"},{\"attributes\":{\"dimension\":1,\"plot\":{\"id\":\"d2b8d494-5b58-4d20-a98b-7b9a12839bd0\",\"subtype\":\"Figure\",\"type\":\"Plot\"},\"ticker\":{\"id\":\"ec2be3a2-5c63-4cde-81de-5af335235127\",\"type\":\"BasicTicker\"}},\"id\":\"3c5937c2-0421-4d86-81dc-51be3fc5f623\",\"type\":\"Grid\"},{\"attributes\":{},\"id\":\"865f391f-f988-44e5-b5f0-9d35a521f363\",\"type\":\"UnionRenderers\"},{\"attributes\":{\"formatter\":{\"id\":\"afb39635-a920-498d-b2ff-7163e3342ff6\",\"type\":\"BasicTickFormatter\"},\"plot\":{\"id\":\"d2b8d494-5b58-4d20-a98b-7b9a12839bd0\",\"subtype\":\"Figure\",\"type\":\"Plot\"},\"ticker\":{\"id\":\"ec2be3a2-5c63-4cde-81de-5af335235127\",\"type\":\"BasicTicker\"}},\"id\":\"ee2805b2-7395-4a75-b91c-e4f9b951daec\",\"type\":\"LinearAxis\"},{\"attributes\":{},\"id\":\"fd1aa833-0e00-4b53-8398-80a4689b5717\",\"type\":\"CategoricalTicker\"},{\"attributes\":{\"plot\":null,\"text\":\"Fruit Counts\"},\"id\":\"d770945f-04b6-46bb-a310-0fc2221c7b41\",\"type\":\"Title\"},{\"attributes\":{\"grid_line_color\":{\"value\":null},\"plot\":{\"id\":\"d2b8d494-5b58-4d20-a98b-7b9a12839bd0\",\"subtype\":\"Figure\",\"type\":\"Plot\"},\"ticker\":{\"id\":\"fd1aa833-0e00-4b53-8398-80a4689b5717\",\"type\":\"CategoricalTicker\"}},\"id\":\"73b3af7a-3280-48ae-88bb-1ec530b2ab21\",\"type\":\"Grid\"},{\"attributes\":{\"callback\":null,\"end\":9,\"start\":0},\"id\":\"da59ba29-065a-45e9-8c28-fe1ffaec392e\",\"type\":\"DataRange1d\"},{\"attributes\":{},\"id\":\"6383075c-f08b-4bca-b688-526e3c1a82e7\",\"type\":\"WheelZoomTool\"},{\"attributes\":{\"factors\":[\"Apples\",\"Pears\",\"Nectarines\",\"Plums\",\"Grapes\",\"Strawberries\"],\"palette\":[\"#3288bd\",\"#99d594\",\"#e6f598\",\"#fee08b\",\"#fc8d59\",\"#d53e4f\"]},\"id\":\"7bc3e43b-81de-4ed5-ac1a-17506ccca4e9\",\"type\":\"CategoricalColorMapper\"},{\"attributes\":{\"active_drag\":\"auto\",\"active_inspect\":\"auto\",\"active_scroll\":\"auto\",\"active_tap\":\"auto\",\"tools\":[{\"id\":\"6e0e6b95-97f6-4981-a9fa-aa4579c527ec\",\"type\":\"PanTool\"},{\"id\":\"6383075c-f08b-4bca-b688-526e3c1a82e7\",\"type\":\"WheelZoomTool\"},{\"id\":\"19b849b6-114f-4bfb-831d-0e2f4492a5d8\",\"type\":\"BoxZoomTool\"},{\"id\":\"601f1add-7a86-4fb5-95fd-bcd4753600af\",\"type\":\"SaveTool\"},{\"id\":\"03fdd4c2-fd17-4c26-8896-701dc5812ec4\",\"type\":\"ResetTool\"},{\"id\":\"e29da9f9-ae21-449c-a898-d55fc095797b\",\"type\":\"HelpTool\"}]},\"id\":\"68782351-77ad-434b-a1ed-db7e7818be6b\",\"type\":\"Toolbar\"},{\"attributes\":{},\"id\":\"378e0021-12c8-4bb1-ad1d-e5fb26fb776a\",\"type\":\"LinearScale\"},{\"attributes\":{\"formatter\":{\"id\":\"542bcd99-1ef4-456d-b8df-044f27ffa92b\",\"type\":\"CategoricalTickFormatter\"},\"plot\":{\"id\":\"d2b8d494-5b58-4d20-a98b-7b9a12839bd0\",\"subtype\":\"Figure\",\"type\":\"Plot\"},\"ticker\":{\"id\":\"fd1aa833-0e00-4b53-8398-80a4689b5717\",\"type\":\"CategoricalTicker\"}},\"id\":\"e71004dd-7102-4ba8-821b-3a87ce6afec5\",\"type\":\"CategoricalAxis\"},{\"attributes\":{},\"id\":\"601f1add-7a86-4fb5-95fd-bcd4753600af\",\"type\":\"SaveTool\"},{\"attributes\":{},\"id\":\"38d68813-5b0e-4ea5-a89a-f0354537058c\",\"type\":\"Selection\"},{\"attributes\":{\"bottom_units\":\"screen\",\"fill_alpha\":{\"value\":0.5},\"fill_color\":{\"value\":\"lightgrey\"},\"left_units\":\"screen\",\"level\":\"overlay\",\"line_alpha\":{\"value\":1.0},\"line_color\":{\"value\":\"black\"},\"line_dash\":[4,4],\"line_width\":{\"value\":2},\"plot\":null,\"render_mode\":\"css\",\"right_units\":\"screen\",\"top_units\":\"screen\"},\"id\":\"273ea499-c860-4caa-b583-aa4cd343079d\",\"type\":\"BoxAnnotation\"},{\"attributes\":{\"fill_alpha\":{\"value\":0.1},\"fill_color\":{\"value\":\"#1f77b4\"},\"line_alpha\":{\"value\":0.1},\"line_color\":{\"value\":\"#1f77b4\"},\"top\":{\"field\":\"counts\"},\"width\":{\"value\":0.9},\"x\":{\"field\":\"fruits\"}},\"id\":\"37a8c231-c353-4617-a362-c0d0fe03560f\",\"type\":\"VBar\"},{\"attributes\":{},\"id\":\"6e0e6b95-97f6-4981-a9fa-aa4579c527ec\",\"type\":\"PanTool\"},{\"attributes\":{\"source\":{\"id\":\"57f67667-c602-4084-a3a8-a0911a005e96\",\"type\":\"ColumnDataSource\"}},\"id\":\"5410fd68-c709-4096-905a-8bfd5e1834a7\",\"type\":\"CDSView\"},{\"attributes\":{},\"id\":\"03fdd4c2-fd17-4c26-8896-701dc5812ec4\",\"type\":\"ResetTool\"},{\"attributes\":{\"overlay\":{\"id\":\"273ea499-c860-4caa-b583-aa4cd343079d\",\"type\":\"BoxAnnotation\"}},\"id\":\"19b849b6-114f-4bfb-831d-0e2f4492a5d8\",\"type\":\"BoxZoomTool\"},{\"attributes\":{},\"id\":\"e29da9f9-ae21-449c-a898-d55fc095797b\",\"type\":\"HelpTool\"},{\"attributes\":{\"callback\":null,\"data\":{\"counts\":[5,3,4,2,4,6],\"fruits\":[\"Apples\",\"Pears\",\"Nectarines\",\"Plums\",\"Grapes\",\"Strawberries\"]},\"selected\":{\"id\":\"38d68813-5b0e-4ea5-a89a-f0354537058c\",\"type\":\"Selection\"},\"selection_policy\":{\"id\":\"865f391f-f988-44e5-b5f0-9d35a521f363\",\"type\":\"UnionRenderers\"}},\"id\":\"57f67667-c602-4084-a3a8-a0911a005e96\",\"type\":\"ColumnDataSource\"},{\"attributes\":{\"callback\":null,\"factors\":[\"Apples\",\"Pears\",\"Nectarines\",\"Plums\",\"Grapes\",\"Strawberries\"]},\"id\":\"7dc4209f-b503-4f31-b1ca-ec6243c67671\",\"type\":\"FactorRange\"},{\"attributes\":{},\"id\":\"542bcd99-1ef4-456d-b8df-044f27ffa92b\",\"type\":\"CategoricalTickFormatter\"},{\"attributes\":{\"items\":[{\"id\":\"4ca8815a-1e86-4522-aa31-bfd210b79da2\",\"type\":\"LegendItem\"}],\"location\":\"top_center\",\"orientation\":\"horizontal\",\"plot\":{\"id\":\"d2b8d494-5b58-4d20-a98b-7b9a12839bd0\",\"subtype\":\"Figure\",\"type\":\"Plot\"}},\"id\":\"31c49ada-3039-45ca-88ce-50a994bcdda4\",\"type\":\"Legend\"},{\"attributes\":{},\"id\":\"afb39635-a920-498d-b2ff-7163e3342ff6\",\"type\":\"BasicTickFormatter\"},{\"attributes\":{},\"id\":\"ec2be3a2-5c63-4cde-81de-5af335235127\",\"type\":\"BasicTicker\"},{\"attributes\":{\"label\":{\"field\":\"fruits\"},\"renderers\":[{\"id\":\"80454ae7-f77d-4aca-98e4-d0b586ea3398\",\"type\":\"GlyphRenderer\"}]},\"id\":\"4ca8815a-1e86-4522-aa31-bfd210b79da2\",\"type\":\"LegendItem\"},{\"attributes\":{},\"id\":\"25f30245-66b8-46ac-b3ec-088cc8936f46\",\"type\":\"CategoricalScale\"}],\"root_ids\":[\"d2b8d494-5b58-4d20-a98b-7b9a12839bd0\"]},\"title\":\"Bokeh Application\",\"version\":\"0.12.16\"}};\n",
       "  var render_items = [{\"docid\":\"59ea2784-9917-4e9f-ae27-f45c472e1ec9\",\"elementid\":\"e0a1744d-3e44-4dd7-bc91-a951b8dc6ec5\",\"modelid\":\"d2b8d494-5b58-4d20-a98b-7b9a12839bd0\"}];\n",
       "  root.Bokeh.embed.embed_items_notebook(docs_json, render_items);\n",
       "\n",
       "  }\n",
       "  if (root.Bokeh !== undefined) {\n",
       "    embed_document(root);\n",
       "  } else {\n",
       "    var attempts = 0;\n",
       "    var timer = setInterval(function(root) {\n",
       "      if (root.Bokeh !== undefined) {\n",
       "        embed_document(root);\n",
       "        clearInterval(timer);\n",
       "      }\n",
       "      attempts++;\n",
       "      if (attempts > 100) {\n",
       "        console.log(\"Bokeh: ERROR: Unable to run BokehJS code because BokehJS library is missing\")\n",
       "        clearInterval(timer);\n",
       "      }\n",
       "    }, 10, root)\n",
       "  }\n",
       "})(window);"
      ],
      "application/vnd.bokehjs_exec.v0+json": ""
     },
     "metadata": {
      "application/vnd.bokehjs_exec.v0+json": {
       "id": "d2b8d494-5b58-4d20-a98b-7b9a12839bd0"
      }
     },
     "output_type": "display_data"
    }
   ],
   "source": [
    "fruits = ['Apples', 'Pears', 'Nectarines', 'Plums', 'Grapes', 'Strawberries']\n",
    "counts = [5, 3, 4, 2, 4, 6]\n",
    "\n",
    "source = ColumnDataSource(data=dict(fruits=fruits, counts=counts))\n",
    "\n",
    "p = figure(x_range=fruits, plot_height=250, toolbar_location=None, title=\"Fruit Counts\")\n",
    "p.vbar(x='fruits', top='counts', width=0.9, source=source, legend=\"fruits\",\n",
    "       line_color='white', fill_color=factor_cmap('fruits', palette=Spectral6, factors=fruits))\n",
    "\n",
    "p.xgrid.grid_line_color = None\n",
    "p.y_range.start = 0\n",
    "p.y_range.end = 9\n",
    "p.legend.orientation = \"horizontal\"\n",
    "p.legend.location = \"top_center\"\n",
    "\n",
    "show(p)"
   ]
  },
  {
   "cell_type": "markdown",
   "metadata": {},
   "source": [
    "# Nested Categories"
   ]
  },
  {
   "cell_type": "markdown",
   "metadata": {},
   "source": [
    "Creating a single column of coordinates that are each 2-tuples of the form (fruit, year). Accordingly, the plot groups the axes by fruit type, with a single call to vbar:"
   ]
  },
  {
   "cell_type": "code",
   "execution_count": 5,
   "metadata": {},
   "outputs": [
    {
     "data": {
      "text/html": [
       "\n",
       "<div class=\"bk-root\">\n",
       "    <div class=\"bk-plotdiv\" id=\"55a5fffb-20d2-458b-9b12-e919a86f0015\"></div>\n",
       "</div>"
      ]
     },
     "metadata": {},
     "output_type": "display_data"
    },
    {
     "data": {
      "application/javascript": [
       "(function(root) {\n",
       "  function embed_document(root) {\n",
       "    \n",
       "  var docs_json = {\"3b2ed5f0-acc2-48e4-8181-007ba7d74f95\":{\"roots\":{\"references\":[{\"attributes\":{\"callback\":null,\"factors\":[[\"Apples\",\"2015\"],[\"Apples\",\"2016\"],[\"Apples\",\"2017\"],[\"Pears\",\"2015\"],[\"Pears\",\"2016\"],[\"Pears\",\"2017\"],[\"Nectarines\",\"2015\"],[\"Nectarines\",\"2016\"],[\"Nectarines\",\"2017\"],[\"Plums\",\"2015\"],[\"Plums\",\"2016\"],[\"Plums\",\"2017\"],[\"Grapes\",\"2015\"],[\"Grapes\",\"2016\"],[\"Grapes\",\"2017\"],[\"Strawberries\",\"2015\"],[\"Strawberries\",\"2016\"],[\"Strawberries\",\"2017\"]],\"range_padding\":0.1},\"id\":\"95e85be9-04ab-4ef4-9304-80cbf7e54c5f\",\"type\":\"FactorRange\"},{\"attributes\":{},\"id\":\"656623d1-ba7e-4db3-9932-1ea3a26e7776\",\"type\":\"CategoricalTickFormatter\"},{\"attributes\":{\"callback\":null,\"data\":{\"counts\":[2,5,3,1,3,2,4,3,4,3,2,4,2,4,5,4,6,3],\"x\":[[\"Apples\",\"2015\"],[\"Apples\",\"2016\"],[\"Apples\",\"2017\"],[\"Pears\",\"2015\"],[\"Pears\",\"2016\"],[\"Pears\",\"2017\"],[\"Nectarines\",\"2015\"],[\"Nectarines\",\"2016\"],[\"Nectarines\",\"2017\"],[\"Plums\",\"2015\"],[\"Plums\",\"2016\"],[\"Plums\",\"2017\"],[\"Grapes\",\"2015\"],[\"Grapes\",\"2016\"],[\"Grapes\",\"2017\"],[\"Strawberries\",\"2015\"],[\"Strawberries\",\"2016\"],[\"Strawberries\",\"2017\"]]},\"selected\":{\"id\":\"80a60aac-1941-421d-8132-060c29c7b4de\",\"type\":\"Selection\"},\"selection_policy\":{\"id\":\"a98b5aaf-8616-4ceb-aef1-2b89b88d4c57\",\"type\":\"UnionRenderers\"}},\"id\":\"4d4c1604-20a6-4478-99fa-7e829ee6a13a\",\"type\":\"ColumnDataSource\"},{\"attributes\":{},\"id\":\"4934202b-9943-41bb-9aef-26c6ab5dc1d4\",\"type\":\"BasicTickFormatter\"},{\"attributes\":{\"below\":[{\"id\":\"b248bc4e-95ec-45ce-9a48-7538510855e5\",\"type\":\"CategoricalAxis\"}],\"left\":[{\"id\":\"fceaf172-7af5-44cc-a4d8-2462bdc2d752\",\"type\":\"LinearAxis\"}],\"plot_height\":250,\"renderers\":[{\"id\":\"b248bc4e-95ec-45ce-9a48-7538510855e5\",\"type\":\"CategoricalAxis\"},{\"id\":\"41cc8ba2-0d4a-429e-8f77-246ff4bab6b4\",\"type\":\"Grid\"},{\"id\":\"fceaf172-7af5-44cc-a4d8-2462bdc2d752\",\"type\":\"LinearAxis\"},{\"id\":\"c26bc03e-b421-4038-aa6e-78fbb886feba\",\"type\":\"Grid\"},{\"id\":\"0e9a8f1b-2934-4885-b357-a44b0ca60d6d\",\"type\":\"GlyphRenderer\"}],\"title\":{\"id\":\"f3f503a6-2ab6-4a28-b830-c33bec309594\",\"type\":\"Title\"},\"toolbar\":{\"id\":\"8dce9585-efb5-4ac9-8375-585828a76928\",\"type\":\"Toolbar\"},\"toolbar_location\":null,\"x_range\":{\"id\":\"95e85be9-04ab-4ef4-9304-80cbf7e54c5f\",\"type\":\"FactorRange\"},\"x_scale\":{\"id\":\"b67ef8ec-0f87-4025-907d-b5c733053995\",\"type\":\"CategoricalScale\"},\"y_range\":{\"id\":\"03853aa5-cf87-405d-999e-9f93504e5cae\",\"type\":\"DataRange1d\"},\"y_scale\":{\"id\":\"9e37971d-990a-42fb-99a1-ebc2f5c07941\",\"type\":\"LinearScale\"}},\"id\":\"9a73100e-aa09-4e79-9fd7-8acdcca4bba8\",\"subtype\":\"Figure\",\"type\":\"Plot\"},{\"attributes\":{},\"id\":\"9e37971d-990a-42fb-99a1-ebc2f5c07941\",\"type\":\"LinearScale\"},{\"attributes\":{},\"id\":\"80a60aac-1941-421d-8132-060c29c7b4de\",\"type\":\"Selection\"},{\"attributes\":{\"callback\":null,\"start\":0},\"id\":\"03853aa5-cf87-405d-999e-9f93504e5cae\",\"type\":\"DataRange1d\"},{\"attributes\":{},\"id\":\"b67ef8ec-0f87-4025-907d-b5c733053995\",\"type\":\"CategoricalScale\"},{\"attributes\":{\"grid_line_color\":{\"value\":null},\"plot\":{\"id\":\"9a73100e-aa09-4e79-9fd7-8acdcca4bba8\",\"subtype\":\"Figure\",\"type\":\"Plot\"},\"ticker\":{\"id\":\"e95abe4e-2e9c-4013-be3a-135166b6d642\",\"type\":\"CategoricalTicker\"}},\"id\":\"41cc8ba2-0d4a-429e-8f77-246ff4bab6b4\",\"type\":\"Grid\"},{\"attributes\":{\"formatter\":{\"id\":\"656623d1-ba7e-4db3-9932-1ea3a26e7776\",\"type\":\"CategoricalTickFormatter\"},\"major_label_orientation\":1,\"plot\":{\"id\":\"9a73100e-aa09-4e79-9fd7-8acdcca4bba8\",\"subtype\":\"Figure\",\"type\":\"Plot\"},\"ticker\":{\"id\":\"e95abe4e-2e9c-4013-be3a-135166b6d642\",\"type\":\"CategoricalTicker\"}},\"id\":\"b248bc4e-95ec-45ce-9a48-7538510855e5\",\"type\":\"CategoricalAxis\"},{\"attributes\":{},\"id\":\"e95abe4e-2e9c-4013-be3a-135166b6d642\",\"type\":\"CategoricalTicker\"},{\"attributes\":{},\"id\":\"117a2fdf-3f51-433c-af2d-19f96e78f795\",\"type\":\"BasicTicker\"},{\"attributes\":{\"dimension\":1,\"plot\":{\"id\":\"9a73100e-aa09-4e79-9fd7-8acdcca4bba8\",\"subtype\":\"Figure\",\"type\":\"Plot\"},\"ticker\":{\"id\":\"117a2fdf-3f51-433c-af2d-19f96e78f795\",\"type\":\"BasicTicker\"}},\"id\":\"c26bc03e-b421-4038-aa6e-78fbb886feba\",\"type\":\"Grid\"},{\"attributes\":{\"fill_color\":{\"value\":\"#1f77b4\"},\"line_color\":{\"value\":\"#1f77b4\"},\"top\":{\"field\":\"counts\"},\"width\":{\"value\":0.9},\"x\":{\"field\":\"x\"}},\"id\":\"89ae06d3-d64b-477e-9260-4d5294e41cae\",\"type\":\"VBar\"},{\"attributes\":{\"active_drag\":\"auto\",\"active_inspect\":\"auto\",\"active_scroll\":\"auto\",\"active_tap\":\"auto\"},\"id\":\"8dce9585-efb5-4ac9-8375-585828a76928\",\"type\":\"Toolbar\"},{\"attributes\":{\"fill_alpha\":{\"value\":0.1},\"fill_color\":{\"value\":\"#1f77b4\"},\"line_alpha\":{\"value\":0.1},\"line_color\":{\"value\":\"#1f77b4\"},\"top\":{\"field\":\"counts\"},\"width\":{\"value\":0.9},\"x\":{\"field\":\"x\"}},\"id\":\"a2478f10-4f66-4f59-a530-e7a4f6348b60\",\"type\":\"VBar\"},{\"attributes\":{},\"id\":\"a98b5aaf-8616-4ceb-aef1-2b89b88d4c57\",\"type\":\"UnionRenderers\"},{\"attributes\":{\"source\":{\"id\":\"4d4c1604-20a6-4478-99fa-7e829ee6a13a\",\"type\":\"ColumnDataSource\"}},\"id\":\"4712dadd-5773-493f-b2ff-d9c843a86dd4\",\"type\":\"CDSView\"},{\"attributes\":{\"formatter\":{\"id\":\"4934202b-9943-41bb-9aef-26c6ab5dc1d4\",\"type\":\"BasicTickFormatter\"},\"plot\":{\"id\":\"9a73100e-aa09-4e79-9fd7-8acdcca4bba8\",\"subtype\":\"Figure\",\"type\":\"Plot\"},\"ticker\":{\"id\":\"117a2fdf-3f51-433c-af2d-19f96e78f795\",\"type\":\"BasicTicker\"}},\"id\":\"fceaf172-7af5-44cc-a4d8-2462bdc2d752\",\"type\":\"LinearAxis\"},{\"attributes\":{\"data_source\":{\"id\":\"4d4c1604-20a6-4478-99fa-7e829ee6a13a\",\"type\":\"ColumnDataSource\"},\"glyph\":{\"id\":\"89ae06d3-d64b-477e-9260-4d5294e41cae\",\"type\":\"VBar\"},\"hover_glyph\":null,\"muted_glyph\":null,\"nonselection_glyph\":{\"id\":\"a2478f10-4f66-4f59-a530-e7a4f6348b60\",\"type\":\"VBar\"},\"selection_glyph\":null,\"view\":{\"id\":\"4712dadd-5773-493f-b2ff-d9c843a86dd4\",\"type\":\"CDSView\"}},\"id\":\"0e9a8f1b-2934-4885-b357-a44b0ca60d6d\",\"type\":\"GlyphRenderer\"},{\"attributes\":{\"plot\":null,\"text\":\"Fruit Counts by Year\"},\"id\":\"f3f503a6-2ab6-4a28-b830-c33bec309594\",\"type\":\"Title\"}],\"root_ids\":[\"9a73100e-aa09-4e79-9fd7-8acdcca4bba8\"]},\"title\":\"Bokeh Application\",\"version\":\"0.12.16\"}};\n",
       "  var render_items = [{\"docid\":\"3b2ed5f0-acc2-48e4-8181-007ba7d74f95\",\"elementid\":\"55a5fffb-20d2-458b-9b12-e919a86f0015\",\"modelid\":\"9a73100e-aa09-4e79-9fd7-8acdcca4bba8\"}];\n",
       "  root.Bokeh.embed.embed_items_notebook(docs_json, render_items);\n",
       "\n",
       "  }\n",
       "  if (root.Bokeh !== undefined) {\n",
       "    embed_document(root);\n",
       "  } else {\n",
       "    var attempts = 0;\n",
       "    var timer = setInterval(function(root) {\n",
       "      if (root.Bokeh !== undefined) {\n",
       "        embed_document(root);\n",
       "        clearInterval(timer);\n",
       "      }\n",
       "      attempts++;\n",
       "      if (attempts > 100) {\n",
       "        console.log(\"Bokeh: ERROR: Unable to run BokehJS code because BokehJS library is missing\")\n",
       "        clearInterval(timer);\n",
       "      }\n",
       "    }, 10, root)\n",
       "  }\n",
       "})(window);"
      ],
      "application/vnd.bokehjs_exec.v0+json": ""
     },
     "metadata": {
      "application/vnd.bokehjs_exec.v0+json": {
       "id": "9a73100e-aa09-4e79-9fd7-8acdcca4bba8"
      }
     },
     "output_type": "display_data"
    }
   ],
   "source": [
    "from bokeh.models import FactorRange\n",
    "\n",
    "fruits = ['Apples', 'Pears', 'Nectarines', 'Plums', 'Grapes', 'Strawberries']\n",
    "years = ['2015', '2016', '2017']\n",
    "\n",
    "data = {'fruits' : fruits,\n",
    "        '2015'   : [2, 1, 4, 3, 2, 4],\n",
    "        '2016'   : [5, 3, 3, 2, 4, 6],\n",
    "        '2017'   : [3, 2, 4, 4, 5, 3]}\n",
    "\n",
    "# this creates [ (\"Apples\", \"2015\"), (\"Apples\", \"2016\"), (\"Apples\", \"2017\"), (\"Pears\", \"2015), ... ]\n",
    "x = [ (fruit, year) for fruit in fruits for year in years ]\n",
    "counts = sum(zip(data['2015'], data['2016'], data['2017']), ()) # like an hstack\n",
    "\n",
    "source = ColumnDataSource(data=dict(x=x, counts=counts))\n",
    "\n",
    "p = figure(x_range=FactorRange(*x), plot_height=250, title=\"Fruit Counts by Year\",\n",
    "           toolbar_location=None, tools=\"\")\n",
    "\n",
    "p.vbar(x='x', top='counts', width=0.9, source=source)\n",
    "\n",
    "p.y_range.start = 0\n",
    "p.x_range.range_padding = 0.1\n",
    "p.xaxis.major_label_orientation = 1\n",
    "p.xgrid.grid_line_color = None\n",
    "\n",
    "show(p)"
   ]
  },
  {
   "cell_type": "markdown",
   "metadata": {},
   "source": [
    "https://bokeh.pydata.org/en/latest/docs/user_guide/categorical.html"
   ]
  }
 ],
 "metadata": {
  "kernelspec": {
   "display_name": "Python 3",
   "language": "python",
   "name": "python3"
  },
  "language_info": {
   "codemirror_mode": {
    "name": "ipython",
    "version": 3
   },
   "file_extension": ".py",
   "mimetype": "text/x-python",
   "name": "python",
   "nbconvert_exporter": "python",
   "pygments_lexer": "ipython3",
   "version": "3.6.8"
  }
 },
 "nbformat": 4,
 "nbformat_minor": 2
}
