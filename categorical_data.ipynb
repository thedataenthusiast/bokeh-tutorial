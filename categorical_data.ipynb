{
 "cells": [
  {
   "cell_type": "code",
   "execution_count": 1,
   "metadata": {},
   "outputs": [
    {
     "data": {
      "text/html": [
       "\n",
       "    <div class=\"bk-root\">\n",
       "        <a href=\"https://bokeh.pydata.org\" target=\"_blank\" class=\"bk-logo bk-logo-small bk-logo-notebook\"></a>\n",
       "        <span id=\"32972afe-bdec-4002-b2fc-1ac9530f2715\">Loading BokehJS ...</span>\n",
       "    </div>"
      ]
     },
     "metadata": {},
     "output_type": "display_data"
    },
    {
     "data": {
      "application/javascript": [
       "\n",
       "(function(root) {\n",
       "  function now() {\n",
       "    return new Date();\n",
       "  }\n",
       "\n",
       "  var force = true;\n",
       "\n",
       "  if (typeof (root._bokeh_onload_callbacks) === \"undefined\" || force === true) {\n",
       "    root._bokeh_onload_callbacks = [];\n",
       "    root._bokeh_is_loading = undefined;\n",
       "  }\n",
       "\n",
       "  var JS_MIME_TYPE = 'application/javascript';\n",
       "  var HTML_MIME_TYPE = 'text/html';\n",
       "  var EXEC_MIME_TYPE = 'application/vnd.bokehjs_exec.v0+json';\n",
       "  var CLASS_NAME = 'output_bokeh rendered_html';\n",
       "\n",
       "  /**\n",
       "   * Render data to the DOM node\n",
       "   */\n",
       "  function render(props, node) {\n",
       "    var script = document.createElement(\"script\");\n",
       "    node.appendChild(script);\n",
       "  }\n",
       "\n",
       "  /**\n",
       "   * Handle when an output is cleared or removed\n",
       "   */\n",
       "  function handleClearOutput(event, handle) {\n",
       "    var cell = handle.cell;\n",
       "\n",
       "    var id = cell.output_area._bokeh_element_id;\n",
       "    var server_id = cell.output_area._bokeh_server_id;\n",
       "    // Clean up Bokeh references\n",
       "    if (id !== undefined) {\n",
       "      Bokeh.index[id].model.document.clear();\n",
       "      delete Bokeh.index[id];\n",
       "    }\n",
       "\n",
       "    if (server_id !== undefined) {\n",
       "      // Clean up Bokeh references\n",
       "      var cmd = \"from bokeh.io.state import curstate; print(curstate().uuid_to_server['\" + server_id + \"'].get_sessions()[0].document.roots[0]._id)\";\n",
       "      cell.notebook.kernel.execute(cmd, {\n",
       "        iopub: {\n",
       "          output: function(msg) {\n",
       "            var element_id = msg.content.text.trim();\n",
       "            Bokeh.index[element_id].model.document.clear();\n",
       "            delete Bokeh.index[element_id];\n",
       "          }\n",
       "        }\n",
       "      });\n",
       "      // Destroy server and session\n",
       "      var cmd = \"import bokeh.io.notebook as ion; ion.destroy_server('\" + server_id + \"')\";\n",
       "      cell.notebook.kernel.execute(cmd);\n",
       "    }\n",
       "  }\n",
       "\n",
       "  /**\n",
       "   * Handle when a new output is added\n",
       "   */\n",
       "  function handleAddOutput(event, handle) {\n",
       "    var output_area = handle.output_area;\n",
       "    var output = handle.output;\n",
       "\n",
       "    // limit handleAddOutput to display_data with EXEC_MIME_TYPE content only\n",
       "    if ((output.output_type != \"display_data\") || (!output.data.hasOwnProperty(EXEC_MIME_TYPE))) {\n",
       "      return\n",
       "    }\n",
       "\n",
       "    var toinsert = output_area.element.find(\".\" + CLASS_NAME.split(' ')[0]);\n",
       "\n",
       "    if (output.metadata[EXEC_MIME_TYPE][\"id\"] !== undefined) {\n",
       "      toinsert[toinsert.length - 1].firstChild.textContent = output.data[JS_MIME_TYPE];\n",
       "      // store reference to embed id on output_area\n",
       "      output_area._bokeh_element_id = output.metadata[EXEC_MIME_TYPE][\"id\"];\n",
       "    }\n",
       "    if (output.metadata[EXEC_MIME_TYPE][\"server_id\"] !== undefined) {\n",
       "      var bk_div = document.createElement(\"div\");\n",
       "      bk_div.innerHTML = output.data[HTML_MIME_TYPE];\n",
       "      var script_attrs = bk_div.children[0].attributes;\n",
       "      for (var i = 0; i < script_attrs.length; i++) {\n",
       "        toinsert[toinsert.length - 1].firstChild.setAttribute(script_attrs[i].name, script_attrs[i].value);\n",
       "      }\n",
       "      // store reference to server id on output_area\n",
       "      output_area._bokeh_server_id = output.metadata[EXEC_MIME_TYPE][\"server_id\"];\n",
       "    }\n",
       "  }\n",
       "\n",
       "  function register_renderer(events, OutputArea) {\n",
       "\n",
       "    function append_mime(data, metadata, element) {\n",
       "      // create a DOM node to render to\n",
       "      var toinsert = this.create_output_subarea(\n",
       "        metadata,\n",
       "        CLASS_NAME,\n",
       "        EXEC_MIME_TYPE\n",
       "      );\n",
       "      this.keyboard_manager.register_events(toinsert);\n",
       "      // Render to node\n",
       "      var props = {data: data, metadata: metadata[EXEC_MIME_TYPE]};\n",
       "      render(props, toinsert[toinsert.length - 1]);\n",
       "      element.append(toinsert);\n",
       "      return toinsert\n",
       "    }\n",
       "\n",
       "    /* Handle when an output is cleared or removed */\n",
       "    events.on('clear_output.CodeCell', handleClearOutput);\n",
       "    events.on('delete.Cell', handleClearOutput);\n",
       "\n",
       "    /* Handle when a new output is added */\n",
       "    events.on('output_added.OutputArea', handleAddOutput);\n",
       "\n",
       "    /**\n",
       "     * Register the mime type and append_mime function with output_area\n",
       "     */\n",
       "    OutputArea.prototype.register_mime_type(EXEC_MIME_TYPE, append_mime, {\n",
       "      /* Is output safe? */\n",
       "      safe: true,\n",
       "      /* Index of renderer in `output_area.display_order` */\n",
       "      index: 0\n",
       "    });\n",
       "  }\n",
       "\n",
       "  // register the mime type if in Jupyter Notebook environment and previously unregistered\n",
       "  if (root.Jupyter !== undefined) {\n",
       "    var events = require('base/js/events');\n",
       "    var OutputArea = require('notebook/js/outputarea').OutputArea;\n",
       "\n",
       "    if (OutputArea.prototype.mime_types().indexOf(EXEC_MIME_TYPE) == -1) {\n",
       "      register_renderer(events, OutputArea);\n",
       "    }\n",
       "  }\n",
       "\n",
       "  \n",
       "  if (typeof (root._bokeh_timeout) === \"undefined\" || force === true) {\n",
       "    root._bokeh_timeout = Date.now() + 5000;\n",
       "    root._bokeh_failed_load = false;\n",
       "  }\n",
       "\n",
       "  var NB_LOAD_WARNING = {'data': {'text/html':\n",
       "     \"<div style='background-color: #fdd'>\\n\"+\n",
       "     \"<p>\\n\"+\n",
       "     \"BokehJS does not appear to have successfully loaded. If loading BokehJS from CDN, this \\n\"+\n",
       "     \"may be due to a slow or bad network connection. Possible fixes:\\n\"+\n",
       "     \"</p>\\n\"+\n",
       "     \"<ul>\\n\"+\n",
       "     \"<li>re-rerun `output_notebook()` to attempt to load from CDN again, or</li>\\n\"+\n",
       "     \"<li>use INLINE resources instead, as so:</li>\\n\"+\n",
       "     \"</ul>\\n\"+\n",
       "     \"<code>\\n\"+\n",
       "     \"from bokeh.resources import INLINE\\n\"+\n",
       "     \"output_notebook(resources=INLINE)\\n\"+\n",
       "     \"</code>\\n\"+\n",
       "     \"</div>\"}};\n",
       "\n",
       "  function display_loaded() {\n",
       "    var el = document.getElementById(\"32972afe-bdec-4002-b2fc-1ac9530f2715\");\n",
       "    if (el != null) {\n",
       "      el.textContent = \"BokehJS is loading...\";\n",
       "    }\n",
       "    if (root.Bokeh !== undefined) {\n",
       "      if (el != null) {\n",
       "        el.textContent = \"BokehJS \" + root.Bokeh.version + \" successfully loaded.\";\n",
       "      }\n",
       "    } else if (Date.now() < root._bokeh_timeout) {\n",
       "      setTimeout(display_loaded, 100)\n",
       "    }\n",
       "  }\n",
       "\n",
       "\n",
       "  function run_callbacks() {\n",
       "    try {\n",
       "      root._bokeh_onload_callbacks.forEach(function(callback) { callback() });\n",
       "    }\n",
       "    finally {\n",
       "      delete root._bokeh_onload_callbacks\n",
       "    }\n",
       "    console.info(\"Bokeh: all callbacks have finished\");\n",
       "  }\n",
       "\n",
       "  function load_libs(js_urls, callback) {\n",
       "    root._bokeh_onload_callbacks.push(callback);\n",
       "    if (root._bokeh_is_loading > 0) {\n",
       "      console.log(\"Bokeh: BokehJS is being loaded, scheduling callback at\", now());\n",
       "      return null;\n",
       "    }\n",
       "    if (js_urls == null || js_urls.length === 0) {\n",
       "      run_callbacks();\n",
       "      return null;\n",
       "    }\n",
       "    console.log(\"Bokeh: BokehJS not loaded, scheduling load and callback at\", now());\n",
       "    root._bokeh_is_loading = js_urls.length;\n",
       "    for (var i = 0; i < js_urls.length; i++) {\n",
       "      var url = js_urls[i];\n",
       "      var s = document.createElement('script');\n",
       "      s.src = url;\n",
       "      s.async = false;\n",
       "      s.onreadystatechange = s.onload = function() {\n",
       "        root._bokeh_is_loading--;\n",
       "        if (root._bokeh_is_loading === 0) {\n",
       "          console.log(\"Bokeh: all BokehJS libraries loaded\");\n",
       "          run_callbacks()\n",
       "        }\n",
       "      };\n",
       "      s.onerror = function() {\n",
       "        console.warn(\"failed to load library \" + url);\n",
       "      };\n",
       "      console.log(\"Bokeh: injecting script tag for BokehJS library: \", url);\n",
       "      document.getElementsByTagName(\"head\")[0].appendChild(s);\n",
       "    }\n",
       "  };var element = document.getElementById(\"32972afe-bdec-4002-b2fc-1ac9530f2715\");\n",
       "  if (element == null) {\n",
       "    console.log(\"Bokeh: ERROR: autoload.js configured with elementid '32972afe-bdec-4002-b2fc-1ac9530f2715' but no matching script tag was found. \")\n",
       "    return false;\n",
       "  }\n",
       "\n",
       "  var js_urls = [\"https://cdn.pydata.org/bokeh/release/bokeh-0.12.16.min.js\", \"https://cdn.pydata.org/bokeh/release/bokeh-widgets-0.12.16.min.js\", \"https://cdn.pydata.org/bokeh/release/bokeh-tables-0.12.16.min.js\", \"https://cdn.pydata.org/bokeh/release/bokeh-gl-0.12.16.min.js\"];\n",
       "\n",
       "  var inline_js = [\n",
       "    function(Bokeh) {\n",
       "      Bokeh.set_log_level(\"info\");\n",
       "    },\n",
       "    \n",
       "    function(Bokeh) {\n",
       "      \n",
       "    },\n",
       "    function(Bokeh) {\n",
       "      console.log(\"Bokeh: injecting CSS: https://cdn.pydata.org/bokeh/release/bokeh-0.12.16.min.css\");\n",
       "      Bokeh.embed.inject_css(\"https://cdn.pydata.org/bokeh/release/bokeh-0.12.16.min.css\");\n",
       "      console.log(\"Bokeh: injecting CSS: https://cdn.pydata.org/bokeh/release/bokeh-widgets-0.12.16.min.css\");\n",
       "      Bokeh.embed.inject_css(\"https://cdn.pydata.org/bokeh/release/bokeh-widgets-0.12.16.min.css\");\n",
       "      console.log(\"Bokeh: injecting CSS: https://cdn.pydata.org/bokeh/release/bokeh-tables-0.12.16.min.css\");\n",
       "      Bokeh.embed.inject_css(\"https://cdn.pydata.org/bokeh/release/bokeh-tables-0.12.16.min.css\");\n",
       "    }\n",
       "  ];\n",
       "\n",
       "  function run_inline_js() {\n",
       "    \n",
       "    if ((root.Bokeh !== undefined) || (force === true)) {\n",
       "      for (var i = 0; i < inline_js.length; i++) {\n",
       "        inline_js[i].call(root, root.Bokeh);\n",
       "      }if (force === true) {\n",
       "        display_loaded();\n",
       "      }} else if (Date.now() < root._bokeh_timeout) {\n",
       "      setTimeout(run_inline_js, 100);\n",
       "    } else if (!root._bokeh_failed_load) {\n",
       "      console.log(\"Bokeh: BokehJS failed to load within specified timeout.\");\n",
       "      root._bokeh_failed_load = true;\n",
       "    } else if (force !== true) {\n",
       "      var cell = $(document.getElementById(\"32972afe-bdec-4002-b2fc-1ac9530f2715\")).parents('.cell').data().cell;\n",
       "      cell.output_area.append_execute_result(NB_LOAD_WARNING)\n",
       "    }\n",
       "\n",
       "  }\n",
       "\n",
       "  if (root._bokeh_is_loading === 0) {\n",
       "    console.log(\"Bokeh: BokehJS loaded, going straight to plotting\");\n",
       "    run_inline_js();\n",
       "  } else {\n",
       "    load_libs(js_urls, function() {\n",
       "      console.log(\"Bokeh: BokehJS plotting callback run at\", now());\n",
       "      run_inline_js();\n",
       "    });\n",
       "  }\n",
       "}(window));"
      ],
      "application/vnd.bokehjs_load.v0+json": "\n(function(root) {\n  function now() {\n    return new Date();\n  }\n\n  var force = true;\n\n  if (typeof (root._bokeh_onload_callbacks) === \"undefined\" || force === true) {\n    root._bokeh_onload_callbacks = [];\n    root._bokeh_is_loading = undefined;\n  }\n\n  \n\n  \n  if (typeof (root._bokeh_timeout) === \"undefined\" || force === true) {\n    root._bokeh_timeout = Date.now() + 5000;\n    root._bokeh_failed_load = false;\n  }\n\n  var NB_LOAD_WARNING = {'data': {'text/html':\n     \"<div style='background-color: #fdd'>\\n\"+\n     \"<p>\\n\"+\n     \"BokehJS does not appear to have successfully loaded. If loading BokehJS from CDN, this \\n\"+\n     \"may be due to a slow or bad network connection. Possible fixes:\\n\"+\n     \"</p>\\n\"+\n     \"<ul>\\n\"+\n     \"<li>re-rerun `output_notebook()` to attempt to load from CDN again, or</li>\\n\"+\n     \"<li>use INLINE resources instead, as so:</li>\\n\"+\n     \"</ul>\\n\"+\n     \"<code>\\n\"+\n     \"from bokeh.resources import INLINE\\n\"+\n     \"output_notebook(resources=INLINE)\\n\"+\n     \"</code>\\n\"+\n     \"</div>\"}};\n\n  function display_loaded() {\n    var el = document.getElementById(\"32972afe-bdec-4002-b2fc-1ac9530f2715\");\n    if (el != null) {\n      el.textContent = \"BokehJS is loading...\";\n    }\n    if (root.Bokeh !== undefined) {\n      if (el != null) {\n        el.textContent = \"BokehJS \" + root.Bokeh.version + \" successfully loaded.\";\n      }\n    } else if (Date.now() < root._bokeh_timeout) {\n      setTimeout(display_loaded, 100)\n    }\n  }\n\n\n  function run_callbacks() {\n    try {\n      root._bokeh_onload_callbacks.forEach(function(callback) { callback() });\n    }\n    finally {\n      delete root._bokeh_onload_callbacks\n    }\n    console.info(\"Bokeh: all callbacks have finished\");\n  }\n\n  function load_libs(js_urls, callback) {\n    root._bokeh_onload_callbacks.push(callback);\n    if (root._bokeh_is_loading > 0) {\n      console.log(\"Bokeh: BokehJS is being loaded, scheduling callback at\", now());\n      return null;\n    }\n    if (js_urls == null || js_urls.length === 0) {\n      run_callbacks();\n      return null;\n    }\n    console.log(\"Bokeh: BokehJS not loaded, scheduling load and callback at\", now());\n    root._bokeh_is_loading = js_urls.length;\n    for (var i = 0; i < js_urls.length; i++) {\n      var url = js_urls[i];\n      var s = document.createElement('script');\n      s.src = url;\n      s.async = false;\n      s.onreadystatechange = s.onload = function() {\n        root._bokeh_is_loading--;\n        if (root._bokeh_is_loading === 0) {\n          console.log(\"Bokeh: all BokehJS libraries loaded\");\n          run_callbacks()\n        }\n      };\n      s.onerror = function() {\n        console.warn(\"failed to load library \" + url);\n      };\n      console.log(\"Bokeh: injecting script tag for BokehJS library: \", url);\n      document.getElementsByTagName(\"head\")[0].appendChild(s);\n    }\n  };var element = document.getElementById(\"32972afe-bdec-4002-b2fc-1ac9530f2715\");\n  if (element == null) {\n    console.log(\"Bokeh: ERROR: autoload.js configured with elementid '32972afe-bdec-4002-b2fc-1ac9530f2715' but no matching script tag was found. \")\n    return false;\n  }\n\n  var js_urls = [\"https://cdn.pydata.org/bokeh/release/bokeh-0.12.16.min.js\", \"https://cdn.pydata.org/bokeh/release/bokeh-widgets-0.12.16.min.js\", \"https://cdn.pydata.org/bokeh/release/bokeh-tables-0.12.16.min.js\", \"https://cdn.pydata.org/bokeh/release/bokeh-gl-0.12.16.min.js\"];\n\n  var inline_js = [\n    function(Bokeh) {\n      Bokeh.set_log_level(\"info\");\n    },\n    \n    function(Bokeh) {\n      \n    },\n    function(Bokeh) {\n      console.log(\"Bokeh: injecting CSS: https://cdn.pydata.org/bokeh/release/bokeh-0.12.16.min.css\");\n      Bokeh.embed.inject_css(\"https://cdn.pydata.org/bokeh/release/bokeh-0.12.16.min.css\");\n      console.log(\"Bokeh: injecting CSS: https://cdn.pydata.org/bokeh/release/bokeh-widgets-0.12.16.min.css\");\n      Bokeh.embed.inject_css(\"https://cdn.pydata.org/bokeh/release/bokeh-widgets-0.12.16.min.css\");\n      console.log(\"Bokeh: injecting CSS: https://cdn.pydata.org/bokeh/release/bokeh-tables-0.12.16.min.css\");\n      Bokeh.embed.inject_css(\"https://cdn.pydata.org/bokeh/release/bokeh-tables-0.12.16.min.css\");\n    }\n  ];\n\n  function run_inline_js() {\n    \n    if ((root.Bokeh !== undefined) || (force === true)) {\n      for (var i = 0; i < inline_js.length; i++) {\n        inline_js[i].call(root, root.Bokeh);\n      }if (force === true) {\n        display_loaded();\n      }} else if (Date.now() < root._bokeh_timeout) {\n      setTimeout(run_inline_js, 100);\n    } else if (!root._bokeh_failed_load) {\n      console.log(\"Bokeh: BokehJS failed to load within specified timeout.\");\n      root._bokeh_failed_load = true;\n    } else if (force !== true) {\n      var cell = $(document.getElementById(\"32972afe-bdec-4002-b2fc-1ac9530f2715\")).parents('.cell').data().cell;\n      cell.output_area.append_execute_result(NB_LOAD_WARNING)\n    }\n\n  }\n\n  if (root._bokeh_is_loading === 0) {\n    console.log(\"Bokeh: BokehJS loaded, going straight to plotting\");\n    run_inline_js();\n  } else {\n    load_libs(js_urls, function() {\n      console.log(\"Bokeh: BokehJS plotting callback run at\", now());\n      run_inline_js();\n    });\n  }\n}(window));"
     },
     "metadata": {},
     "output_type": "display_data"
    }
   ],
   "source": [
    "from bokeh.io import output_notebook, show #,output_file \n",
    "output_notebook()\n",
    "from bokeh.plotting import figure\n",
    "from bokeh.models import ColumnDataSource\n",
    "from bokeh.palettes import Spectral6\n",
    "from bokeh.transform import factor_cmap"
   ]
  },
  {
   "cell_type": "code",
   "execution_count": 2,
   "metadata": {},
   "outputs": [
    {
     "data": {
      "text/html": [
       "\n",
       "<div class=\"bk-root\">\n",
       "    <div class=\"bk-plotdiv\" id=\"a6186cf9-8368-4062-afd0-c1dd79827fbd\"></div>\n",
       "</div>"
      ]
     },
     "metadata": {},
     "output_type": "display_data"
    },
    {
     "data": {
      "application/javascript": [
       "(function(root) {\n",
       "  function embed_document(root) {\n",
       "    \n",
       "  var docs_json = {\"59db318f-83d0-4b07-9806-d56ae13dd728\":{\"roots\":{\"references\":[{\"attributes\":{\"dimension\":1,\"plot\":{\"id\":\"3377ce47-e58d-4faa-87fc-f7ccc669e35f\",\"subtype\":\"Figure\",\"type\":\"Plot\"},\"ticker\":{\"id\":\"07c58e12-0b34-4257-8f57-9849ebb47331\",\"type\":\"BasicTicker\"}},\"id\":\"9fdfd3f2-7edb-4f4c-88f1-dded66d211a1\",\"type\":\"Grid\"},{\"attributes\":{\"data_source\":{\"id\":\"3b516e4b-e325-41a1-b9be-fb052ac41e5e\",\"type\":\"ColumnDataSource\"},\"glyph\":{\"id\":\"b8beda7b-e604-4d01-a497-5976ea53d1ae\",\"type\":\"VBar\"},\"hover_glyph\":null,\"muted_glyph\":null,\"nonselection_glyph\":{\"id\":\"9ab234ac-ed52-4979-bbd2-ec33db2ee297\",\"type\":\"VBar\"},\"selection_glyph\":null,\"view\":{\"id\":\"7595c349-01e4-453f-b926-61f202dc60e8\",\"type\":\"CDSView\"}},\"id\":\"ceb5e32a-ac8b-48d2-8fe6-efe2ac2b4f56\",\"type\":\"GlyphRenderer\"},{\"attributes\":{},\"id\":\"25f8bc01-d512-4376-9465-7ec32eedb913\",\"type\":\"BasicTickFormatter\"},{\"attributes\":{\"source\":{\"id\":\"3b516e4b-e325-41a1-b9be-fb052ac41e5e\",\"type\":\"ColumnDataSource\"}},\"id\":\"7595c349-01e4-453f-b926-61f202dc60e8\",\"type\":\"CDSView\"},{\"attributes\":{\"below\":[{\"id\":\"f56fbdf3-e050-466b-8c1f-85f09a1f7d1d\",\"type\":\"CategoricalAxis\"}],\"left\":[{\"id\":\"e60ba4b2-3801-45f3-8bcc-d669b1e1a585\",\"type\":\"LinearAxis\"}],\"plot_height\":250,\"renderers\":[{\"id\":\"f56fbdf3-e050-466b-8c1f-85f09a1f7d1d\",\"type\":\"CategoricalAxis\"},{\"id\":\"f68c153b-1836-4bc2-8d86-ba31b31009be\",\"type\":\"Grid\"},{\"id\":\"e60ba4b2-3801-45f3-8bcc-d669b1e1a585\",\"type\":\"LinearAxis\"},{\"id\":\"9fdfd3f2-7edb-4f4c-88f1-dded66d211a1\",\"type\":\"Grid\"},{\"id\":\"ceb5e32a-ac8b-48d2-8fe6-efe2ac2b4f56\",\"type\":\"GlyphRenderer\"}],\"title\":{\"id\":\"943196e3-1bad-481a-9d13-7f5caaf1b7dc\",\"type\":\"Title\"},\"toolbar\":{\"id\":\"bcd81e77-5e1b-4dbb-9579-b86e0b960f34\",\"type\":\"Toolbar\"},\"toolbar_location\":null,\"x_range\":{\"id\":\"d6b2edfd-4a3f-4640-af27-62bbeee25f3c\",\"type\":\"FactorRange\"},\"x_scale\":{\"id\":\"597ac03e-cb95-4007-b5c8-57bc84ddb0e1\",\"type\":\"CategoricalScale\"},\"y_range\":{\"id\":\"e445d678-628e-4169-aaac-2ab664b5a851\",\"type\":\"DataRange1d\"},\"y_scale\":{\"id\":\"47a38c3f-d423-48c9-91bf-0b66bc3ae0c0\",\"type\":\"LinearScale\"}},\"id\":\"3377ce47-e58d-4faa-87fc-f7ccc669e35f\",\"subtype\":\"Figure\",\"type\":\"Plot\"},{\"attributes\":{\"callback\":null,\"factors\":[\"Apples\",\"Pears\",\"Nectarines\",\"Plums\",\"Grapes\",\"Strawberries\"]},\"id\":\"d6b2edfd-4a3f-4640-af27-62bbeee25f3c\",\"type\":\"FactorRange\"},{\"attributes\":{\"callback\":null,\"data\":{\"top\":[5,3,4,2,4,6],\"x\":[\"Apples\",\"Pears\",\"Nectarines\",\"Plums\",\"Grapes\",\"Strawberries\"]},\"selected\":{\"id\":\"7a6d5e56-268d-416a-8f16-1b0e9477764e\",\"type\":\"Selection\"},\"selection_policy\":{\"id\":\"b64610b7-8ef9-4b2c-8664-5c3d715647ce\",\"type\":\"UnionRenderers\"}},\"id\":\"3b516e4b-e325-41a1-b9be-fb052ac41e5e\",\"type\":\"ColumnDataSource\"},{\"attributes\":{\"fill_alpha\":{\"value\":0.1},\"fill_color\":{\"value\":\"#1f77b4\"},\"line_alpha\":{\"value\":0.1},\"line_color\":{\"value\":\"#1f77b4\"},\"top\":{\"field\":\"top\"},\"width\":{\"value\":0.9},\"x\":{\"field\":\"x\"}},\"id\":\"9ab234ac-ed52-4979-bbd2-ec33db2ee297\",\"type\":\"VBar\"},{\"attributes\":{},\"id\":\"2cf0ec3d-4555-4b7b-bedc-ec4426760518\",\"type\":\"CategoricalTickFormatter\"},{\"attributes\":{\"plot\":null,\"text\":\"Fruit Counts\"},\"id\":\"943196e3-1bad-481a-9d13-7f5caaf1b7dc\",\"type\":\"Title\"},{\"attributes\":{},\"id\":\"b64610b7-8ef9-4b2c-8664-5c3d715647ce\",\"type\":\"UnionRenderers\"},{\"attributes\":{},\"id\":\"7a6d5e56-268d-416a-8f16-1b0e9477764e\",\"type\":\"Selection\"},{\"attributes\":{\"callback\":null,\"start\":0},\"id\":\"e445d678-628e-4169-aaac-2ab664b5a851\",\"type\":\"DataRange1d\"},{\"attributes\":{\"fill_color\":{\"value\":\"#1f77b4\"},\"line_color\":{\"value\":\"#1f77b4\"},\"top\":{\"field\":\"top\"},\"width\":{\"value\":0.9},\"x\":{\"field\":\"x\"}},\"id\":\"b8beda7b-e604-4d01-a497-5976ea53d1ae\",\"type\":\"VBar\"},{\"attributes\":{},\"id\":\"47a38c3f-d423-48c9-91bf-0b66bc3ae0c0\",\"type\":\"LinearScale\"},{\"attributes\":{\"active_drag\":\"auto\",\"active_inspect\":\"auto\",\"active_scroll\":\"auto\",\"active_tap\":\"auto\"},\"id\":\"bcd81e77-5e1b-4dbb-9579-b86e0b960f34\",\"type\":\"Toolbar\"},{\"attributes\":{\"formatter\":{\"id\":\"25f8bc01-d512-4376-9465-7ec32eedb913\",\"type\":\"BasicTickFormatter\"},\"plot\":{\"id\":\"3377ce47-e58d-4faa-87fc-f7ccc669e35f\",\"subtype\":\"Figure\",\"type\":\"Plot\"},\"ticker\":{\"id\":\"07c58e12-0b34-4257-8f57-9849ebb47331\",\"type\":\"BasicTicker\"}},\"id\":\"e60ba4b2-3801-45f3-8bcc-d669b1e1a585\",\"type\":\"LinearAxis\"},{\"attributes\":{},\"id\":\"05923d79-aa92-44a9-b92c-e078eca1af3a\",\"type\":\"CategoricalTicker\"},{\"attributes\":{},\"id\":\"597ac03e-cb95-4007-b5c8-57bc84ddb0e1\",\"type\":\"CategoricalScale\"},{\"attributes\":{\"formatter\":{\"id\":\"2cf0ec3d-4555-4b7b-bedc-ec4426760518\",\"type\":\"CategoricalTickFormatter\"},\"plot\":{\"id\":\"3377ce47-e58d-4faa-87fc-f7ccc669e35f\",\"subtype\":\"Figure\",\"type\":\"Plot\"},\"ticker\":{\"id\":\"05923d79-aa92-44a9-b92c-e078eca1af3a\",\"type\":\"CategoricalTicker\"}},\"id\":\"f56fbdf3-e050-466b-8c1f-85f09a1f7d1d\",\"type\":\"CategoricalAxis\"},{\"attributes\":{\"grid_line_color\":{\"value\":null},\"plot\":{\"id\":\"3377ce47-e58d-4faa-87fc-f7ccc669e35f\",\"subtype\":\"Figure\",\"type\":\"Plot\"},\"ticker\":{\"id\":\"05923d79-aa92-44a9-b92c-e078eca1af3a\",\"type\":\"CategoricalTicker\"}},\"id\":\"f68c153b-1836-4bc2-8d86-ba31b31009be\",\"type\":\"Grid\"},{\"attributes\":{},\"id\":\"07c58e12-0b34-4257-8f57-9849ebb47331\",\"type\":\"BasicTicker\"}],\"root_ids\":[\"3377ce47-e58d-4faa-87fc-f7ccc669e35f\"]},\"title\":\"Bokeh Application\",\"version\":\"0.12.16\"}};\n",
       "  var render_items = [{\"docid\":\"59db318f-83d0-4b07-9806-d56ae13dd728\",\"elementid\":\"a6186cf9-8368-4062-afd0-c1dd79827fbd\",\"modelid\":\"3377ce47-e58d-4faa-87fc-f7ccc669e35f\"}];\n",
       "  root.Bokeh.embed.embed_items_notebook(docs_json, render_items);\n",
       "\n",
       "  }\n",
       "  if (root.Bokeh !== undefined) {\n",
       "    embed_document(root);\n",
       "  } else {\n",
       "    var attempts = 0;\n",
       "    var timer = setInterval(function(root) {\n",
       "      if (root.Bokeh !== undefined) {\n",
       "        embed_document(root);\n",
       "        clearInterval(timer);\n",
       "      }\n",
       "      attempts++;\n",
       "      if (attempts > 100) {\n",
       "        console.log(\"Bokeh: ERROR: Unable to run BokehJS code because BokehJS library is missing\")\n",
       "        clearInterval(timer);\n",
       "      }\n",
       "    }, 10, root)\n",
       "  }\n",
       "})(window);"
      ],
      "application/vnd.bokehjs_exec.v0+json": ""
     },
     "metadata": {
      "application/vnd.bokehjs_exec.v0+json": {
       "id": "3377ce47-e58d-4faa-87fc-f7ccc669e35f"
      }
     },
     "output_type": "display_data"
    }
   ],
   "source": [
    "fruits = ['Apples', 'Pears', 'Nectarines', 'Plums', 'Grapes', 'Strawberries']\n",
    "\n",
    "p = figure(x_range=fruits, plot_height=250, title=\"Fruit Counts\",\n",
    "           toolbar_location=None, tools=\"\")\n",
    "\n",
    "p.vbar(x=fruits, top=[5, 3, 4, 2, 4, 6], width=0.9)\n",
    "\n",
    "p.xgrid.grid_line_color = None\n",
    "p.y_range.start = 0\n",
    "\n",
    "show(p)"
   ]
  },
  {
   "cell_type": "markdown",
   "metadata": {},
   "source": [
    "Colors\n",
    "Often times we may want to have bars that are shaded some color. This can be accomplished in different ways. One way is to supply all the colors up front. This can be done by putting all the data, including the colors for each bar, in a ColumnDataSource. Then the name of the column containing the colors is passed to figure as the color (or line_color/fill_color) arguments. This is shown below:"
   ]
  },
  {
   "cell_type": "code",
   "execution_count": 3,
   "metadata": {},
   "outputs": [
    {
     "data": {
      "text/html": [
       "\n",
       "<div class=\"bk-root\">\n",
       "    <div class=\"bk-plotdiv\" id=\"646b3d44-3dd9-4220-9cf5-b48a402fc970\"></div>\n",
       "</div>"
      ]
     },
     "metadata": {},
     "output_type": "display_data"
    },
    {
     "data": {
      "application/javascript": [
       "(function(root) {\n",
       "  function embed_document(root) {\n",
       "    \n",
       "  var docs_json = {\"8cdfab88-02f1-4640-b6fc-044b893c5e90\":{\"roots\":{\"references\":[{\"attributes\":{},\"id\":\"3365faf6-7261-4b11-9d0c-a121ad703215\",\"type\":\"BasicTickFormatter\"},{\"attributes\":{\"source\":{\"id\":\"154d1340-de99-46f8-939a-a12bbacdbdc2\",\"type\":\"ColumnDataSource\"}},\"id\":\"825934db-9381-43eb-bea5-bde50f021142\",\"type\":\"CDSView\"},{\"attributes\":{\"callback\":null,\"factors\":[\"Apples\",\"Pears\",\"Nectarines\",\"Plums\",\"Grapes\",\"Strawberries\"]},\"id\":\"23fe9c2c-6bfd-47bb-8155-02988a0665aa\",\"type\":\"FactorRange\"},{\"attributes\":{\"fill_alpha\":{\"value\":0.1},\"fill_color\":{\"value\":\"#1f77b4\"},\"line_alpha\":{\"value\":0.1},\"line_color\":{\"value\":\"#1f77b4\"},\"top\":{\"field\":\"counts\"},\"width\":{\"value\":0.9},\"x\":{\"field\":\"fruits\"}},\"id\":\"9f21f628-e09b-412a-8904-da90e547afde\",\"type\":\"VBar\"},{\"attributes\":{\"callback\":null,\"end\":9},\"id\":\"56e4eb85-9db0-4a9d-89f4-a894c26f4091\",\"type\":\"Range1d\"},{\"attributes\":{},\"id\":\"3b999160-7428-4c17-bc86-e09fb53a5a5e\",\"type\":\"CategoricalTickFormatter\"},{\"attributes\":{},\"id\":\"5575331f-16a1-4a9f-ad92-52591013ff2b\",\"type\":\"CategoricalScale\"},{\"attributes\":{\"label\":{\"field\":\"fruits\"},\"renderers\":[{\"id\":\"c9f3cfd2-051f-4931-b32b-9003dc0093f7\",\"type\":\"GlyphRenderer\"}]},\"id\":\"108d7356-caf4-4ed0-8b59-5613078cb14b\",\"type\":\"LegendItem\"},{\"attributes\":{\"plot\":null,\"text\":\"Fruit Counts\"},\"id\":\"7f2171cf-23ca-4668-88b8-2fdd921c404d\",\"type\":\"Title\"},{\"attributes\":{},\"id\":\"aae7bdc7-6f59-4cff-87af-3d25e7b07db6\",\"type\":\"UnionRenderers\"},{\"attributes\":{\"formatter\":{\"id\":\"3365faf6-7261-4b11-9d0c-a121ad703215\",\"type\":\"BasicTickFormatter\"},\"plot\":{\"id\":\"80add6d2-b8fa-4280-9fec-45baffd15670\",\"subtype\":\"Figure\",\"type\":\"Plot\"},\"ticker\":{\"id\":\"d0c7b892-dbdd-467a-8e44-1f6a4c058515\",\"type\":\"BasicTicker\"}},\"id\":\"6ee309f5-3446-4f85-bbaa-59c5e1f284c8\",\"type\":\"LinearAxis\"},{\"attributes\":{\"active_drag\":\"auto\",\"active_inspect\":\"auto\",\"active_scroll\":\"auto\",\"active_tap\":\"auto\"},\"id\":\"7dad2c6c-6721-44b8-8146-76b50e6a89e0\",\"type\":\"Toolbar\"},{\"attributes\":{\"data_source\":{\"id\":\"154d1340-de99-46f8-939a-a12bbacdbdc2\",\"type\":\"ColumnDataSource\"},\"glyph\":{\"id\":\"8d180904-f14d-48d2-b617-2502d2d7aafc\",\"type\":\"VBar\"},\"hover_glyph\":null,\"muted_glyph\":null,\"nonselection_glyph\":{\"id\":\"9f21f628-e09b-412a-8904-da90e547afde\",\"type\":\"VBar\"},\"selection_glyph\":null,\"view\":{\"id\":\"825934db-9381-43eb-bea5-bde50f021142\",\"type\":\"CDSView\"}},\"id\":\"c9f3cfd2-051f-4931-b32b-9003dc0093f7\",\"type\":\"GlyphRenderer\"},{\"attributes\":{},\"id\":\"66f718b6-dcfc-4313-aeb2-b2b20556d889\",\"type\":\"LinearScale\"},{\"attributes\":{\"below\":[{\"id\":\"4c0bad73-c0a2-426a-a5a9-b736b25b2c5f\",\"type\":\"CategoricalAxis\"}],\"left\":[{\"id\":\"6ee309f5-3446-4f85-bbaa-59c5e1f284c8\",\"type\":\"LinearAxis\"}],\"plot_height\":250,\"renderers\":[{\"id\":\"4c0bad73-c0a2-426a-a5a9-b736b25b2c5f\",\"type\":\"CategoricalAxis\"},{\"id\":\"27932cf3-a3f8-4ad4-9839-b580df915663\",\"type\":\"Grid\"},{\"id\":\"6ee309f5-3446-4f85-bbaa-59c5e1f284c8\",\"type\":\"LinearAxis\"},{\"id\":\"2ad00119-36da-419b-a907-faa3f7a1bb88\",\"type\":\"Grid\"},{\"id\":\"28a9af72-0c0b-4e6a-8fcd-065ebda9ca87\",\"type\":\"Legend\"},{\"id\":\"c9f3cfd2-051f-4931-b32b-9003dc0093f7\",\"type\":\"GlyphRenderer\"}],\"title\":{\"id\":\"7f2171cf-23ca-4668-88b8-2fdd921c404d\",\"type\":\"Title\"},\"toolbar\":{\"id\":\"7dad2c6c-6721-44b8-8146-76b50e6a89e0\",\"type\":\"Toolbar\"},\"toolbar_location\":null,\"x_range\":{\"id\":\"23fe9c2c-6bfd-47bb-8155-02988a0665aa\",\"type\":\"FactorRange\"},\"x_scale\":{\"id\":\"5575331f-16a1-4a9f-ad92-52591013ff2b\",\"type\":\"CategoricalScale\"},\"y_range\":{\"id\":\"56e4eb85-9db0-4a9d-89f4-a894c26f4091\",\"type\":\"Range1d\"},\"y_scale\":{\"id\":\"66f718b6-dcfc-4313-aeb2-b2b20556d889\",\"type\":\"LinearScale\"}},\"id\":\"80add6d2-b8fa-4280-9fec-45baffd15670\",\"subtype\":\"Figure\",\"type\":\"Plot\"},{\"attributes\":{\"formatter\":{\"id\":\"3b999160-7428-4c17-bc86-e09fb53a5a5e\",\"type\":\"CategoricalTickFormatter\"},\"plot\":{\"id\":\"80add6d2-b8fa-4280-9fec-45baffd15670\",\"subtype\":\"Figure\",\"type\":\"Plot\"},\"ticker\":{\"id\":\"fc816194-5798-4d6d-add8-7cbaf265ae97\",\"type\":\"CategoricalTicker\"}},\"id\":\"4c0bad73-c0a2-426a-a5a9-b736b25b2c5f\",\"type\":\"CategoricalAxis\"},{\"attributes\":{\"fill_color\":{\"field\":\"color\"},\"line_color\":{\"field\":\"color\"},\"top\":{\"field\":\"counts\"},\"width\":{\"value\":0.9},\"x\":{\"field\":\"fruits\"}},\"id\":\"8d180904-f14d-48d2-b617-2502d2d7aafc\",\"type\":\"VBar\"},{\"attributes\":{},\"id\":\"a2bc410d-b8ec-434c-9fbf-a45c5840d500\",\"type\":\"Selection\"},{\"attributes\":{\"items\":[{\"id\":\"108d7356-caf4-4ed0-8b59-5613078cb14b\",\"type\":\"LegendItem\"}],\"location\":\"top_center\",\"orientation\":\"horizontal\",\"plot\":{\"id\":\"80add6d2-b8fa-4280-9fec-45baffd15670\",\"subtype\":\"Figure\",\"type\":\"Plot\"}},\"id\":\"28a9af72-0c0b-4e6a-8fcd-065ebda9ca87\",\"type\":\"Legend\"},{\"attributes\":{},\"id\":\"d0c7b892-dbdd-467a-8e44-1f6a4c058515\",\"type\":\"BasicTicker\"},{\"attributes\":{\"callback\":null,\"data\":{\"color\":[\"#3288bd\",\"#99d594\",\"#e6f598\",\"#fee08b\",\"#fc8d59\",\"#d53e4f\"],\"counts\":[5,3,4,2,4,6],\"fruits\":[\"Apples\",\"Pears\",\"Nectarines\",\"Plums\",\"Grapes\",\"Strawberries\"]},\"selected\":{\"id\":\"a2bc410d-b8ec-434c-9fbf-a45c5840d500\",\"type\":\"Selection\"},\"selection_policy\":{\"id\":\"aae7bdc7-6f59-4cff-87af-3d25e7b07db6\",\"type\":\"UnionRenderers\"}},\"id\":\"154d1340-de99-46f8-939a-a12bbacdbdc2\",\"type\":\"ColumnDataSource\"},{\"attributes\":{\"dimension\":1,\"plot\":{\"id\":\"80add6d2-b8fa-4280-9fec-45baffd15670\",\"subtype\":\"Figure\",\"type\":\"Plot\"},\"ticker\":{\"id\":\"d0c7b892-dbdd-467a-8e44-1f6a4c058515\",\"type\":\"BasicTicker\"}},\"id\":\"2ad00119-36da-419b-a907-faa3f7a1bb88\",\"type\":\"Grid\"},{\"attributes\":{\"grid_line_color\":{\"value\":null},\"plot\":{\"id\":\"80add6d2-b8fa-4280-9fec-45baffd15670\",\"subtype\":\"Figure\",\"type\":\"Plot\"},\"ticker\":{\"id\":\"fc816194-5798-4d6d-add8-7cbaf265ae97\",\"type\":\"CategoricalTicker\"}},\"id\":\"27932cf3-a3f8-4ad4-9839-b580df915663\",\"type\":\"Grid\"},{\"attributes\":{},\"id\":\"fc816194-5798-4d6d-add8-7cbaf265ae97\",\"type\":\"CategoricalTicker\"}],\"root_ids\":[\"80add6d2-b8fa-4280-9fec-45baffd15670\"]},\"title\":\"Bokeh Application\",\"version\":\"0.12.16\"}};\n",
       "  var render_items = [{\"docid\":\"8cdfab88-02f1-4640-b6fc-044b893c5e90\",\"elementid\":\"646b3d44-3dd9-4220-9cf5-b48a402fc970\",\"modelid\":\"80add6d2-b8fa-4280-9fec-45baffd15670\"}];\n",
       "  root.Bokeh.embed.embed_items_notebook(docs_json, render_items);\n",
       "\n",
       "  }\n",
       "  if (root.Bokeh !== undefined) {\n",
       "    embed_document(root);\n",
       "  } else {\n",
       "    var attempts = 0;\n",
       "    var timer = setInterval(function(root) {\n",
       "      if (root.Bokeh !== undefined) {\n",
       "        embed_document(root);\n",
       "        clearInterval(timer);\n",
       "      }\n",
       "      attempts++;\n",
       "      if (attempts > 100) {\n",
       "        console.log(\"Bokeh: ERROR: Unable to run BokehJS code because BokehJS library is missing\")\n",
       "        clearInterval(timer);\n",
       "      }\n",
       "    }, 10, root)\n",
       "  }\n",
       "})(window);"
      ],
      "application/vnd.bokehjs_exec.v0+json": ""
     },
     "metadata": {
      "application/vnd.bokehjs_exec.v0+json": {
       "id": "80add6d2-b8fa-4280-9fec-45baffd15670"
      }
     },
     "output_type": "display_data"
    }
   ],
   "source": [
    "# output_file(\"colormapped_bars.html\")\n",
    "\n",
    "fruits = ['Apples', 'Pears', 'Nectarines', 'Plums', 'Grapes', 'Strawberries']\n",
    "counts = [5, 3, 4, 2, 4, 6]\n",
    "\n",
    "source = ColumnDataSource(data=dict(fruits=fruits, counts=counts, color=Spectral6))\n",
    "\n",
    "p = figure(x_range=fruits, y_range=(0,9), plot_height=250, title=\"Fruit Counts\",\n",
    "           toolbar_location=None, tools=\"\")\n",
    "\n",
    "p.vbar(x='fruits', top='counts', width=0.9, color='color', legend=\"fruits\", source=source)\n",
    "\n",
    "p.xgrid.grid_line_color = None\n",
    "p.legend.orientation = \"horizontal\"\n",
    "p.legend.location = \"top_center\"\n",
    "\n",
    "show(p)"
   ]
  },
  {
   "cell_type": "markdown",
   "metadata": {},
   "source": [
    "Another way to shade the bars is to use a CategoricalColorMapper that colormaps the bars inside the browser. There is a function factor_cmap() that makes this simple to do:\n",
    "factor_cmap('fruits', palette=Spectral6, factors=fruits))\n"
   ]
  },
  {
   "cell_type": "code",
   "execution_count": 4,
   "metadata": {},
   "outputs": [
    {
     "data": {
      "text/html": [
       "\n",
       "<div class=\"bk-root\">\n",
       "    <div class=\"bk-plotdiv\" id=\"eee4d71a-d0d0-4d7a-8dcb-bc40718acc31\"></div>\n",
       "</div>"
      ]
     },
     "metadata": {},
     "output_type": "display_data"
    },
    {
     "data": {
      "application/javascript": [
       "(function(root) {\n",
       "  function embed_document(root) {\n",
       "    \n",
       "  var docs_json = {\"c2a386e8-7bcf-4cc2-a935-52944d7a75f9\":{\"roots\":{\"references\":[{\"attributes\":{\"plot\":null,\"text\":\"Fruit Counts\"},\"id\":\"4e8a0c19-f11b-4039-a5a6-13272c70d010\",\"type\":\"Title\"},{\"attributes\":{},\"id\":\"3c186400-2d04-49e2-a532-536c6aebf8de\",\"type\":\"WheelZoomTool\"},{\"attributes\":{},\"id\":\"445141c2-f4a2-40b8-9509-0e661b4ddecc\",\"type\":\"BasicTickFormatter\"},{\"attributes\":{\"below\":[{\"id\":\"2280fbb6-b10f-4d10-911e-635fef09803f\",\"type\":\"CategoricalAxis\"}],\"left\":[{\"id\":\"2cd94d40-ddbc-47bb-b8bd-f7a6fe6a284e\",\"type\":\"LinearAxis\"}],\"plot_height\":250,\"renderers\":[{\"id\":\"2280fbb6-b10f-4d10-911e-635fef09803f\",\"type\":\"CategoricalAxis\"},{\"id\":\"0294742e-702c-4740-aa23-3ab1ff55cf46\",\"type\":\"Grid\"},{\"id\":\"2cd94d40-ddbc-47bb-b8bd-f7a6fe6a284e\",\"type\":\"LinearAxis\"},{\"id\":\"b85fa72b-aab9-4ea1-a75c-cce9ad9717e6\",\"type\":\"Grid\"},{\"id\":\"09f0ca95-1da6-4331-8614-cba6071cac0a\",\"type\":\"BoxAnnotation\"},{\"id\":\"feab905e-8f55-4f93-9b04-93760c82218c\",\"type\":\"Legend\"},{\"id\":\"8685843d-ac2e-4e3e-bcfa-89a1fa313b33\",\"type\":\"GlyphRenderer\"}],\"title\":{\"id\":\"4e8a0c19-f11b-4039-a5a6-13272c70d010\",\"type\":\"Title\"},\"toolbar\":{\"id\":\"b242d793-9f7a-4462-ba60-6b2ec86d53b0\",\"type\":\"Toolbar\"},\"toolbar_location\":null,\"x_range\":{\"id\":\"353a0787-4df4-4696-b7a5-5e6a3a182455\",\"type\":\"FactorRange\"},\"x_scale\":{\"id\":\"25fa2444-f4be-45b3-8b16-09ed9b3a4b86\",\"type\":\"CategoricalScale\"},\"y_range\":{\"id\":\"69e9b397-d0e8-48ae-a6e4-1dc01dc7f7c5\",\"type\":\"DataRange1d\"},\"y_scale\":{\"id\":\"45dcb928-b631-4d33-bbb7-01df61d9d748\",\"type\":\"LinearScale\"}},\"id\":\"c2ccc9f9-7abf-4647-8ea3-4ecd428863fc\",\"subtype\":\"Figure\",\"type\":\"Plot\"},{\"attributes\":{\"label\":{\"field\":\"fruits\"},\"renderers\":[{\"id\":\"8685843d-ac2e-4e3e-bcfa-89a1fa313b33\",\"type\":\"GlyphRenderer\"}]},\"id\":\"ac8cd937-7b33-4bc2-a146-b0ed9ff543f3\",\"type\":\"LegendItem\"},{\"attributes\":{\"callback\":null,\"end\":9,\"start\":0},\"id\":\"69e9b397-d0e8-48ae-a6e4-1dc01dc7f7c5\",\"type\":\"DataRange1d\"},{\"attributes\":{\"callback\":null,\"factors\":[\"Apples\",\"Pears\",\"Nectarines\",\"Plums\",\"Grapes\",\"Strawberries\"]},\"id\":\"353a0787-4df4-4696-b7a5-5e6a3a182455\",\"type\":\"FactorRange\"},{\"attributes\":{\"formatter\":{\"id\":\"445141c2-f4a2-40b8-9509-0e661b4ddecc\",\"type\":\"BasicTickFormatter\"},\"plot\":{\"id\":\"c2ccc9f9-7abf-4647-8ea3-4ecd428863fc\",\"subtype\":\"Figure\",\"type\":\"Plot\"},\"ticker\":{\"id\":\"b1ca1a50-5b00-4264-b8b3-43890fc23051\",\"type\":\"BasicTicker\"}},\"id\":\"2cd94d40-ddbc-47bb-b8bd-f7a6fe6a284e\",\"type\":\"LinearAxis\"},{\"attributes\":{},\"id\":\"9aba58f0-062b-40e6-ad9e-aaa872b0dbd1\",\"type\":\"UnionRenderers\"},{\"attributes\":{\"callback\":null,\"data\":{\"counts\":[5,3,4,2,4,6],\"fruits\":[\"Apples\",\"Pears\",\"Nectarines\",\"Plums\",\"Grapes\",\"Strawberries\"]},\"selected\":{\"id\":\"b5c0c9ea-30ac-493b-8382-b89b79b6234c\",\"type\":\"Selection\"},\"selection_policy\":{\"id\":\"9aba58f0-062b-40e6-ad9e-aaa872b0dbd1\",\"type\":\"UnionRenderers\"}},\"id\":\"3d7620ab-1950-4493-a964-a9f273a357d7\",\"type\":\"ColumnDataSource\"},{\"attributes\":{\"overlay\":{\"id\":\"09f0ca95-1da6-4331-8614-cba6071cac0a\",\"type\":\"BoxAnnotation\"}},\"id\":\"af2e800a-ecd6-4aff-be32-6f82fb71eaa1\",\"type\":\"BoxZoomTool\"},{\"attributes\":{\"data_source\":{\"id\":\"3d7620ab-1950-4493-a964-a9f273a357d7\",\"type\":\"ColumnDataSource\"},\"glyph\":{\"id\":\"73790f46-0065-49a3-8cf8-709d4771acd7\",\"type\":\"VBar\"},\"hover_glyph\":null,\"muted_glyph\":null,\"nonselection_glyph\":{\"id\":\"60ad71e2-27d2-4390-b78f-5208534631e7\",\"type\":\"VBar\"},\"selection_glyph\":null,\"view\":{\"id\":\"2295be84-d07d-42a0-a959-301af499521d\",\"type\":\"CDSView\"}},\"id\":\"8685843d-ac2e-4e3e-bcfa-89a1fa313b33\",\"type\":\"GlyphRenderer\"},{\"attributes\":{\"fill_color\":{\"field\":\"fruits\",\"transform\":{\"id\":\"862d53a6-084a-4759-a88e-6bc299e4b72f\",\"type\":\"CategoricalColorMapper\"}},\"line_color\":{\"value\":\"white\"},\"top\":{\"field\":\"counts\"},\"width\":{\"value\":0.9},\"x\":{\"field\":\"fruits\"}},\"id\":\"73790f46-0065-49a3-8cf8-709d4771acd7\",\"type\":\"VBar\"},{\"attributes\":{},\"id\":\"0e9180d2-809c-445f-9d1e-5dec635a4b88\",\"type\":\"CategoricalTicker\"},{\"attributes\":{},\"id\":\"b59bf7d7-3224-42d4-bbaa-d87ff34160ba\",\"type\":\"SaveTool\"},{\"attributes\":{\"formatter\":{\"id\":\"feb19095-7913-4a6e-be53-af696bf6393f\",\"type\":\"CategoricalTickFormatter\"},\"plot\":{\"id\":\"c2ccc9f9-7abf-4647-8ea3-4ecd428863fc\",\"subtype\":\"Figure\",\"type\":\"Plot\"},\"ticker\":{\"id\":\"0e9180d2-809c-445f-9d1e-5dec635a4b88\",\"type\":\"CategoricalTicker\"}},\"id\":\"2280fbb6-b10f-4d10-911e-635fef09803f\",\"type\":\"CategoricalAxis\"},{\"attributes\":{},\"id\":\"25fa2444-f4be-45b3-8b16-09ed9b3a4b86\",\"type\":\"CategoricalScale\"},{\"attributes\":{\"grid_line_color\":{\"value\":null},\"plot\":{\"id\":\"c2ccc9f9-7abf-4647-8ea3-4ecd428863fc\",\"subtype\":\"Figure\",\"type\":\"Plot\"},\"ticker\":{\"id\":\"0e9180d2-809c-445f-9d1e-5dec635a4b88\",\"type\":\"CategoricalTicker\"}},\"id\":\"0294742e-702c-4740-aa23-3ab1ff55cf46\",\"type\":\"Grid\"},{\"attributes\":{},\"id\":\"45dcb928-b631-4d33-bbb7-01df61d9d748\",\"type\":\"LinearScale\"},{\"attributes\":{\"factors\":[\"Apples\",\"Pears\",\"Nectarines\",\"Plums\",\"Grapes\",\"Strawberries\"],\"palette\":[\"#3288bd\",\"#99d594\",\"#e6f598\",\"#fee08b\",\"#fc8d59\",\"#d53e4f\"]},\"id\":\"862d53a6-084a-4759-a88e-6bc299e4b72f\",\"type\":\"CategoricalColorMapper\"},{\"attributes\":{},\"id\":\"b1ca1a50-5b00-4264-b8b3-43890fc23051\",\"type\":\"BasicTicker\"},{\"attributes\":{\"items\":[{\"id\":\"ac8cd937-7b33-4bc2-a146-b0ed9ff543f3\",\"type\":\"LegendItem\"}],\"location\":\"top_center\",\"orientation\":\"horizontal\",\"plot\":{\"id\":\"c2ccc9f9-7abf-4647-8ea3-4ecd428863fc\",\"subtype\":\"Figure\",\"type\":\"Plot\"}},\"id\":\"feab905e-8f55-4f93-9b04-93760c82218c\",\"type\":\"Legend\"},{\"attributes\":{\"bottom_units\":\"screen\",\"fill_alpha\":{\"value\":0.5},\"fill_color\":{\"value\":\"lightgrey\"},\"left_units\":\"screen\",\"level\":\"overlay\",\"line_alpha\":{\"value\":1.0},\"line_color\":{\"value\":\"black\"},\"line_dash\":[4,4],\"line_width\":{\"value\":2},\"plot\":null,\"render_mode\":\"css\",\"right_units\":\"screen\",\"top_units\":\"screen\"},\"id\":\"09f0ca95-1da6-4331-8614-cba6071cac0a\",\"type\":\"BoxAnnotation\"},{\"attributes\":{\"dimension\":1,\"plot\":{\"id\":\"c2ccc9f9-7abf-4647-8ea3-4ecd428863fc\",\"subtype\":\"Figure\",\"type\":\"Plot\"},\"ticker\":{\"id\":\"b1ca1a50-5b00-4264-b8b3-43890fc23051\",\"type\":\"BasicTicker\"}},\"id\":\"b85fa72b-aab9-4ea1-a75c-cce9ad9717e6\",\"type\":\"Grid\"},{\"attributes\":{},\"id\":\"feb19095-7913-4a6e-be53-af696bf6393f\",\"type\":\"CategoricalTickFormatter\"},{\"attributes\":{},\"id\":\"20c08093-a6bd-4104-b64a-9ffa382240c5\",\"type\":\"HelpTool\"},{\"attributes\":{\"fill_alpha\":{\"value\":0.1},\"fill_color\":{\"value\":\"#1f77b4\"},\"line_alpha\":{\"value\":0.1},\"line_color\":{\"value\":\"#1f77b4\"},\"top\":{\"field\":\"counts\"},\"width\":{\"value\":0.9},\"x\":{\"field\":\"fruits\"}},\"id\":\"60ad71e2-27d2-4390-b78f-5208534631e7\",\"type\":\"VBar\"},{\"attributes\":{\"active_drag\":\"auto\",\"active_inspect\":\"auto\",\"active_scroll\":\"auto\",\"active_tap\":\"auto\",\"tools\":[{\"id\":\"64b1340a-d828-4f7d-b1e7-7253a0fcb0af\",\"type\":\"PanTool\"},{\"id\":\"3c186400-2d04-49e2-a532-536c6aebf8de\",\"type\":\"WheelZoomTool\"},{\"id\":\"af2e800a-ecd6-4aff-be32-6f82fb71eaa1\",\"type\":\"BoxZoomTool\"},{\"id\":\"b59bf7d7-3224-42d4-bbaa-d87ff34160ba\",\"type\":\"SaveTool\"},{\"id\":\"56d92ee7-9575-4494-9440-576adcafef92\",\"type\":\"ResetTool\"},{\"id\":\"20c08093-a6bd-4104-b64a-9ffa382240c5\",\"type\":\"HelpTool\"}]},\"id\":\"b242d793-9f7a-4462-ba60-6b2ec86d53b0\",\"type\":\"Toolbar\"},{\"attributes\":{},\"id\":\"b5c0c9ea-30ac-493b-8382-b89b79b6234c\",\"type\":\"Selection\"},{\"attributes\":{\"source\":{\"id\":\"3d7620ab-1950-4493-a964-a9f273a357d7\",\"type\":\"ColumnDataSource\"}},\"id\":\"2295be84-d07d-42a0-a959-301af499521d\",\"type\":\"CDSView\"},{\"attributes\":{},\"id\":\"56d92ee7-9575-4494-9440-576adcafef92\",\"type\":\"ResetTool\"},{\"attributes\":{},\"id\":\"64b1340a-d828-4f7d-b1e7-7253a0fcb0af\",\"type\":\"PanTool\"}],\"root_ids\":[\"c2ccc9f9-7abf-4647-8ea3-4ecd428863fc\"]},\"title\":\"Bokeh Application\",\"version\":\"0.12.16\"}};\n",
       "  var render_items = [{\"docid\":\"c2a386e8-7bcf-4cc2-a935-52944d7a75f9\",\"elementid\":\"eee4d71a-d0d0-4d7a-8dcb-bc40718acc31\",\"modelid\":\"c2ccc9f9-7abf-4647-8ea3-4ecd428863fc\"}];\n",
       "  root.Bokeh.embed.embed_items_notebook(docs_json, render_items);\n",
       "\n",
       "  }\n",
       "  if (root.Bokeh !== undefined) {\n",
       "    embed_document(root);\n",
       "  } else {\n",
       "    var attempts = 0;\n",
       "    var timer = setInterval(function(root) {\n",
       "      if (root.Bokeh !== undefined) {\n",
       "        embed_document(root);\n",
       "        clearInterval(timer);\n",
       "      }\n",
       "      attempts++;\n",
       "      if (attempts > 100) {\n",
       "        console.log(\"Bokeh: ERROR: Unable to run BokehJS code because BokehJS library is missing\")\n",
       "        clearInterval(timer);\n",
       "      }\n",
       "    }, 10, root)\n",
       "  }\n",
       "})(window);"
      ],
      "application/vnd.bokehjs_exec.v0+json": ""
     },
     "metadata": {
      "application/vnd.bokehjs_exec.v0+json": {
       "id": "c2ccc9f9-7abf-4647-8ea3-4ecd428863fc"
      }
     },
     "output_type": "display_data"
    }
   ],
   "source": [
    "fruits = ['Apples', 'Pears', 'Nectarines', 'Plums', 'Grapes', 'Strawberries']\n",
    "counts = [5, 3, 4, 2, 4, 6]\n",
    "\n",
    "source = ColumnDataSource(data=dict(fruits=fruits, counts=counts))\n",
    "\n",
    "p = figure(x_range=fruits, plot_height=250, toolbar_location=None, title=\"Fruit Counts\")\n",
    "p.vbar(x='fruits', top='counts', width=0.9, source=source, legend=\"fruits\",\n",
    "       line_color='white', fill_color=factor_cmap('fruits', palette=Spectral6, factors=fruits))\n",
    "\n",
    "p.xgrid.grid_line_color = None\n",
    "p.y_range.start = 0\n",
    "p.y_range.end = 9\n",
    "p.legend.orientation = \"horizontal\"\n",
    "p.legend.location = \"top_center\"\n",
    "\n",
    "show(p)"
   ]
  },
  {
   "cell_type": "markdown",
   "metadata": {},
   "source": [
    "# Nested Categories"
   ]
  },
  {
   "cell_type": "markdown",
   "metadata": {},
   "source": [
    "Creating a single column of coordinates that are each 2-tuples of the form (fruit, year). Accordingly, the plot groups the axes by fruit type, with a single call to vbar:"
   ]
  },
  {
   "cell_type": "code",
   "execution_count": 6,
   "metadata": {},
   "outputs": [
    {
     "data": {
      "text/html": [
       "\n",
       "<div class=\"bk-root\">\n",
       "    <div class=\"bk-plotdiv\" id=\"9fea9962-e92e-4ded-9f1b-cf295366a7e5\"></div>\n",
       "</div>"
      ]
     },
     "metadata": {},
     "output_type": "display_data"
    },
    {
     "data": {
      "application/javascript": [
       "(function(root) {\n",
       "  function embed_document(root) {\n",
       "    \n",
       "  var docs_json = {\"c13ad9ba-cf94-4e65-b5b1-b21a186117c5\":{\"roots\":{\"references\":[{\"attributes\":{},\"id\":\"d1db437c-d37d-4138-9adc-a603c97ec5f8\",\"type\":\"Selection\"},{\"attributes\":{\"plot\":null,\"text\":\"Fruit Counts by Year\"},\"id\":\"3cc08646-a065-4c06-bb94-824778ba1bfe\",\"type\":\"Title\"},{\"attributes\":{\"source\":{\"id\":\"b74b908b-c78a-47c5-80ea-db47ddb8109d\",\"type\":\"ColumnDataSource\"}},\"id\":\"d28fbe8a-b9dc-4b27-9d7c-cd8f133cb7fe\",\"type\":\"CDSView\"},{\"attributes\":{},\"id\":\"4e86c237-19e2-4b92-8343-f5853ea47cc6\",\"type\":\"CategoricalScale\"},{\"attributes\":{},\"id\":\"8265974d-4aa3-44e3-b5ca-fcf659e04fa4\",\"type\":\"CategoricalTickFormatter\"},{\"attributes\":{\"fill_alpha\":{\"value\":0.1},\"fill_color\":{\"value\":\"#1f77b4\"},\"line_alpha\":{\"value\":0.1},\"line_color\":{\"value\":\"#1f77b4\"},\"top\":{\"field\":\"counts\"},\"width\":{\"value\":0.9},\"x\":{\"field\":\"x\"}},\"id\":\"6ca43421-6d4c-40d8-9df6-c16a867cb568\",\"type\":\"VBar\"},{\"attributes\":{},\"id\":\"4469879e-be43-4b2f-837e-c30e6625bc91\",\"type\":\"LinearScale\"},{\"attributes\":{\"grid_line_color\":{\"value\":null},\"plot\":{\"id\":\"8699b7a1-daf8-4e93-a43a-87cd48349e18\",\"subtype\":\"Figure\",\"type\":\"Plot\"},\"ticker\":{\"id\":\"cde22632-8ba8-40c3-b6fd-68f115c61332\",\"type\":\"CategoricalTicker\"}},\"id\":\"c237f24d-bfbb-4627-8f66-8591fb35e5a8\",\"type\":\"Grid\"},{\"attributes\":{\"formatter\":{\"id\":\"8265974d-4aa3-44e3-b5ca-fcf659e04fa4\",\"type\":\"CategoricalTickFormatter\"},\"major_label_orientation\":1,\"plot\":{\"id\":\"8699b7a1-daf8-4e93-a43a-87cd48349e18\",\"subtype\":\"Figure\",\"type\":\"Plot\"},\"ticker\":{\"id\":\"cde22632-8ba8-40c3-b6fd-68f115c61332\",\"type\":\"CategoricalTicker\"}},\"id\":\"8df9e615-4c73-4ae4-ae59-737155c2e9a2\",\"type\":\"CategoricalAxis\"},{\"attributes\":{},\"id\":\"4e22c17e-3872-4c52-8980-db5d8de9f120\",\"type\":\"UnionRenderers\"},{\"attributes\":{\"fill_color\":{\"value\":\"#1f77b4\"},\"line_color\":{\"value\":\"#1f77b4\"},\"top\":{\"field\":\"counts\"},\"width\":{\"value\":0.9},\"x\":{\"field\":\"x\"}},\"id\":\"259bccff-6d72-4fbc-aff4-7481f50bf93a\",\"type\":\"VBar\"},{\"attributes\":{},\"id\":\"cde22632-8ba8-40c3-b6fd-68f115c61332\",\"type\":\"CategoricalTicker\"},{\"attributes\":{\"dimension\":1,\"plot\":{\"id\":\"8699b7a1-daf8-4e93-a43a-87cd48349e18\",\"subtype\":\"Figure\",\"type\":\"Plot\"},\"ticker\":{\"id\":\"a1d16e13-d84d-42c6-8d1f-2b0fd0f90a37\",\"type\":\"BasicTicker\"}},\"id\":\"bd3d0fb1-dc96-45d1-af13-7b6dc0676d77\",\"type\":\"Grid\"},{\"attributes\":{},\"id\":\"a1d16e13-d84d-42c6-8d1f-2b0fd0f90a37\",\"type\":\"BasicTicker\"},{\"attributes\":{\"callback\":null,\"factors\":[[\"Apples\",\"2015\"],[\"Apples\",\"2016\"],[\"Apples\",\"2017\"],[\"Pears\",\"2015\"],[\"Pears\",\"2016\"],[\"Pears\",\"2017\"],[\"Nectarines\",\"2015\"],[\"Nectarines\",\"2016\"],[\"Nectarines\",\"2017\"],[\"Plums\",\"2015\"],[\"Plums\",\"2016\"],[\"Plums\",\"2017\"],[\"Grapes\",\"2015\"],[\"Grapes\",\"2016\"],[\"Grapes\",\"2017\"],[\"Strawberries\",\"2015\"],[\"Strawberries\",\"2016\"],[\"Strawberries\",\"2017\"]],\"range_padding\":0.1},\"id\":\"f7e921a0-67c5-45c9-9fb4-c38c75e04d8c\",\"type\":\"FactorRange\"},{\"attributes\":{\"callback\":null,\"data\":{\"counts\":[2,5,3,1,3,2,4,3,4,3,2,4,2,4,5,4,6,3],\"x\":[[\"Apples\",\"2015\"],[\"Apples\",\"2016\"],[\"Apples\",\"2017\"],[\"Pears\",\"2015\"],[\"Pears\",\"2016\"],[\"Pears\",\"2017\"],[\"Nectarines\",\"2015\"],[\"Nectarines\",\"2016\"],[\"Nectarines\",\"2017\"],[\"Plums\",\"2015\"],[\"Plums\",\"2016\"],[\"Plums\",\"2017\"],[\"Grapes\",\"2015\"],[\"Grapes\",\"2016\"],[\"Grapes\",\"2017\"],[\"Strawberries\",\"2015\"],[\"Strawberries\",\"2016\"],[\"Strawberries\",\"2017\"]]},\"selected\":{\"id\":\"d1db437c-d37d-4138-9adc-a603c97ec5f8\",\"type\":\"Selection\"},\"selection_policy\":{\"id\":\"4e22c17e-3872-4c52-8980-db5d8de9f120\",\"type\":\"UnionRenderers\"}},\"id\":\"b74b908b-c78a-47c5-80ea-db47ddb8109d\",\"type\":\"ColumnDataSource\"},{\"attributes\":{},\"id\":\"d769629c-f846-458a-94b8-13b589deefbd\",\"type\":\"BasicTickFormatter\"},{\"attributes\":{\"formatter\":{\"id\":\"d769629c-f846-458a-94b8-13b589deefbd\",\"type\":\"BasicTickFormatter\"},\"plot\":{\"id\":\"8699b7a1-daf8-4e93-a43a-87cd48349e18\",\"subtype\":\"Figure\",\"type\":\"Plot\"},\"ticker\":{\"id\":\"a1d16e13-d84d-42c6-8d1f-2b0fd0f90a37\",\"type\":\"BasicTicker\"}},\"id\":\"ca78b6b8-afe2-44eb-88f3-ea1f05e78017\",\"type\":\"LinearAxis\"},{\"attributes\":{\"active_drag\":\"auto\",\"active_inspect\":\"auto\",\"active_scroll\":\"auto\",\"active_tap\":\"auto\"},\"id\":\"5f243aea-ebc1-4884-b829-2e6ec255a3fc\",\"type\":\"Toolbar\"},{\"attributes\":{\"below\":[{\"id\":\"8df9e615-4c73-4ae4-ae59-737155c2e9a2\",\"type\":\"CategoricalAxis\"}],\"left\":[{\"id\":\"ca78b6b8-afe2-44eb-88f3-ea1f05e78017\",\"type\":\"LinearAxis\"}],\"plot_height\":250,\"renderers\":[{\"id\":\"8df9e615-4c73-4ae4-ae59-737155c2e9a2\",\"type\":\"CategoricalAxis\"},{\"id\":\"c237f24d-bfbb-4627-8f66-8591fb35e5a8\",\"type\":\"Grid\"},{\"id\":\"ca78b6b8-afe2-44eb-88f3-ea1f05e78017\",\"type\":\"LinearAxis\"},{\"id\":\"bd3d0fb1-dc96-45d1-af13-7b6dc0676d77\",\"type\":\"Grid\"},{\"id\":\"9b3f2a05-3961-4617-b8bf-61812ce49262\",\"type\":\"GlyphRenderer\"}],\"title\":{\"id\":\"3cc08646-a065-4c06-bb94-824778ba1bfe\",\"type\":\"Title\"},\"toolbar\":{\"id\":\"5f243aea-ebc1-4884-b829-2e6ec255a3fc\",\"type\":\"Toolbar\"},\"toolbar_location\":null,\"x_range\":{\"id\":\"f7e921a0-67c5-45c9-9fb4-c38c75e04d8c\",\"type\":\"FactorRange\"},\"x_scale\":{\"id\":\"4e86c237-19e2-4b92-8343-f5853ea47cc6\",\"type\":\"CategoricalScale\"},\"y_range\":{\"id\":\"fb62eb16-bba7-47ca-9732-bff268ae99c5\",\"type\":\"DataRange1d\"},\"y_scale\":{\"id\":\"4469879e-be43-4b2f-837e-c30e6625bc91\",\"type\":\"LinearScale\"}},\"id\":\"8699b7a1-daf8-4e93-a43a-87cd48349e18\",\"subtype\":\"Figure\",\"type\":\"Plot\"},{\"attributes\":{\"data_source\":{\"id\":\"b74b908b-c78a-47c5-80ea-db47ddb8109d\",\"type\":\"ColumnDataSource\"},\"glyph\":{\"id\":\"259bccff-6d72-4fbc-aff4-7481f50bf93a\",\"type\":\"VBar\"},\"hover_glyph\":null,\"muted_glyph\":null,\"nonselection_glyph\":{\"id\":\"6ca43421-6d4c-40d8-9df6-c16a867cb568\",\"type\":\"VBar\"},\"selection_glyph\":null,\"view\":{\"id\":\"d28fbe8a-b9dc-4b27-9d7c-cd8f133cb7fe\",\"type\":\"CDSView\"}},\"id\":\"9b3f2a05-3961-4617-b8bf-61812ce49262\",\"type\":\"GlyphRenderer\"},{\"attributes\":{\"callback\":null,\"start\":0},\"id\":\"fb62eb16-bba7-47ca-9732-bff268ae99c5\",\"type\":\"DataRange1d\"}],\"root_ids\":[\"8699b7a1-daf8-4e93-a43a-87cd48349e18\"]},\"title\":\"Bokeh Application\",\"version\":\"0.12.16\"}};\n",
       "  var render_items = [{\"docid\":\"c13ad9ba-cf94-4e65-b5b1-b21a186117c5\",\"elementid\":\"9fea9962-e92e-4ded-9f1b-cf295366a7e5\",\"modelid\":\"8699b7a1-daf8-4e93-a43a-87cd48349e18\"}];\n",
       "  root.Bokeh.embed.embed_items_notebook(docs_json, render_items);\n",
       "\n",
       "  }\n",
       "  if (root.Bokeh !== undefined) {\n",
       "    embed_document(root);\n",
       "  } else {\n",
       "    var attempts = 0;\n",
       "    var timer = setInterval(function(root) {\n",
       "      if (root.Bokeh !== undefined) {\n",
       "        embed_document(root);\n",
       "        clearInterval(timer);\n",
       "      }\n",
       "      attempts++;\n",
       "      if (attempts > 100) {\n",
       "        console.log(\"Bokeh: ERROR: Unable to run BokehJS code because BokehJS library is missing\")\n",
       "        clearInterval(timer);\n",
       "      }\n",
       "    }, 10, root)\n",
       "  }\n",
       "})(window);"
      ],
      "application/vnd.bokehjs_exec.v0+json": ""
     },
     "metadata": {
      "application/vnd.bokehjs_exec.v0+json": {
       "id": "8699b7a1-daf8-4e93-a43a-87cd48349e18"
      }
     },
     "output_type": "display_data"
    }
   ],
   "source": [
    "from bokeh.models import FactorRange\n",
    "\n",
    "fruits = ['Apples', 'Pears', 'Nectarines', 'Plums', 'Grapes', 'Strawberries']\n",
    "years = ['2015', '2016', '2017']\n",
    "\n",
    "data = {'fruits' : fruits,\n",
    "        '2015'   : [2, 1, 4, 3, 2, 4],\n",
    "        '2016'   : [5, 3, 3, 2, 4, 6],\n",
    "        '2017'   : [3, 2, 4, 4, 5, 3]}\n",
    "\n",
    "# this creates [ (\"Apples\", \"2015\"), (\"Apples\", \"2016\"), (\"Apples\", \"2017\"), (\"Pears\", \"2015), ... ]\n",
    "x = [ (fruit, year) for fruit in fruits for year in years ]\n",
    "counts = sum(zip(data['2015'], data['2016'], data['2017']), ()) # like an hstack\n",
    "\n",
    "source = ColumnDataSource(data=dict(x=x, counts=counts))\n",
    "\n",
    "p = figure(x_range=FactorRange(*x), plot_height=250, title=\"Fruit Counts by Year\",\n",
    "           toolbar_location=None, tools=\"\")\n",
    "\n",
    "p.vbar(x='x', top='counts', width=0.9, source=source)\n",
    "\n",
    "p.y_range.start = 0\n",
    "p.x_range.range_padding = 0.1\n",
    "p.xaxis.major_label_orientation = 1\n",
    "p.xgrid.grid_line_color = None\n",
    "\n",
    "show(p)"
   ]
  },
  {
   "cell_type": "markdown",
   "metadata": {},
   "source": [
    "https://bokeh.pydata.org/en/latest/docs/user_guide/categorical.html"
   ]
  }
 ],
 "metadata": {
  "kernelspec": {
   "display_name": "Python 3",
   "language": "python",
   "name": "python3"
  },
  "language_info": {
   "codemirror_mode": {
    "name": "ipython",
    "version": 3
   },
   "file_extension": ".py",
   "mimetype": "text/x-python",
   "name": "python",
   "nbconvert_exporter": "python",
   "pygments_lexer": "ipython3",
   "version": "3.6.8"
  }
 },
 "nbformat": 4,
 "nbformat_minor": 2
}
