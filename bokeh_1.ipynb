{
 "cells": [
  {
   "cell_type": "code",
   "execution_count": 1,
   "metadata": {},
   "outputs": [
    {
     "data": {
      "text/html": [
       "\n",
       "    <div class=\"bk-root\">\n",
       "        <a href=\"https://bokeh.pydata.org\" target=\"_blank\" class=\"bk-logo bk-logo-small bk-logo-notebook\"></a>\n",
       "        <span id=\"9c3efb9c-dd83-4d12-9286-084ad699a277\">Loading BokehJS ...</span>\n",
       "    </div>"
      ]
     },
     "metadata": {},
     "output_type": "display_data"
    },
    {
     "data": {
      "application/javascript": [
       "\n",
       "(function(root) {\n",
       "  function now() {\n",
       "    return new Date();\n",
       "  }\n",
       "\n",
       "  var force = true;\n",
       "\n",
       "  if (typeof (root._bokeh_onload_callbacks) === \"undefined\" || force === true) {\n",
       "    root._bokeh_onload_callbacks = [];\n",
       "    root._bokeh_is_loading = undefined;\n",
       "  }\n",
       "\n",
       "  var JS_MIME_TYPE = 'application/javascript';\n",
       "  var HTML_MIME_TYPE = 'text/html';\n",
       "  var EXEC_MIME_TYPE = 'application/vnd.bokehjs_exec.v0+json';\n",
       "  var CLASS_NAME = 'output_bokeh rendered_html';\n",
       "\n",
       "  /**\n",
       "   * Render data to the DOM node\n",
       "   */\n",
       "  function render(props, node) {\n",
       "    var script = document.createElement(\"script\");\n",
       "    node.appendChild(script);\n",
       "  }\n",
       "\n",
       "  /**\n",
       "   * Handle when an output is cleared or removed\n",
       "   */\n",
       "  function handleClearOutput(event, handle) {\n",
       "    var cell = handle.cell;\n",
       "\n",
       "    var id = cell.output_area._bokeh_element_id;\n",
       "    var server_id = cell.output_area._bokeh_server_id;\n",
       "    // Clean up Bokeh references\n",
       "    if (id !== undefined) {\n",
       "      Bokeh.index[id].model.document.clear();\n",
       "      delete Bokeh.index[id];\n",
       "    }\n",
       "\n",
       "    if (server_id !== undefined) {\n",
       "      // Clean up Bokeh references\n",
       "      var cmd = \"from bokeh.io.state import curstate; print(curstate().uuid_to_server['\" + server_id + \"'].get_sessions()[0].document.roots[0]._id)\";\n",
       "      cell.notebook.kernel.execute(cmd, {\n",
       "        iopub: {\n",
       "          output: function(msg) {\n",
       "            var element_id = msg.content.text.trim();\n",
       "            Bokeh.index[element_id].model.document.clear();\n",
       "            delete Bokeh.index[element_id];\n",
       "          }\n",
       "        }\n",
       "      });\n",
       "      // Destroy server and session\n",
       "      var cmd = \"import bokeh.io.notebook as ion; ion.destroy_server('\" + server_id + \"')\";\n",
       "      cell.notebook.kernel.execute(cmd);\n",
       "    }\n",
       "  }\n",
       "\n",
       "  /**\n",
       "   * Handle when a new output is added\n",
       "   */\n",
       "  function handleAddOutput(event, handle) {\n",
       "    var output_area = handle.output_area;\n",
       "    var output = handle.output;\n",
       "\n",
       "    // limit handleAddOutput to display_data with EXEC_MIME_TYPE content only\n",
       "    if ((output.output_type != \"display_data\") || (!output.data.hasOwnProperty(EXEC_MIME_TYPE))) {\n",
       "      return\n",
       "    }\n",
       "\n",
       "    var toinsert = output_area.element.find(\".\" + CLASS_NAME.split(' ')[0]);\n",
       "\n",
       "    if (output.metadata[EXEC_MIME_TYPE][\"id\"] !== undefined) {\n",
       "      toinsert[toinsert.length - 1].firstChild.textContent = output.data[JS_MIME_TYPE];\n",
       "      // store reference to embed id on output_area\n",
       "      output_area._bokeh_element_id = output.metadata[EXEC_MIME_TYPE][\"id\"];\n",
       "    }\n",
       "    if (output.metadata[EXEC_MIME_TYPE][\"server_id\"] !== undefined) {\n",
       "      var bk_div = document.createElement(\"div\");\n",
       "      bk_div.innerHTML = output.data[HTML_MIME_TYPE];\n",
       "      var script_attrs = bk_div.children[0].attributes;\n",
       "      for (var i = 0; i < script_attrs.length; i++) {\n",
       "        toinsert[toinsert.length - 1].firstChild.setAttribute(script_attrs[i].name, script_attrs[i].value);\n",
       "      }\n",
       "      // store reference to server id on output_area\n",
       "      output_area._bokeh_server_id = output.metadata[EXEC_MIME_TYPE][\"server_id\"];\n",
       "    }\n",
       "  }\n",
       "\n",
       "  function register_renderer(events, OutputArea) {\n",
       "\n",
       "    function append_mime(data, metadata, element) {\n",
       "      // create a DOM node to render to\n",
       "      var toinsert = this.create_output_subarea(\n",
       "        metadata,\n",
       "        CLASS_NAME,\n",
       "        EXEC_MIME_TYPE\n",
       "      );\n",
       "      this.keyboard_manager.register_events(toinsert);\n",
       "      // Render to node\n",
       "      var props = {data: data, metadata: metadata[EXEC_MIME_TYPE]};\n",
       "      render(props, toinsert[toinsert.length - 1]);\n",
       "      element.append(toinsert);\n",
       "      return toinsert\n",
       "    }\n",
       "\n",
       "    /* Handle when an output is cleared or removed */\n",
       "    events.on('clear_output.CodeCell', handleClearOutput);\n",
       "    events.on('delete.Cell', handleClearOutput);\n",
       "\n",
       "    /* Handle when a new output is added */\n",
       "    events.on('output_added.OutputArea', handleAddOutput);\n",
       "\n",
       "    /**\n",
       "     * Register the mime type and append_mime function with output_area\n",
       "     */\n",
       "    OutputArea.prototype.register_mime_type(EXEC_MIME_TYPE, append_mime, {\n",
       "      /* Is output safe? */\n",
       "      safe: true,\n",
       "      /* Index of renderer in `output_area.display_order` */\n",
       "      index: 0\n",
       "    });\n",
       "  }\n",
       "\n",
       "  // register the mime type if in Jupyter Notebook environment and previously unregistered\n",
       "  if (root.Jupyter !== undefined) {\n",
       "    var events = require('base/js/events');\n",
       "    var OutputArea = require('notebook/js/outputarea').OutputArea;\n",
       "\n",
       "    if (OutputArea.prototype.mime_types().indexOf(EXEC_MIME_TYPE) == -1) {\n",
       "      register_renderer(events, OutputArea);\n",
       "    }\n",
       "  }\n",
       "\n",
       "  \n",
       "  if (typeof (root._bokeh_timeout) === \"undefined\" || force === true) {\n",
       "    root._bokeh_timeout = Date.now() + 5000;\n",
       "    root._bokeh_failed_load = false;\n",
       "  }\n",
       "\n",
       "  var NB_LOAD_WARNING = {'data': {'text/html':\n",
       "     \"<div style='background-color: #fdd'>\\n\"+\n",
       "     \"<p>\\n\"+\n",
       "     \"BokehJS does not appear to have successfully loaded. If loading BokehJS from CDN, this \\n\"+\n",
       "     \"may be due to a slow or bad network connection. Possible fixes:\\n\"+\n",
       "     \"</p>\\n\"+\n",
       "     \"<ul>\\n\"+\n",
       "     \"<li>re-rerun `output_notebook()` to attempt to load from CDN again, or</li>\\n\"+\n",
       "     \"<li>use INLINE resources instead, as so:</li>\\n\"+\n",
       "     \"</ul>\\n\"+\n",
       "     \"<code>\\n\"+\n",
       "     \"from bokeh.resources import INLINE\\n\"+\n",
       "     \"output_notebook(resources=INLINE)\\n\"+\n",
       "     \"</code>\\n\"+\n",
       "     \"</div>\"}};\n",
       "\n",
       "  function display_loaded() {\n",
       "    var el = document.getElementById(\"9c3efb9c-dd83-4d12-9286-084ad699a277\");\n",
       "    if (el != null) {\n",
       "      el.textContent = \"BokehJS is loading...\";\n",
       "    }\n",
       "    if (root.Bokeh !== undefined) {\n",
       "      if (el != null) {\n",
       "        el.textContent = \"BokehJS \" + root.Bokeh.version + \" successfully loaded.\";\n",
       "      }\n",
       "    } else if (Date.now() < root._bokeh_timeout) {\n",
       "      setTimeout(display_loaded, 100)\n",
       "    }\n",
       "  }\n",
       "\n",
       "\n",
       "  function run_callbacks() {\n",
       "    try {\n",
       "      root._bokeh_onload_callbacks.forEach(function(callback) { callback() });\n",
       "    }\n",
       "    finally {\n",
       "      delete root._bokeh_onload_callbacks\n",
       "    }\n",
       "    console.info(\"Bokeh: all callbacks have finished\");\n",
       "  }\n",
       "\n",
       "  function load_libs(js_urls, callback) {\n",
       "    root._bokeh_onload_callbacks.push(callback);\n",
       "    if (root._bokeh_is_loading > 0) {\n",
       "      console.log(\"Bokeh: BokehJS is being loaded, scheduling callback at\", now());\n",
       "      return null;\n",
       "    }\n",
       "    if (js_urls == null || js_urls.length === 0) {\n",
       "      run_callbacks();\n",
       "      return null;\n",
       "    }\n",
       "    console.log(\"Bokeh: BokehJS not loaded, scheduling load and callback at\", now());\n",
       "    root._bokeh_is_loading = js_urls.length;\n",
       "    for (var i = 0; i < js_urls.length; i++) {\n",
       "      var url = js_urls[i];\n",
       "      var s = document.createElement('script');\n",
       "      s.src = url;\n",
       "      s.async = false;\n",
       "      s.onreadystatechange = s.onload = function() {\n",
       "        root._bokeh_is_loading--;\n",
       "        if (root._bokeh_is_loading === 0) {\n",
       "          console.log(\"Bokeh: all BokehJS libraries loaded\");\n",
       "          run_callbacks()\n",
       "        }\n",
       "      };\n",
       "      s.onerror = function() {\n",
       "        console.warn(\"failed to load library \" + url);\n",
       "      };\n",
       "      console.log(\"Bokeh: injecting script tag for BokehJS library: \", url);\n",
       "      document.getElementsByTagName(\"head\")[0].appendChild(s);\n",
       "    }\n",
       "  };var element = document.getElementById(\"9c3efb9c-dd83-4d12-9286-084ad699a277\");\n",
       "  if (element == null) {\n",
       "    console.log(\"Bokeh: ERROR: autoload.js configured with elementid '9c3efb9c-dd83-4d12-9286-084ad699a277' but no matching script tag was found. \")\n",
       "    return false;\n",
       "  }\n",
       "\n",
       "  var js_urls = [\"https://cdn.pydata.org/bokeh/release/bokeh-0.12.16.min.js\", \"https://cdn.pydata.org/bokeh/release/bokeh-widgets-0.12.16.min.js\", \"https://cdn.pydata.org/bokeh/release/bokeh-tables-0.12.16.min.js\", \"https://cdn.pydata.org/bokeh/release/bokeh-gl-0.12.16.min.js\"];\n",
       "\n",
       "  var inline_js = [\n",
       "    function(Bokeh) {\n",
       "      Bokeh.set_log_level(\"info\");\n",
       "    },\n",
       "    \n",
       "    function(Bokeh) {\n",
       "      \n",
       "    },\n",
       "    function(Bokeh) {\n",
       "      console.log(\"Bokeh: injecting CSS: https://cdn.pydata.org/bokeh/release/bokeh-0.12.16.min.css\");\n",
       "      Bokeh.embed.inject_css(\"https://cdn.pydata.org/bokeh/release/bokeh-0.12.16.min.css\");\n",
       "      console.log(\"Bokeh: injecting CSS: https://cdn.pydata.org/bokeh/release/bokeh-widgets-0.12.16.min.css\");\n",
       "      Bokeh.embed.inject_css(\"https://cdn.pydata.org/bokeh/release/bokeh-widgets-0.12.16.min.css\");\n",
       "      console.log(\"Bokeh: injecting CSS: https://cdn.pydata.org/bokeh/release/bokeh-tables-0.12.16.min.css\");\n",
       "      Bokeh.embed.inject_css(\"https://cdn.pydata.org/bokeh/release/bokeh-tables-0.12.16.min.css\");\n",
       "    }\n",
       "  ];\n",
       "\n",
       "  function run_inline_js() {\n",
       "    \n",
       "    if ((root.Bokeh !== undefined) || (force === true)) {\n",
       "      for (var i = 0; i < inline_js.length; i++) {\n",
       "        inline_js[i].call(root, root.Bokeh);\n",
       "      }if (force === true) {\n",
       "        display_loaded();\n",
       "      }} else if (Date.now() < root._bokeh_timeout) {\n",
       "      setTimeout(run_inline_js, 100);\n",
       "    } else if (!root._bokeh_failed_load) {\n",
       "      console.log(\"Bokeh: BokehJS failed to load within specified timeout.\");\n",
       "      root._bokeh_failed_load = true;\n",
       "    } else if (force !== true) {\n",
       "      var cell = $(document.getElementById(\"9c3efb9c-dd83-4d12-9286-084ad699a277\")).parents('.cell').data().cell;\n",
       "      cell.output_area.append_execute_result(NB_LOAD_WARNING)\n",
       "    }\n",
       "\n",
       "  }\n",
       "\n",
       "  if (root._bokeh_is_loading === 0) {\n",
       "    console.log(\"Bokeh: BokehJS loaded, going straight to plotting\");\n",
       "    run_inline_js();\n",
       "  } else {\n",
       "    load_libs(js_urls, function() {\n",
       "      console.log(\"Bokeh: BokehJS plotting callback run at\", now());\n",
       "      run_inline_js();\n",
       "    });\n",
       "  }\n",
       "}(window));"
      ],
      "application/vnd.bokehjs_load.v0+json": "\n(function(root) {\n  function now() {\n    return new Date();\n  }\n\n  var force = true;\n\n  if (typeof (root._bokeh_onload_callbacks) === \"undefined\" || force === true) {\n    root._bokeh_onload_callbacks = [];\n    root._bokeh_is_loading = undefined;\n  }\n\n  \n\n  \n  if (typeof (root._bokeh_timeout) === \"undefined\" || force === true) {\n    root._bokeh_timeout = Date.now() + 5000;\n    root._bokeh_failed_load = false;\n  }\n\n  var NB_LOAD_WARNING = {'data': {'text/html':\n     \"<div style='background-color: #fdd'>\\n\"+\n     \"<p>\\n\"+\n     \"BokehJS does not appear to have successfully loaded. If loading BokehJS from CDN, this \\n\"+\n     \"may be due to a slow or bad network connection. Possible fixes:\\n\"+\n     \"</p>\\n\"+\n     \"<ul>\\n\"+\n     \"<li>re-rerun `output_notebook()` to attempt to load from CDN again, or</li>\\n\"+\n     \"<li>use INLINE resources instead, as so:</li>\\n\"+\n     \"</ul>\\n\"+\n     \"<code>\\n\"+\n     \"from bokeh.resources import INLINE\\n\"+\n     \"output_notebook(resources=INLINE)\\n\"+\n     \"</code>\\n\"+\n     \"</div>\"}};\n\n  function display_loaded() {\n    var el = document.getElementById(\"9c3efb9c-dd83-4d12-9286-084ad699a277\");\n    if (el != null) {\n      el.textContent = \"BokehJS is loading...\";\n    }\n    if (root.Bokeh !== undefined) {\n      if (el != null) {\n        el.textContent = \"BokehJS \" + root.Bokeh.version + \" successfully loaded.\";\n      }\n    } else if (Date.now() < root._bokeh_timeout) {\n      setTimeout(display_loaded, 100)\n    }\n  }\n\n\n  function run_callbacks() {\n    try {\n      root._bokeh_onload_callbacks.forEach(function(callback) { callback() });\n    }\n    finally {\n      delete root._bokeh_onload_callbacks\n    }\n    console.info(\"Bokeh: all callbacks have finished\");\n  }\n\n  function load_libs(js_urls, callback) {\n    root._bokeh_onload_callbacks.push(callback);\n    if (root._bokeh_is_loading > 0) {\n      console.log(\"Bokeh: BokehJS is being loaded, scheduling callback at\", now());\n      return null;\n    }\n    if (js_urls == null || js_urls.length === 0) {\n      run_callbacks();\n      return null;\n    }\n    console.log(\"Bokeh: BokehJS not loaded, scheduling load and callback at\", now());\n    root._bokeh_is_loading = js_urls.length;\n    for (var i = 0; i < js_urls.length; i++) {\n      var url = js_urls[i];\n      var s = document.createElement('script');\n      s.src = url;\n      s.async = false;\n      s.onreadystatechange = s.onload = function() {\n        root._bokeh_is_loading--;\n        if (root._bokeh_is_loading === 0) {\n          console.log(\"Bokeh: all BokehJS libraries loaded\");\n          run_callbacks()\n        }\n      };\n      s.onerror = function() {\n        console.warn(\"failed to load library \" + url);\n      };\n      console.log(\"Bokeh: injecting script tag for BokehJS library: \", url);\n      document.getElementsByTagName(\"head\")[0].appendChild(s);\n    }\n  };var element = document.getElementById(\"9c3efb9c-dd83-4d12-9286-084ad699a277\");\n  if (element == null) {\n    console.log(\"Bokeh: ERROR: autoload.js configured with elementid '9c3efb9c-dd83-4d12-9286-084ad699a277' but no matching script tag was found. \")\n    return false;\n  }\n\n  var js_urls = [\"https://cdn.pydata.org/bokeh/release/bokeh-0.12.16.min.js\", \"https://cdn.pydata.org/bokeh/release/bokeh-widgets-0.12.16.min.js\", \"https://cdn.pydata.org/bokeh/release/bokeh-tables-0.12.16.min.js\", \"https://cdn.pydata.org/bokeh/release/bokeh-gl-0.12.16.min.js\"];\n\n  var inline_js = [\n    function(Bokeh) {\n      Bokeh.set_log_level(\"info\");\n    },\n    \n    function(Bokeh) {\n      \n    },\n    function(Bokeh) {\n      console.log(\"Bokeh: injecting CSS: https://cdn.pydata.org/bokeh/release/bokeh-0.12.16.min.css\");\n      Bokeh.embed.inject_css(\"https://cdn.pydata.org/bokeh/release/bokeh-0.12.16.min.css\");\n      console.log(\"Bokeh: injecting CSS: https://cdn.pydata.org/bokeh/release/bokeh-widgets-0.12.16.min.css\");\n      Bokeh.embed.inject_css(\"https://cdn.pydata.org/bokeh/release/bokeh-widgets-0.12.16.min.css\");\n      console.log(\"Bokeh: injecting CSS: https://cdn.pydata.org/bokeh/release/bokeh-tables-0.12.16.min.css\");\n      Bokeh.embed.inject_css(\"https://cdn.pydata.org/bokeh/release/bokeh-tables-0.12.16.min.css\");\n    }\n  ];\n\n  function run_inline_js() {\n    \n    if ((root.Bokeh !== undefined) || (force === true)) {\n      for (var i = 0; i < inline_js.length; i++) {\n        inline_js[i].call(root, root.Bokeh);\n      }if (force === true) {\n        display_loaded();\n      }} else if (Date.now() < root._bokeh_timeout) {\n      setTimeout(run_inline_js, 100);\n    } else if (!root._bokeh_failed_load) {\n      console.log(\"Bokeh: BokehJS failed to load within specified timeout.\");\n      root._bokeh_failed_load = true;\n    } else if (force !== true) {\n      var cell = $(document.getElementById(\"9c3efb9c-dd83-4d12-9286-084ad699a277\")).parents('.cell').data().cell;\n      cell.output_area.append_execute_result(NB_LOAD_WARNING)\n    }\n\n  }\n\n  if (root._bokeh_is_loading === 0) {\n    console.log(\"Bokeh: BokehJS loaded, going straight to plotting\");\n    run_inline_js();\n  } else {\n    load_libs(js_urls, function() {\n      console.log(\"Bokeh: BokehJS plotting callback run at\", now());\n      run_inline_js();\n    });\n  }\n}(window));"
     },
     "metadata": {},
     "output_type": "display_data"
    }
   ],
   "source": [
    "from bokeh.io import output_notebook, show #,output_file \n",
    "output_notebook()\n",
    "import numpy as np\n",
    "from bokeh.plotting import figure"
   ]
  },
  {
   "cell_type": "code",
   "execution_count": 2,
   "metadata": {},
   "outputs": [],
   "source": [
    "# create values for plotting data\n",
    "x = np.arange(0,10,0.5)\n",
    "#sin values of x\n",
    "y=np.sin(x)"
   ]
  },
  {
   "cell_type": "code",
   "execution_count": 3,
   "metadata": {},
   "outputs": [
    {
     "data": {
      "text/html": [
       "\n",
       "<div class=\"bk-root\">\n",
       "    <div class=\"bk-plotdiv\" id=\"dd8b553a-224d-4d48-a191-ed652e676eea\"></div>\n",
       "</div>"
      ]
     },
     "metadata": {},
     "output_type": "display_data"
    },
    {
     "data": {
      "application/javascript": [
       "(function(root) {\n",
       "  function embed_document(root) {\n",
       "    \n",
       "  var docs_json = {\"0eabefa4-118c-432e-835e-95005f713eee\":{\"roots\":{\"references\":[{\"attributes\":{\"line_color\":\"#1f77b4\",\"x\":{\"field\":\"x\"},\"y\":{\"field\":\"y\"}},\"id\":\"21d4f72c-1f26-45a8-aea1-df6e6e4444c2\",\"type\":\"Line\"},{\"attributes\":{\"plot\":{\"id\":\"e306e737-575c-4f68-9eb1-f336d40c33ad\",\"subtype\":\"Figure\",\"type\":\"Plot\"},\"ticker\":{\"id\":\"e230bac5-0201-4c7a-9c2c-f399d1491a58\",\"type\":\"BasicTicker\"}},\"id\":\"50d9be4e-5d91-4084-8a9d-1f451680e917\",\"type\":\"Grid\"},{\"attributes\":{\"axis_label\":\"sin(number)\",\"formatter\":{\"id\":\"e306c339-6ecf-4bc2-9037-22334016fda3\",\"type\":\"BasicTickFormatter\"},\"plot\":{\"id\":\"e306e737-575c-4f68-9eb1-f336d40c33ad\",\"subtype\":\"Figure\",\"type\":\"Plot\"},\"ticker\":{\"id\":\"fe414953-984a-4317-b7a0-8fc81e53ca99\",\"type\":\"BasicTicker\"}},\"id\":\"df1ca278-4ca5-4b01-8a65-c0cb5a3a45d2\",\"type\":\"LinearAxis\"},{\"attributes\":{},\"id\":\"fe414953-984a-4317-b7a0-8fc81e53ca99\",\"type\":\"BasicTicker\"},{\"attributes\":{\"dimension\":1,\"plot\":{\"id\":\"e306e737-575c-4f68-9eb1-f336d40c33ad\",\"subtype\":\"Figure\",\"type\":\"Plot\"},\"ticker\":{\"id\":\"fe414953-984a-4317-b7a0-8fc81e53ca99\",\"type\":\"BasicTicker\"}},\"id\":\"bad1434f-e122-431d-9dd6-8db83d5fa827\",\"type\":\"Grid\"},{\"attributes\":{},\"id\":\"e306c339-6ecf-4bc2-9037-22334016fda3\",\"type\":\"BasicTickFormatter\"},{\"attributes\":{\"bottom_units\":\"screen\",\"fill_alpha\":{\"value\":0.5},\"fill_color\":{\"value\":\"lightgrey\"},\"left_units\":\"screen\",\"level\":\"overlay\",\"line_alpha\":{\"value\":1.0},\"line_color\":{\"value\":\"black\"},\"line_dash\":[4,4],\"line_width\":{\"value\":2},\"plot\":null,\"render_mode\":\"css\",\"right_units\":\"screen\",\"top_units\":\"screen\"},\"id\":\"fed77e6f-f868-46ab-bb7a-a01f0d67149b\",\"type\":\"BoxAnnotation\"},{\"attributes\":{\"source\":{\"id\":\"1de37a36-86f8-4e65-8765-75ce83ada3ae\",\"type\":\"ColumnDataSource\"}},\"id\":\"af8ac5b5-6118-435d-ae8c-e032539de508\",\"type\":\"CDSView\"},{\"attributes\":{\"data_source\":{\"id\":\"1de37a36-86f8-4e65-8765-75ce83ada3ae\",\"type\":\"ColumnDataSource\"},\"glyph\":{\"id\":\"21d4f72c-1f26-45a8-aea1-df6e6e4444c2\",\"type\":\"Line\"},\"hover_glyph\":null,\"muted_glyph\":null,\"nonselection_glyph\":{\"id\":\"159317b5-e827-449d-adc2-ea4473881d73\",\"type\":\"Line\"},\"selection_glyph\":null,\"view\":{\"id\":\"af8ac5b5-6118-435d-ae8c-e032539de508\",\"type\":\"CDSView\"}},\"id\":\"22ccda01-72f0-456d-b083-b33ce0c11e27\",\"type\":\"GlyphRenderer\"},{\"attributes\":{},\"id\":\"27c650e2-67db-4d05-a1d7-314fa8edc81d\",\"type\":\"BasicTickFormatter\"},{\"attributes\":{\"below\":[{\"id\":\"92132048-e8ca-40f8-ac2c-f6585b714d97\",\"type\":\"LinearAxis\"}],\"left\":[{\"id\":\"df1ca278-4ca5-4b01-8a65-c0cb5a3a45d2\",\"type\":\"LinearAxis\"}],\"plot_height\":500,\"plot_width\":500,\"renderers\":[{\"id\":\"92132048-e8ca-40f8-ac2c-f6585b714d97\",\"type\":\"LinearAxis\"},{\"id\":\"50d9be4e-5d91-4084-8a9d-1f451680e917\",\"type\":\"Grid\"},{\"id\":\"df1ca278-4ca5-4b01-8a65-c0cb5a3a45d2\",\"type\":\"LinearAxis\"},{\"id\":\"bad1434f-e122-431d-9dd6-8db83d5fa827\",\"type\":\"Grid\"},{\"id\":\"fed77e6f-f868-46ab-bb7a-a01f0d67149b\",\"type\":\"BoxAnnotation\"},{\"id\":\"22ccda01-72f0-456d-b083-b33ce0c11e27\",\"type\":\"GlyphRenderer\"}],\"title\":{\"id\":\"8f8ceda8-9461-4f77-b5a1-8e2aef9b2f64\",\"type\":\"Title\"},\"toolbar\":{\"id\":\"2370cc82-1efb-4907-a1e2-020e72c6fd41\",\"type\":\"Toolbar\"},\"x_range\":{\"id\":\"37938a90-be96-43fc-b100-73b64795335b\",\"type\":\"DataRange1d\"},\"x_scale\":{\"id\":\"e4433837-8733-45cb-a27e-6e58b937fcdc\",\"type\":\"LinearScale\"},\"y_range\":{\"id\":\"ad59a006-b978-41ff-a43f-63d2ec43585b\",\"type\":\"DataRange1d\"},\"y_scale\":{\"id\":\"299b9275-e14d-4b20-b239-7eca575a6007\",\"type\":\"LinearScale\"}},\"id\":\"e306e737-575c-4f68-9eb1-f336d40c33ad\",\"subtype\":\"Figure\",\"type\":\"Plot\"},{\"attributes\":{},\"id\":\"47c05484-899c-4293-b790-c3e0a8a60b94\",\"type\":\"PanTool\"},{\"attributes\":{\"callback\":null,\"data\":{\"x\":{\"__ndarray__\":\"AAAAAAAAAAAAAAAAAADgPwAAAAAAAPA/AAAAAAAA+D8AAAAAAAAAQAAAAAAAAARAAAAAAAAACEAAAAAAAAAMQAAAAAAAABBAAAAAAAAAEkAAAAAAAAAUQAAAAAAAABZAAAAAAAAAGEAAAAAAAAAaQAAAAAAAABxAAAAAAAAAHkAAAAAAAAAgQAAAAAAAACFAAAAAAAAAIkAAAAAAAAAjQA==\",\"dtype\":\"float64\",\"shape\":[20]},\"y\":{\"__ndarray__\":\"AAAAAAAAAADwBUt06K7eP+4MCY9U7eo/i20sm3rr7z9GtNHq9hjtP7DKzw2vJuM/W9W2bTgQwj8fYrp+O3PWv64e3N25N+i/gEDHPe1H778zmeD1ga/uv1ewCk7Jk+a/wKKwivHh0b88y8ZADYnLPwgKbcIIBuU/MK78hhgE7j97zyig0qjvP/zZX9g0jek/kS8MNiZg2j97J6SUGj2zvw==\",\"dtype\":\"float64\",\"shape\":[20]}},\"selected\":{\"id\":\"0de8a1a2-442b-402c-9370-c43f22c2db25\",\"type\":\"Selection\"},\"selection_policy\":{\"id\":\"50cf64b1-8502-4fa3-a1b3-90b4de337016\",\"type\":\"UnionRenderers\"}},\"id\":\"1de37a36-86f8-4e65-8765-75ce83ada3ae\",\"type\":\"ColumnDataSource\"},{\"attributes\":{},\"id\":\"50cf64b1-8502-4fa3-a1b3-90b4de337016\",\"type\":\"UnionRenderers\"},{\"attributes\":{\"callback\":null},\"id\":\"ad59a006-b978-41ff-a43f-63d2ec43585b\",\"type\":\"DataRange1d\"},{\"attributes\":{},\"id\":\"bb19f61a-d1da-41bb-b5ce-1dad0d7fa4d9\",\"type\":\"WheelZoomTool\"},{\"attributes\":{\"plot\":null,\"text\":\"Sin Plot\"},\"id\":\"8f8ceda8-9461-4f77-b5a1-8e2aef9b2f64\",\"type\":\"Title\"},{\"attributes\":{\"overlay\":{\"id\":\"fed77e6f-f868-46ab-bb7a-a01f0d67149b\",\"type\":\"BoxAnnotation\"}},\"id\":\"58302d4e-33cb-450f-96db-dec5d9dd17bc\",\"type\":\"BoxZoomTool\"},{\"attributes\":{},\"id\":\"e4433837-8733-45cb-a27e-6e58b937fcdc\",\"type\":\"LinearScale\"},{\"attributes\":{},\"id\":\"3f7ae027-1480-45e3-b909-fa89b50a2a08\",\"type\":\"SaveTool\"},{\"attributes\":{\"line_alpha\":0.1,\"line_color\":\"#1f77b4\",\"x\":{\"field\":\"x\"},\"y\":{\"field\":\"y\"}},\"id\":\"159317b5-e827-449d-adc2-ea4473881d73\",\"type\":\"Line\"},{\"attributes\":{},\"id\":\"b7b6f1f2-f8e0-47f1-bbf1-fb047ebaf03b\",\"type\":\"ResetTool\"},{\"attributes\":{},\"id\":\"e230bac5-0201-4c7a-9c2c-f399d1491a58\",\"type\":\"BasicTicker\"},{\"attributes\":{},\"id\":\"0de8a1a2-442b-402c-9370-c43f22c2db25\",\"type\":\"Selection\"},{\"attributes\":{},\"id\":\"18d8ec06-700d-4462-8ccd-f100906da194\",\"type\":\"HelpTool\"},{\"attributes\":{\"active_drag\":\"auto\",\"active_inspect\":\"auto\",\"active_scroll\":\"auto\",\"active_tap\":\"auto\",\"tools\":[{\"id\":\"47c05484-899c-4293-b790-c3e0a8a60b94\",\"type\":\"PanTool\"},{\"id\":\"bb19f61a-d1da-41bb-b5ce-1dad0d7fa4d9\",\"type\":\"WheelZoomTool\"},{\"id\":\"58302d4e-33cb-450f-96db-dec5d9dd17bc\",\"type\":\"BoxZoomTool\"},{\"id\":\"3f7ae027-1480-45e3-b909-fa89b50a2a08\",\"type\":\"SaveTool\"},{\"id\":\"b7b6f1f2-f8e0-47f1-bbf1-fb047ebaf03b\",\"type\":\"ResetTool\"},{\"id\":\"18d8ec06-700d-4462-8ccd-f100906da194\",\"type\":\"HelpTool\"}]},\"id\":\"2370cc82-1efb-4907-a1e2-020e72c6fd41\",\"type\":\"Toolbar\"},{\"attributes\":{\"axis_label\":\"number\",\"formatter\":{\"id\":\"27c650e2-67db-4d05-a1d7-314fa8edc81d\",\"type\":\"BasicTickFormatter\"},\"plot\":{\"id\":\"e306e737-575c-4f68-9eb1-f336d40c33ad\",\"subtype\":\"Figure\",\"type\":\"Plot\"},\"ticker\":{\"id\":\"e230bac5-0201-4c7a-9c2c-f399d1491a58\",\"type\":\"BasicTicker\"}},\"id\":\"92132048-e8ca-40f8-ac2c-f6585b714d97\",\"type\":\"LinearAxis\"},{\"attributes\":{},\"id\":\"299b9275-e14d-4b20-b239-7eca575a6007\",\"type\":\"LinearScale\"},{\"attributes\":{\"callback\":null},\"id\":\"37938a90-be96-43fc-b100-73b64795335b\",\"type\":\"DataRange1d\"}],\"root_ids\":[\"e306e737-575c-4f68-9eb1-f336d40c33ad\"]},\"title\":\"Bokeh Application\",\"version\":\"0.12.16\"}};\n",
       "  var render_items = [{\"docid\":\"0eabefa4-118c-432e-835e-95005f713eee\",\"elementid\":\"dd8b553a-224d-4d48-a191-ed652e676eea\",\"modelid\":\"e306e737-575c-4f68-9eb1-f336d40c33ad\"}];\n",
       "  root.Bokeh.embed.embed_items_notebook(docs_json, render_items);\n",
       "\n",
       "  }\n",
       "  if (root.Bokeh !== undefined) {\n",
       "    embed_document(root);\n",
       "  } else {\n",
       "    var attempts = 0;\n",
       "    var timer = setInterval(function(root) {\n",
       "      if (root.Bokeh !== undefined) {\n",
       "        embed_document(root);\n",
       "        clearInterval(timer);\n",
       "      }\n",
       "      attempts++;\n",
       "      if (attempts > 100) {\n",
       "        console.log(\"Bokeh: ERROR: Unable to run BokehJS code because BokehJS library is missing\")\n",
       "        clearInterval(timer);\n",
       "      }\n",
       "    }, 10, root)\n",
       "  }\n",
       "})(window);"
      ],
      "application/vnd.bokehjs_exec.v0+json": ""
     },
     "metadata": {
      "application/vnd.bokehjs_exec.v0+json": {
       "id": "e306e737-575c-4f68-9eb1-f336d40c33ad"
      }
     },
     "output_type": "display_data"
    }
   ],
   "source": [
    "# create empty figure having axis labels \n",
    "# having axis label with title of plot and height and width of 500\n",
    "p = figure(x_axis_label='number',y_axis_label='sin(number)',title=\"Sin Plot\", plot_width=500, plot_height=500)\n",
    "# line is a glyph lets talk a little later for now you can see that it creates line plot\n",
    "p.line(x,y)\n",
    "# show will show rendered plot\n",
    "show(p)"
   ]
  },
  {
   "cell_type": "markdown",
   "metadata": {},
   "source": [
    "Glpyhs\n",
    "\n",
    "asterisk()\n",
    "circle()\n",
    "circle_cross()\n",
    "circle_x()\n",
    "cross()\n",
    "diamond()\n",
    "diamond_cross()\n",
    "inverted_triangle()\n",
    "square()\n",
    "square_cross()\n",
    "square_x()\n",
    "triangle()\n",
    "x()\n"
   ]
  },
  {
   "cell_type": "code",
   "execution_count": 4,
   "metadata": {},
   "outputs": [],
   "source": [
    "import pandas as pd \n",
    "from sklearn.datasets import load_iris # iris dataset"
   ]
  },
  {
   "cell_type": "code",
   "execution_count": 5,
   "metadata": {},
   "outputs": [],
   "source": [
    "iris = load_iris()\n",
    "data = iris.data\n",
    "column_names = iris.feature_names\n",
    "#Creating dataframe out of data and features\n",
    "#convert target name from numeric to names\n",
    "df = pd.DataFrame(data,columns=column_names)\n",
    "df = df.assign(target=iris.target)\n",
    "df.target = df.target.apply(lambda x: iris.target_names[x])"
   ]
  },
  {
   "cell_type": "code",
   "execution_count": 6,
   "metadata": {},
   "outputs": [
    {
     "data": {
      "text/html": [
       "<div>\n",
       "<style scoped>\n",
       "    .dataframe tbody tr th:only-of-type {\n",
       "        vertical-align: middle;\n",
       "    }\n",
       "\n",
       "    .dataframe tbody tr th {\n",
       "        vertical-align: top;\n",
       "    }\n",
       "\n",
       "    .dataframe thead th {\n",
       "        text-align: right;\n",
       "    }\n",
       "</style>\n",
       "<table border=\"1\" class=\"dataframe\">\n",
       "  <thead>\n",
       "    <tr style=\"text-align: right;\">\n",
       "      <th></th>\n",
       "      <th>sepal length (cm)</th>\n",
       "      <th>sepal width (cm)</th>\n",
       "      <th>petal length (cm)</th>\n",
       "      <th>petal width (cm)</th>\n",
       "      <th>target</th>\n",
       "    </tr>\n",
       "  </thead>\n",
       "  <tbody>\n",
       "    <tr>\n",
       "      <th>0</th>\n",
       "      <td>5.1</td>\n",
       "      <td>3.5</td>\n",
       "      <td>1.4</td>\n",
       "      <td>0.2</td>\n",
       "      <td>setosa</td>\n",
       "    </tr>\n",
       "    <tr>\n",
       "      <th>1</th>\n",
       "      <td>4.9</td>\n",
       "      <td>3.0</td>\n",
       "      <td>1.4</td>\n",
       "      <td>0.2</td>\n",
       "      <td>setosa</td>\n",
       "    </tr>\n",
       "    <tr>\n",
       "      <th>2</th>\n",
       "      <td>4.7</td>\n",
       "      <td>3.2</td>\n",
       "      <td>1.3</td>\n",
       "      <td>0.2</td>\n",
       "      <td>setosa</td>\n",
       "    </tr>\n",
       "    <tr>\n",
       "      <th>3</th>\n",
       "      <td>4.6</td>\n",
       "      <td>3.1</td>\n",
       "      <td>1.5</td>\n",
       "      <td>0.2</td>\n",
       "      <td>setosa</td>\n",
       "    </tr>\n",
       "    <tr>\n",
       "      <th>4</th>\n",
       "      <td>5.0</td>\n",
       "      <td>3.6</td>\n",
       "      <td>1.4</td>\n",
       "      <td>0.2</td>\n",
       "      <td>setosa</td>\n",
       "    </tr>\n",
       "  </tbody>\n",
       "</table>\n",
       "</div>"
      ],
      "text/plain": [
       "   sepal length (cm)  sepal width (cm)  petal length (cm)  petal width (cm)  \\\n",
       "0                5.1               3.5                1.4               0.2   \n",
       "1                4.9               3.0                1.4               0.2   \n",
       "2                4.7               3.2                1.3               0.2   \n",
       "3                4.6               3.1                1.5               0.2   \n",
       "4                5.0               3.6                1.4               0.2   \n",
       "\n",
       "   target  \n",
       "0  setosa  \n",
       "1  setosa  \n",
       "2  setosa  \n",
       "3  setosa  \n",
       "4  setosa  "
      ]
     },
     "execution_count": 6,
     "metadata": {},
     "output_type": "execute_result"
    }
   ],
   "source": [
    "df.head()"
   ]
  },
  {
   "cell_type": "markdown",
   "metadata": {},
   "source": [
    "# ColumnDataSource"
   ]
  },
  {
   "cell_type": "markdown",
   "metadata": {},
   "source": [
    "ColumnDataSource is the core of most Bokeh plots, providing the data that is visualized by the glyphs of the plot.One of best feature of ColumnDataSource is that it makes it easy to have multiple plots share same data.\n",
    "\n",
    "ColumnDataSource takes dataframe or groupby as parameter"
   ]
  },
  {
   "cell_type": "code",
   "execution_count": 6,
   "metadata": {},
   "outputs": [],
   "source": [
    "from bokeh.models import ColumnDataSource"
   ]
  },
  {
   "cell_type": "code",
   "execution_count": 7,
   "metadata": {},
   "outputs": [
    {
     "data": {
      "text/html": [
       "\n",
       "<div class=\"bk-root\">\n",
       "    <div class=\"bk-plotdiv\" id=\"9c85c347-f827-43aa-89d7-6e413aeaec4b\"></div>\n",
       "</div>"
      ]
     },
     "metadata": {},
     "output_type": "display_data"
    },
    {
     "data": {
      "application/javascript": [
       "(function(root) {\n",
       "  function embed_document(root) {\n",
       "    \n",
       "  var docs_json = {\"330b992c-81d0-434d-b976-97c459b41b7c\":{\"roots\":{\"references\":[{\"attributes\":{\"below\":[{\"id\":\"7715abae-5737-4969-9442-f35cee8cf18f\",\"type\":\"LinearAxis\"}],\"left\":[{\"id\":\"1035580b-b128-4e89-9d62-c1dc84cc9e71\",\"type\":\"LinearAxis\"}],\"renderers\":[{\"id\":\"7715abae-5737-4969-9442-f35cee8cf18f\",\"type\":\"LinearAxis\"},{\"id\":\"fbabd32a-813e-439f-b0f8-3b6ec23c2e74\",\"type\":\"Grid\"},{\"id\":\"1035580b-b128-4e89-9d62-c1dc84cc9e71\",\"type\":\"LinearAxis\"},{\"id\":\"01fffdac-4885-4c20-8159-f2449dd2aabf\",\"type\":\"Grid\"},{\"id\":\"beab2067-8e5d-47a5-a871-a2c7da5c0638\",\"type\":\"BoxAnnotation\"},{\"id\":\"35aa8a0b-4201-47ff-a96a-817f16017545\",\"type\":\"GlyphRenderer\"}],\"title\":{\"id\":\"60996a48-18fd-42ae-a012-98a21d90604d\",\"type\":\"Title\"},\"toolbar\":{\"id\":\"4303a274-404f-4739-8505-1154683f1cf9\",\"type\":\"Toolbar\"},\"x_range\":{\"id\":\"45d1bc2f-64aa-411e-a2d9-1e583bd46000\",\"type\":\"DataRange1d\"},\"x_scale\":{\"id\":\"377a6c75-1a8d-4e97-b545-a5fe4c360471\",\"type\":\"LinearScale\"},\"y_range\":{\"id\":\"886b954a-2312-46bd-bccb-696fe141e9e5\",\"type\":\"DataRange1d\"},\"y_scale\":{\"id\":\"06816a30-bf1e-4546-8735-95ed67bb9297\",\"type\":\"LinearScale\"}},\"id\":\"27516079-06f7-44af-b13a-0d9b8f65fd31\",\"subtype\":\"Figure\",\"type\":\"Plot\"},{\"attributes\":{},\"id\":\"92b4648c-105b-428d-9247-9f8f7fae0ef1\",\"type\":\"WheelZoomTool\"},{\"attributes\":{\"axis_label\":\"sepal length (cm)\",\"formatter\":{\"id\":\"18ea71e8-5022-4e66-a8a3-893ca0ebb570\",\"type\":\"BasicTickFormatter\"},\"plot\":{\"id\":\"27516079-06f7-44af-b13a-0d9b8f65fd31\",\"subtype\":\"Figure\",\"type\":\"Plot\"},\"ticker\":{\"id\":\"dc87cd6d-38ed-4db3-a8b9-1f0abf873335\",\"type\":\"BasicTicker\"}},\"id\":\"7715abae-5737-4969-9442-f35cee8cf18f\",\"type\":\"LinearAxis\"},{\"attributes\":{\"overlay\":{\"id\":\"beab2067-8e5d-47a5-a871-a2c7da5c0638\",\"type\":\"BoxAnnotation\"}},\"id\":\"2352360b-1899-4f43-8dbe-da91be061fa0\",\"type\":\"BoxZoomTool\"},{\"attributes\":{},\"id\":\"947f6da6-f410-48ef-abe8-835d12e02a82\",\"type\":\"SaveTool\"},{\"attributes\":{\"active_drag\":\"auto\",\"active_inspect\":\"auto\",\"active_scroll\":\"auto\",\"active_tap\":\"auto\",\"tools\":[{\"id\":\"0d62c738-0f53-49ff-9670-74d682bbdc7d\",\"type\":\"PanTool\"},{\"id\":\"92b4648c-105b-428d-9247-9f8f7fae0ef1\",\"type\":\"WheelZoomTool\"},{\"id\":\"2352360b-1899-4f43-8dbe-da91be061fa0\",\"type\":\"BoxZoomTool\"},{\"id\":\"947f6da6-f410-48ef-abe8-835d12e02a82\",\"type\":\"SaveTool\"},{\"id\":\"a6b78b69-9945-4d4d-8097-a8ebfc907995\",\"type\":\"ResetTool\"},{\"id\":\"0a8d4314-581d-428e-8b71-d9f760825ccc\",\"type\":\"HelpTool\"}]},\"id\":\"4303a274-404f-4739-8505-1154683f1cf9\",\"type\":\"Toolbar\"},{\"attributes\":{},\"id\":\"a6b78b69-9945-4d4d-8097-a8ebfc907995\",\"type\":\"ResetTool\"},{\"attributes\":{\"callback\":null,\"data\":{\"index\":[0,1,2,3,4,5,6,7,8,9,10,11,12,13,14,15,16,17,18,19,20,21,22,23,24,25,26,27,28,29,30,31,32,33,34,35,36,37,38,39,40,41,42,43,44,45,46,47,48,49,50,51,52,53,54,55,56,57,58,59,60,61,62,63,64,65,66,67,68,69,70,71,72,73,74,75,76,77,78,79,80,81,82,83,84,85,86,87,88,89,90,91,92,93,94,95,96,97,98,99,100,101,102,103,104,105,106,107,108,109,110,111,112,113,114,115,116,117,118,119,120,121,122,123,124,125,126,127,128,129,130,131,132,133,134,135,136,137,138,139,140,141,142,143,144,145,146,147,148,149],\"petal length (cm)\":{\"__ndarray__\":\"ZmZmZmZm9j9mZmZmZmb2P83MzMzMzPQ/AAAAAAAA+D9mZmZmZmb2PzMzMzMzM/s/ZmZmZmZm9j8AAAAAAAD4P2ZmZmZmZvY/AAAAAAAA+D8AAAAAAAD4P5qZmZmZmfk/ZmZmZmZm9j+amZmZmZnxPzMzMzMzM/M/AAAAAAAA+D/NzMzMzMz0P2ZmZmZmZvY/MzMzMzMz+z8AAAAAAAD4PzMzMzMzM/s/AAAAAAAA+D8AAAAAAADwPzMzMzMzM/s/ZmZmZmZm/j+amZmZmZn5P5qZmZmZmfk/AAAAAAAA+D9mZmZmZmb2P5qZmZmZmfk/mpmZmZmZ+T8AAAAAAAD4PwAAAAAAAPg/ZmZmZmZm9j8AAAAAAAD4PzMzMzMzM/M/zczMzMzM9D8AAAAAAAD4P83MzMzMzPQ/AAAAAAAA+D/NzMzMzMz0P83MzMzMzPQ/zczMzMzM9D+amZmZmZn5P2ZmZmZmZv4/ZmZmZmZm9j+amZmZmZn5P2ZmZmZmZvY/AAAAAAAA+D9mZmZmZmb2P83MzMzMzBJAAAAAAAAAEkCamZmZmZkTQAAAAAAAABBAZmZmZmZmEkAAAAAAAAASQM3MzMzMzBJAZmZmZmZmCkBmZmZmZmYSQDMzMzMzMw9AAAAAAAAADEDNzMzMzMwQQAAAAAAAABBAzczMzMzMEkDNzMzMzMwMQJqZmZmZmRFAAAAAAAAAEkBmZmZmZmYQQAAAAAAAABJAMzMzMzMzD0AzMzMzMzMTQAAAAAAAABBAmpmZmZmZE0DNzMzMzMwSQDMzMzMzMxFAmpmZmZmZEUAzMzMzMzMTQAAAAAAAABRAAAAAAAAAEkAAAAAAAAAMQGZmZmZmZg5AmpmZmZmZDUAzMzMzMzMPQGZmZmZmZhRAAAAAAAAAEkAAAAAAAAASQM3MzMzMzBJAmpmZmZmZEUBmZmZmZmYQQAAAAAAAABBAmpmZmZmZEUBmZmZmZmYSQAAAAAAAABBAZmZmZmZmCkDNzMzMzMwQQM3MzMzMzBBAzczMzMzMEEAzMzMzMzMRQAAAAAAAAAhAZmZmZmZmEEAAAAAAAAAYQGZmZmZmZhRAmpmZmZmZF0BmZmZmZmYWQDMzMzMzMxdAZmZmZmZmGkAAAAAAAAASQDMzMzMzMxlAMzMzMzMzF0BmZmZmZmYYQGZmZmZmZhRAMzMzMzMzFUAAAAAAAAAWQAAAAAAAABRAZmZmZmZmFEAzMzMzMzMVQAAAAAAAABZAzczMzMzMGkCamZmZmZkbQAAAAAAAABRAzczMzMzMFkCamZmZmZkTQM3MzMzMzBpAmpmZmZmZE0DNzMzMzMwWQAAAAAAAABhAMzMzMzMzE0CamZmZmZkTQGZmZmZmZhZAMzMzMzMzF0BmZmZmZmYYQJqZmZmZmRlAZmZmZmZmFkBmZmZmZmYUQGZmZmZmZhZAZmZmZmZmGEBmZmZmZmYWQAAAAAAAABZAMzMzMzMzE0CamZmZmZkVQGZmZmZmZhZAZmZmZmZmFEBmZmZmZmYUQJqZmZmZmRdAzczMzMzMFkDNzMzMzMwUQAAAAAAAABRAzczMzMzMFECamZmZmZkVQGZmZmZmZhRA\",\"dtype\":\"float64\",\"shape\":[150]},\"petal width (cm)\":{\"__ndarray__\":\"mpmZmZmZyT+amZmZmZnJP5qZmZmZmck/mpmZmZmZyT+amZmZmZnJP5qZmZmZmdk/MzMzMzMz0z+amZmZmZnJP5qZmZmZmck/mpmZmZmZuT+amZmZmZnJP5qZmZmZmck/mpmZmZmZuT+amZmZmZm5P5qZmZmZmck/mpmZmZmZ2T+amZmZmZnZPzMzMzMzM9M/MzMzMzMz0z8zMzMzMzPTP5qZmZmZmck/mpmZmZmZ2T+amZmZmZnJPwAAAAAAAOA/mpmZmZmZyT+amZmZmZnJP5qZmZmZmdk/mpmZmZmZyT+amZmZmZnJP5qZmZmZmck/mpmZmZmZyT+amZmZmZnZP5qZmZmZmbk/mpmZmZmZyT+amZmZmZm5P5qZmZmZmck/mpmZmZmZyT+amZmZmZm5P5qZmZmZmck/mpmZmZmZyT8zMzMzMzPTPzMzMzMzM9M/mpmZmZmZyT8zMzMzMzPjP5qZmZmZmdk/MzMzMzMz0z+amZmZmZnJP5qZmZmZmck/mpmZmZmZyT+amZmZmZnJP2ZmZmZmZvY/AAAAAAAA+D8AAAAAAAD4P83MzMzMzPQ/AAAAAAAA+D/NzMzMzMz0P5qZmZmZmfk/AAAAAAAA8D/NzMzMzMz0P2ZmZmZmZvY/AAAAAAAA8D8AAAAAAAD4PwAAAAAAAPA/ZmZmZmZm9j/NzMzMzMz0P2ZmZmZmZvY/AAAAAAAA+D8AAAAAAADwPwAAAAAAAPg/mpmZmZmZ8T/NzMzMzMz8P83MzMzMzPQ/AAAAAAAA+D8zMzMzMzPzP83MzMzMzPQ/ZmZmZmZm9j9mZmZmZmb2PzMzMzMzM/s/AAAAAAAA+D8AAAAAAADwP5qZmZmZmfE/AAAAAAAA8D8zMzMzMzPzP5qZmZmZmfk/AAAAAAAA+D+amZmZmZn5PwAAAAAAAPg/zczMzMzM9D/NzMzMzMz0P83MzMzMzPQ/MzMzMzMz8z9mZmZmZmb2PzMzMzMzM/M/AAAAAAAA8D/NzMzMzMz0PzMzMzMzM/M/zczMzMzM9D/NzMzMzMz0P5qZmZmZmfE/zczMzMzM9D8AAAAAAAAEQGZmZmZmZv4/zczMzMzMAEDNzMzMzMz8P5qZmZmZmQFAzczMzMzMAEAzMzMzMzP7P83MzMzMzPw/zczMzMzM/D8AAAAAAAAEQAAAAAAAAABAZmZmZmZm/j/NzMzMzMwAQAAAAAAAAABAMzMzMzMzA0BmZmZmZmYCQM3MzMzMzPw/mpmZmZmZAUBmZmZmZmYCQAAAAAAAAPg/ZmZmZmZmAkAAAAAAAAAAQAAAAAAAAABAzczMzMzM/D/NzMzMzMwAQM3MzMzMzPw/zczMzMzM/D/NzMzMzMz8P83MzMzMzABAmpmZmZmZ+T9mZmZmZmb+PwAAAAAAAABAmpmZmZmZAUAAAAAAAAD4P2ZmZmZmZvY/ZmZmZmZmAkAzMzMzMzMDQM3MzMzMzPw/zczMzMzM/D/NzMzMzMwAQDMzMzMzMwNAZmZmZmZmAkBmZmZmZmb+P2ZmZmZmZgJAAAAAAAAABEBmZmZmZmYCQGZmZmZmZv4/AAAAAAAAAEBmZmZmZmYCQM3MzMzMzPw/\",\"dtype\":\"float64\",\"shape\":[150]},\"sepal length (cm)\":{\"__ndarray__\":\"ZmZmZmZmFECamZmZmZkTQM3MzMzMzBJAZmZmZmZmEkAAAAAAAAAUQJqZmZmZmRVAZmZmZmZmEkAAAAAAAAAUQJqZmZmZmRFAmpmZmZmZE0CamZmZmZkVQDMzMzMzMxNAMzMzMzMzE0AzMzMzMzMRQDMzMzMzMxdAzczMzMzMFkCamZmZmZkVQGZmZmZmZhRAzczMzMzMFkBmZmZmZmYUQJqZmZmZmRVAZmZmZmZmFEBmZmZmZmYSQGZmZmZmZhRAMzMzMzMzE0AAAAAAAAAUQAAAAAAAABRAzczMzMzMFEDNzMzMzMwUQM3MzMzMzBJAMzMzMzMzE0CamZmZmZkVQM3MzMzMzBRAAAAAAAAAFkCamZmZmZkTQAAAAAAAABRAAAAAAAAAFkCamZmZmZkTQJqZmZmZmRFAZmZmZmZmFEAAAAAAAAAUQAAAAAAAABJAmpmZmZmZEUAAAAAAAAAUQGZmZmZmZhRAMzMzMzMzE0BmZmZmZmYUQGZmZmZmZhJAMzMzMzMzFUAAAAAAAAAUQAAAAAAAABxAmpmZmZmZGUCamZmZmZkbQAAAAAAAABZAAAAAAAAAGkDNzMzMzMwWQDMzMzMzMxlAmpmZmZmZE0BmZmZmZmYaQM3MzMzMzBRAAAAAAAAAFECamZmZmZkXQAAAAAAAABhAZmZmZmZmGEBmZmZmZmYWQM3MzMzMzBpAZmZmZmZmFkAzMzMzMzMXQM3MzMzMzBhAZmZmZmZmFkCamZmZmZkXQGZmZmZmZhhAMzMzMzMzGUBmZmZmZmYYQJqZmZmZmRlAZmZmZmZmGkAzMzMzMzMbQM3MzMzMzBpAAAAAAAAAGEDNzMzMzMwWQAAAAAAAABZAAAAAAAAAFkAzMzMzMzMXQAAAAAAAABhAmpmZmZmZFUAAAAAAAAAYQM3MzMzMzBpAMzMzMzMzGUBmZmZmZmYWQAAAAAAAABZAAAAAAAAAFkBmZmZmZmYYQDMzMzMzMxdAAAAAAAAAFEBmZmZmZmYWQM3MzMzMzBZAzczMzMzMFkDNzMzMzMwYQGZmZmZmZhRAzczMzMzMFkAzMzMzMzMZQDMzMzMzMxdAZmZmZmZmHEAzMzMzMzMZQAAAAAAAABpAZmZmZmZmHkCamZmZmZkTQDMzMzMzMx1AzczMzMzMGkDNzMzMzMwcQAAAAAAAABpAmpmZmZmZGUAzMzMzMzMbQM3MzMzMzBZAMzMzMzMzF0CamZmZmZkZQAAAAAAAABpAzczMzMzMHkDNzMzMzMweQAAAAAAAABhAmpmZmZmZG0BmZmZmZmYWQM3MzMzMzB5AMzMzMzMzGUDNzMzMzMwaQM3MzMzMzBxAzczMzMzMGEBmZmZmZmYYQJqZmZmZmRlAzczMzMzMHECamZmZmZkdQJqZmZmZmR9AmpmZmZmZGUAzMzMzMzMZQGZmZmZmZhhAzczMzMzMHkAzMzMzMzMZQJqZmZmZmRlAAAAAAAAAGECamZmZmZkbQM3MzMzMzBpAmpmZmZmZG0AzMzMzMzMXQDMzMzMzMxtAzczMzMzMGkDNzMzMzMwaQDMzMzMzMxlAAAAAAAAAGkDNzMzMzMwYQJqZmZmZmRdA\",\"dtype\":\"float64\",\"shape\":[150]},\"sepal width (cm)\":{\"__ndarray__\":\"AAAAAAAADEAAAAAAAAAIQJqZmZmZmQlAzczMzMzMCEDNzMzMzMwMQDMzMzMzMw9AMzMzMzMzC0AzMzMzMzMLQDMzMzMzMwdAzczMzMzMCECamZmZmZkNQDMzMzMzMwtAAAAAAAAACEAAAAAAAAAIQAAAAAAAABBAmpmZmZmZEUAzMzMzMzMPQAAAAAAAAAxAZmZmZmZmDkBmZmZmZmYOQDMzMzMzMwtAmpmZmZmZDUDNzMzMzMwMQGZmZmZmZgpAMzMzMzMzC0AAAAAAAAAIQDMzMzMzMwtAAAAAAAAADEAzMzMzMzMLQJqZmZmZmQlAzczMzMzMCEAzMzMzMzMLQGZmZmZmZhBAzczMzMzMEEDNzMzMzMwIQJqZmZmZmQlAAAAAAAAADEDNzMzMzMwIQAAAAAAAAAhAMzMzMzMzC0AAAAAAAAAMQGZmZmZmZgJAmpmZmZmZCUAAAAAAAAAMQGZmZmZmZg5AAAAAAAAACEBmZmZmZmYOQJqZmZmZmQlAmpmZmZmZDUBmZmZmZmYKQJqZmZmZmQlAmpmZmZmZCUDNzMzMzMwIQGZmZmZmZgJAZmZmZmZmBkBmZmZmZmYGQGZmZmZmZgpAMzMzMzMzA0AzMzMzMzMHQJqZmZmZmQVAAAAAAAAAAEAAAAAAAAAIQJqZmZmZmQFAMzMzMzMzB0AzMzMzMzMHQM3MzMzMzAhAAAAAAAAACECamZmZmZkFQJqZmZmZmQFAAAAAAAAABECamZmZmZkJQGZmZmZmZgZAAAAAAAAABEBmZmZmZmYGQDMzMzMzMwdAAAAAAAAACEBmZmZmZmYGQAAAAAAAAAhAMzMzMzMzB0DNzMzMzMwEQDMzMzMzMwNAMzMzMzMzA0CamZmZmZkFQJqZmZmZmQVAAAAAAAAACEAzMzMzMzMLQM3MzMzMzAhAZmZmZmZmAkAAAAAAAAAIQAAAAAAAAARAzczMzMzMBEAAAAAAAAAIQM3MzMzMzARAZmZmZmZmAkCamZmZmZkFQAAAAAAAAAhAMzMzMzMzB0AzMzMzMzMHQAAAAAAAAARAZmZmZmZmBkBmZmZmZmYKQJqZmZmZmQVAAAAAAAAACEAzMzMzMzMHQAAAAAAAAAhAAAAAAAAACEAAAAAAAAAEQDMzMzMzMwdAAAAAAAAABEDNzMzMzMwMQJqZmZmZmQlAmpmZmZmZBUAAAAAAAAAIQAAAAAAAAARAZmZmZmZmBkCamZmZmZkJQAAAAAAAAAhAZmZmZmZmDkDNzMzMzMwEQJqZmZmZmQFAmpmZmZmZCUBmZmZmZmYGQGZmZmZmZgZAmpmZmZmZBUBmZmZmZmYKQJqZmZmZmQlAZmZmZmZmBkAAAAAAAAAIQGZmZmZmZgZAAAAAAAAACEBmZmZmZmYGQGZmZmZmZg5AZmZmZmZmBkBmZmZmZmYGQM3MzMzMzARAAAAAAAAACEAzMzMzMzMLQM3MzMzMzAhAAAAAAAAACEDNzMzMzMwIQM3MzMzMzAhAzczMzMzMCECamZmZmZkFQJqZmZmZmQlAZmZmZmZmCkAAAAAAAAAIQAAAAAAAAARAAAAAAAAACEAzMzMzMzMLQAAAAAAAAAhA\",\"dtype\":\"float64\",\"shape\":[150]},\"target\":[\"setosa\",\"setosa\",\"setosa\",\"setosa\",\"setosa\",\"setosa\",\"setosa\",\"setosa\",\"setosa\",\"setosa\",\"setosa\",\"setosa\",\"setosa\",\"setosa\",\"setosa\",\"setosa\",\"setosa\",\"setosa\",\"setosa\",\"setosa\",\"setosa\",\"setosa\",\"setosa\",\"setosa\",\"setosa\",\"setosa\",\"setosa\",\"setosa\",\"setosa\",\"setosa\",\"setosa\",\"setosa\",\"setosa\",\"setosa\",\"setosa\",\"setosa\",\"setosa\",\"setosa\",\"setosa\",\"setosa\",\"setosa\",\"setosa\",\"setosa\",\"setosa\",\"setosa\",\"setosa\",\"setosa\",\"setosa\",\"setosa\",\"setosa\",\"versicolor\",\"versicolor\",\"versicolor\",\"versicolor\",\"versicolor\",\"versicolor\",\"versicolor\",\"versicolor\",\"versicolor\",\"versicolor\",\"versicolor\",\"versicolor\",\"versicolor\",\"versicolor\",\"versicolor\",\"versicolor\",\"versicolor\",\"versicolor\",\"versicolor\",\"versicolor\",\"versicolor\",\"versicolor\",\"versicolor\",\"versicolor\",\"versicolor\",\"versicolor\",\"versicolor\",\"versicolor\",\"versicolor\",\"versicolor\",\"versicolor\",\"versicolor\",\"versicolor\",\"versicolor\",\"versicolor\",\"versicolor\",\"versicolor\",\"versicolor\",\"versicolor\",\"versicolor\",\"versicolor\",\"versicolor\",\"versicolor\",\"versicolor\",\"versicolor\",\"versicolor\",\"versicolor\",\"versicolor\",\"versicolor\",\"versicolor\",\"virginica\",\"virginica\",\"virginica\",\"virginica\",\"virginica\",\"virginica\",\"virginica\",\"virginica\",\"virginica\",\"virginica\",\"virginica\",\"virginica\",\"virginica\",\"virginica\",\"virginica\",\"virginica\",\"virginica\",\"virginica\",\"virginica\",\"virginica\",\"virginica\",\"virginica\",\"virginica\",\"virginica\",\"virginica\",\"virginica\",\"virginica\",\"virginica\",\"virginica\",\"virginica\",\"virginica\",\"virginica\",\"virginica\",\"virginica\",\"virginica\",\"virginica\",\"virginica\",\"virginica\",\"virginica\",\"virginica\",\"virginica\",\"virginica\",\"virginica\",\"virginica\",\"virginica\",\"virginica\",\"virginica\",\"virginica\",\"virginica\",\"virginica\"]},\"selected\":{\"id\":\"387c09f4-c3ef-42b1-a25e-58ea9937e679\",\"type\":\"Selection\"},\"selection_policy\":{\"id\":\"1a095ec8-507e-4cef-a9c3-f3f5c00414b4\",\"type\":\"UnionRenderers\"}},\"id\":\"be18830b-a360-41f9-8df4-8b8f2bbbb625\",\"type\":\"ColumnDataSource\"},{\"attributes\":{},\"id\":\"0a8d4314-581d-428e-8b71-d9f760825ccc\",\"type\":\"HelpTool\"},{\"attributes\":{\"callback\":null},\"id\":\"886b954a-2312-46bd-bccb-696fe141e9e5\",\"type\":\"DataRange1d\"},{\"attributes\":{},\"id\":\"377a6c75-1a8d-4e97-b545-a5fe4c360471\",\"type\":\"LinearScale\"},{\"attributes\":{\"fill_alpha\":{\"value\":0.1},\"fill_color\":{\"value\":\"#1f77b4\"},\"line_alpha\":{\"value\":0.1},\"line_color\":{\"value\":\"#1f77b4\"},\"x\":{\"field\":\"sepal length (cm)\"},\"y\":{\"field\":\"petal length (cm)\"}},\"id\":\"1ce4d48d-abfe-4db0-8d62-18b6622a70fb\",\"type\":\"Circle\"},{\"attributes\":{\"data_source\":{\"id\":\"be18830b-a360-41f9-8df4-8b8f2bbbb625\",\"type\":\"ColumnDataSource\"},\"glyph\":{\"id\":\"438e4376-24a3-4d59-8a69-673472557deb\",\"type\":\"Circle\"},\"hover_glyph\":null,\"muted_glyph\":null,\"nonselection_glyph\":{\"id\":\"1ce4d48d-abfe-4db0-8d62-18b6622a70fb\",\"type\":\"Circle\"},\"selection_glyph\":null,\"view\":{\"id\":\"a52a40c5-0f3a-4a7c-93ba-b429ed1143b2\",\"type\":\"CDSView\"}},\"id\":\"35aa8a0b-4201-47ff-a96a-817f16017545\",\"type\":\"GlyphRenderer\"},{\"attributes\":{},\"id\":\"06816a30-bf1e-4546-8735-95ed67bb9297\",\"type\":\"LinearScale\"},{\"attributes\":{\"callback\":null},\"id\":\"45d1bc2f-64aa-411e-a2d9-1e583bd46000\",\"type\":\"DataRange1d\"},{\"attributes\":{},\"id\":\"733735eb-7c34-4f5c-8c29-e8cbb7eabccc\",\"type\":\"BasicTicker\"},{\"attributes\":{},\"id\":\"dc87cd6d-38ed-4db3-a8b9-1f0abf873335\",\"type\":\"BasicTicker\"},{\"attributes\":{},\"id\":\"18ea71e8-5022-4e66-a8a3-893ca0ebb570\",\"type\":\"BasicTickFormatter\"},{\"attributes\":{\"dimension\":1,\"plot\":{\"id\":\"27516079-06f7-44af-b13a-0d9b8f65fd31\",\"subtype\":\"Figure\",\"type\":\"Plot\"},\"ticker\":{\"id\":\"733735eb-7c34-4f5c-8c29-e8cbb7eabccc\",\"type\":\"BasicTicker\"}},\"id\":\"01fffdac-4885-4c20-8159-f2449dd2aabf\",\"type\":\"Grid\"},{\"attributes\":{\"plot\":{\"id\":\"27516079-06f7-44af-b13a-0d9b8f65fd31\",\"subtype\":\"Figure\",\"type\":\"Plot\"},\"ticker\":{\"id\":\"dc87cd6d-38ed-4db3-a8b9-1f0abf873335\",\"type\":\"BasicTicker\"}},\"id\":\"fbabd32a-813e-439f-b0f8-3b6ec23c2e74\",\"type\":\"Grid\"},{\"attributes\":{},\"id\":\"387c09f4-c3ef-42b1-a25e-58ea9937e679\",\"type\":\"Selection\"},{\"attributes\":{},\"id\":\"1a095ec8-507e-4cef-a9c3-f3f5c00414b4\",\"type\":\"UnionRenderers\"},{\"attributes\":{\"fill_color\":{\"value\":\"#1f77b4\"},\"line_color\":{\"value\":\"#1f77b4\"},\"x\":{\"field\":\"sepal length (cm)\"},\"y\":{\"field\":\"petal length (cm)\"}},\"id\":\"438e4376-24a3-4d59-8a69-673472557deb\",\"type\":\"Circle\"},{\"attributes\":{\"plot\":null,\"text\":\"\"},\"id\":\"60996a48-18fd-42ae-a012-98a21d90604d\",\"type\":\"Title\"},{\"attributes\":{},\"id\":\"0d62c738-0f53-49ff-9670-74d682bbdc7d\",\"type\":\"PanTool\"},{\"attributes\":{\"bottom_units\":\"screen\",\"fill_alpha\":{\"value\":0.5},\"fill_color\":{\"value\":\"lightgrey\"},\"left_units\":\"screen\",\"level\":\"overlay\",\"line_alpha\":{\"value\":1.0},\"line_color\":{\"value\":\"black\"},\"line_dash\":[4,4],\"line_width\":{\"value\":2},\"plot\":null,\"render_mode\":\"css\",\"right_units\":\"screen\",\"top_units\":\"screen\"},\"id\":\"beab2067-8e5d-47a5-a871-a2c7da5c0638\",\"type\":\"BoxAnnotation\"},{\"attributes\":{\"axis_label\":\"petal length (cm)\",\"formatter\":{\"id\":\"3747d687-8db2-482b-aab4-9a34755ad754\",\"type\":\"BasicTickFormatter\"},\"plot\":{\"id\":\"27516079-06f7-44af-b13a-0d9b8f65fd31\",\"subtype\":\"Figure\",\"type\":\"Plot\"},\"ticker\":{\"id\":\"733735eb-7c34-4f5c-8c29-e8cbb7eabccc\",\"type\":\"BasicTicker\"}},\"id\":\"1035580b-b128-4e89-9d62-c1dc84cc9e71\",\"type\":\"LinearAxis\"},{\"attributes\":{},\"id\":\"3747d687-8db2-482b-aab4-9a34755ad754\",\"type\":\"BasicTickFormatter\"},{\"attributes\":{\"source\":{\"id\":\"be18830b-a360-41f9-8df4-8b8f2bbbb625\",\"type\":\"ColumnDataSource\"}},\"id\":\"a52a40c5-0f3a-4a7c-93ba-b429ed1143b2\",\"type\":\"CDSView\"}],\"root_ids\":[\"27516079-06f7-44af-b13a-0d9b8f65fd31\"]},\"title\":\"Bokeh Application\",\"version\":\"0.12.16\"}};\n",
       "  var render_items = [{\"docid\":\"330b992c-81d0-434d-b976-97c459b41b7c\",\"elementid\":\"9c85c347-f827-43aa-89d7-6e413aeaec4b\",\"modelid\":\"27516079-06f7-44af-b13a-0d9b8f65fd31\"}];\n",
       "  root.Bokeh.embed.embed_items_notebook(docs_json, render_items);\n",
       "\n",
       "  }\n",
       "  if (root.Bokeh !== undefined) {\n",
       "    embed_document(root);\n",
       "  } else {\n",
       "    var attempts = 0;\n",
       "    var timer = setInterval(function(root) {\n",
       "      if (root.Bokeh !== undefined) {\n",
       "        embed_document(root);\n",
       "        clearInterval(timer);\n",
       "      }\n",
       "      attempts++;\n",
       "      if (attempts > 100) {\n",
       "        console.log(\"Bokeh: ERROR: Unable to run BokehJS code because BokehJS library is missing\")\n",
       "        clearInterval(timer);\n",
       "      }\n",
       "    }, 10, root)\n",
       "  }\n",
       "})(window);"
      ],
      "application/vnd.bokehjs_exec.v0+json": ""
     },
     "metadata": {
      "application/vnd.bokehjs_exec.v0+json": {
       "id": "27516079-06f7-44af-b13a-0d9b8f65fd31"
      }
     },
     "output_type": "display_data"
    }
   ],
   "source": [
    "# columndatasource takes dataframe in parameter\n",
    "source = ColumnDataSource(data=df)\n",
    "# plot data with glyph\n",
    "p = figure(x_axis_label='sepal length (cm)', y_axis_label='petal length (cm)')\n",
    "p.circle(x='sepal length (cm)', y='petal length (cm)', source=source)\n",
    "show(p)\n"
   ]
  },
  {
   "cell_type": "code",
   "execution_count": 8,
   "metadata": {},
   "outputs": [
    {
     "data": {
      "text/html": [
       "\n",
       "<div class=\"bk-root\">\n",
       "    <div class=\"bk-plotdiv\" id=\"4cc83c1d-8e75-4b0b-98c2-76d563bb8e70\"></div>\n",
       "</div>"
      ]
     },
     "metadata": {},
     "output_type": "display_data"
    },
    {
     "data": {
      "application/javascript": [
       "(function(root) {\n",
       "  function embed_document(root) {\n",
       "    \n",
       "  var docs_json = {\"e9be2382-e8e2-4c9b-b8bf-f9d23a87eee5\":{\"roots\":{\"references\":[{\"attributes\":{},\"id\":\"92b4648c-105b-428d-9247-9f8f7fae0ef1\",\"type\":\"WheelZoomTool\"},{\"attributes\":{\"source\":{\"id\":\"be18830b-a360-41f9-8df4-8b8f2bbbb625\",\"type\":\"ColumnDataSource\"}},\"id\":\"6866c7af-be41-40a9-9fee-49c6a6d31ffa\",\"type\":\"CDSView\"},{\"attributes\":{\"overlay\":{\"id\":\"beab2067-8e5d-47a5-a871-a2c7da5c0638\",\"type\":\"BoxAnnotation\"}},\"id\":\"2352360b-1899-4f43-8dbe-da91be061fa0\",\"type\":\"BoxZoomTool\"},{\"attributes\":{},\"id\":\"947f6da6-f410-48ef-abe8-835d12e02a82\",\"type\":\"SaveTool\"},{\"attributes\":{},\"id\":\"a6b78b69-9945-4d4d-8097-a8ebfc907995\",\"type\":\"ResetTool\"},{\"attributes\":{\"factors\":[\"setosa\",\"versicolor\",\"virginica\"],\"palette\":[\"red\",\"green\",\"blue\"]},\"id\":\"11fab4d2-3e93-4890-bba2-5472a8cb6214\",\"type\":\"CategoricalColorMapper\"},{\"attributes\":{},\"id\":\"0a8d4314-581d-428e-8b71-d9f760825ccc\",\"type\":\"HelpTool\"},{\"attributes\":{\"data_source\":{\"id\":\"be18830b-a360-41f9-8df4-8b8f2bbbb625\",\"type\":\"ColumnDataSource\"},\"glyph\":{\"id\":\"bc1b2ac4-478f-4fd7-bb2d-b0022b18d20a\",\"type\":\"Circle\"},\"hover_glyph\":null,\"muted_glyph\":null,\"nonselection_glyph\":{\"id\":\"96eefe23-c65a-4803-ae32-9a8e619174bb\",\"type\":\"Circle\"},\"selection_glyph\":null,\"view\":{\"id\":\"6866c7af-be41-40a9-9fee-49c6a6d31ffa\",\"type\":\"CDSView\"}},\"id\":\"895ac181-e203-4069-a678-5f85e57897fe\",\"type\":\"GlyphRenderer\"},{\"attributes\":{\"fill_color\":{\"field\":\"target\",\"transform\":{\"id\":\"11fab4d2-3e93-4890-bba2-5472a8cb6214\",\"type\":\"CategoricalColorMapper\"}},\"line_color\":{\"field\":\"target\",\"transform\":{\"id\":\"11fab4d2-3e93-4890-bba2-5472a8cb6214\",\"type\":\"CategoricalColorMapper\"}},\"x\":{\"field\":\"sepal length (cm)\"},\"y\":{\"field\":\"petal length (cm)\"}},\"id\":\"bc1b2ac4-478f-4fd7-bb2d-b0022b18d20a\",\"type\":\"Circle\"},{\"attributes\":{\"fill_alpha\":{\"value\":0.1},\"fill_color\":{\"value\":\"#1f77b4\"},\"line_alpha\":{\"value\":0.1},\"line_color\":{\"value\":\"#1f77b4\"},\"x\":{\"field\":\"sepal length (cm)\"},\"y\":{\"field\":\"petal length (cm)\"}},\"id\":\"1ce4d48d-abfe-4db0-8d62-18b6622a70fb\",\"type\":\"Circle\"},{\"attributes\":{\"callback\":null},\"id\":\"45d1bc2f-64aa-411e-a2d9-1e583bd46000\",\"type\":\"DataRange1d\"},{\"attributes\":{},\"id\":\"18ea71e8-5022-4e66-a8a3-893ca0ebb570\",\"type\":\"BasicTickFormatter\"},{\"attributes\":{\"label\":{\"field\":\"target\"},\"renderers\":[{\"id\":\"895ac181-e203-4069-a678-5f85e57897fe\",\"type\":\"GlyphRenderer\"}]},\"id\":\"6fa8f0b8-7d60-4737-a300-13723891e7ac\",\"type\":\"LegendItem\"},{\"attributes\":{},\"id\":\"1a095ec8-507e-4cef-a9c3-f3f5c00414b4\",\"type\":\"UnionRenderers\"},{\"attributes\":{\"plot\":null,\"text\":\"\"},\"id\":\"60996a48-18fd-42ae-a012-98a21d90604d\",\"type\":\"Title\"},{\"attributes\":{\"axis_label\":\"petal length (cm)\",\"formatter\":{\"id\":\"3747d687-8db2-482b-aab4-9a34755ad754\",\"type\":\"BasicTickFormatter\"},\"plot\":{\"id\":\"27516079-06f7-44af-b13a-0d9b8f65fd31\",\"subtype\":\"Figure\",\"type\":\"Plot\"},\"ticker\":{\"id\":\"733735eb-7c34-4f5c-8c29-e8cbb7eabccc\",\"type\":\"BasicTicker\"}},\"id\":\"1035580b-b128-4e89-9d62-c1dc84cc9e71\",\"type\":\"LinearAxis\"},{\"attributes\":{},\"id\":\"3747d687-8db2-482b-aab4-9a34755ad754\",\"type\":\"BasicTickFormatter\"},{\"attributes\":{\"below\":[{\"id\":\"7715abae-5737-4969-9442-f35cee8cf18f\",\"type\":\"LinearAxis\"}],\"left\":[{\"id\":\"1035580b-b128-4e89-9d62-c1dc84cc9e71\",\"type\":\"LinearAxis\"}],\"renderers\":[{\"id\":\"7715abae-5737-4969-9442-f35cee8cf18f\",\"type\":\"LinearAxis\"},{\"id\":\"fbabd32a-813e-439f-b0f8-3b6ec23c2e74\",\"type\":\"Grid\"},{\"id\":\"1035580b-b128-4e89-9d62-c1dc84cc9e71\",\"type\":\"LinearAxis\"},{\"id\":\"01fffdac-4885-4c20-8159-f2449dd2aabf\",\"type\":\"Grid\"},{\"id\":\"beab2067-8e5d-47a5-a871-a2c7da5c0638\",\"type\":\"BoxAnnotation\"},{\"id\":\"35aa8a0b-4201-47ff-a96a-817f16017545\",\"type\":\"GlyphRenderer\"},{\"id\":\"81d787ba-addc-4335-a8f2-0882ebd0b6c2\",\"type\":\"Legend\"},{\"id\":\"895ac181-e203-4069-a678-5f85e57897fe\",\"type\":\"GlyphRenderer\"}],\"title\":{\"id\":\"60996a48-18fd-42ae-a012-98a21d90604d\",\"type\":\"Title\"},\"toolbar\":{\"id\":\"4303a274-404f-4739-8505-1154683f1cf9\",\"type\":\"Toolbar\"},\"x_range\":{\"id\":\"45d1bc2f-64aa-411e-a2d9-1e583bd46000\",\"type\":\"DataRange1d\"},\"x_scale\":{\"id\":\"377a6c75-1a8d-4e97-b545-a5fe4c360471\",\"type\":\"LinearScale\"},\"y_range\":{\"id\":\"886b954a-2312-46bd-bccb-696fe141e9e5\",\"type\":\"DataRange1d\"},\"y_scale\":{\"id\":\"06816a30-bf1e-4546-8735-95ed67bb9297\",\"type\":\"LinearScale\"}},\"id\":\"27516079-06f7-44af-b13a-0d9b8f65fd31\",\"subtype\":\"Figure\",\"type\":\"Plot\"},{\"attributes\":{\"axis_label\":\"sepal length (cm)\",\"formatter\":{\"id\":\"18ea71e8-5022-4e66-a8a3-893ca0ebb570\",\"type\":\"BasicTickFormatter\"},\"plot\":{\"id\":\"27516079-06f7-44af-b13a-0d9b8f65fd31\",\"subtype\":\"Figure\",\"type\":\"Plot\"},\"ticker\":{\"id\":\"dc87cd6d-38ed-4db3-a8b9-1f0abf873335\",\"type\":\"BasicTicker\"}},\"id\":\"7715abae-5737-4969-9442-f35cee8cf18f\",\"type\":\"LinearAxis\"},{\"attributes\":{\"active_drag\":\"auto\",\"active_inspect\":\"auto\",\"active_scroll\":\"auto\",\"active_tap\":\"auto\",\"tools\":[{\"id\":\"0d62c738-0f53-49ff-9670-74d682bbdc7d\",\"type\":\"PanTool\"},{\"id\":\"92b4648c-105b-428d-9247-9f8f7fae0ef1\",\"type\":\"WheelZoomTool\"},{\"id\":\"2352360b-1899-4f43-8dbe-da91be061fa0\",\"type\":\"BoxZoomTool\"},{\"id\":\"947f6da6-f410-48ef-abe8-835d12e02a82\",\"type\":\"SaveTool\"},{\"id\":\"a6b78b69-9945-4d4d-8097-a8ebfc907995\",\"type\":\"ResetTool\"},{\"id\":\"0a8d4314-581d-428e-8b71-d9f760825ccc\",\"type\":\"HelpTool\"}]},\"id\":\"4303a274-404f-4739-8505-1154683f1cf9\",\"type\":\"Toolbar\"},{\"attributes\":{\"callback\":null,\"data\":{\"index\":[0,1,2,3,4,5,6,7,8,9,10,11,12,13,14,15,16,17,18,19,20,21,22,23,24,25,26,27,28,29,30,31,32,33,34,35,36,37,38,39,40,41,42,43,44,45,46,47,48,49,50,51,52,53,54,55,56,57,58,59,60,61,62,63,64,65,66,67,68,69,70,71,72,73,74,75,76,77,78,79,80,81,82,83,84,85,86,87,88,89,90,91,92,93,94,95,96,97,98,99,100,101,102,103,104,105,106,107,108,109,110,111,112,113,114,115,116,117,118,119,120,121,122,123,124,125,126,127,128,129,130,131,132,133,134,135,136,137,138,139,140,141,142,143,144,145,146,147,148,149],\"petal length (cm)\":{\"__ndarray__\":\"ZmZmZmZm9j9mZmZmZmb2P83MzMzMzPQ/AAAAAAAA+D9mZmZmZmb2PzMzMzMzM/s/ZmZmZmZm9j8AAAAAAAD4P2ZmZmZmZvY/AAAAAAAA+D8AAAAAAAD4P5qZmZmZmfk/ZmZmZmZm9j+amZmZmZnxPzMzMzMzM/M/AAAAAAAA+D/NzMzMzMz0P2ZmZmZmZvY/MzMzMzMz+z8AAAAAAAD4PzMzMzMzM/s/AAAAAAAA+D8AAAAAAADwPzMzMzMzM/s/ZmZmZmZm/j+amZmZmZn5P5qZmZmZmfk/AAAAAAAA+D9mZmZmZmb2P5qZmZmZmfk/mpmZmZmZ+T8AAAAAAAD4PwAAAAAAAPg/ZmZmZmZm9j8AAAAAAAD4PzMzMzMzM/M/zczMzMzM9D8AAAAAAAD4P83MzMzMzPQ/AAAAAAAA+D/NzMzMzMz0P83MzMzMzPQ/zczMzMzM9D+amZmZmZn5P2ZmZmZmZv4/ZmZmZmZm9j+amZmZmZn5P2ZmZmZmZvY/AAAAAAAA+D9mZmZmZmb2P83MzMzMzBJAAAAAAAAAEkCamZmZmZkTQAAAAAAAABBAZmZmZmZmEkAAAAAAAAASQM3MzMzMzBJAZmZmZmZmCkBmZmZmZmYSQDMzMzMzMw9AAAAAAAAADEDNzMzMzMwQQAAAAAAAABBAzczMzMzMEkDNzMzMzMwMQJqZmZmZmRFAAAAAAAAAEkBmZmZmZmYQQAAAAAAAABJAMzMzMzMzD0AzMzMzMzMTQAAAAAAAABBAmpmZmZmZE0DNzMzMzMwSQDMzMzMzMxFAmpmZmZmZEUAzMzMzMzMTQAAAAAAAABRAAAAAAAAAEkAAAAAAAAAMQGZmZmZmZg5AmpmZmZmZDUAzMzMzMzMPQGZmZmZmZhRAAAAAAAAAEkAAAAAAAAASQM3MzMzMzBJAmpmZmZmZEUBmZmZmZmYQQAAAAAAAABBAmpmZmZmZEUBmZmZmZmYSQAAAAAAAABBAZmZmZmZmCkDNzMzMzMwQQM3MzMzMzBBAzczMzMzMEEAzMzMzMzMRQAAAAAAAAAhAZmZmZmZmEEAAAAAAAAAYQGZmZmZmZhRAmpmZmZmZF0BmZmZmZmYWQDMzMzMzMxdAZmZmZmZmGkAAAAAAAAASQDMzMzMzMxlAMzMzMzMzF0BmZmZmZmYYQGZmZmZmZhRAMzMzMzMzFUAAAAAAAAAWQAAAAAAAABRAZmZmZmZmFEAzMzMzMzMVQAAAAAAAABZAzczMzMzMGkCamZmZmZkbQAAAAAAAABRAzczMzMzMFkCamZmZmZkTQM3MzMzMzBpAmpmZmZmZE0DNzMzMzMwWQAAAAAAAABhAMzMzMzMzE0CamZmZmZkTQGZmZmZmZhZAMzMzMzMzF0BmZmZmZmYYQJqZmZmZmRlAZmZmZmZmFkBmZmZmZmYUQGZmZmZmZhZAZmZmZmZmGEBmZmZmZmYWQAAAAAAAABZAMzMzMzMzE0CamZmZmZkVQGZmZmZmZhZAZmZmZmZmFEBmZmZmZmYUQJqZmZmZmRdAzczMzMzMFkDNzMzMzMwUQAAAAAAAABRAzczMzMzMFECamZmZmZkVQGZmZmZmZhRA\",\"dtype\":\"float64\",\"shape\":[150]},\"petal width (cm)\":{\"__ndarray__\":\"mpmZmZmZyT+amZmZmZnJP5qZmZmZmck/mpmZmZmZyT+amZmZmZnJP5qZmZmZmdk/MzMzMzMz0z+amZmZmZnJP5qZmZmZmck/mpmZmZmZuT+amZmZmZnJP5qZmZmZmck/mpmZmZmZuT+amZmZmZm5P5qZmZmZmck/mpmZmZmZ2T+amZmZmZnZPzMzMzMzM9M/MzMzMzMz0z8zMzMzMzPTP5qZmZmZmck/mpmZmZmZ2T+amZmZmZnJPwAAAAAAAOA/mpmZmZmZyT+amZmZmZnJP5qZmZmZmdk/mpmZmZmZyT+amZmZmZnJP5qZmZmZmck/mpmZmZmZyT+amZmZmZnZP5qZmZmZmbk/mpmZmZmZyT+amZmZmZm5P5qZmZmZmck/mpmZmZmZyT+amZmZmZm5P5qZmZmZmck/mpmZmZmZyT8zMzMzMzPTPzMzMzMzM9M/mpmZmZmZyT8zMzMzMzPjP5qZmZmZmdk/MzMzMzMz0z+amZmZmZnJP5qZmZmZmck/mpmZmZmZyT+amZmZmZnJP2ZmZmZmZvY/AAAAAAAA+D8AAAAAAAD4P83MzMzMzPQ/AAAAAAAA+D/NzMzMzMz0P5qZmZmZmfk/AAAAAAAA8D/NzMzMzMz0P2ZmZmZmZvY/AAAAAAAA8D8AAAAAAAD4PwAAAAAAAPA/ZmZmZmZm9j/NzMzMzMz0P2ZmZmZmZvY/AAAAAAAA+D8AAAAAAADwPwAAAAAAAPg/mpmZmZmZ8T/NzMzMzMz8P83MzMzMzPQ/AAAAAAAA+D8zMzMzMzPzP83MzMzMzPQ/ZmZmZmZm9j9mZmZmZmb2PzMzMzMzM/s/AAAAAAAA+D8AAAAAAADwP5qZmZmZmfE/AAAAAAAA8D8zMzMzMzPzP5qZmZmZmfk/AAAAAAAA+D+amZmZmZn5PwAAAAAAAPg/zczMzMzM9D/NzMzMzMz0P83MzMzMzPQ/MzMzMzMz8z9mZmZmZmb2PzMzMzMzM/M/AAAAAAAA8D/NzMzMzMz0PzMzMzMzM/M/zczMzMzM9D/NzMzMzMz0P5qZmZmZmfE/zczMzMzM9D8AAAAAAAAEQGZmZmZmZv4/zczMzMzMAEDNzMzMzMz8P5qZmZmZmQFAzczMzMzMAEAzMzMzMzP7P83MzMzMzPw/zczMzMzM/D8AAAAAAAAEQAAAAAAAAABAZmZmZmZm/j/NzMzMzMwAQAAAAAAAAABAMzMzMzMzA0BmZmZmZmYCQM3MzMzMzPw/mpmZmZmZAUBmZmZmZmYCQAAAAAAAAPg/ZmZmZmZmAkAAAAAAAAAAQAAAAAAAAABAzczMzMzM/D/NzMzMzMwAQM3MzMzMzPw/zczMzMzM/D/NzMzMzMz8P83MzMzMzABAmpmZmZmZ+T9mZmZmZmb+PwAAAAAAAABAmpmZmZmZAUAAAAAAAAD4P2ZmZmZmZvY/ZmZmZmZmAkAzMzMzMzMDQM3MzMzMzPw/zczMzMzM/D/NzMzMzMwAQDMzMzMzMwNAZmZmZmZmAkBmZmZmZmb+P2ZmZmZmZgJAAAAAAAAABEBmZmZmZmYCQGZmZmZmZv4/AAAAAAAAAEBmZmZmZmYCQM3MzMzMzPw/\",\"dtype\":\"float64\",\"shape\":[150]},\"sepal length (cm)\":{\"__ndarray__\":\"ZmZmZmZmFECamZmZmZkTQM3MzMzMzBJAZmZmZmZmEkAAAAAAAAAUQJqZmZmZmRVAZmZmZmZmEkAAAAAAAAAUQJqZmZmZmRFAmpmZmZmZE0CamZmZmZkVQDMzMzMzMxNAMzMzMzMzE0AzMzMzMzMRQDMzMzMzMxdAzczMzMzMFkCamZmZmZkVQGZmZmZmZhRAzczMzMzMFkBmZmZmZmYUQJqZmZmZmRVAZmZmZmZmFEBmZmZmZmYSQGZmZmZmZhRAMzMzMzMzE0AAAAAAAAAUQAAAAAAAABRAzczMzMzMFEDNzMzMzMwUQM3MzMzMzBJAMzMzMzMzE0CamZmZmZkVQM3MzMzMzBRAAAAAAAAAFkCamZmZmZkTQAAAAAAAABRAAAAAAAAAFkCamZmZmZkTQJqZmZmZmRFAZmZmZmZmFEAAAAAAAAAUQAAAAAAAABJAmpmZmZmZEUAAAAAAAAAUQGZmZmZmZhRAMzMzMzMzE0BmZmZmZmYUQGZmZmZmZhJAMzMzMzMzFUAAAAAAAAAUQAAAAAAAABxAmpmZmZmZGUCamZmZmZkbQAAAAAAAABZAAAAAAAAAGkDNzMzMzMwWQDMzMzMzMxlAmpmZmZmZE0BmZmZmZmYaQM3MzMzMzBRAAAAAAAAAFECamZmZmZkXQAAAAAAAABhAZmZmZmZmGEBmZmZmZmYWQM3MzMzMzBpAZmZmZmZmFkAzMzMzMzMXQM3MzMzMzBhAZmZmZmZmFkCamZmZmZkXQGZmZmZmZhhAMzMzMzMzGUBmZmZmZmYYQJqZmZmZmRlAZmZmZmZmGkAzMzMzMzMbQM3MzMzMzBpAAAAAAAAAGEDNzMzMzMwWQAAAAAAAABZAAAAAAAAAFkAzMzMzMzMXQAAAAAAAABhAmpmZmZmZFUAAAAAAAAAYQM3MzMzMzBpAMzMzMzMzGUBmZmZmZmYWQAAAAAAAABZAAAAAAAAAFkBmZmZmZmYYQDMzMzMzMxdAAAAAAAAAFEBmZmZmZmYWQM3MzMzMzBZAzczMzMzMFkDNzMzMzMwYQGZmZmZmZhRAzczMzMzMFkAzMzMzMzMZQDMzMzMzMxdAZmZmZmZmHEAzMzMzMzMZQAAAAAAAABpAZmZmZmZmHkCamZmZmZkTQDMzMzMzMx1AzczMzMzMGkDNzMzMzMwcQAAAAAAAABpAmpmZmZmZGUAzMzMzMzMbQM3MzMzMzBZAMzMzMzMzF0CamZmZmZkZQAAAAAAAABpAzczMzMzMHkDNzMzMzMweQAAAAAAAABhAmpmZmZmZG0BmZmZmZmYWQM3MzMzMzB5AMzMzMzMzGUDNzMzMzMwaQM3MzMzMzBxAzczMzMzMGEBmZmZmZmYYQJqZmZmZmRlAzczMzMzMHECamZmZmZkdQJqZmZmZmR9AmpmZmZmZGUAzMzMzMzMZQGZmZmZmZhhAzczMzMzMHkAzMzMzMzMZQJqZmZmZmRlAAAAAAAAAGECamZmZmZkbQM3MzMzMzBpAmpmZmZmZG0AzMzMzMzMXQDMzMzMzMxtAzczMzMzMGkDNzMzMzMwaQDMzMzMzMxlAAAAAAAAAGkDNzMzMzMwYQJqZmZmZmRdA\",\"dtype\":\"float64\",\"shape\":[150]},\"sepal width (cm)\":{\"__ndarray__\":\"AAAAAAAADEAAAAAAAAAIQJqZmZmZmQlAzczMzMzMCEDNzMzMzMwMQDMzMzMzMw9AMzMzMzMzC0AzMzMzMzMLQDMzMzMzMwdAzczMzMzMCECamZmZmZkNQDMzMzMzMwtAAAAAAAAACEAAAAAAAAAIQAAAAAAAABBAmpmZmZmZEUAzMzMzMzMPQAAAAAAAAAxAZmZmZmZmDkBmZmZmZmYOQDMzMzMzMwtAmpmZmZmZDUDNzMzMzMwMQGZmZmZmZgpAMzMzMzMzC0AAAAAAAAAIQDMzMzMzMwtAAAAAAAAADEAzMzMzMzMLQJqZmZmZmQlAzczMzMzMCEAzMzMzMzMLQGZmZmZmZhBAzczMzMzMEEDNzMzMzMwIQJqZmZmZmQlAAAAAAAAADEDNzMzMzMwIQAAAAAAAAAhAMzMzMzMzC0AAAAAAAAAMQGZmZmZmZgJAmpmZmZmZCUAAAAAAAAAMQGZmZmZmZg5AAAAAAAAACEBmZmZmZmYOQJqZmZmZmQlAmpmZmZmZDUBmZmZmZmYKQJqZmZmZmQlAmpmZmZmZCUDNzMzMzMwIQGZmZmZmZgJAZmZmZmZmBkBmZmZmZmYGQGZmZmZmZgpAMzMzMzMzA0AzMzMzMzMHQJqZmZmZmQVAAAAAAAAAAEAAAAAAAAAIQJqZmZmZmQFAMzMzMzMzB0AzMzMzMzMHQM3MzMzMzAhAAAAAAAAACECamZmZmZkFQJqZmZmZmQFAAAAAAAAABECamZmZmZkJQGZmZmZmZgZAAAAAAAAABEBmZmZmZmYGQDMzMzMzMwdAAAAAAAAACEBmZmZmZmYGQAAAAAAAAAhAMzMzMzMzB0DNzMzMzMwEQDMzMzMzMwNAMzMzMzMzA0CamZmZmZkFQJqZmZmZmQVAAAAAAAAACEAzMzMzMzMLQM3MzMzMzAhAZmZmZmZmAkAAAAAAAAAIQAAAAAAAAARAzczMzMzMBEAAAAAAAAAIQM3MzMzMzARAZmZmZmZmAkCamZmZmZkFQAAAAAAAAAhAMzMzMzMzB0AzMzMzMzMHQAAAAAAAAARAZmZmZmZmBkBmZmZmZmYKQJqZmZmZmQVAAAAAAAAACEAzMzMzMzMHQAAAAAAAAAhAAAAAAAAACEAAAAAAAAAEQDMzMzMzMwdAAAAAAAAABEDNzMzMzMwMQJqZmZmZmQlAmpmZmZmZBUAAAAAAAAAIQAAAAAAAAARAZmZmZmZmBkCamZmZmZkJQAAAAAAAAAhAZmZmZmZmDkDNzMzMzMwEQJqZmZmZmQFAmpmZmZmZCUBmZmZmZmYGQGZmZmZmZgZAmpmZmZmZBUBmZmZmZmYKQJqZmZmZmQlAZmZmZmZmBkAAAAAAAAAIQGZmZmZmZgZAAAAAAAAACEBmZmZmZmYGQGZmZmZmZg5AZmZmZmZmBkBmZmZmZmYGQM3MzMzMzARAAAAAAAAACEAzMzMzMzMLQM3MzMzMzAhAAAAAAAAACEDNzMzMzMwIQM3MzMzMzAhAzczMzMzMCECamZmZmZkFQJqZmZmZmQlAZmZmZmZmCkAAAAAAAAAIQAAAAAAAAARAAAAAAAAACEAzMzMzMzMLQAAAAAAAAAhA\",\"dtype\":\"float64\",\"shape\":[150]},\"target\":[\"setosa\",\"setosa\",\"setosa\",\"setosa\",\"setosa\",\"setosa\",\"setosa\",\"setosa\",\"setosa\",\"setosa\",\"setosa\",\"setosa\",\"setosa\",\"setosa\",\"setosa\",\"setosa\",\"setosa\",\"setosa\",\"setosa\",\"setosa\",\"setosa\",\"setosa\",\"setosa\",\"setosa\",\"setosa\",\"setosa\",\"setosa\",\"setosa\",\"setosa\",\"setosa\",\"setosa\",\"setosa\",\"setosa\",\"setosa\",\"setosa\",\"setosa\",\"setosa\",\"setosa\",\"setosa\",\"setosa\",\"setosa\",\"setosa\",\"setosa\",\"setosa\",\"setosa\",\"setosa\",\"setosa\",\"setosa\",\"setosa\",\"setosa\",\"versicolor\",\"versicolor\",\"versicolor\",\"versicolor\",\"versicolor\",\"versicolor\",\"versicolor\",\"versicolor\",\"versicolor\",\"versicolor\",\"versicolor\",\"versicolor\",\"versicolor\",\"versicolor\",\"versicolor\",\"versicolor\",\"versicolor\",\"versicolor\",\"versicolor\",\"versicolor\",\"versicolor\",\"versicolor\",\"versicolor\",\"versicolor\",\"versicolor\",\"versicolor\",\"versicolor\",\"versicolor\",\"versicolor\",\"versicolor\",\"versicolor\",\"versicolor\",\"versicolor\",\"versicolor\",\"versicolor\",\"versicolor\",\"versicolor\",\"versicolor\",\"versicolor\",\"versicolor\",\"versicolor\",\"versicolor\",\"versicolor\",\"versicolor\",\"versicolor\",\"versicolor\",\"versicolor\",\"versicolor\",\"versicolor\",\"versicolor\",\"virginica\",\"virginica\",\"virginica\",\"virginica\",\"virginica\",\"virginica\",\"virginica\",\"virginica\",\"virginica\",\"virginica\",\"virginica\",\"virginica\",\"virginica\",\"virginica\",\"virginica\",\"virginica\",\"virginica\",\"virginica\",\"virginica\",\"virginica\",\"virginica\",\"virginica\",\"virginica\",\"virginica\",\"virginica\",\"virginica\",\"virginica\",\"virginica\",\"virginica\",\"virginica\",\"virginica\",\"virginica\",\"virginica\",\"virginica\",\"virginica\",\"virginica\",\"virginica\",\"virginica\",\"virginica\",\"virginica\",\"virginica\",\"virginica\",\"virginica\",\"virginica\",\"virginica\",\"virginica\",\"virginica\",\"virginica\",\"virginica\",\"virginica\"]},\"selected\":{\"id\":\"387c09f4-c3ef-42b1-a25e-58ea9937e679\",\"type\":\"Selection\"},\"selection_policy\":{\"id\":\"1a095ec8-507e-4cef-a9c3-f3f5c00414b4\",\"type\":\"UnionRenderers\"}},\"id\":\"be18830b-a360-41f9-8df4-8b8f2bbbb625\",\"type\":\"ColumnDataSource\"},{\"attributes\":{\"callback\":null},\"id\":\"886b954a-2312-46bd-bccb-696fe141e9e5\",\"type\":\"DataRange1d\"},{\"attributes\":{\"items\":[{\"id\":\"6fa8f0b8-7d60-4737-a300-13723891e7ac\",\"type\":\"LegendItem\"}],\"plot\":{\"id\":\"27516079-06f7-44af-b13a-0d9b8f65fd31\",\"subtype\":\"Figure\",\"type\":\"Plot\"}},\"id\":\"81d787ba-addc-4335-a8f2-0882ebd0b6c2\",\"type\":\"Legend\"},{\"attributes\":{},\"id\":\"377a6c75-1a8d-4e97-b545-a5fe4c360471\",\"type\":\"LinearScale\"},{\"attributes\":{\"data_source\":{\"id\":\"be18830b-a360-41f9-8df4-8b8f2bbbb625\",\"type\":\"ColumnDataSource\"},\"glyph\":{\"id\":\"438e4376-24a3-4d59-8a69-673472557deb\",\"type\":\"Circle\"},\"hover_glyph\":null,\"muted_glyph\":null,\"nonselection_glyph\":{\"id\":\"1ce4d48d-abfe-4db0-8d62-18b6622a70fb\",\"type\":\"Circle\"},\"selection_glyph\":null,\"view\":{\"id\":\"a52a40c5-0f3a-4a7c-93ba-b429ed1143b2\",\"type\":\"CDSView\"}},\"id\":\"35aa8a0b-4201-47ff-a96a-817f16017545\",\"type\":\"GlyphRenderer\"},{\"attributes\":{},\"id\":\"06816a30-bf1e-4546-8735-95ed67bb9297\",\"type\":\"LinearScale\"},{\"attributes\":{},\"id\":\"733735eb-7c34-4f5c-8c29-e8cbb7eabccc\",\"type\":\"BasicTicker\"},{\"attributes\":{},\"id\":\"dc87cd6d-38ed-4db3-a8b9-1f0abf873335\",\"type\":\"BasicTicker\"},{\"attributes\":{\"dimension\":1,\"plot\":{\"id\":\"27516079-06f7-44af-b13a-0d9b8f65fd31\",\"subtype\":\"Figure\",\"type\":\"Plot\"},\"ticker\":{\"id\":\"733735eb-7c34-4f5c-8c29-e8cbb7eabccc\",\"type\":\"BasicTicker\"}},\"id\":\"01fffdac-4885-4c20-8159-f2449dd2aabf\",\"type\":\"Grid\"},{\"attributes\":{\"plot\":{\"id\":\"27516079-06f7-44af-b13a-0d9b8f65fd31\",\"subtype\":\"Figure\",\"type\":\"Plot\"},\"ticker\":{\"id\":\"dc87cd6d-38ed-4db3-a8b9-1f0abf873335\",\"type\":\"BasicTicker\"}},\"id\":\"fbabd32a-813e-439f-b0f8-3b6ec23c2e74\",\"type\":\"Grid\"},{\"attributes\":{},\"id\":\"387c09f4-c3ef-42b1-a25e-58ea9937e679\",\"type\":\"Selection\"},{\"attributes\":{\"fill_color\":{\"value\":\"#1f77b4\"},\"line_color\":{\"value\":\"#1f77b4\"},\"x\":{\"field\":\"sepal length (cm)\"},\"y\":{\"field\":\"petal length (cm)\"}},\"id\":\"438e4376-24a3-4d59-8a69-673472557deb\",\"type\":\"Circle\"},{\"attributes\":{\"fill_alpha\":{\"value\":0.1},\"fill_color\":{\"value\":\"#1f77b4\"},\"line_alpha\":{\"value\":0.1},\"line_color\":{\"value\":\"#1f77b4\"},\"x\":{\"field\":\"sepal length (cm)\"},\"y\":{\"field\":\"petal length (cm)\"}},\"id\":\"96eefe23-c65a-4803-ae32-9a8e619174bb\",\"type\":\"Circle\"},{\"attributes\":{},\"id\":\"0d62c738-0f53-49ff-9670-74d682bbdc7d\",\"type\":\"PanTool\"},{\"attributes\":{\"bottom_units\":\"screen\",\"fill_alpha\":{\"value\":0.5},\"fill_color\":{\"value\":\"lightgrey\"},\"left_units\":\"screen\",\"level\":\"overlay\",\"line_alpha\":{\"value\":1.0},\"line_color\":{\"value\":\"black\"},\"line_dash\":[4,4],\"line_width\":{\"value\":2},\"plot\":null,\"render_mode\":\"css\",\"right_units\":\"screen\",\"top_units\":\"screen\"},\"id\":\"beab2067-8e5d-47a5-a871-a2c7da5c0638\",\"type\":\"BoxAnnotation\"},{\"attributes\":{\"source\":{\"id\":\"be18830b-a360-41f9-8df4-8b8f2bbbb625\",\"type\":\"ColumnDataSource\"}},\"id\":\"a52a40c5-0f3a-4a7c-93ba-b429ed1143b2\",\"type\":\"CDSView\"}],\"root_ids\":[\"27516079-06f7-44af-b13a-0d9b8f65fd31\"]},\"title\":\"Bokeh Application\",\"version\":\"0.12.16\"}};\n",
       "  var render_items = [{\"docid\":\"e9be2382-e8e2-4c9b-b8bf-f9d23a87eee5\",\"elementid\":\"4cc83c1d-8e75-4b0b-98c2-76d563bb8e70\",\"modelid\":\"27516079-06f7-44af-b13a-0d9b8f65fd31\"}];\n",
       "  root.Bokeh.embed.embed_items_notebook(docs_json, render_items);\n",
       "\n",
       "  }\n",
       "  if (root.Bokeh !== undefined) {\n",
       "    embed_document(root);\n",
       "  } else {\n",
       "    var attempts = 0;\n",
       "    var timer = setInterval(function(root) {\n",
       "      if (root.Bokeh !== undefined) {\n",
       "        embed_document(root);\n",
       "        clearInterval(timer);\n",
       "      }\n",
       "      attempts++;\n",
       "      if (attempts > 100) {\n",
       "        console.log(\"Bokeh: ERROR: Unable to run BokehJS code because BokehJS library is missing\")\n",
       "        clearInterval(timer);\n",
       "      }\n",
       "    }, 10, root)\n",
       "  }\n",
       "})(window);"
      ],
      "application/vnd.bokehjs_exec.v0+json": ""
     },
     "metadata": {
      "application/vnd.bokehjs_exec.v0+json": {
       "id": "27516079-06f7-44af-b13a-0d9b8f65fd31"
      }
     },
     "output_type": "display_data"
    }
   ],
   "source": [
    "from bokeh.models import CategoricalColorMapper\n",
    "\n",
    "# CategoricalColorMapper is used to map color to factors all we need to do is initialize CategoricalColorMapper\n",
    "# with factor that you want to and mention palette i.e color\n",
    "color_mapper = CategoricalColorMapper(factors=np.unique(df.target),\n",
    "                                      palette=['red', 'green', 'blue'])\n",
    "# add dictionary to circle with field and transformer \n",
    "p.circle(x='sepal length (cm)', y='petal length (cm)', source=source,\n",
    "         color=dict(field='target',transform=color_mapper),\n",
    "            legend='target')\n",
    "\n",
    "show(p)"
   ]
  },
  {
   "cell_type": "code",
   "execution_count": 9,
   "metadata": {},
   "outputs": [],
   "source": [
    "from bokeh.palettes  import Spectral3\n",
    "from bokeh.layouts import gridplot"
   ]
  },
  {
   "cell_type": "code",
   "execution_count": 10,
   "metadata": {},
   "outputs": [
    {
     "data": {
      "text/html": [
       "\n",
       "<div class=\"bk-root\">\n",
       "    <div class=\"bk-plotdiv\" id=\"bb4a96f9-dc2d-4cb2-8921-7131a36fef47\"></div>\n",
       "</div>"
      ]
     },
     "metadata": {},
     "output_type": "display_data"
    },
    {
     "data": {
      "application/javascript": [
       "(function(root) {\n",
       "  function embed_document(root) {\n",
       "    \n",
       "  var docs_json = {\"9731ef8e-b390-4230-ba71-aef120966c8b\":{\"roots\":{\"references\":[{\"attributes\":{\"dimension\":1,\"plot\":{\"id\":\"e42cbcaf-4ec0-489e-96c6-82f2cb25c691\",\"subtype\":\"Figure\",\"type\":\"Plot\"},\"ticker\":{\"id\":\"81f1e56b-c520-45a5-912f-8fcefba46518\",\"type\":\"BasicTicker\"}},\"id\":\"587a4a59-8874-476d-91d7-67b288b7c330\",\"type\":\"Grid\"},{\"attributes\":{\"callback\":null,\"data\":{\"index\":[0,1,2,3,4,5,6,7,8,9,10,11,12,13,14,15,16,17,18,19,20,21,22,23,24,25,26,27,28,29,30,31,32,33,34,35,36,37,38,39,40,41,42,43,44,45,46,47,48,49,50,51,52,53,54,55,56,57,58,59,60,61,62,63,64,65,66,67,68,69,70,71,72,73,74,75,76,77,78,79,80,81,82,83,84,85,86,87,88,89,90,91,92,93,94,95,96,97,98,99,100,101,102,103,104,105,106,107,108,109,110,111,112,113,114,115,116,117,118,119,120,121,122,123,124,125,126,127,128,129,130,131,132,133,134,135,136,137,138,139,140,141,142,143,144,145,146,147,148,149],\"petal length (cm)\":{\"__ndarray__\":\"ZmZmZmZm9j9mZmZmZmb2P83MzMzMzPQ/AAAAAAAA+D9mZmZmZmb2PzMzMzMzM/s/ZmZmZmZm9j8AAAAAAAD4P2ZmZmZmZvY/AAAAAAAA+D8AAAAAAAD4P5qZmZmZmfk/ZmZmZmZm9j+amZmZmZnxPzMzMzMzM/M/AAAAAAAA+D/NzMzMzMz0P2ZmZmZmZvY/MzMzMzMz+z8AAAAAAAD4PzMzMzMzM/s/AAAAAAAA+D8AAAAAAADwPzMzMzMzM/s/ZmZmZmZm/j+amZmZmZn5P5qZmZmZmfk/AAAAAAAA+D9mZmZmZmb2P5qZmZmZmfk/mpmZmZmZ+T8AAAAAAAD4PwAAAAAAAPg/ZmZmZmZm9j8AAAAAAAD4PzMzMzMzM/M/zczMzMzM9D8AAAAAAAD4P83MzMzMzPQ/AAAAAAAA+D/NzMzMzMz0P83MzMzMzPQ/zczMzMzM9D+amZmZmZn5P2ZmZmZmZv4/ZmZmZmZm9j+amZmZmZn5P2ZmZmZmZvY/AAAAAAAA+D9mZmZmZmb2P83MzMzMzBJAAAAAAAAAEkCamZmZmZkTQAAAAAAAABBAZmZmZmZmEkAAAAAAAAASQM3MzMzMzBJAZmZmZmZmCkBmZmZmZmYSQDMzMzMzMw9AAAAAAAAADEDNzMzMzMwQQAAAAAAAABBAzczMzMzMEkDNzMzMzMwMQJqZmZmZmRFAAAAAAAAAEkBmZmZmZmYQQAAAAAAAABJAMzMzMzMzD0AzMzMzMzMTQAAAAAAAABBAmpmZmZmZE0DNzMzMzMwSQDMzMzMzMxFAmpmZmZmZEUAzMzMzMzMTQAAAAAAAABRAAAAAAAAAEkAAAAAAAAAMQGZmZmZmZg5AmpmZmZmZDUAzMzMzMzMPQGZmZmZmZhRAAAAAAAAAEkAAAAAAAAASQM3MzMzMzBJAmpmZmZmZEUBmZmZmZmYQQAAAAAAAABBAmpmZmZmZEUBmZmZmZmYSQAAAAAAAABBAZmZmZmZmCkDNzMzMzMwQQM3MzMzMzBBAzczMzMzMEEAzMzMzMzMRQAAAAAAAAAhAZmZmZmZmEEAAAAAAAAAYQGZmZmZmZhRAmpmZmZmZF0BmZmZmZmYWQDMzMzMzMxdAZmZmZmZmGkAAAAAAAAASQDMzMzMzMxlAMzMzMzMzF0BmZmZmZmYYQGZmZmZmZhRAMzMzMzMzFUAAAAAAAAAWQAAAAAAAABRAZmZmZmZmFEAzMzMzMzMVQAAAAAAAABZAzczMzMzMGkCamZmZmZkbQAAAAAAAABRAzczMzMzMFkCamZmZmZkTQM3MzMzMzBpAmpmZmZmZE0DNzMzMzMwWQAAAAAAAABhAMzMzMzMzE0CamZmZmZkTQGZmZmZmZhZAMzMzMzMzF0BmZmZmZmYYQJqZmZmZmRlAZmZmZmZmFkBmZmZmZmYUQGZmZmZmZhZAZmZmZmZmGEBmZmZmZmYWQAAAAAAAABZAMzMzMzMzE0CamZmZmZkVQGZmZmZmZhZAZmZmZmZmFEBmZmZmZmYUQJqZmZmZmRdAzczMzMzMFkDNzMzMzMwUQAAAAAAAABRAzczMzMzMFECamZmZmZkVQGZmZmZmZhRA\",\"dtype\":\"float64\",\"shape\":[150]},\"petal width (cm)\":{\"__ndarray__\":\"mpmZmZmZyT+amZmZmZnJP5qZmZmZmck/mpmZmZmZyT+amZmZmZnJP5qZmZmZmdk/MzMzMzMz0z+amZmZmZnJP5qZmZmZmck/mpmZmZmZuT+amZmZmZnJP5qZmZmZmck/mpmZmZmZuT+amZmZmZm5P5qZmZmZmck/mpmZmZmZ2T+amZmZmZnZPzMzMzMzM9M/MzMzMzMz0z8zMzMzMzPTP5qZmZmZmck/mpmZmZmZ2T+amZmZmZnJPwAAAAAAAOA/mpmZmZmZyT+amZmZmZnJP5qZmZmZmdk/mpmZmZmZyT+amZmZmZnJP5qZmZmZmck/mpmZmZmZyT+amZmZmZnZP5qZmZmZmbk/mpmZmZmZyT+amZmZmZm5P5qZmZmZmck/mpmZmZmZyT+amZmZmZm5P5qZmZmZmck/mpmZmZmZyT8zMzMzMzPTPzMzMzMzM9M/mpmZmZmZyT8zMzMzMzPjP5qZmZmZmdk/MzMzMzMz0z+amZmZmZnJP5qZmZmZmck/mpmZmZmZyT+amZmZmZnJP2ZmZmZmZvY/AAAAAAAA+D8AAAAAAAD4P83MzMzMzPQ/AAAAAAAA+D/NzMzMzMz0P5qZmZmZmfk/AAAAAAAA8D/NzMzMzMz0P2ZmZmZmZvY/AAAAAAAA8D8AAAAAAAD4PwAAAAAAAPA/ZmZmZmZm9j/NzMzMzMz0P2ZmZmZmZvY/AAAAAAAA+D8AAAAAAADwPwAAAAAAAPg/mpmZmZmZ8T/NzMzMzMz8P83MzMzMzPQ/AAAAAAAA+D8zMzMzMzPzP83MzMzMzPQ/ZmZmZmZm9j9mZmZmZmb2PzMzMzMzM/s/AAAAAAAA+D8AAAAAAADwP5qZmZmZmfE/AAAAAAAA8D8zMzMzMzPzP5qZmZmZmfk/AAAAAAAA+D+amZmZmZn5PwAAAAAAAPg/zczMzMzM9D/NzMzMzMz0P83MzMzMzPQ/MzMzMzMz8z9mZmZmZmb2PzMzMzMzM/M/AAAAAAAA8D/NzMzMzMz0PzMzMzMzM/M/zczMzMzM9D/NzMzMzMz0P5qZmZmZmfE/zczMzMzM9D8AAAAAAAAEQGZmZmZmZv4/zczMzMzMAEDNzMzMzMz8P5qZmZmZmQFAzczMzMzMAEAzMzMzMzP7P83MzMzMzPw/zczMzMzM/D8AAAAAAAAEQAAAAAAAAABAZmZmZmZm/j/NzMzMzMwAQAAAAAAAAABAMzMzMzMzA0BmZmZmZmYCQM3MzMzMzPw/mpmZmZmZAUBmZmZmZmYCQAAAAAAAAPg/ZmZmZmZmAkAAAAAAAAAAQAAAAAAAAABAzczMzMzM/D/NzMzMzMwAQM3MzMzMzPw/zczMzMzM/D/NzMzMzMz8P83MzMzMzABAmpmZmZmZ+T9mZmZmZmb+PwAAAAAAAABAmpmZmZmZAUAAAAAAAAD4P2ZmZmZmZvY/ZmZmZmZmAkAzMzMzMzMDQM3MzMzMzPw/zczMzMzM/D/NzMzMzMwAQDMzMzMzMwNAZmZmZmZmAkBmZmZmZmb+P2ZmZmZmZgJAAAAAAAAABEBmZmZmZmYCQGZmZmZmZv4/AAAAAAAAAEBmZmZmZmYCQM3MzMzMzPw/\",\"dtype\":\"float64\",\"shape\":[150]},\"sepal length (cm)\":{\"__ndarray__\":\"ZmZmZmZmFECamZmZmZkTQM3MzMzMzBJAZmZmZmZmEkAAAAAAAAAUQJqZmZmZmRVAZmZmZmZmEkAAAAAAAAAUQJqZmZmZmRFAmpmZmZmZE0CamZmZmZkVQDMzMzMzMxNAMzMzMzMzE0AzMzMzMzMRQDMzMzMzMxdAzczMzMzMFkCamZmZmZkVQGZmZmZmZhRAzczMzMzMFkBmZmZmZmYUQJqZmZmZmRVAZmZmZmZmFEBmZmZmZmYSQGZmZmZmZhRAMzMzMzMzE0AAAAAAAAAUQAAAAAAAABRAzczMzMzMFEDNzMzMzMwUQM3MzMzMzBJAMzMzMzMzE0CamZmZmZkVQM3MzMzMzBRAAAAAAAAAFkCamZmZmZkTQAAAAAAAABRAAAAAAAAAFkCamZmZmZkTQJqZmZmZmRFAZmZmZmZmFEAAAAAAAAAUQAAAAAAAABJAmpmZmZmZEUAAAAAAAAAUQGZmZmZmZhRAMzMzMzMzE0BmZmZmZmYUQGZmZmZmZhJAMzMzMzMzFUAAAAAAAAAUQAAAAAAAABxAmpmZmZmZGUCamZmZmZkbQAAAAAAAABZAAAAAAAAAGkDNzMzMzMwWQDMzMzMzMxlAmpmZmZmZE0BmZmZmZmYaQM3MzMzMzBRAAAAAAAAAFECamZmZmZkXQAAAAAAAABhAZmZmZmZmGEBmZmZmZmYWQM3MzMzMzBpAZmZmZmZmFkAzMzMzMzMXQM3MzMzMzBhAZmZmZmZmFkCamZmZmZkXQGZmZmZmZhhAMzMzMzMzGUBmZmZmZmYYQJqZmZmZmRlAZmZmZmZmGkAzMzMzMzMbQM3MzMzMzBpAAAAAAAAAGEDNzMzMzMwWQAAAAAAAABZAAAAAAAAAFkAzMzMzMzMXQAAAAAAAABhAmpmZmZmZFUAAAAAAAAAYQM3MzMzMzBpAMzMzMzMzGUBmZmZmZmYWQAAAAAAAABZAAAAAAAAAFkBmZmZmZmYYQDMzMzMzMxdAAAAAAAAAFEBmZmZmZmYWQM3MzMzMzBZAzczMzMzMFkDNzMzMzMwYQGZmZmZmZhRAzczMzMzMFkAzMzMzMzMZQDMzMzMzMxdAZmZmZmZmHEAzMzMzMzMZQAAAAAAAABpAZmZmZmZmHkCamZmZmZkTQDMzMzMzMx1AzczMzMzMGkDNzMzMzMwcQAAAAAAAABpAmpmZmZmZGUAzMzMzMzMbQM3MzMzMzBZAMzMzMzMzF0CamZmZmZkZQAAAAAAAABpAzczMzMzMHkDNzMzMzMweQAAAAAAAABhAmpmZmZmZG0BmZmZmZmYWQM3MzMzMzB5AMzMzMzMzGUDNzMzMzMwaQM3MzMzMzBxAzczMzMzMGEBmZmZmZmYYQJqZmZmZmRlAzczMzMzMHECamZmZmZkdQJqZmZmZmR9AmpmZmZmZGUAzMzMzMzMZQGZmZmZmZhhAzczMzMzMHkAzMzMzMzMZQJqZmZmZmRlAAAAAAAAAGECamZmZmZkbQM3MzMzMzBpAmpmZmZmZG0AzMzMzMzMXQDMzMzMzMxtAzczMzMzMGkDNzMzMzMwaQDMzMzMzMxlAAAAAAAAAGkDNzMzMzMwYQJqZmZmZmRdA\",\"dtype\":\"float64\",\"shape\":[150]},\"sepal width (cm)\":{\"__ndarray__\":\"AAAAAAAADEAAAAAAAAAIQJqZmZmZmQlAzczMzMzMCEDNzMzMzMwMQDMzMzMzMw9AMzMzMzMzC0AzMzMzMzMLQDMzMzMzMwdAzczMzMzMCECamZmZmZkNQDMzMzMzMwtAAAAAAAAACEAAAAAAAAAIQAAAAAAAABBAmpmZmZmZEUAzMzMzMzMPQAAAAAAAAAxAZmZmZmZmDkBmZmZmZmYOQDMzMzMzMwtAmpmZmZmZDUDNzMzMzMwMQGZmZmZmZgpAMzMzMzMzC0AAAAAAAAAIQDMzMzMzMwtAAAAAAAAADEAzMzMzMzMLQJqZmZmZmQlAzczMzMzMCEAzMzMzMzMLQGZmZmZmZhBAzczMzMzMEEDNzMzMzMwIQJqZmZmZmQlAAAAAAAAADEDNzMzMzMwIQAAAAAAAAAhAMzMzMzMzC0AAAAAAAAAMQGZmZmZmZgJAmpmZmZmZCUAAAAAAAAAMQGZmZmZmZg5AAAAAAAAACEBmZmZmZmYOQJqZmZmZmQlAmpmZmZmZDUBmZmZmZmYKQJqZmZmZmQlAmpmZmZmZCUDNzMzMzMwIQGZmZmZmZgJAZmZmZmZmBkBmZmZmZmYGQGZmZmZmZgpAMzMzMzMzA0AzMzMzMzMHQJqZmZmZmQVAAAAAAAAAAEAAAAAAAAAIQJqZmZmZmQFAMzMzMzMzB0AzMzMzMzMHQM3MzMzMzAhAAAAAAAAACECamZmZmZkFQJqZmZmZmQFAAAAAAAAABECamZmZmZkJQGZmZmZmZgZAAAAAAAAABEBmZmZmZmYGQDMzMzMzMwdAAAAAAAAACEBmZmZmZmYGQAAAAAAAAAhAMzMzMzMzB0DNzMzMzMwEQDMzMzMzMwNAMzMzMzMzA0CamZmZmZkFQJqZmZmZmQVAAAAAAAAACEAzMzMzMzMLQM3MzMzMzAhAZmZmZmZmAkAAAAAAAAAIQAAAAAAAAARAzczMzMzMBEAAAAAAAAAIQM3MzMzMzARAZmZmZmZmAkCamZmZmZkFQAAAAAAAAAhAMzMzMzMzB0AzMzMzMzMHQAAAAAAAAARAZmZmZmZmBkBmZmZmZmYKQJqZmZmZmQVAAAAAAAAACEAzMzMzMzMHQAAAAAAAAAhAAAAAAAAACEAAAAAAAAAEQDMzMzMzMwdAAAAAAAAABEDNzMzMzMwMQJqZmZmZmQlAmpmZmZmZBUAAAAAAAAAIQAAAAAAAAARAZmZmZmZmBkCamZmZmZkJQAAAAAAAAAhAZmZmZmZmDkDNzMzMzMwEQJqZmZmZmQFAmpmZmZmZCUBmZmZmZmYGQGZmZmZmZgZAmpmZmZmZBUBmZmZmZmYKQJqZmZmZmQlAZmZmZmZmBkAAAAAAAAAIQGZmZmZmZgZAAAAAAAAACEBmZmZmZmYGQGZmZmZmZg5AZmZmZmZmBkBmZmZmZmYGQM3MzMzMzARAAAAAAAAACEAzMzMzMzMLQM3MzMzMzAhAAAAAAAAACEDNzMzMzMwIQM3MzMzMzAhAzczMzMzMCECamZmZmZkFQJqZmZmZmQlAZmZmZmZmCkAAAAAAAAAIQAAAAAAAAARAAAAAAAAACEAzMzMzMzMLQAAAAAAAAAhA\",\"dtype\":\"float64\",\"shape\":[150]},\"target\":[\"setosa\",\"setosa\",\"setosa\",\"setosa\",\"setosa\",\"setosa\",\"setosa\",\"setosa\",\"setosa\",\"setosa\",\"setosa\",\"setosa\",\"setosa\",\"setosa\",\"setosa\",\"setosa\",\"setosa\",\"setosa\",\"setosa\",\"setosa\",\"setosa\",\"setosa\",\"setosa\",\"setosa\",\"setosa\",\"setosa\",\"setosa\",\"setosa\",\"setosa\",\"setosa\",\"setosa\",\"setosa\",\"setosa\",\"setosa\",\"setosa\",\"setosa\",\"setosa\",\"setosa\",\"setosa\",\"setosa\",\"setosa\",\"setosa\",\"setosa\",\"setosa\",\"setosa\",\"setosa\",\"setosa\",\"setosa\",\"setosa\",\"setosa\",\"versicolor\",\"versicolor\",\"versicolor\",\"versicolor\",\"versicolor\",\"versicolor\",\"versicolor\",\"versicolor\",\"versicolor\",\"versicolor\",\"versicolor\",\"versicolor\",\"versicolor\",\"versicolor\",\"versicolor\",\"versicolor\",\"versicolor\",\"versicolor\",\"versicolor\",\"versicolor\",\"versicolor\",\"versicolor\",\"versicolor\",\"versicolor\",\"versicolor\",\"versicolor\",\"versicolor\",\"versicolor\",\"versicolor\",\"versicolor\",\"versicolor\",\"versicolor\",\"versicolor\",\"versicolor\",\"versicolor\",\"versicolor\",\"versicolor\",\"versicolor\",\"versicolor\",\"versicolor\",\"versicolor\",\"versicolor\",\"versicolor\",\"versicolor\",\"versicolor\",\"versicolor\",\"versicolor\",\"versicolor\",\"versicolor\",\"versicolor\",\"virginica\",\"virginica\",\"virginica\",\"virginica\",\"virginica\",\"virginica\",\"virginica\",\"virginica\",\"virginica\",\"virginica\",\"virginica\",\"virginica\",\"virginica\",\"virginica\",\"virginica\",\"virginica\",\"virginica\",\"virginica\",\"virginica\",\"virginica\",\"virginica\",\"virginica\",\"virginica\",\"virginica\",\"virginica\",\"virginica\",\"virginica\",\"virginica\",\"virginica\",\"virginica\",\"virginica\",\"virginica\",\"virginica\",\"virginica\",\"virginica\",\"virginica\",\"virginica\",\"virginica\",\"virginica\",\"virginica\",\"virginica\",\"virginica\",\"virginica\",\"virginica\",\"virginica\",\"virginica\",\"virginica\",\"virginica\",\"virginica\",\"virginica\"]},\"selected\":{\"id\":\"32ded782-c48b-4938-ae50-0ba708fd78fd\",\"type\":\"Selection\"},\"selection_policy\":{\"id\":\"16ee75c4-c224-4eae-99ba-e1a923e471eb\",\"type\":\"UnionRenderers\"}},\"id\":\"829d75b1-b383-4550-b9a8-9a6a89380333\",\"type\":\"ColumnDataSource\"},{\"attributes\":{},\"id\":\"3011a036-2316-4313-b851-47c831233f9d\",\"type\":\"BasicTickFormatter\"},{\"attributes\":{\"factors\":[\"setosa\",\"versicolor\",\"virginica\"],\"palette\":[\"#99d594\",\"#ffffbf\",\"#fc8d59\"]},\"id\":\"e7c660a2-604b-4165-86ec-bb87ae492863\",\"type\":\"CategoricalColorMapper\"},{\"attributes\":{\"formatter\":{\"id\":\"d4f14b1c-2cab-4309-94e0-6c9008e6cfc3\",\"type\":\"BasicTickFormatter\"},\"plot\":{\"id\":\"e42cbcaf-4ec0-489e-96c6-82f2cb25c691\",\"subtype\":\"Figure\",\"type\":\"Plot\"},\"ticker\":{\"id\":\"3512a304-614a-402f-8ed3-3e3998eb0ffa\",\"type\":\"BasicTicker\"}},\"id\":\"1ba190cf-bdd5-48f4-beb4-cfcc3b0d505e\",\"type\":\"LinearAxis\"},{\"attributes\":{\"callback\":null,\"overlay\":{\"id\":\"a0d9541e-a03d-420f-b98b-291b1bff6634\",\"type\":\"BoxAnnotation\"}},\"id\":\"d9f4c194-c5a6-4bf4-b0f7-26cf1b9644b9\",\"type\":\"BoxSelectTool\"},{\"attributes\":{\"plot\":{\"id\":\"e42cbcaf-4ec0-489e-96c6-82f2cb25c691\",\"subtype\":\"Figure\",\"type\":\"Plot\"},\"ticker\":{\"id\":\"3512a304-614a-402f-8ed3-3e3998eb0ffa\",\"type\":\"BasicTicker\"}},\"id\":\"fbc96cf7-d039-4506-9699-463c55b23c99\",\"type\":\"Grid\"},{\"attributes\":{\"active_drag\":\"auto\",\"active_inspect\":\"auto\",\"active_scroll\":\"auto\",\"active_tap\":\"auto\",\"tools\":[{\"id\":\"823a9f8d-28b8-46c4-a778-c133abee9fc7\",\"type\":\"BoxSelectTool\"},{\"id\":\"251124d1-a5d5-4240-bdf4-9180632fc502\",\"type\":\"LassoSelectTool\"},{\"id\":\"221633d1-87f6-4c44-b15e-6e28c6aad581\",\"type\":\"HelpTool\"}]},\"id\":\"6d8183c2-8278-4757-a16f-8cb42abf456c\",\"type\":\"Toolbar\"},{\"attributes\":{\"source\":{\"id\":\"829d75b1-b383-4550-b9a8-9a6a89380333\",\"type\":\"ColumnDataSource\"}},\"id\":\"1d3d9137-f996-4da0-a2d3-871fb2fa1707\",\"type\":\"CDSView\"},{\"attributes\":{\"below\":[{\"id\":\"c8ca8ad0-05e8-4b2d-ba0b-e8ab74d2528e\",\"type\":\"LinearAxis\"}],\"left\":[{\"id\":\"925e8566-92f9-4235-a39b-932ca993b370\",\"type\":\"LinearAxis\"}],\"plot_height\":400,\"plot_width\":400,\"renderers\":[{\"id\":\"c8ca8ad0-05e8-4b2d-ba0b-e8ab74d2528e\",\"type\":\"LinearAxis\"},{\"id\":\"8a739409-c13b-43d9-9b60-7f02df775a80\",\"type\":\"Grid\"},{\"id\":\"925e8566-92f9-4235-a39b-932ca993b370\",\"type\":\"LinearAxis\"},{\"id\":\"31d7893c-5713-43e4-bbb0-6a60e116ec64\",\"type\":\"Grid\"},{\"id\":\"1947dd75-06df-46bb-b816-2440b8692cb4\",\"type\":\"BoxAnnotation\"},{\"id\":\"95f1efe7-946a-4250-99a1-160ecec54308\",\"type\":\"PolyAnnotation\"},{\"id\":\"cb1f5c38-0088-476a-859d-ae93f96abc7a\",\"type\":\"Legend\"},{\"id\":\"429ad8a1-72a4-4cb6-9027-c4edfdcf54e4\",\"type\":\"GlyphRenderer\"}],\"title\":null,\"toolbar\":{\"id\":\"6d8183c2-8278-4757-a16f-8cb42abf456c\",\"type\":\"Toolbar\"},\"toolbar_location\":null,\"x_range\":{\"id\":\"df0ddcf8-09b8-4fd9-bc3d-22e993c29d2c\",\"type\":\"DataRange1d\"},\"x_scale\":{\"id\":\"91a02b58-e671-4646-a06d-835fa2cb28a0\",\"type\":\"LinearScale\"},\"y_range\":{\"id\":\"39a9e943-750a-4bad-982b-bf9afbe31c5b\",\"type\":\"DataRange1d\"},\"y_scale\":{\"id\":\"c2e4668e-dd48-4bea-8f08-5c6c64cb0293\",\"type\":\"LinearScale\"}},\"id\":\"05b86566-8433-4205-9cfa-af45b347e474\",\"subtype\":\"Figure\",\"type\":\"Plot\"},{\"attributes\":{\"callback\":null,\"overlay\":{\"id\":\"abf7968c-46ab-4d30-9637-be5e3693311f\",\"type\":\"PolyAnnotation\"}},\"id\":\"5f88d32d-0769-4c6b-9ff5-34f498340c6b\",\"type\":\"LassoSelectTool\"},{\"attributes\":{\"fill_color\":{\"field\":\"target\",\"transform\":{\"id\":\"e7c660a2-604b-4165-86ec-bb87ae492863\",\"type\":\"CategoricalColorMapper\"}},\"line_color\":{\"field\":\"target\",\"transform\":{\"id\":\"e7c660a2-604b-4165-86ec-bb87ae492863\",\"type\":\"CategoricalColorMapper\"}},\"x\":{\"field\":\"sepal length (cm)\"},\"y\":{\"field\":\"petal length (cm)\"}},\"id\":\"a1f56820-463f-4ac1-941c-fce5a64f0d85\",\"type\":\"Circle\"},{\"attributes\":{},\"id\":\"39aecdda-663c-41d4-a0bf-47c2fa3487b1\",\"type\":\"HelpTool\"},{\"attributes\":{\"bottom_units\":\"screen\",\"fill_alpha\":{\"value\":0.5},\"fill_color\":{\"value\":\"lightgrey\"},\"left_units\":\"screen\",\"level\":\"overlay\",\"line_alpha\":{\"value\":1.0},\"line_color\":{\"value\":\"black\"},\"line_dash\":[4,4],\"line_width\":{\"value\":2},\"plot\":null,\"render_mode\":\"css\",\"right_units\":\"screen\",\"top_units\":\"screen\"},\"id\":\"1947dd75-06df-46bb-b816-2440b8692cb4\",\"type\":\"BoxAnnotation\"},{\"attributes\":{\"fill_alpha\":{\"value\":0.1},\"fill_color\":{\"value\":\"#1f77b4\"},\"line_alpha\":{\"value\":0.1},\"line_color\":{\"value\":\"#1f77b4\"},\"x\":{\"field\":\"petal length (cm)\"},\"y\":{\"field\":\"petal length (cm)\"}},\"id\":\"68e593fc-7ec9-4803-b38c-14c29c7d2368\",\"type\":\"Circle\"},{\"attributes\":{\"callback\":null},\"id\":\"39a9e943-750a-4bad-982b-bf9afbe31c5b\",\"type\":\"DataRange1d\"},{\"attributes\":{\"data_source\":{\"id\":\"829d75b1-b383-4550-b9a8-9a6a89380333\",\"type\":\"ColumnDataSource\"},\"glyph\":{\"id\":\"9bf1c3d8-d29a-44a8-9801-d4172aada08f\",\"type\":\"Circle\"},\"hover_glyph\":null,\"muted_glyph\":null,\"nonselection_glyph\":{\"id\":\"68e593fc-7ec9-4803-b38c-14c29c7d2368\",\"type\":\"Circle\"},\"selection_glyph\":null,\"view\":{\"id\":\"1d3d9137-f996-4da0-a2d3-871fb2fa1707\",\"type\":\"CDSView\"}},\"id\":\"bb54e34b-68ae-4f6f-9917-745a0bc06b90\",\"type\":\"GlyphRenderer\"},{\"attributes\":{},\"id\":\"91a02b58-e671-4646-a06d-835fa2cb28a0\",\"type\":\"LinearScale\"},{\"attributes\":{\"fill_alpha\":{\"value\":0.5},\"fill_color\":{\"value\":\"lightgrey\"},\"level\":\"overlay\",\"line_alpha\":{\"value\":1.0},\"line_color\":{\"value\":\"black\"},\"line_dash\":[4,4],\"line_width\":{\"value\":2},\"plot\":null,\"xs_units\":\"screen\",\"ys_units\":\"screen\"},\"id\":\"abf7968c-46ab-4d30-9637-be5e3693311f\",\"type\":\"PolyAnnotation\"},{\"attributes\":{\"formatter\":{\"id\":\"6d35b8e0-4a21-4a65-9f90-cd122c1e3c1c\",\"type\":\"BasicTickFormatter\"},\"plot\":{\"id\":\"05b86566-8433-4205-9cfa-af45b347e474\",\"subtype\":\"Figure\",\"type\":\"Plot\"},\"ticker\":{\"id\":\"e89fe2ad-235f-4ada-a540-f7a970e1ace2\",\"type\":\"BasicTicker\"}},\"id\":\"c8ca8ad0-05e8-4b2d-ba0b-e8ab74d2528e\",\"type\":\"LinearAxis\"},{\"attributes\":{\"label\":{\"field\":\"target\"},\"renderers\":[{\"id\":\"bb54e34b-68ae-4f6f-9917-745a0bc06b90\",\"type\":\"GlyphRenderer\"}]},\"id\":\"ed1b9b95-ed00-4b8f-ad26-33c070a9e6b6\",\"type\":\"LegendItem\"},{\"attributes\":{\"callback\":null},\"id\":\"df0ddcf8-09b8-4fd9-bc3d-22e993c29d2c\",\"type\":\"DataRange1d\"},{\"attributes\":{\"children\":[{\"id\":\"f3492b97-2008-4448-bcaa-8c11e23e9c96\",\"type\":\"Row\"}]},\"id\":\"a121b91b-60a4-4541-9ccb-e162f299826f\",\"type\":\"Column\"},{\"attributes\":{},\"id\":\"e89fe2ad-235f-4ada-a540-f7a970e1ace2\",\"type\":\"BasicTicker\"},{\"attributes\":{\"plot\":{\"id\":\"05b86566-8433-4205-9cfa-af45b347e474\",\"subtype\":\"Figure\",\"type\":\"Plot\"},\"ticker\":{\"id\":\"e89fe2ad-235f-4ada-a540-f7a970e1ace2\",\"type\":\"BasicTicker\"}},\"id\":\"8a739409-c13b-43d9-9b60-7f02df775a80\",\"type\":\"Grid\"},{\"attributes\":{},\"id\":\"d4f14b1c-2cab-4309-94e0-6c9008e6cfc3\",\"type\":\"BasicTickFormatter\"},{\"attributes\":{\"formatter\":{\"id\":\"3011a036-2316-4313-b851-47c831233f9d\",\"type\":\"BasicTickFormatter\"},\"plot\":{\"id\":\"05b86566-8433-4205-9cfa-af45b347e474\",\"subtype\":\"Figure\",\"type\":\"Plot\"},\"ticker\":{\"id\":\"af656389-28eb-4ec9-b320-a6876cfc3198\",\"type\":\"BasicTicker\"}},\"id\":\"925e8566-92f9-4235-a39b-932ca993b370\",\"type\":\"LinearAxis\"},{\"attributes\":{},\"id\":\"32ded782-c48b-4938-ae50-0ba708fd78fd\",\"type\":\"Selection\"},{\"attributes\":{},\"id\":\"af656389-28eb-4ec9-b320-a6876cfc3198\",\"type\":\"BasicTicker\"},{\"attributes\":{},\"id\":\"16ee75c4-c224-4eae-99ba-e1a923e471eb\",\"type\":\"UnionRenderers\"},{\"attributes\":{\"dimension\":1,\"plot\":{\"id\":\"05b86566-8433-4205-9cfa-af45b347e474\",\"subtype\":\"Figure\",\"type\":\"Plot\"},\"ticker\":{\"id\":\"af656389-28eb-4ec9-b320-a6876cfc3198\",\"type\":\"BasicTicker\"}},\"id\":\"31d7893c-5713-43e4-bbb0-6a60e116ec64\",\"type\":\"Grid\"},{\"attributes\":{\"items\":[{\"id\":\"ed1b9b95-ed00-4b8f-ad26-33c070a9e6b6\",\"type\":\"LegendItem\"}],\"location\":\"top_left\",\"plot\":{\"id\":\"e42cbcaf-4ec0-489e-96c6-82f2cb25c691\",\"subtype\":\"Figure\",\"type\":\"Plot\"}},\"id\":\"daf52bf9-99e9-492b-8fef-1a67e9daf70d\",\"type\":\"Legend\"},{\"attributes\":{},\"id\":\"6309f112-d634-428d-a946-9b5733d039dc\",\"type\":\"BasicTickFormatter\"},{\"attributes\":{\"children\":[{\"id\":\"05b86566-8433-4205-9cfa-af45b347e474\",\"subtype\":\"Figure\",\"type\":\"Plot\"},{\"id\":\"e42cbcaf-4ec0-489e-96c6-82f2cb25c691\",\"subtype\":\"Figure\",\"type\":\"Plot\"}]},\"id\":\"f3492b97-2008-4448-bcaa-8c11e23e9c96\",\"type\":\"Row\"},{\"attributes\":{\"callback\":null,\"overlay\":{\"id\":\"1947dd75-06df-46bb-b816-2440b8692cb4\",\"type\":\"BoxAnnotation\"}},\"id\":\"823a9f8d-28b8-46c4-a778-c133abee9fc7\",\"type\":\"BoxSelectTool\"},{\"attributes\":{\"source\":{\"id\":\"829d75b1-b383-4550-b9a8-9a6a89380333\",\"type\":\"ColumnDataSource\"}},\"id\":\"ef3dfa7c-fd4d-48e3-96c1-14d0fded26ea\",\"type\":\"CDSView\"},{\"attributes\":{\"tools\":[{\"id\":\"823a9f8d-28b8-46c4-a778-c133abee9fc7\",\"type\":\"BoxSelectTool\"},{\"id\":\"251124d1-a5d5-4240-bdf4-9180632fc502\",\"type\":\"LassoSelectTool\"},{\"id\":\"221633d1-87f6-4c44-b15e-6e28c6aad581\",\"type\":\"HelpTool\"},{\"id\":\"d9f4c194-c5a6-4bf4-b0f7-26cf1b9644b9\",\"type\":\"BoxSelectTool\"},{\"id\":\"5f88d32d-0769-4c6b-9ff5-34f498340c6b\",\"type\":\"LassoSelectTool\"},{\"id\":\"39aecdda-663c-41d4-a0bf-47c2fa3487b1\",\"type\":\"HelpTool\"}]},\"id\":\"a3f8a3ed-a03d-4bba-bab3-df4f289d6b38\",\"type\":\"ProxyToolbar\"},{\"attributes\":{\"callback\":null,\"overlay\":{\"id\":\"95f1efe7-946a-4250-99a1-160ecec54308\",\"type\":\"PolyAnnotation\"}},\"id\":\"251124d1-a5d5-4240-bdf4-9180632fc502\",\"type\":\"LassoSelectTool\"},{\"attributes\":{\"children\":[{\"id\":\"e0d00a17-1d5e-4a25-bbc9-853c6a13abe2\",\"type\":\"ToolbarBox\"},{\"id\":\"a121b91b-60a4-4541-9ccb-e162f299826f\",\"type\":\"Column\"}]},\"id\":\"e9a9c3be-70dc-4aeb-a1a9-741b3f65974b\",\"type\":\"Column\"},{\"attributes\":{},\"id\":\"221633d1-87f6-4c44-b15e-6e28c6aad581\",\"type\":\"HelpTool\"},{\"attributes\":{},\"id\":\"3512a304-614a-402f-8ed3-3e3998eb0ffa\",\"type\":\"BasicTicker\"},{\"attributes\":{\"fill_alpha\":{\"value\":0.1},\"fill_color\":{\"value\":\"#1f77b4\"},\"line_alpha\":{\"value\":0.1},\"line_color\":{\"value\":\"#1f77b4\"},\"x\":{\"field\":\"sepal length (cm)\"},\"y\":{\"field\":\"petal length (cm)\"}},\"id\":\"f0243ff2-c271-4f03-82bb-50e6cf87798a\",\"type\":\"Circle\"},{\"attributes\":{\"toolbar\":{\"id\":\"a3f8a3ed-a03d-4bba-bab3-df4f289d6b38\",\"type\":\"ProxyToolbar\"},\"toolbar_location\":\"above\"},\"id\":\"e0d00a17-1d5e-4a25-bbc9-853c6a13abe2\",\"type\":\"ToolbarBox\"},{\"attributes\":{\"data_source\":{\"id\":\"829d75b1-b383-4550-b9a8-9a6a89380333\",\"type\":\"ColumnDataSource\"},\"glyph\":{\"id\":\"a1f56820-463f-4ac1-941c-fce5a64f0d85\",\"type\":\"Circle\"},\"hover_glyph\":null,\"muted_glyph\":null,\"nonselection_glyph\":{\"id\":\"f0243ff2-c271-4f03-82bb-50e6cf87798a\",\"type\":\"Circle\"},\"selection_glyph\":null,\"view\":{\"id\":\"ef3dfa7c-fd4d-48e3-96c1-14d0fded26ea\",\"type\":\"CDSView\"}},\"id\":\"429ad8a1-72a4-4cb6-9027-c4edfdcf54e4\",\"type\":\"GlyphRenderer\"},{\"attributes\":{\"fill_alpha\":{\"value\":0.5},\"fill_color\":{\"value\":\"lightgrey\"},\"level\":\"overlay\",\"line_alpha\":{\"value\":1.0},\"line_color\":{\"value\":\"black\"},\"line_dash\":[4,4],\"line_width\":{\"value\":2},\"plot\":null,\"xs_units\":\"screen\",\"ys_units\":\"screen\"},\"id\":\"95f1efe7-946a-4250-99a1-160ecec54308\",\"type\":\"PolyAnnotation\"},{\"attributes\":{\"label\":{\"field\":\"target\"},\"renderers\":[{\"id\":\"429ad8a1-72a4-4cb6-9027-c4edfdcf54e4\",\"type\":\"GlyphRenderer\"}]},\"id\":\"bda26932-8701-43d9-a157-b4a44076b2e5\",\"type\":\"LegendItem\"},{\"attributes\":{\"below\":[{\"id\":\"1ba190cf-bdd5-48f4-beb4-cfcc3b0d505e\",\"type\":\"LinearAxis\"}],\"left\":[{\"id\":\"3102cdeb-f087-4889-a01c-94935d4ca20f\",\"type\":\"LinearAxis\"}],\"plot_height\":400,\"plot_width\":400,\"renderers\":[{\"id\":\"1ba190cf-bdd5-48f4-beb4-cfcc3b0d505e\",\"type\":\"LinearAxis\"},{\"id\":\"fbc96cf7-d039-4506-9699-463c55b23c99\",\"type\":\"Grid\"},{\"id\":\"3102cdeb-f087-4889-a01c-94935d4ca20f\",\"type\":\"LinearAxis\"},{\"id\":\"587a4a59-8874-476d-91d7-67b288b7c330\",\"type\":\"Grid\"},{\"id\":\"a0d9541e-a03d-420f-b98b-291b1bff6634\",\"type\":\"BoxAnnotation\"},{\"id\":\"abf7968c-46ab-4d30-9637-be5e3693311f\",\"type\":\"PolyAnnotation\"},{\"id\":\"daf52bf9-99e9-492b-8fef-1a67e9daf70d\",\"type\":\"Legend\"},{\"id\":\"bb54e34b-68ae-4f6f-9917-745a0bc06b90\",\"type\":\"GlyphRenderer\"}],\"title\":null,\"toolbar\":{\"id\":\"905420c8-c2e0-41a1-b7ed-03cea3a15e91\",\"type\":\"Toolbar\"},\"toolbar_location\":null,\"x_range\":{\"id\":\"417f464b-4e7b-4a2b-9b92-7874de1536bf\",\"type\":\"DataRange1d\"},\"x_scale\":{\"id\":\"a4cf25b9-f5f4-4e2e-880f-2d4de0211b43\",\"type\":\"LinearScale\"},\"y_range\":{\"id\":\"bc147f12-0937-4979-8997-60e950aab8df\",\"type\":\"DataRange1d\"},\"y_scale\":{\"id\":\"ecd0e9d3-4b60-4443-9129-718c951e02b4\",\"type\":\"LinearScale\"}},\"id\":\"e42cbcaf-4ec0-489e-96c6-82f2cb25c691\",\"subtype\":\"Figure\",\"type\":\"Plot\"},{\"attributes\":{},\"id\":\"ecd0e9d3-4b60-4443-9129-718c951e02b4\",\"type\":\"LinearScale\"},{\"attributes\":{},\"id\":\"6d35b8e0-4a21-4a65-9f90-cd122c1e3c1c\",\"type\":\"BasicTickFormatter\"},{\"attributes\":{\"active_drag\":\"auto\",\"active_inspect\":\"auto\",\"active_scroll\":\"auto\",\"active_tap\":\"auto\",\"tools\":[{\"id\":\"d9f4c194-c5a6-4bf4-b0f7-26cf1b9644b9\",\"type\":\"BoxSelectTool\"},{\"id\":\"5f88d32d-0769-4c6b-9ff5-34f498340c6b\",\"type\":\"LassoSelectTool\"},{\"id\":\"39aecdda-663c-41d4-a0bf-47c2fa3487b1\",\"type\":\"HelpTool\"}]},\"id\":\"905420c8-c2e0-41a1-b7ed-03cea3a15e91\",\"type\":\"Toolbar\"},{\"attributes\":{\"formatter\":{\"id\":\"6309f112-d634-428d-a946-9b5733d039dc\",\"type\":\"BasicTickFormatter\"},\"plot\":{\"id\":\"e42cbcaf-4ec0-489e-96c6-82f2cb25c691\",\"subtype\":\"Figure\",\"type\":\"Plot\"},\"ticker\":{\"id\":\"81f1e56b-c520-45a5-912f-8fcefba46518\",\"type\":\"BasicTicker\"}},\"id\":\"3102cdeb-f087-4889-a01c-94935d4ca20f\",\"type\":\"LinearAxis\"},{\"attributes\":{},\"id\":\"c2e4668e-dd48-4bea-8f08-5c6c64cb0293\",\"type\":\"LinearScale\"},{\"attributes\":{\"items\":[{\"id\":\"bda26932-8701-43d9-a157-b4a44076b2e5\",\"type\":\"LegendItem\"}],\"location\":\"top_left\",\"plot\":{\"id\":\"05b86566-8433-4205-9cfa-af45b347e474\",\"subtype\":\"Figure\",\"type\":\"Plot\"}},\"id\":\"cb1f5c38-0088-476a-859d-ae93f96abc7a\",\"type\":\"Legend\"},{\"attributes\":{\"fill_color\":{\"field\":\"target\",\"transform\":{\"id\":\"e7c660a2-604b-4165-86ec-bb87ae492863\",\"type\":\"CategoricalColorMapper\"}},\"line_color\":{\"field\":\"target\",\"transform\":{\"id\":\"e7c660a2-604b-4165-86ec-bb87ae492863\",\"type\":\"CategoricalColorMapper\"}},\"x\":{\"field\":\"petal length (cm)\"},\"y\":{\"field\":\"petal length (cm)\"}},\"id\":\"9bf1c3d8-d29a-44a8-9801-d4172aada08f\",\"type\":\"Circle\"},{\"attributes\":{\"callback\":null},\"id\":\"417f464b-4e7b-4a2b-9b92-7874de1536bf\",\"type\":\"DataRange1d\"},{\"attributes\":{},\"id\":\"a4cf25b9-f5f4-4e2e-880f-2d4de0211b43\",\"type\":\"LinearScale\"},{\"attributes\":{\"callback\":null},\"id\":\"bc147f12-0937-4979-8997-60e950aab8df\",\"type\":\"DataRange1d\"},{\"attributes\":{\"bottom_units\":\"screen\",\"fill_alpha\":{\"value\":0.5},\"fill_color\":{\"value\":\"lightgrey\"},\"left_units\":\"screen\",\"level\":\"overlay\",\"line_alpha\":{\"value\":1.0},\"line_color\":{\"value\":\"black\"},\"line_dash\":[4,4],\"line_width\":{\"value\":2},\"plot\":null,\"render_mode\":\"css\",\"right_units\":\"screen\",\"top_units\":\"screen\"},\"id\":\"a0d9541e-a03d-420f-b98b-291b1bff6634\",\"type\":\"BoxAnnotation\"},{\"attributes\":{},\"id\":\"81f1e56b-c520-45a5-912f-8fcefba46518\",\"type\":\"BasicTicker\"}],\"root_ids\":[\"e9a9c3be-70dc-4aeb-a1a9-741b3f65974b\"]},\"title\":\"Bokeh Application\",\"version\":\"0.12.16\"}};\n",
       "  var render_items = [{\"docid\":\"9731ef8e-b390-4230-ba71-aef120966c8b\",\"elementid\":\"bb4a96f9-dc2d-4cb2-8921-7131a36fef47\",\"modelid\":\"e9a9c3be-70dc-4aeb-a1a9-741b3f65974b\"}];\n",
       "  root.Bokeh.embed.embed_items_notebook(docs_json, render_items);\n",
       "\n",
       "  }\n",
       "  if (root.Bokeh !== undefined) {\n",
       "    embed_document(root);\n",
       "  } else {\n",
       "    var attempts = 0;\n",
       "    var timer = setInterval(function(root) {\n",
       "      if (root.Bokeh !== undefined) {\n",
       "        embed_document(root);\n",
       "        clearInterval(timer);\n",
       "      }\n",
       "      attempts++;\n",
       "      if (attempts > 100) {\n",
       "        console.log(\"Bokeh: ERROR: Unable to run BokehJS code because BokehJS library is missing\")\n",
       "        clearInterval(timer);\n",
       "      }\n",
       "    }, 10, root)\n",
       "  }\n",
       "})(window);"
      ],
      "application/vnd.bokehjs_exec.v0+json": ""
     },
     "metadata": {
      "application/vnd.bokehjs_exec.v0+json": {
       "id": "e9a9c3be-70dc-4aeb-a1a9-741b3f65974b"
      }
     },
     "output_type": "display_data"
    }
   ],
   "source": [
    "#make a source for dataframe this was already initialized already in above part \n",
    "source = ColumnDataSource(data=df)\n",
    "\n",
    "#create CategoricalColorMapper\n",
    "color_mapper = CategoricalColorMapper(factors=np.unique(df.target),\n",
    "                                      palette=Spectral3)\n",
    "#tools \n",
    "TOOLS = \"box_select,lasso_select,help\"\n",
    "\n",
    "# create a new plot and add a renderer\n",
    "left = figure(tools=TOOLS, plot_width=400, plot_height=400, title=None)\n",
    "left.circle(x='sepal length (cm)', y='petal length (cm)', source=source,\n",
    "         color=dict(field='target',transform=color_mapper),legend='target')\n",
    "left.legend.location='top_left'\n",
    "# create another new plot and add a renderer\n",
    "right = figure(tools=TOOLS, plot_width=400, plot_height=400, title=None)\n",
    "right.circle(x='petal length (cm)', y='petal length (cm)', source=source,\n",
    "         color=dict(field='target',transform=color_mapper),legend='target')\n",
    "right.legend.location='top_left'\n",
    "\n",
    "#Here we use gridplot for side by side plotting \n",
    "p = gridplot([[left, right]])\n",
    "\n",
    "show(p)"
   ]
  },
  {
   "cell_type": "markdown",
   "metadata": {},
   "source": [
    "# Categorical Data"
   ]
  },
  {
   "cell_type": "code",
   "execution_count": 11,
   "metadata": {},
   "outputs": [
    {
     "data": {
      "text/html": [
       "\n",
       "<div class=\"bk-root\">\n",
       "    <div class=\"bk-plotdiv\" id=\"3c3fd95b-f6ca-408e-a037-b03db7115a2f\"></div>\n",
       "</div>"
      ]
     },
     "metadata": {},
     "output_type": "display_data"
    },
    {
     "data": {
      "application/javascript": [
       "(function(root) {\n",
       "  function embed_document(root) {\n",
       "    \n",
       "  var docs_json = {\"7c214fda-6534-4933-9f7b-44ae67e355af\":{\"roots\":{\"references\":[{\"attributes\":{\"source\":{\"id\":\"a0a2b407-54b0-41a7-a89c-f6659b6966cf\",\"type\":\"ColumnDataSource\"}},\"id\":\"7bf533f9-11d9-4e4d-afaf-dd9da3014bef\",\"type\":\"CDSView\"},{\"attributes\":{},\"id\":\"1898a237-1d2b-4a22-b7f6-f25cbf76fef6\",\"type\":\"WheelZoomTool\"},{\"attributes\":{},\"id\":\"6f17a25e-648d-46e5-81dd-5c77c2f9e5d2\",\"type\":\"ResetTool\"},{\"attributes\":{},\"id\":\"4f608622-00b2-470c-9ffc-0731716f938d\",\"type\":\"UnionRenderers\"},{\"attributes\":{\"below\":[{\"id\":\"5901c4b7-143c-4ece-b2eb-acb62a692651\",\"type\":\"CategoricalAxis\"}],\"left\":[{\"id\":\"031c6be1-e98f-4905-859a-388487d24f8b\",\"type\":\"LinearAxis\"}],\"plot_height\":250,\"renderers\":[{\"id\":\"5901c4b7-143c-4ece-b2eb-acb62a692651\",\"type\":\"CategoricalAxis\"},{\"id\":\"b5f6ae53-155a-4b31-a08c-777fa7c38cc6\",\"type\":\"Grid\"},{\"id\":\"031c6be1-e98f-4905-859a-388487d24f8b\",\"type\":\"LinearAxis\"},{\"id\":\"5d6d6fe4-c111-4d27-b052-99e471391f2e\",\"type\":\"Grid\"},{\"id\":\"687f5c72-f7cf-4342-b8f5-71b5cd984a0b\",\"type\":\"BoxAnnotation\"},{\"id\":\"4c90574e-94eb-4928-ad76-77b29e89957a\",\"type\":\"GlyphRenderer\"}],\"title\":{\"id\":\"464e5bb7-e4e6-47dd-af2b-e19f3479a6ee\",\"type\":\"Title\"},\"toolbar\":{\"id\":\"b68a25fa-cb50-4e60-be57-36c1ab542d85\",\"type\":\"Toolbar\"},\"toolbar_location\":null,\"x_range\":{\"id\":\"b7cff4a9-e6fe-4f66-a42e-ddb0d71c4a17\",\"type\":\"FactorRange\"},\"x_scale\":{\"id\":\"9539b4fb-5fa9-4dd5-8689-97c6bd29d52e\",\"type\":\"CategoricalScale\"},\"y_range\":{\"id\":\"2594c94d-a2f7-4a7f-a584-98a40347632e\",\"type\":\"DataRange1d\"},\"y_scale\":{\"id\":\"09707893-4464-41be-ae9d-9394bfcd75ca\",\"type\":\"LinearScale\"}},\"id\":\"1dd25f0f-9c57-4fdf-9eb0-93d39f44a328\",\"subtype\":\"Figure\",\"type\":\"Plot\"},{\"attributes\":{\"active_drag\":\"auto\",\"active_inspect\":\"auto\",\"active_scroll\":\"auto\",\"active_tap\":\"auto\",\"tools\":[{\"id\":\"39f6d478-b0ee-4e33-8b05-211c7c437c74\",\"type\":\"PanTool\"},{\"id\":\"1898a237-1d2b-4a22-b7f6-f25cbf76fef6\",\"type\":\"WheelZoomTool\"},{\"id\":\"0c297029-9fad-4179-9927-82f34423cebb\",\"type\":\"BoxZoomTool\"},{\"id\":\"db330197-cabd-475a-9d6e-461a22b69dc5\",\"type\":\"SaveTool\"},{\"id\":\"6f17a25e-648d-46e5-81dd-5c77c2f9e5d2\",\"type\":\"ResetTool\"},{\"id\":\"de83b3ba-7604-48d9-b1a8-15e3fbbb70ca\",\"type\":\"HelpTool\"}]},\"id\":\"b68a25fa-cb50-4e60-be57-36c1ab542d85\",\"type\":\"Toolbar\"},{\"attributes\":{},\"id\":\"5143add6-2a01-4abe-92ba-18693c496a08\",\"type\":\"Selection\"},{\"attributes\":{\"data_source\":{\"id\":\"a0a2b407-54b0-41a7-a89c-f6659b6966cf\",\"type\":\"ColumnDataSource\"},\"glyph\":{\"id\":\"7c89bd0c-35f1-4d9b-baa6-43ec0fa5bb2d\",\"type\":\"VBar\"},\"hover_glyph\":null,\"muted_glyph\":null,\"nonselection_glyph\":{\"id\":\"dfe9f23a-3791-4ae7-a9df-7acdb0938c4c\",\"type\":\"VBar\"},\"selection_glyph\":null,\"view\":{\"id\":\"7bf533f9-11d9-4e4d-afaf-dd9da3014bef\",\"type\":\"CDSView\"}},\"id\":\"4c90574e-94eb-4928-ad76-77b29e89957a\",\"type\":\"GlyphRenderer\"},{\"attributes\":{\"callback\":null,\"data\":{\"top\":[16,14,20],\"x\":[\"setosa\",\"versicolor\",\"virginica\"]},\"selected\":{\"id\":\"5143add6-2a01-4abe-92ba-18693c496a08\",\"type\":\"Selection\"},\"selection_policy\":{\"id\":\"4f608622-00b2-470c-9ffc-0731716f938d\",\"type\":\"UnionRenderers\"}},\"id\":\"a0a2b407-54b0-41a7-a89c-f6659b6966cf\",\"type\":\"ColumnDataSource\"},{\"attributes\":{},\"id\":\"016ea5c6-1d83-4068-9e09-2f70ea940b2e\",\"type\":\"BasicTicker\"},{\"attributes\":{\"callback\":null,\"factors\":[\"setosa\",\"versicolor\",\"virginica\"]},\"id\":\"b7cff4a9-e6fe-4f66-a42e-ddb0d71c4a17\",\"type\":\"FactorRange\"},{\"attributes\":{},\"id\":\"de83b3ba-7604-48d9-b1a8-15e3fbbb70ca\",\"type\":\"HelpTool\"},{\"attributes\":{\"plot\":{\"id\":\"1dd25f0f-9c57-4fdf-9eb0-93d39f44a328\",\"subtype\":\"Figure\",\"type\":\"Plot\"},\"ticker\":{\"id\":\"9d8e98d3-acf8-4d42-832e-acee2dfbba7d\",\"type\":\"CategoricalTicker\"}},\"id\":\"b5f6ae53-155a-4b31-a08c-777fa7c38cc6\",\"type\":\"Grid\"},{\"attributes\":{},\"id\":\"92056caa-d501-41f4-8d62-099f1621d229\",\"type\":\"CategoricalTickFormatter\"},{\"attributes\":{\"overlay\":{\"id\":\"687f5c72-f7cf-4342-b8f5-71b5cd984a0b\",\"type\":\"BoxAnnotation\"}},\"id\":\"0c297029-9fad-4179-9927-82f34423cebb\",\"type\":\"BoxZoomTool\"},{\"attributes\":{},\"id\":\"db330197-cabd-475a-9d6e-461a22b69dc5\",\"type\":\"SaveTool\"},{\"attributes\":{\"fill_alpha\":{\"value\":0.1},\"fill_color\":{\"value\":\"#1f77b4\"},\"line_alpha\":{\"value\":0.1},\"line_color\":{\"value\":\"#1f77b4\"},\"top\":{\"field\":\"top\"},\"width\":{\"value\":0.9},\"x\":{\"field\":\"x\"}},\"id\":\"dfe9f23a-3791-4ae7-a9df-7acdb0938c4c\",\"type\":\"VBar\"},{\"attributes\":{},\"id\":\"9539b4fb-5fa9-4dd5-8689-97c6bd29d52e\",\"type\":\"CategoricalScale\"},{\"attributes\":{\"plot\":null,\"text\":\"\"},\"id\":\"464e5bb7-e4e6-47dd-af2b-e19f3479a6ee\",\"type\":\"Title\"},{\"attributes\":{},\"id\":\"39f6d478-b0ee-4e33-8b05-211c7c437c74\",\"type\":\"PanTool\"},{\"attributes\":{\"fill_color\":{\"value\":\"#1f77b4\"},\"line_color\":{\"value\":\"white\"},\"top\":{\"field\":\"top\"},\"width\":{\"value\":0.9},\"x\":{\"field\":\"x\"}},\"id\":\"7c89bd0c-35f1-4d9b-baa6-43ec0fa5bb2d\",\"type\":\"VBar\"},{\"attributes\":{},\"id\":\"09707893-4464-41be-ae9d-9394bfcd75ca\",\"type\":\"LinearScale\"},{\"attributes\":{\"formatter\":{\"id\":\"76a0c5df-00f8-437e-9a2d-cb16207571b7\",\"type\":\"BasicTickFormatter\"},\"plot\":{\"id\":\"1dd25f0f-9c57-4fdf-9eb0-93d39f44a328\",\"subtype\":\"Figure\",\"type\":\"Plot\"},\"ticker\":{\"id\":\"016ea5c6-1d83-4068-9e09-2f70ea940b2e\",\"type\":\"BasicTicker\"}},\"id\":\"031c6be1-e98f-4905-859a-388487d24f8b\",\"type\":\"LinearAxis\"},{\"attributes\":{},\"id\":\"9d8e98d3-acf8-4d42-832e-acee2dfbba7d\",\"type\":\"CategoricalTicker\"},{\"attributes\":{\"dimension\":1,\"plot\":{\"id\":\"1dd25f0f-9c57-4fdf-9eb0-93d39f44a328\",\"subtype\":\"Figure\",\"type\":\"Plot\"},\"ticker\":{\"id\":\"016ea5c6-1d83-4068-9e09-2f70ea940b2e\",\"type\":\"BasicTicker\"}},\"id\":\"5d6d6fe4-c111-4d27-b052-99e471391f2e\",\"type\":\"Grid\"},{\"attributes\":{},\"id\":\"76a0c5df-00f8-437e-9a2d-cb16207571b7\",\"type\":\"BasicTickFormatter\"},{\"attributes\":{\"callback\":null},\"id\":\"2594c94d-a2f7-4a7f-a584-98a40347632e\",\"type\":\"DataRange1d\"},{\"attributes\":{\"bottom_units\":\"screen\",\"fill_alpha\":{\"value\":0.5},\"fill_color\":{\"value\":\"lightgrey\"},\"left_units\":\"screen\",\"level\":\"overlay\",\"line_alpha\":{\"value\":1.0},\"line_color\":{\"value\":\"black\"},\"line_dash\":[4,4],\"line_width\":{\"value\":2},\"plot\":null,\"render_mode\":\"css\",\"right_units\":\"screen\",\"top_units\":\"screen\"},\"id\":\"687f5c72-f7cf-4342-b8f5-71b5cd984a0b\",\"type\":\"BoxAnnotation\"},{\"attributes\":{\"formatter\":{\"id\":\"92056caa-d501-41f4-8d62-099f1621d229\",\"type\":\"CategoricalTickFormatter\"},\"plot\":{\"id\":\"1dd25f0f-9c57-4fdf-9eb0-93d39f44a328\",\"subtype\":\"Figure\",\"type\":\"Plot\"},\"ticker\":{\"id\":\"9d8e98d3-acf8-4d42-832e-acee2dfbba7d\",\"type\":\"CategoricalTicker\"}},\"id\":\"5901c4b7-143c-4ece-b2eb-acb62a692651\",\"type\":\"CategoricalAxis\"}],\"root_ids\":[\"1dd25f0f-9c57-4fdf-9eb0-93d39f44a328\"]},\"title\":\"Bokeh Application\",\"version\":\"0.12.16\"}};\n",
       "  var render_items = [{\"docid\":\"7c214fda-6534-4933-9f7b-44ae67e355af\",\"elementid\":\"3c3fd95b-f6ca-408e-a037-b03db7115a2f\",\"modelid\":\"1dd25f0f-9c57-4fdf-9eb0-93d39f44a328\"}];\n",
       "  root.Bokeh.embed.embed_items_notebook(docs_json, render_items);\n",
       "\n",
       "  }\n",
       "  if (root.Bokeh !== undefined) {\n",
       "    embed_document(root);\n",
       "  } else {\n",
       "    var attempts = 0;\n",
       "    var timer = setInterval(function(root) {\n",
       "      if (root.Bokeh !== undefined) {\n",
       "        embed_document(root);\n",
       "        clearInterval(timer);\n",
       "      }\n",
       "      attempts++;\n",
       "      if (attempts > 100) {\n",
       "        console.log(\"Bokeh: ERROR: Unable to run BokehJS code because BokehJS library is missing\")\n",
       "        clearInterval(timer);\n",
       "      }\n",
       "    }, 10, root)\n",
       "  }\n",
       "})(window);"
      ],
      "application/vnd.bokehjs_exec.v0+json": ""
     },
     "metadata": {
      "application/vnd.bokehjs_exec.v0+json": {
       "id": "1dd25f0f-9c57-4fdf-9eb0-93d39f44a328"
      }
     },
     "output_type": "display_data"
    }
   ],
   "source": [
    "new_df = df.sample(50)\n",
    "#get count of target data \n",
    "group=new_df.groupby('target').count()\n",
    "#change x axis  to factors \n",
    "p = figure(x_range=group.index.tolist(), plot_height=250, toolbar_location=None)\n",
    "#apply vbar glyph for bar plot\n",
    "p.vbar(x=group.index.tolist(), top=group['sepal length (cm)'].tolist(), width=0.9,\n",
    "       line_color='white')\n",
    "show(p)"
   ]
  },
  {
   "cell_type": "code",
   "execution_count": null,
   "metadata": {},
   "outputs": [],
   "source": []
  }
 ],
 "metadata": {
  "kernelspec": {
   "display_name": "Python 3",
   "language": "python",
   "name": "python3"
  },
  "language_info": {
   "codemirror_mode": {
    "name": "ipython",
    "version": 3
   },
   "file_extension": ".py",
   "mimetype": "text/x-python",
   "name": "python",
   "nbconvert_exporter": "python",
   "pygments_lexer": "ipython3",
   "version": "3.6.8"
  }
 },
 "nbformat": 4,
 "nbformat_minor": 2
}
