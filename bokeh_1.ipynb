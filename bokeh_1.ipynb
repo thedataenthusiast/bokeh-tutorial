{
 "cells": [
  {
   "cell_type": "code",
   "execution_count": 1,
   "metadata": {},
   "outputs": [
    {
     "data": {
      "text/html": [
       "\n",
       "    <div class=\"bk-root\">\n",
       "        <a href=\"https://bokeh.pydata.org\" target=\"_blank\" class=\"bk-logo bk-logo-small bk-logo-notebook\"></a>\n",
       "        <span id=\"f9b76f49-2143-417c-b414-0b32c9dd36ad\">Loading BokehJS ...</span>\n",
       "    </div>"
      ]
     },
     "metadata": {},
     "output_type": "display_data"
    },
    {
     "data": {
      "application/javascript": [
       "\n",
       "(function(root) {\n",
       "  function now() {\n",
       "    return new Date();\n",
       "  }\n",
       "\n",
       "  var force = true;\n",
       "\n",
       "  if (typeof (root._bokeh_onload_callbacks) === \"undefined\" || force === true) {\n",
       "    root._bokeh_onload_callbacks = [];\n",
       "    root._bokeh_is_loading = undefined;\n",
       "  }\n",
       "\n",
       "  var JS_MIME_TYPE = 'application/javascript';\n",
       "  var HTML_MIME_TYPE = 'text/html';\n",
       "  var EXEC_MIME_TYPE = 'application/vnd.bokehjs_exec.v0+json';\n",
       "  var CLASS_NAME = 'output_bokeh rendered_html';\n",
       "\n",
       "  /**\n",
       "   * Render data to the DOM node\n",
       "   */\n",
       "  function render(props, node) {\n",
       "    var script = document.createElement(\"script\");\n",
       "    node.appendChild(script);\n",
       "  }\n",
       "\n",
       "  /**\n",
       "   * Handle when an output is cleared or removed\n",
       "   */\n",
       "  function handleClearOutput(event, handle) {\n",
       "    var cell = handle.cell;\n",
       "\n",
       "    var id = cell.output_area._bokeh_element_id;\n",
       "    var server_id = cell.output_area._bokeh_server_id;\n",
       "    // Clean up Bokeh references\n",
       "    if (id !== undefined) {\n",
       "      Bokeh.index[id].model.document.clear();\n",
       "      delete Bokeh.index[id];\n",
       "    }\n",
       "\n",
       "    if (server_id !== undefined) {\n",
       "      // Clean up Bokeh references\n",
       "      var cmd = \"from bokeh.io.state import curstate; print(curstate().uuid_to_server['\" + server_id + \"'].get_sessions()[0].document.roots[0]._id)\";\n",
       "      cell.notebook.kernel.execute(cmd, {\n",
       "        iopub: {\n",
       "          output: function(msg) {\n",
       "            var element_id = msg.content.text.trim();\n",
       "            Bokeh.index[element_id].model.document.clear();\n",
       "            delete Bokeh.index[element_id];\n",
       "          }\n",
       "        }\n",
       "      });\n",
       "      // Destroy server and session\n",
       "      var cmd = \"import bokeh.io.notebook as ion; ion.destroy_server('\" + server_id + \"')\";\n",
       "      cell.notebook.kernel.execute(cmd);\n",
       "    }\n",
       "  }\n",
       "\n",
       "  /**\n",
       "   * Handle when a new output is added\n",
       "   */\n",
       "  function handleAddOutput(event, handle) {\n",
       "    var output_area = handle.output_area;\n",
       "    var output = handle.output;\n",
       "\n",
       "    // limit handleAddOutput to display_data with EXEC_MIME_TYPE content only\n",
       "    if ((output.output_type != \"display_data\") || (!output.data.hasOwnProperty(EXEC_MIME_TYPE))) {\n",
       "      return\n",
       "    }\n",
       "\n",
       "    var toinsert = output_area.element.find(\".\" + CLASS_NAME.split(' ')[0]);\n",
       "\n",
       "    if (output.metadata[EXEC_MIME_TYPE][\"id\"] !== undefined) {\n",
       "      toinsert[toinsert.length - 1].firstChild.textContent = output.data[JS_MIME_TYPE];\n",
       "      // store reference to embed id on output_area\n",
       "      output_area._bokeh_element_id = output.metadata[EXEC_MIME_TYPE][\"id\"];\n",
       "    }\n",
       "    if (output.metadata[EXEC_MIME_TYPE][\"server_id\"] !== undefined) {\n",
       "      var bk_div = document.createElement(\"div\");\n",
       "      bk_div.innerHTML = output.data[HTML_MIME_TYPE];\n",
       "      var script_attrs = bk_div.children[0].attributes;\n",
       "      for (var i = 0; i < script_attrs.length; i++) {\n",
       "        toinsert[toinsert.length - 1].firstChild.setAttribute(script_attrs[i].name, script_attrs[i].value);\n",
       "      }\n",
       "      // store reference to server id on output_area\n",
       "      output_area._bokeh_server_id = output.metadata[EXEC_MIME_TYPE][\"server_id\"];\n",
       "    }\n",
       "  }\n",
       "\n",
       "  function register_renderer(events, OutputArea) {\n",
       "\n",
       "    function append_mime(data, metadata, element) {\n",
       "      // create a DOM node to render to\n",
       "      var toinsert = this.create_output_subarea(\n",
       "        metadata,\n",
       "        CLASS_NAME,\n",
       "        EXEC_MIME_TYPE\n",
       "      );\n",
       "      this.keyboard_manager.register_events(toinsert);\n",
       "      // Render to node\n",
       "      var props = {data: data, metadata: metadata[EXEC_MIME_TYPE]};\n",
       "      render(props, toinsert[toinsert.length - 1]);\n",
       "      element.append(toinsert);\n",
       "      return toinsert\n",
       "    }\n",
       "\n",
       "    /* Handle when an output is cleared or removed */\n",
       "    events.on('clear_output.CodeCell', handleClearOutput);\n",
       "    events.on('delete.Cell', handleClearOutput);\n",
       "\n",
       "    /* Handle when a new output is added */\n",
       "    events.on('output_added.OutputArea', handleAddOutput);\n",
       "\n",
       "    /**\n",
       "     * Register the mime type and append_mime function with output_area\n",
       "     */\n",
       "    OutputArea.prototype.register_mime_type(EXEC_MIME_TYPE, append_mime, {\n",
       "      /* Is output safe? */\n",
       "      safe: true,\n",
       "      /* Index of renderer in `output_area.display_order` */\n",
       "      index: 0\n",
       "    });\n",
       "  }\n",
       "\n",
       "  // register the mime type if in Jupyter Notebook environment and previously unregistered\n",
       "  if (root.Jupyter !== undefined) {\n",
       "    var events = require('base/js/events');\n",
       "    var OutputArea = require('notebook/js/outputarea').OutputArea;\n",
       "\n",
       "    if (OutputArea.prototype.mime_types().indexOf(EXEC_MIME_TYPE) == -1) {\n",
       "      register_renderer(events, OutputArea);\n",
       "    }\n",
       "  }\n",
       "\n",
       "  \n",
       "  if (typeof (root._bokeh_timeout) === \"undefined\" || force === true) {\n",
       "    root._bokeh_timeout = Date.now() + 5000;\n",
       "    root._bokeh_failed_load = false;\n",
       "  }\n",
       "\n",
       "  var NB_LOAD_WARNING = {'data': {'text/html':\n",
       "     \"<div style='background-color: #fdd'>\\n\"+\n",
       "     \"<p>\\n\"+\n",
       "     \"BokehJS does not appear to have successfully loaded. If loading BokehJS from CDN, this \\n\"+\n",
       "     \"may be due to a slow or bad network connection. Possible fixes:\\n\"+\n",
       "     \"</p>\\n\"+\n",
       "     \"<ul>\\n\"+\n",
       "     \"<li>re-rerun `output_notebook()` to attempt to load from CDN again, or</li>\\n\"+\n",
       "     \"<li>use INLINE resources instead, as so:</li>\\n\"+\n",
       "     \"</ul>\\n\"+\n",
       "     \"<code>\\n\"+\n",
       "     \"from bokeh.resources import INLINE\\n\"+\n",
       "     \"output_notebook(resources=INLINE)\\n\"+\n",
       "     \"</code>\\n\"+\n",
       "     \"</div>\"}};\n",
       "\n",
       "  function display_loaded() {\n",
       "    var el = document.getElementById(\"f9b76f49-2143-417c-b414-0b32c9dd36ad\");\n",
       "    if (el != null) {\n",
       "      el.textContent = \"BokehJS is loading...\";\n",
       "    }\n",
       "    if (root.Bokeh !== undefined) {\n",
       "      if (el != null) {\n",
       "        el.textContent = \"BokehJS \" + root.Bokeh.version + \" successfully loaded.\";\n",
       "      }\n",
       "    } else if (Date.now() < root._bokeh_timeout) {\n",
       "      setTimeout(display_loaded, 100)\n",
       "    }\n",
       "  }\n",
       "\n",
       "\n",
       "  function run_callbacks() {\n",
       "    try {\n",
       "      root._bokeh_onload_callbacks.forEach(function(callback) { callback() });\n",
       "    }\n",
       "    finally {\n",
       "      delete root._bokeh_onload_callbacks\n",
       "    }\n",
       "    console.info(\"Bokeh: all callbacks have finished\");\n",
       "  }\n",
       "\n",
       "  function load_libs(js_urls, callback) {\n",
       "    root._bokeh_onload_callbacks.push(callback);\n",
       "    if (root._bokeh_is_loading > 0) {\n",
       "      console.log(\"Bokeh: BokehJS is being loaded, scheduling callback at\", now());\n",
       "      return null;\n",
       "    }\n",
       "    if (js_urls == null || js_urls.length === 0) {\n",
       "      run_callbacks();\n",
       "      return null;\n",
       "    }\n",
       "    console.log(\"Bokeh: BokehJS not loaded, scheduling load and callback at\", now());\n",
       "    root._bokeh_is_loading = js_urls.length;\n",
       "    for (var i = 0; i < js_urls.length; i++) {\n",
       "      var url = js_urls[i];\n",
       "      var s = document.createElement('script');\n",
       "      s.src = url;\n",
       "      s.async = false;\n",
       "      s.onreadystatechange = s.onload = function() {\n",
       "        root._bokeh_is_loading--;\n",
       "        if (root._bokeh_is_loading === 0) {\n",
       "          console.log(\"Bokeh: all BokehJS libraries loaded\");\n",
       "          run_callbacks()\n",
       "        }\n",
       "      };\n",
       "      s.onerror = function() {\n",
       "        console.warn(\"failed to load library \" + url);\n",
       "      };\n",
       "      console.log(\"Bokeh: injecting script tag for BokehJS library: \", url);\n",
       "      document.getElementsByTagName(\"head\")[0].appendChild(s);\n",
       "    }\n",
       "  };var element = document.getElementById(\"f9b76f49-2143-417c-b414-0b32c9dd36ad\");\n",
       "  if (element == null) {\n",
       "    console.log(\"Bokeh: ERROR: autoload.js configured with elementid 'f9b76f49-2143-417c-b414-0b32c9dd36ad' but no matching script tag was found. \")\n",
       "    return false;\n",
       "  }\n",
       "\n",
       "  var js_urls = [\"https://cdn.pydata.org/bokeh/release/bokeh-0.12.16.min.js\", \"https://cdn.pydata.org/bokeh/release/bokeh-widgets-0.12.16.min.js\", \"https://cdn.pydata.org/bokeh/release/bokeh-tables-0.12.16.min.js\", \"https://cdn.pydata.org/bokeh/release/bokeh-gl-0.12.16.min.js\"];\n",
       "\n",
       "  var inline_js = [\n",
       "    function(Bokeh) {\n",
       "      Bokeh.set_log_level(\"info\");\n",
       "    },\n",
       "    \n",
       "    function(Bokeh) {\n",
       "      \n",
       "    },\n",
       "    function(Bokeh) {\n",
       "      console.log(\"Bokeh: injecting CSS: https://cdn.pydata.org/bokeh/release/bokeh-0.12.16.min.css\");\n",
       "      Bokeh.embed.inject_css(\"https://cdn.pydata.org/bokeh/release/bokeh-0.12.16.min.css\");\n",
       "      console.log(\"Bokeh: injecting CSS: https://cdn.pydata.org/bokeh/release/bokeh-widgets-0.12.16.min.css\");\n",
       "      Bokeh.embed.inject_css(\"https://cdn.pydata.org/bokeh/release/bokeh-widgets-0.12.16.min.css\");\n",
       "      console.log(\"Bokeh: injecting CSS: https://cdn.pydata.org/bokeh/release/bokeh-tables-0.12.16.min.css\");\n",
       "      Bokeh.embed.inject_css(\"https://cdn.pydata.org/bokeh/release/bokeh-tables-0.12.16.min.css\");\n",
       "    }\n",
       "  ];\n",
       "\n",
       "  function run_inline_js() {\n",
       "    \n",
       "    if ((root.Bokeh !== undefined) || (force === true)) {\n",
       "      for (var i = 0; i < inline_js.length; i++) {\n",
       "        inline_js[i].call(root, root.Bokeh);\n",
       "      }if (force === true) {\n",
       "        display_loaded();\n",
       "      }} else if (Date.now() < root._bokeh_timeout) {\n",
       "      setTimeout(run_inline_js, 100);\n",
       "    } else if (!root._bokeh_failed_load) {\n",
       "      console.log(\"Bokeh: BokehJS failed to load within specified timeout.\");\n",
       "      root._bokeh_failed_load = true;\n",
       "    } else if (force !== true) {\n",
       "      var cell = $(document.getElementById(\"f9b76f49-2143-417c-b414-0b32c9dd36ad\")).parents('.cell').data().cell;\n",
       "      cell.output_area.append_execute_result(NB_LOAD_WARNING)\n",
       "    }\n",
       "\n",
       "  }\n",
       "\n",
       "  if (root._bokeh_is_loading === 0) {\n",
       "    console.log(\"Bokeh: BokehJS loaded, going straight to plotting\");\n",
       "    run_inline_js();\n",
       "  } else {\n",
       "    load_libs(js_urls, function() {\n",
       "      console.log(\"Bokeh: BokehJS plotting callback run at\", now());\n",
       "      run_inline_js();\n",
       "    });\n",
       "  }\n",
       "}(window));"
      ],
      "application/vnd.bokehjs_load.v0+json": "\n(function(root) {\n  function now() {\n    return new Date();\n  }\n\n  var force = true;\n\n  if (typeof (root._bokeh_onload_callbacks) === \"undefined\" || force === true) {\n    root._bokeh_onload_callbacks = [];\n    root._bokeh_is_loading = undefined;\n  }\n\n  \n\n  \n  if (typeof (root._bokeh_timeout) === \"undefined\" || force === true) {\n    root._bokeh_timeout = Date.now() + 5000;\n    root._bokeh_failed_load = false;\n  }\n\n  var NB_LOAD_WARNING = {'data': {'text/html':\n     \"<div style='background-color: #fdd'>\\n\"+\n     \"<p>\\n\"+\n     \"BokehJS does not appear to have successfully loaded. If loading BokehJS from CDN, this \\n\"+\n     \"may be due to a slow or bad network connection. Possible fixes:\\n\"+\n     \"</p>\\n\"+\n     \"<ul>\\n\"+\n     \"<li>re-rerun `output_notebook()` to attempt to load from CDN again, or</li>\\n\"+\n     \"<li>use INLINE resources instead, as so:</li>\\n\"+\n     \"</ul>\\n\"+\n     \"<code>\\n\"+\n     \"from bokeh.resources import INLINE\\n\"+\n     \"output_notebook(resources=INLINE)\\n\"+\n     \"</code>\\n\"+\n     \"</div>\"}};\n\n  function display_loaded() {\n    var el = document.getElementById(\"f9b76f49-2143-417c-b414-0b32c9dd36ad\");\n    if (el != null) {\n      el.textContent = \"BokehJS is loading...\";\n    }\n    if (root.Bokeh !== undefined) {\n      if (el != null) {\n        el.textContent = \"BokehJS \" + root.Bokeh.version + \" successfully loaded.\";\n      }\n    } else if (Date.now() < root._bokeh_timeout) {\n      setTimeout(display_loaded, 100)\n    }\n  }\n\n\n  function run_callbacks() {\n    try {\n      root._bokeh_onload_callbacks.forEach(function(callback) { callback() });\n    }\n    finally {\n      delete root._bokeh_onload_callbacks\n    }\n    console.info(\"Bokeh: all callbacks have finished\");\n  }\n\n  function load_libs(js_urls, callback) {\n    root._bokeh_onload_callbacks.push(callback);\n    if (root._bokeh_is_loading > 0) {\n      console.log(\"Bokeh: BokehJS is being loaded, scheduling callback at\", now());\n      return null;\n    }\n    if (js_urls == null || js_urls.length === 0) {\n      run_callbacks();\n      return null;\n    }\n    console.log(\"Bokeh: BokehJS not loaded, scheduling load and callback at\", now());\n    root._bokeh_is_loading = js_urls.length;\n    for (var i = 0; i < js_urls.length; i++) {\n      var url = js_urls[i];\n      var s = document.createElement('script');\n      s.src = url;\n      s.async = false;\n      s.onreadystatechange = s.onload = function() {\n        root._bokeh_is_loading--;\n        if (root._bokeh_is_loading === 0) {\n          console.log(\"Bokeh: all BokehJS libraries loaded\");\n          run_callbacks()\n        }\n      };\n      s.onerror = function() {\n        console.warn(\"failed to load library \" + url);\n      };\n      console.log(\"Bokeh: injecting script tag for BokehJS library: \", url);\n      document.getElementsByTagName(\"head\")[0].appendChild(s);\n    }\n  };var element = document.getElementById(\"f9b76f49-2143-417c-b414-0b32c9dd36ad\");\n  if (element == null) {\n    console.log(\"Bokeh: ERROR: autoload.js configured with elementid 'f9b76f49-2143-417c-b414-0b32c9dd36ad' but no matching script tag was found. \")\n    return false;\n  }\n\n  var js_urls = [\"https://cdn.pydata.org/bokeh/release/bokeh-0.12.16.min.js\", \"https://cdn.pydata.org/bokeh/release/bokeh-widgets-0.12.16.min.js\", \"https://cdn.pydata.org/bokeh/release/bokeh-tables-0.12.16.min.js\", \"https://cdn.pydata.org/bokeh/release/bokeh-gl-0.12.16.min.js\"];\n\n  var inline_js = [\n    function(Bokeh) {\n      Bokeh.set_log_level(\"info\");\n    },\n    \n    function(Bokeh) {\n      \n    },\n    function(Bokeh) {\n      console.log(\"Bokeh: injecting CSS: https://cdn.pydata.org/bokeh/release/bokeh-0.12.16.min.css\");\n      Bokeh.embed.inject_css(\"https://cdn.pydata.org/bokeh/release/bokeh-0.12.16.min.css\");\n      console.log(\"Bokeh: injecting CSS: https://cdn.pydata.org/bokeh/release/bokeh-widgets-0.12.16.min.css\");\n      Bokeh.embed.inject_css(\"https://cdn.pydata.org/bokeh/release/bokeh-widgets-0.12.16.min.css\");\n      console.log(\"Bokeh: injecting CSS: https://cdn.pydata.org/bokeh/release/bokeh-tables-0.12.16.min.css\");\n      Bokeh.embed.inject_css(\"https://cdn.pydata.org/bokeh/release/bokeh-tables-0.12.16.min.css\");\n    }\n  ];\n\n  function run_inline_js() {\n    \n    if ((root.Bokeh !== undefined) || (force === true)) {\n      for (var i = 0; i < inline_js.length; i++) {\n        inline_js[i].call(root, root.Bokeh);\n      }if (force === true) {\n        display_loaded();\n      }} else if (Date.now() < root._bokeh_timeout) {\n      setTimeout(run_inline_js, 100);\n    } else if (!root._bokeh_failed_load) {\n      console.log(\"Bokeh: BokehJS failed to load within specified timeout.\");\n      root._bokeh_failed_load = true;\n    } else if (force !== true) {\n      var cell = $(document.getElementById(\"f9b76f49-2143-417c-b414-0b32c9dd36ad\")).parents('.cell').data().cell;\n      cell.output_area.append_execute_result(NB_LOAD_WARNING)\n    }\n\n  }\n\n  if (root._bokeh_is_loading === 0) {\n    console.log(\"Bokeh: BokehJS loaded, going straight to plotting\");\n    run_inline_js();\n  } else {\n    load_libs(js_urls, function() {\n      console.log(\"Bokeh: BokehJS plotting callback run at\", now());\n      run_inline_js();\n    });\n  }\n}(window));"
     },
     "metadata": {},
     "output_type": "display_data"
    }
   ],
   "source": [
    "from bokeh.io import output_notebook, show #,output_file \n",
    "output_notebook()\n",
    "import numpy as np\n",
    "from bokeh.plotting import figure"
   ]
  },
  {
   "cell_type": "code",
   "execution_count": 2,
   "metadata": {},
   "outputs": [],
   "source": [
    "# create values for plotting data\n",
    "x = np.arange(0,10,0.5)\n",
    "#sin values of x\n",
    "y=np.sin(x)"
   ]
  },
  {
   "cell_type": "code",
   "execution_count": 3,
   "metadata": {},
   "outputs": [
    {
     "data": {
      "text/html": [
       "\n",
       "<div class=\"bk-root\">\n",
       "    <div class=\"bk-plotdiv\" id=\"83cfb9ba-e6e1-4dcb-b3c0-a7dbe1bccc2e\"></div>\n",
       "</div>"
      ]
     },
     "metadata": {},
     "output_type": "display_data"
    },
    {
     "data": {
      "application/javascript": [
       "(function(root) {\n",
       "  function embed_document(root) {\n",
       "    \n",
       "  var docs_json = {\"0e4f4160-e10b-49f3-b240-b314670d2f2e\":{\"roots\":{\"references\":[{\"attributes\":{\"bottom_units\":\"screen\",\"fill_alpha\":{\"value\":0.5},\"fill_color\":{\"value\":\"lightgrey\"},\"left_units\":\"screen\",\"level\":\"overlay\",\"line_alpha\":{\"value\":1.0},\"line_color\":{\"value\":\"black\"},\"line_dash\":[4,4],\"line_width\":{\"value\":2},\"plot\":null,\"render_mode\":\"css\",\"right_units\":\"screen\",\"top_units\":\"screen\"},\"id\":\"0017b1a9-d613-46ea-94d4-43533450d5d0\",\"type\":\"BoxAnnotation\"},{\"attributes\":{\"line_alpha\":0.1,\"line_color\":\"#1f77b4\",\"x\":{\"field\":\"x\"},\"y\":{\"field\":\"y\"}},\"id\":\"23f3531c-0f5a-45ae-bcce-1f2071aa17ad\",\"type\":\"Line\"},{\"attributes\":{},\"id\":\"9fd36fc5-9bb4-4fef-a9ec-c84c792803b5\",\"type\":\"Selection\"},{\"attributes\":{},\"id\":\"02b2836a-e5c8-480a-af19-665eae5c770a\",\"type\":\"BasicTickFormatter\"},{\"attributes\":{\"below\":[{\"id\":\"8e533eda-70f4-4ccf-a988-47a43d166e42\",\"type\":\"LinearAxis\"}],\"left\":[{\"id\":\"b9307593-5017-4e92-ad03-3d7683bfbb4d\",\"type\":\"LinearAxis\"}],\"plot_height\":500,\"plot_width\":500,\"renderers\":[{\"id\":\"8e533eda-70f4-4ccf-a988-47a43d166e42\",\"type\":\"LinearAxis\"},{\"id\":\"abc9750a-586c-4b54-a085-b0a33757e05c\",\"type\":\"Grid\"},{\"id\":\"b9307593-5017-4e92-ad03-3d7683bfbb4d\",\"type\":\"LinearAxis\"},{\"id\":\"5acca1ee-054e-47b1-8fe3-865d775b65c3\",\"type\":\"Grid\"},{\"id\":\"0017b1a9-d613-46ea-94d4-43533450d5d0\",\"type\":\"BoxAnnotation\"},{\"id\":\"93360132-b3e3-4523-b503-4f7d15f6aa11\",\"type\":\"GlyphRenderer\"}],\"title\":{\"id\":\"0e141f30-9602-4a0c-b84c-153990b2ab1c\",\"type\":\"Title\"},\"toolbar\":{\"id\":\"7ec51842-a1ab-452b-adfb-86297af16627\",\"type\":\"Toolbar\"},\"x_range\":{\"id\":\"2a7c40b1-0216-4936-9376-ac966d59bb17\",\"type\":\"DataRange1d\"},\"x_scale\":{\"id\":\"99a61df5-42e1-4ebd-a31d-976ab72d3da2\",\"type\":\"LinearScale\"},\"y_range\":{\"id\":\"33f1de93-ac9e-4e51-ab13-57a245fe4c73\",\"type\":\"DataRange1d\"},\"y_scale\":{\"id\":\"98d9abab-e954-4922-842e-820a8407f93e\",\"type\":\"LinearScale\"}},\"id\":\"8091521f-e66f-4c5a-b4ff-599dee8bf00d\",\"subtype\":\"Figure\",\"type\":\"Plot\"},{\"attributes\":{},\"id\":\"f4c91fea-0506-416a-9afe-63215ee3d029\",\"type\":\"PanTool\"},{\"attributes\":{\"callback\":null,\"data\":{\"x\":{\"__ndarray__\":\"AAAAAAAAAAAAAAAAAADgPwAAAAAAAPA/AAAAAAAA+D8AAAAAAAAAQAAAAAAAAARAAAAAAAAACEAAAAAAAAAMQAAAAAAAABBAAAAAAAAAEkAAAAAAAAAUQAAAAAAAABZAAAAAAAAAGEAAAAAAAAAaQAAAAAAAABxAAAAAAAAAHkAAAAAAAAAgQAAAAAAAACFAAAAAAAAAIkAAAAAAAAAjQA==\",\"dtype\":\"float64\",\"shape\":[20]},\"y\":{\"__ndarray__\":\"AAAAAAAAAADwBUt06K7eP+4MCY9U7eo/i20sm3rr7z9GtNHq9hjtP7DKzw2vJuM/W9W2bTgQwj8fYrp+O3PWv64e3N25N+i/gEDHPe1H778zmeD1ga/uv1ewCk7Jk+a/wKKwivHh0b88y8ZADYnLPwgKbcIIBuU/MK78hhgE7j97zyig0qjvP/zZX9g0jek/kS8MNiZg2j97J6SUGj2zvw==\",\"dtype\":\"float64\",\"shape\":[20]}},\"selected\":{\"id\":\"9fd36fc5-9bb4-4fef-a9ec-c84c792803b5\",\"type\":\"Selection\"},\"selection_policy\":{\"id\":\"bec2b07d-6d3a-4cda-8aa4-46e4905148e2\",\"type\":\"UnionRenderers\"}},\"id\":\"5db9a753-21c6-47ff-983f-4f1281aae6c1\",\"type\":\"ColumnDataSource\"},{\"attributes\":{\"source\":{\"id\":\"5db9a753-21c6-47ff-983f-4f1281aae6c1\",\"type\":\"ColumnDataSource\"}},\"id\":\"2da8cc39-918a-4326-aa0d-64c7d78881eb\",\"type\":\"CDSView\"},{\"attributes\":{},\"id\":\"a96df69a-f8d8-4600-a79d-a08bfbda026e\",\"type\":\"WheelZoomTool\"},{\"attributes\":{\"plot\":null,\"text\":\"Sin Plot\"},\"id\":\"0e141f30-9602-4a0c-b84c-153990b2ab1c\",\"type\":\"Title\"},{\"attributes\":{\"overlay\":{\"id\":\"0017b1a9-d613-46ea-94d4-43533450d5d0\",\"type\":\"BoxAnnotation\"}},\"id\":\"49a11e15-4035-4cab-9c9c-2a35d1e1bf34\",\"type\":\"BoxZoomTool\"},{\"attributes\":{},\"id\":\"bec2b07d-6d3a-4cda-8aa4-46e4905148e2\",\"type\":\"UnionRenderers\"},{\"attributes\":{},\"id\":\"b7368ba7-aa29-454d-8ad2-c8236bd7e942\",\"type\":\"SaveTool\"},{\"attributes\":{},\"id\":\"99a61df5-42e1-4ebd-a31d-976ab72d3da2\",\"type\":\"LinearScale\"},{\"attributes\":{},\"id\":\"ea162180-766f-4db7-8b85-d49a78360dc4\",\"type\":\"ResetTool\"},{\"attributes\":{\"callback\":null},\"id\":\"33f1de93-ac9e-4e51-ab13-57a245fe4c73\",\"type\":\"DataRange1d\"},{\"attributes\":{\"data_source\":{\"id\":\"5db9a753-21c6-47ff-983f-4f1281aae6c1\",\"type\":\"ColumnDataSource\"},\"glyph\":{\"id\":\"e3c79d78-350c-49de-838f-d40f31f5c030\",\"type\":\"Line\"},\"hover_glyph\":null,\"muted_glyph\":null,\"nonselection_glyph\":{\"id\":\"23f3531c-0f5a-45ae-bcce-1f2071aa17ad\",\"type\":\"Line\"},\"selection_glyph\":null,\"view\":{\"id\":\"2da8cc39-918a-4326-aa0d-64c7d78881eb\",\"type\":\"CDSView\"}},\"id\":\"93360132-b3e3-4523-b503-4f7d15f6aa11\",\"type\":\"GlyphRenderer\"},{\"attributes\":{},\"id\":\"98d9abab-e954-4922-842e-820a8407f93e\",\"type\":\"LinearScale\"},{\"attributes\":{},\"id\":\"231127a7-7feb-444b-885f-c76be340e957\",\"type\":\"HelpTool\"},{\"attributes\":{},\"id\":\"f5ab00fa-f06b-4c3a-850f-410c13630e03\",\"type\":\"BasicTickFormatter\"},{\"attributes\":{\"axis_label\":\"number\",\"formatter\":{\"id\":\"02b2836a-e5c8-480a-af19-665eae5c770a\",\"type\":\"BasicTickFormatter\"},\"plot\":{\"id\":\"8091521f-e66f-4c5a-b4ff-599dee8bf00d\",\"subtype\":\"Figure\",\"type\":\"Plot\"},\"ticker\":{\"id\":\"d3c2bdab-ca38-4333-b52d-31d40b9eb026\",\"type\":\"BasicTicker\"}},\"id\":\"8e533eda-70f4-4ccf-a988-47a43d166e42\",\"type\":\"LinearAxis\"},{\"attributes\":{\"callback\":null},\"id\":\"2a7c40b1-0216-4936-9376-ac966d59bb17\",\"type\":\"DataRange1d\"},{\"attributes\":{\"line_color\":\"#1f77b4\",\"x\":{\"field\":\"x\"},\"y\":{\"field\":\"y\"}},\"id\":\"e3c79d78-350c-49de-838f-d40f31f5c030\",\"type\":\"Line\"},{\"attributes\":{},\"id\":\"d3c2bdab-ca38-4333-b52d-31d40b9eb026\",\"type\":\"BasicTicker\"},{\"attributes\":{\"active_drag\":\"auto\",\"active_inspect\":\"auto\",\"active_scroll\":\"auto\",\"active_tap\":\"auto\",\"tools\":[{\"id\":\"f4c91fea-0506-416a-9afe-63215ee3d029\",\"type\":\"PanTool\"},{\"id\":\"a96df69a-f8d8-4600-a79d-a08bfbda026e\",\"type\":\"WheelZoomTool\"},{\"id\":\"49a11e15-4035-4cab-9c9c-2a35d1e1bf34\",\"type\":\"BoxZoomTool\"},{\"id\":\"b7368ba7-aa29-454d-8ad2-c8236bd7e942\",\"type\":\"SaveTool\"},{\"id\":\"ea162180-766f-4db7-8b85-d49a78360dc4\",\"type\":\"ResetTool\"},{\"id\":\"231127a7-7feb-444b-885f-c76be340e957\",\"type\":\"HelpTool\"}]},\"id\":\"7ec51842-a1ab-452b-adfb-86297af16627\",\"type\":\"Toolbar\"},{\"attributes\":{\"plot\":{\"id\":\"8091521f-e66f-4c5a-b4ff-599dee8bf00d\",\"subtype\":\"Figure\",\"type\":\"Plot\"},\"ticker\":{\"id\":\"d3c2bdab-ca38-4333-b52d-31d40b9eb026\",\"type\":\"BasicTicker\"}},\"id\":\"abc9750a-586c-4b54-a085-b0a33757e05c\",\"type\":\"Grid\"},{\"attributes\":{\"axis_label\":\"sin(number)\",\"formatter\":{\"id\":\"f5ab00fa-f06b-4c3a-850f-410c13630e03\",\"type\":\"BasicTickFormatter\"},\"plot\":{\"id\":\"8091521f-e66f-4c5a-b4ff-599dee8bf00d\",\"subtype\":\"Figure\",\"type\":\"Plot\"},\"ticker\":{\"id\":\"81b5966f-dd2c-4f86-8523-7df027f075fc\",\"type\":\"BasicTicker\"}},\"id\":\"b9307593-5017-4e92-ad03-3d7683bfbb4d\",\"type\":\"LinearAxis\"},{\"attributes\":{},\"id\":\"81b5966f-dd2c-4f86-8523-7df027f075fc\",\"type\":\"BasicTicker\"},{\"attributes\":{\"dimension\":1,\"plot\":{\"id\":\"8091521f-e66f-4c5a-b4ff-599dee8bf00d\",\"subtype\":\"Figure\",\"type\":\"Plot\"},\"ticker\":{\"id\":\"81b5966f-dd2c-4f86-8523-7df027f075fc\",\"type\":\"BasicTicker\"}},\"id\":\"5acca1ee-054e-47b1-8fe3-865d775b65c3\",\"type\":\"Grid\"}],\"root_ids\":[\"8091521f-e66f-4c5a-b4ff-599dee8bf00d\"]},\"title\":\"Bokeh Application\",\"version\":\"0.12.16\"}};\n",
       "  var render_items = [{\"docid\":\"0e4f4160-e10b-49f3-b240-b314670d2f2e\",\"elementid\":\"83cfb9ba-e6e1-4dcb-b3c0-a7dbe1bccc2e\",\"modelid\":\"8091521f-e66f-4c5a-b4ff-599dee8bf00d\"}];\n",
       "  root.Bokeh.embed.embed_items_notebook(docs_json, render_items);\n",
       "\n",
       "  }\n",
       "  if (root.Bokeh !== undefined) {\n",
       "    embed_document(root);\n",
       "  } else {\n",
       "    var attempts = 0;\n",
       "    var timer = setInterval(function(root) {\n",
       "      if (root.Bokeh !== undefined) {\n",
       "        embed_document(root);\n",
       "        clearInterval(timer);\n",
       "      }\n",
       "      attempts++;\n",
       "      if (attempts > 100) {\n",
       "        console.log(\"Bokeh: ERROR: Unable to run BokehJS code because BokehJS library is missing\")\n",
       "        clearInterval(timer);\n",
       "      }\n",
       "    }, 10, root)\n",
       "  }\n",
       "})(window);"
      ],
      "application/vnd.bokehjs_exec.v0+json": ""
     },
     "metadata": {
      "application/vnd.bokehjs_exec.v0+json": {
       "id": "8091521f-e66f-4c5a-b4ff-599dee8bf00d"
      }
     },
     "output_type": "display_data"
    }
   ],
   "source": [
    "# create empty figure having axis labels \n",
    "# having axis label with title of plot and height and width of 500\n",
    "p = figure(x_axis_label='number',y_axis_label='sin(number)',title=\"Sin Plot\", plot_width=500, plot_height=500)\n",
    "# line is a glyph lets talk a little later for now you can see that it creates line plot\n",
    "p.line(x,y)\n",
    "# show will show rendered plot\n",
    "show(p)"
   ]
  },
  {
   "cell_type": "markdown",
   "metadata": {},
   "source": [
    "Glpyhs\n",
    "\n",
    "asterisk()\n",
    "circle()\n",
    "circle_cross()\n",
    "circle_x()\n",
    "cross()\n",
    "diamond()\n",
    "diamond_cross()\n",
    "inverted_triangle()\n",
    "square()\n",
    "square_cross()\n",
    "square_x()\n",
    "triangle()\n",
    "x()\n"
   ]
  },
  {
   "cell_type": "code",
   "execution_count": 4,
   "metadata": {},
   "outputs": [],
   "source": [
    "import pandas as pd \n",
    "from sklearn.datasets import load_iris # iris dataset"
   ]
  },
  {
   "cell_type": "code",
   "execution_count": 5,
   "metadata": {},
   "outputs": [],
   "source": [
    "iris = load_iris()\n",
    "data = iris.data\n",
    "column_names = iris.feature_names\n",
    "#Creating dataframe out of data and features\n",
    "#convert target name from numeric to names\n",
    "df = pd.DataFrame(data,columns=column_names)\n",
    "df = df.assign(target=iris.target)\n",
    "df.target = df.target.apply(lambda x: iris.target_names[x])"
   ]
  },
  {
   "cell_type": "code",
   "execution_count": 6,
   "metadata": {},
   "outputs": [
    {
     "data": {
      "text/html": [
       "<div>\n",
       "<style scoped>\n",
       "    .dataframe tbody tr th:only-of-type {\n",
       "        vertical-align: middle;\n",
       "    }\n",
       "\n",
       "    .dataframe tbody tr th {\n",
       "        vertical-align: top;\n",
       "    }\n",
       "\n",
       "    .dataframe thead th {\n",
       "        text-align: right;\n",
       "    }\n",
       "</style>\n",
       "<table border=\"1\" class=\"dataframe\">\n",
       "  <thead>\n",
       "    <tr style=\"text-align: right;\">\n",
       "      <th></th>\n",
       "      <th>sepal length (cm)</th>\n",
       "      <th>sepal width (cm)</th>\n",
       "      <th>petal length (cm)</th>\n",
       "      <th>petal width (cm)</th>\n",
       "      <th>target</th>\n",
       "    </tr>\n",
       "  </thead>\n",
       "  <tbody>\n",
       "    <tr>\n",
       "      <th>0</th>\n",
       "      <td>5.1</td>\n",
       "      <td>3.5</td>\n",
       "      <td>1.4</td>\n",
       "      <td>0.2</td>\n",
       "      <td>setosa</td>\n",
       "    </tr>\n",
       "    <tr>\n",
       "      <th>1</th>\n",
       "      <td>4.9</td>\n",
       "      <td>3.0</td>\n",
       "      <td>1.4</td>\n",
       "      <td>0.2</td>\n",
       "      <td>setosa</td>\n",
       "    </tr>\n",
       "    <tr>\n",
       "      <th>2</th>\n",
       "      <td>4.7</td>\n",
       "      <td>3.2</td>\n",
       "      <td>1.3</td>\n",
       "      <td>0.2</td>\n",
       "      <td>setosa</td>\n",
       "    </tr>\n",
       "    <tr>\n",
       "      <th>3</th>\n",
       "      <td>4.6</td>\n",
       "      <td>3.1</td>\n",
       "      <td>1.5</td>\n",
       "      <td>0.2</td>\n",
       "      <td>setosa</td>\n",
       "    </tr>\n",
       "    <tr>\n",
       "      <th>4</th>\n",
       "      <td>5.0</td>\n",
       "      <td>3.6</td>\n",
       "      <td>1.4</td>\n",
       "      <td>0.2</td>\n",
       "      <td>setosa</td>\n",
       "    </tr>\n",
       "  </tbody>\n",
       "</table>\n",
       "</div>"
      ],
      "text/plain": [
       "   sepal length (cm)  sepal width (cm)  petal length (cm)  petal width (cm)  \\\n",
       "0                5.1               3.5                1.4               0.2   \n",
       "1                4.9               3.0                1.4               0.2   \n",
       "2                4.7               3.2                1.3               0.2   \n",
       "3                4.6               3.1                1.5               0.2   \n",
       "4                5.0               3.6                1.4               0.2   \n",
       "\n",
       "   target  \n",
       "0  setosa  \n",
       "1  setosa  \n",
       "2  setosa  \n",
       "3  setosa  \n",
       "4  setosa  "
      ]
     },
     "execution_count": 6,
     "metadata": {},
     "output_type": "execute_result"
    }
   ],
   "source": [
    "df.head()"
   ]
  },
  {
   "cell_type": "markdown",
   "metadata": {},
   "source": [
    "# ColumnDataSource"
   ]
  },
  {
   "cell_type": "markdown",
   "metadata": {},
   "source": [
    "ColumnDataSource is the core of most Bokeh plots, providing the data that is visualized by the glyphs of the plot.One of best feature of ColumnDataSource is that it makes it easy to have multiple plots share same data.\n",
    "\n",
    "ColumnDataSource takes dataframe or groupby as parameter"
   ]
  },
  {
   "cell_type": "code",
   "execution_count": 7,
   "metadata": {},
   "outputs": [],
   "source": [
    "from bokeh.models import ColumnDataSource"
   ]
  },
  {
   "cell_type": "code",
   "execution_count": 8,
   "metadata": {},
   "outputs": [
    {
     "data": {
      "text/html": [
       "\n",
       "<div class=\"bk-root\">\n",
       "    <div class=\"bk-plotdiv\" id=\"2b66f82b-e08f-4177-92a4-ddef215db9cd\"></div>\n",
       "</div>"
      ]
     },
     "metadata": {},
     "output_type": "display_data"
    },
    {
     "data": {
      "application/javascript": [
       "(function(root) {\n",
       "  function embed_document(root) {\n",
       "    \n",
       "  var docs_json = {\"2b49d382-a095-4158-bdcd-82b1629634ee\":{\"roots\":{\"references\":[{\"attributes\":{},\"id\":\"2ee4e5ab-e7bd-4773-87fa-0e6953aae53d\",\"type\":\"HelpTool\"},{\"attributes\":{\"callback\":null},\"id\":\"29c4fd0f-c3e8-41e3-9128-f901de22f2ab\",\"type\":\"DataRange1d\"},{\"attributes\":{},\"id\":\"38b014ee-5819-4931-be95-936c35351d75\",\"type\":\"BasicTickFormatter\"},{\"attributes\":{\"plot\":{\"id\":\"56acde3e-258b-4c3c-b534-a22c08bbdc8d\",\"subtype\":\"Figure\",\"type\":\"Plot\"},\"ticker\":{\"id\":\"a80d160d-643a-4ba0-8e3a-ccfd8857a525\",\"type\":\"BasicTicker\"}},\"id\":\"812e1175-7048-480c-97ed-33a2962f9940\",\"type\":\"Grid\"},{\"attributes\":{\"fill_color\":{\"value\":\"#1f77b4\"},\"line_color\":{\"value\":\"#1f77b4\"},\"x\":{\"field\":\"sepal length (cm)\"},\"y\":{\"field\":\"petal length (cm)\"}},\"id\":\"0f52f0bf-7f6c-4696-83f4-a9c1cdad49c3\",\"type\":\"Circle\"},{\"attributes\":{},\"id\":\"06aa6f81-adfe-422c-a4dc-66a81e6c3a5c\",\"type\":\"LinearScale\"},{\"attributes\":{\"below\":[{\"id\":\"24184838-6e14-4066-9754-9adb28c88048\",\"type\":\"LinearAxis\"}],\"left\":[{\"id\":\"d463e3df-d043-4d4b-91b4-d42ec86cc7d9\",\"type\":\"LinearAxis\"}],\"renderers\":[{\"id\":\"24184838-6e14-4066-9754-9adb28c88048\",\"type\":\"LinearAxis\"},{\"id\":\"812e1175-7048-480c-97ed-33a2962f9940\",\"type\":\"Grid\"},{\"id\":\"d463e3df-d043-4d4b-91b4-d42ec86cc7d9\",\"type\":\"LinearAxis\"},{\"id\":\"8a4d7644-d562-4c77-aea3-728a35156355\",\"type\":\"Grid\"},{\"id\":\"13f2cdde-a5d3-43b4-b39f-0809d67fb1cf\",\"type\":\"BoxAnnotation\"},{\"id\":\"8bb1b922-4c40-40eb-a20d-529c89fa43ba\",\"type\":\"GlyphRenderer\"}],\"title\":{\"id\":\"1cca1baa-9e8e-403f-8c57-119273d7d44f\",\"type\":\"Title\"},\"toolbar\":{\"id\":\"a1b5f0a7-59f4-4c6d-aadf-f1595bcbe3bb\",\"type\":\"Toolbar\"},\"x_range\":{\"id\":\"5f829a83-5e7c-4135-a878-0d48c068700b\",\"type\":\"DataRange1d\"},\"x_scale\":{\"id\":\"c0a6ca90-5cd3-4e8d-b2ce-b625a4c57243\",\"type\":\"LinearScale\"},\"y_range\":{\"id\":\"29c4fd0f-c3e8-41e3-9128-f901de22f2ab\",\"type\":\"DataRange1d\"},\"y_scale\":{\"id\":\"06aa6f81-adfe-422c-a4dc-66a81e6c3a5c\",\"type\":\"LinearScale\"}},\"id\":\"56acde3e-258b-4c3c-b534-a22c08bbdc8d\",\"subtype\":\"Figure\",\"type\":\"Plot\"},{\"attributes\":{\"axis_label\":\"petal length (cm)\",\"formatter\":{\"id\":\"3f3ec65c-4d6d-43b5-a009-eb3b5cad518e\",\"type\":\"BasicTickFormatter\"},\"plot\":{\"id\":\"56acde3e-258b-4c3c-b534-a22c08bbdc8d\",\"subtype\":\"Figure\",\"type\":\"Plot\"},\"ticker\":{\"id\":\"4668b679-0258-4eff-b39d-32e7c9ff6898\",\"type\":\"BasicTicker\"}},\"id\":\"d463e3df-d043-4d4b-91b4-d42ec86cc7d9\",\"type\":\"LinearAxis\"},{\"attributes\":{\"fill_alpha\":{\"value\":0.1},\"fill_color\":{\"value\":\"#1f77b4\"},\"line_alpha\":{\"value\":0.1},\"line_color\":{\"value\":\"#1f77b4\"},\"x\":{\"field\":\"sepal length (cm)\"},\"y\":{\"field\":\"petal length (cm)\"}},\"id\":\"4d122d1f-1de3-432f-b33a-7ccb3b1676db\",\"type\":\"Circle\"},{\"attributes\":{\"callback\":null},\"id\":\"5f829a83-5e7c-4135-a878-0d48c068700b\",\"type\":\"DataRange1d\"},{\"attributes\":{},\"id\":\"a44270cf-81df-4ee4-b4a0-391049b528ea\",\"type\":\"UnionRenderers\"},{\"attributes\":{},\"id\":\"4668b679-0258-4eff-b39d-32e7c9ff6898\",\"type\":\"BasicTicker\"},{\"attributes\":{\"dimension\":1,\"plot\":{\"id\":\"56acde3e-258b-4c3c-b534-a22c08bbdc8d\",\"subtype\":\"Figure\",\"type\":\"Plot\"},\"ticker\":{\"id\":\"4668b679-0258-4eff-b39d-32e7c9ff6898\",\"type\":\"BasicTicker\"}},\"id\":\"8a4d7644-d562-4c77-aea3-728a35156355\",\"type\":\"Grid\"},{\"attributes\":{},\"id\":\"feaebfc5-8972-4a1f-8a5a-e74bed016307\",\"type\":\"Selection\"},{\"attributes\":{\"data_source\":{\"id\":\"542709f6-6e1b-414e-b1ba-149a3ecb6e3d\",\"type\":\"ColumnDataSource\"},\"glyph\":{\"id\":\"0f52f0bf-7f6c-4696-83f4-a9c1cdad49c3\",\"type\":\"Circle\"},\"hover_glyph\":null,\"muted_glyph\":null,\"nonselection_glyph\":{\"id\":\"4d122d1f-1de3-432f-b33a-7ccb3b1676db\",\"type\":\"Circle\"},\"selection_glyph\":null,\"view\":{\"id\":\"08867619-1ba5-4d8c-95a7-201946839013\",\"type\":\"CDSView\"}},\"id\":\"8bb1b922-4c40-40eb-a20d-529c89fa43ba\",\"type\":\"GlyphRenderer\"},{\"attributes\":{\"axis_label\":\"sepal length (cm)\",\"formatter\":{\"id\":\"38b014ee-5819-4931-be95-936c35351d75\",\"type\":\"BasicTickFormatter\"},\"plot\":{\"id\":\"56acde3e-258b-4c3c-b534-a22c08bbdc8d\",\"subtype\":\"Figure\",\"type\":\"Plot\"},\"ticker\":{\"id\":\"a80d160d-643a-4ba0-8e3a-ccfd8857a525\",\"type\":\"BasicTicker\"}},\"id\":\"24184838-6e14-4066-9754-9adb28c88048\",\"type\":\"LinearAxis\"},{\"attributes\":{\"plot\":null,\"text\":\"\"},\"id\":\"1cca1baa-9e8e-403f-8c57-119273d7d44f\",\"type\":\"Title\"},{\"attributes\":{},\"id\":\"3f3ec65c-4d6d-43b5-a009-eb3b5cad518e\",\"type\":\"BasicTickFormatter\"},{\"attributes\":{\"bottom_units\":\"screen\",\"fill_alpha\":{\"value\":0.5},\"fill_color\":{\"value\":\"lightgrey\"},\"left_units\":\"screen\",\"level\":\"overlay\",\"line_alpha\":{\"value\":1.0},\"line_color\":{\"value\":\"black\"},\"line_dash\":[4,4],\"line_width\":{\"value\":2},\"plot\":null,\"render_mode\":\"css\",\"right_units\":\"screen\",\"top_units\":\"screen\"},\"id\":\"13f2cdde-a5d3-43b4-b39f-0809d67fb1cf\",\"type\":\"BoxAnnotation\"},{\"attributes\":{\"active_drag\":\"auto\",\"active_inspect\":\"auto\",\"active_scroll\":\"auto\",\"active_tap\":\"auto\",\"tools\":[{\"id\":\"27afe766-447c-4998-90bd-804803640e2b\",\"type\":\"PanTool\"},{\"id\":\"a62cb5f2-4cf0-4382-88ad-4bd824c7dc3f\",\"type\":\"WheelZoomTool\"},{\"id\":\"5b2b1562-35e7-4982-92db-41ab5b133f78\",\"type\":\"BoxZoomTool\"},{\"id\":\"dca1ffe6-c51e-48d1-bdf2-b13092f4a4b1\",\"type\":\"SaveTool\"},{\"id\":\"ff087662-f0d7-4997-8645-d3e2e02d7c5c\",\"type\":\"ResetTool\"},{\"id\":\"2ee4e5ab-e7bd-4773-87fa-0e6953aae53d\",\"type\":\"HelpTool\"}]},\"id\":\"a1b5f0a7-59f4-4c6d-aadf-f1595bcbe3bb\",\"type\":\"Toolbar\"},{\"attributes\":{},\"id\":\"27afe766-447c-4998-90bd-804803640e2b\",\"type\":\"PanTool\"},{\"attributes\":{},\"id\":\"c0a6ca90-5cd3-4e8d-b2ce-b625a4c57243\",\"type\":\"LinearScale\"},{\"attributes\":{\"source\":{\"id\":\"542709f6-6e1b-414e-b1ba-149a3ecb6e3d\",\"type\":\"ColumnDataSource\"}},\"id\":\"08867619-1ba5-4d8c-95a7-201946839013\",\"type\":\"CDSView\"},{\"attributes\":{\"callback\":null,\"data\":{\"index\":[0,1,2,3,4,5,6,7,8,9,10,11,12,13,14,15,16,17,18,19,20,21,22,23,24,25,26,27,28,29,30,31,32,33,34,35,36,37,38,39,40,41,42,43,44,45,46,47,48,49,50,51,52,53,54,55,56,57,58,59,60,61,62,63,64,65,66,67,68,69,70,71,72,73,74,75,76,77,78,79,80,81,82,83,84,85,86,87,88,89,90,91,92,93,94,95,96,97,98,99,100,101,102,103,104,105,106,107,108,109,110,111,112,113,114,115,116,117,118,119,120,121,122,123,124,125,126,127,128,129,130,131,132,133,134,135,136,137,138,139,140,141,142,143,144,145,146,147,148,149],\"petal length (cm)\":{\"__ndarray__\":\"ZmZmZmZm9j9mZmZmZmb2P83MzMzMzPQ/AAAAAAAA+D9mZmZmZmb2PzMzMzMzM/s/ZmZmZmZm9j8AAAAAAAD4P2ZmZmZmZvY/AAAAAAAA+D8AAAAAAAD4P5qZmZmZmfk/ZmZmZmZm9j+amZmZmZnxPzMzMzMzM/M/AAAAAAAA+D/NzMzMzMz0P2ZmZmZmZvY/MzMzMzMz+z8AAAAAAAD4PzMzMzMzM/s/AAAAAAAA+D8AAAAAAADwPzMzMzMzM/s/ZmZmZmZm/j+amZmZmZn5P5qZmZmZmfk/AAAAAAAA+D9mZmZmZmb2P5qZmZmZmfk/mpmZmZmZ+T8AAAAAAAD4PwAAAAAAAPg/ZmZmZmZm9j8AAAAAAAD4PzMzMzMzM/M/zczMzMzM9D8AAAAAAAD4P83MzMzMzPQ/AAAAAAAA+D/NzMzMzMz0P83MzMzMzPQ/zczMzMzM9D+amZmZmZn5P2ZmZmZmZv4/ZmZmZmZm9j+amZmZmZn5P2ZmZmZmZvY/AAAAAAAA+D9mZmZmZmb2P83MzMzMzBJAAAAAAAAAEkCamZmZmZkTQAAAAAAAABBAZmZmZmZmEkAAAAAAAAASQM3MzMzMzBJAZmZmZmZmCkBmZmZmZmYSQDMzMzMzMw9AAAAAAAAADEDNzMzMzMwQQAAAAAAAABBAzczMzMzMEkDNzMzMzMwMQJqZmZmZmRFAAAAAAAAAEkBmZmZmZmYQQAAAAAAAABJAMzMzMzMzD0AzMzMzMzMTQAAAAAAAABBAmpmZmZmZE0DNzMzMzMwSQDMzMzMzMxFAmpmZmZmZEUAzMzMzMzMTQAAAAAAAABRAAAAAAAAAEkAAAAAAAAAMQGZmZmZmZg5AmpmZmZmZDUAzMzMzMzMPQGZmZmZmZhRAAAAAAAAAEkAAAAAAAAASQM3MzMzMzBJAmpmZmZmZEUBmZmZmZmYQQAAAAAAAABBAmpmZmZmZEUBmZmZmZmYSQAAAAAAAABBAZmZmZmZmCkDNzMzMzMwQQM3MzMzMzBBAzczMzMzMEEAzMzMzMzMRQAAAAAAAAAhAZmZmZmZmEEAAAAAAAAAYQGZmZmZmZhRAmpmZmZmZF0BmZmZmZmYWQDMzMzMzMxdAZmZmZmZmGkAAAAAAAAASQDMzMzMzMxlAMzMzMzMzF0BmZmZmZmYYQGZmZmZmZhRAMzMzMzMzFUAAAAAAAAAWQAAAAAAAABRAZmZmZmZmFEAzMzMzMzMVQAAAAAAAABZAzczMzMzMGkCamZmZmZkbQAAAAAAAABRAzczMzMzMFkCamZmZmZkTQM3MzMzMzBpAmpmZmZmZE0DNzMzMzMwWQAAAAAAAABhAMzMzMzMzE0CamZmZmZkTQGZmZmZmZhZAMzMzMzMzF0BmZmZmZmYYQJqZmZmZmRlAZmZmZmZmFkBmZmZmZmYUQGZmZmZmZhZAZmZmZmZmGEBmZmZmZmYWQAAAAAAAABZAMzMzMzMzE0CamZmZmZkVQGZmZmZmZhZAZmZmZmZmFEBmZmZmZmYUQJqZmZmZmRdAzczMzMzMFkDNzMzMzMwUQAAAAAAAABRAzczMzMzMFECamZmZmZkVQGZmZmZmZhRA\",\"dtype\":\"float64\",\"shape\":[150]},\"petal width (cm)\":{\"__ndarray__\":\"mpmZmZmZyT+amZmZmZnJP5qZmZmZmck/mpmZmZmZyT+amZmZmZnJP5qZmZmZmdk/MzMzMzMz0z+amZmZmZnJP5qZmZmZmck/mpmZmZmZuT+amZmZmZnJP5qZmZmZmck/mpmZmZmZuT+amZmZmZm5P5qZmZmZmck/mpmZmZmZ2T+amZmZmZnZPzMzMzMzM9M/MzMzMzMz0z8zMzMzMzPTP5qZmZmZmck/mpmZmZmZ2T+amZmZmZnJPwAAAAAAAOA/mpmZmZmZyT+amZmZmZnJP5qZmZmZmdk/mpmZmZmZyT+amZmZmZnJP5qZmZmZmck/mpmZmZmZyT+amZmZmZnZP5qZmZmZmbk/mpmZmZmZyT+amZmZmZm5P5qZmZmZmck/mpmZmZmZyT+amZmZmZm5P5qZmZmZmck/mpmZmZmZyT8zMzMzMzPTPzMzMzMzM9M/mpmZmZmZyT8zMzMzMzPjP5qZmZmZmdk/MzMzMzMz0z+amZmZmZnJP5qZmZmZmck/mpmZmZmZyT+amZmZmZnJP2ZmZmZmZvY/AAAAAAAA+D8AAAAAAAD4P83MzMzMzPQ/AAAAAAAA+D/NzMzMzMz0P5qZmZmZmfk/AAAAAAAA8D/NzMzMzMz0P2ZmZmZmZvY/AAAAAAAA8D8AAAAAAAD4PwAAAAAAAPA/ZmZmZmZm9j/NzMzMzMz0P2ZmZmZmZvY/AAAAAAAA+D8AAAAAAADwPwAAAAAAAPg/mpmZmZmZ8T/NzMzMzMz8P83MzMzMzPQ/AAAAAAAA+D8zMzMzMzPzP83MzMzMzPQ/ZmZmZmZm9j9mZmZmZmb2PzMzMzMzM/s/AAAAAAAA+D8AAAAAAADwP5qZmZmZmfE/AAAAAAAA8D8zMzMzMzPzP5qZmZmZmfk/AAAAAAAA+D+amZmZmZn5PwAAAAAAAPg/zczMzMzM9D/NzMzMzMz0P83MzMzMzPQ/MzMzMzMz8z9mZmZmZmb2PzMzMzMzM/M/AAAAAAAA8D/NzMzMzMz0PzMzMzMzM/M/zczMzMzM9D/NzMzMzMz0P5qZmZmZmfE/zczMzMzM9D8AAAAAAAAEQGZmZmZmZv4/zczMzMzMAEDNzMzMzMz8P5qZmZmZmQFAzczMzMzMAEAzMzMzMzP7P83MzMzMzPw/zczMzMzM/D8AAAAAAAAEQAAAAAAAAABAZmZmZmZm/j/NzMzMzMwAQAAAAAAAAABAMzMzMzMzA0BmZmZmZmYCQM3MzMzMzPw/mpmZmZmZAUBmZmZmZmYCQAAAAAAAAPg/ZmZmZmZmAkAAAAAAAAAAQAAAAAAAAABAzczMzMzM/D/NzMzMzMwAQM3MzMzMzPw/zczMzMzM/D/NzMzMzMz8P83MzMzMzABAmpmZmZmZ+T9mZmZmZmb+PwAAAAAAAABAmpmZmZmZAUAAAAAAAAD4P2ZmZmZmZvY/ZmZmZmZmAkAzMzMzMzMDQM3MzMzMzPw/zczMzMzM/D/NzMzMzMwAQDMzMzMzMwNAZmZmZmZmAkBmZmZmZmb+P2ZmZmZmZgJAAAAAAAAABEBmZmZmZmYCQGZmZmZmZv4/AAAAAAAAAEBmZmZmZmYCQM3MzMzMzPw/\",\"dtype\":\"float64\",\"shape\":[150]},\"sepal length (cm)\":{\"__ndarray__\":\"ZmZmZmZmFECamZmZmZkTQM3MzMzMzBJAZmZmZmZmEkAAAAAAAAAUQJqZmZmZmRVAZmZmZmZmEkAAAAAAAAAUQJqZmZmZmRFAmpmZmZmZE0CamZmZmZkVQDMzMzMzMxNAMzMzMzMzE0AzMzMzMzMRQDMzMzMzMxdAzczMzMzMFkCamZmZmZkVQGZmZmZmZhRAzczMzMzMFkBmZmZmZmYUQJqZmZmZmRVAZmZmZmZmFEBmZmZmZmYSQGZmZmZmZhRAMzMzMzMzE0AAAAAAAAAUQAAAAAAAABRAzczMzMzMFEDNzMzMzMwUQM3MzMzMzBJAMzMzMzMzE0CamZmZmZkVQM3MzMzMzBRAAAAAAAAAFkCamZmZmZkTQAAAAAAAABRAAAAAAAAAFkCamZmZmZkTQJqZmZmZmRFAZmZmZmZmFEAAAAAAAAAUQAAAAAAAABJAmpmZmZmZEUAAAAAAAAAUQGZmZmZmZhRAMzMzMzMzE0BmZmZmZmYUQGZmZmZmZhJAMzMzMzMzFUAAAAAAAAAUQAAAAAAAABxAmpmZmZmZGUCamZmZmZkbQAAAAAAAABZAAAAAAAAAGkDNzMzMzMwWQDMzMzMzMxlAmpmZmZmZE0BmZmZmZmYaQM3MzMzMzBRAAAAAAAAAFECamZmZmZkXQAAAAAAAABhAZmZmZmZmGEBmZmZmZmYWQM3MzMzMzBpAZmZmZmZmFkAzMzMzMzMXQM3MzMzMzBhAZmZmZmZmFkCamZmZmZkXQGZmZmZmZhhAMzMzMzMzGUBmZmZmZmYYQJqZmZmZmRlAZmZmZmZmGkAzMzMzMzMbQM3MzMzMzBpAAAAAAAAAGEDNzMzMzMwWQAAAAAAAABZAAAAAAAAAFkAzMzMzMzMXQAAAAAAAABhAmpmZmZmZFUAAAAAAAAAYQM3MzMzMzBpAMzMzMzMzGUBmZmZmZmYWQAAAAAAAABZAAAAAAAAAFkBmZmZmZmYYQDMzMzMzMxdAAAAAAAAAFEBmZmZmZmYWQM3MzMzMzBZAzczMzMzMFkDNzMzMzMwYQGZmZmZmZhRAzczMzMzMFkAzMzMzMzMZQDMzMzMzMxdAZmZmZmZmHEAzMzMzMzMZQAAAAAAAABpAZmZmZmZmHkCamZmZmZkTQDMzMzMzMx1AzczMzMzMGkDNzMzMzMwcQAAAAAAAABpAmpmZmZmZGUAzMzMzMzMbQM3MzMzMzBZAMzMzMzMzF0CamZmZmZkZQAAAAAAAABpAzczMzMzMHkDNzMzMzMweQAAAAAAAABhAmpmZmZmZG0BmZmZmZmYWQM3MzMzMzB5AMzMzMzMzGUDNzMzMzMwaQM3MzMzMzBxAzczMzMzMGEBmZmZmZmYYQJqZmZmZmRlAzczMzMzMHECamZmZmZkdQJqZmZmZmR9AmpmZmZmZGUAzMzMzMzMZQGZmZmZmZhhAzczMzMzMHkAzMzMzMzMZQJqZmZmZmRlAAAAAAAAAGECamZmZmZkbQM3MzMzMzBpAmpmZmZmZG0AzMzMzMzMXQDMzMzMzMxtAzczMzMzMGkDNzMzMzMwaQDMzMzMzMxlAAAAAAAAAGkDNzMzMzMwYQJqZmZmZmRdA\",\"dtype\":\"float64\",\"shape\":[150]},\"sepal width (cm)\":{\"__ndarray__\":\"AAAAAAAADEAAAAAAAAAIQJqZmZmZmQlAzczMzMzMCEDNzMzMzMwMQDMzMzMzMw9AMzMzMzMzC0AzMzMzMzMLQDMzMzMzMwdAzczMzMzMCECamZmZmZkNQDMzMzMzMwtAAAAAAAAACEAAAAAAAAAIQAAAAAAAABBAmpmZmZmZEUAzMzMzMzMPQAAAAAAAAAxAZmZmZmZmDkBmZmZmZmYOQDMzMzMzMwtAmpmZmZmZDUDNzMzMzMwMQGZmZmZmZgpAMzMzMzMzC0AAAAAAAAAIQDMzMzMzMwtAAAAAAAAADEAzMzMzMzMLQJqZmZmZmQlAzczMzMzMCEAzMzMzMzMLQGZmZmZmZhBAzczMzMzMEEDNzMzMzMwIQJqZmZmZmQlAAAAAAAAADEDNzMzMzMwIQAAAAAAAAAhAMzMzMzMzC0AAAAAAAAAMQGZmZmZmZgJAmpmZmZmZCUAAAAAAAAAMQGZmZmZmZg5AAAAAAAAACEBmZmZmZmYOQJqZmZmZmQlAmpmZmZmZDUBmZmZmZmYKQJqZmZmZmQlAmpmZmZmZCUDNzMzMzMwIQGZmZmZmZgJAZmZmZmZmBkBmZmZmZmYGQGZmZmZmZgpAMzMzMzMzA0AzMzMzMzMHQJqZmZmZmQVAAAAAAAAAAEAAAAAAAAAIQJqZmZmZmQFAMzMzMzMzB0AzMzMzMzMHQM3MzMzMzAhAAAAAAAAACECamZmZmZkFQJqZmZmZmQFAAAAAAAAABECamZmZmZkJQGZmZmZmZgZAAAAAAAAABEBmZmZmZmYGQDMzMzMzMwdAAAAAAAAACEBmZmZmZmYGQAAAAAAAAAhAMzMzMzMzB0DNzMzMzMwEQDMzMzMzMwNAMzMzMzMzA0CamZmZmZkFQJqZmZmZmQVAAAAAAAAACEAzMzMzMzMLQM3MzMzMzAhAZmZmZmZmAkAAAAAAAAAIQAAAAAAAAARAzczMzMzMBEAAAAAAAAAIQM3MzMzMzARAZmZmZmZmAkCamZmZmZkFQAAAAAAAAAhAMzMzMzMzB0AzMzMzMzMHQAAAAAAAAARAZmZmZmZmBkBmZmZmZmYKQJqZmZmZmQVAAAAAAAAACEAzMzMzMzMHQAAAAAAAAAhAAAAAAAAACEAAAAAAAAAEQDMzMzMzMwdAAAAAAAAABEDNzMzMzMwMQJqZmZmZmQlAmpmZmZmZBUAAAAAAAAAIQAAAAAAAAARAZmZmZmZmBkCamZmZmZkJQAAAAAAAAAhAZmZmZmZmDkDNzMzMzMwEQJqZmZmZmQFAmpmZmZmZCUBmZmZmZmYGQGZmZmZmZgZAmpmZmZmZBUBmZmZmZmYKQJqZmZmZmQlAZmZmZmZmBkAAAAAAAAAIQGZmZmZmZgZAAAAAAAAACEBmZmZmZmYGQGZmZmZmZg5AZmZmZmZmBkBmZmZmZmYGQM3MzMzMzARAAAAAAAAACEAzMzMzMzMLQM3MzMzMzAhAAAAAAAAACEDNzMzMzMwIQM3MzMzMzAhAzczMzMzMCECamZmZmZkFQJqZmZmZmQlAZmZmZmZmCkAAAAAAAAAIQAAAAAAAAARAAAAAAAAACEAzMzMzMzMLQAAAAAAAAAhA\",\"dtype\":\"float64\",\"shape\":[150]},\"target\":[\"setosa\",\"setosa\",\"setosa\",\"setosa\",\"setosa\",\"setosa\",\"setosa\",\"setosa\",\"setosa\",\"setosa\",\"setosa\",\"setosa\",\"setosa\",\"setosa\",\"setosa\",\"setosa\",\"setosa\",\"setosa\",\"setosa\",\"setosa\",\"setosa\",\"setosa\",\"setosa\",\"setosa\",\"setosa\",\"setosa\",\"setosa\",\"setosa\",\"setosa\",\"setosa\",\"setosa\",\"setosa\",\"setosa\",\"setosa\",\"setosa\",\"setosa\",\"setosa\",\"setosa\",\"setosa\",\"setosa\",\"setosa\",\"setosa\",\"setosa\",\"setosa\",\"setosa\",\"setosa\",\"setosa\",\"setosa\",\"setosa\",\"setosa\",\"versicolor\",\"versicolor\",\"versicolor\",\"versicolor\",\"versicolor\",\"versicolor\",\"versicolor\",\"versicolor\",\"versicolor\",\"versicolor\",\"versicolor\",\"versicolor\",\"versicolor\",\"versicolor\",\"versicolor\",\"versicolor\",\"versicolor\",\"versicolor\",\"versicolor\",\"versicolor\",\"versicolor\",\"versicolor\",\"versicolor\",\"versicolor\",\"versicolor\",\"versicolor\",\"versicolor\",\"versicolor\",\"versicolor\",\"versicolor\",\"versicolor\",\"versicolor\",\"versicolor\",\"versicolor\",\"versicolor\",\"versicolor\",\"versicolor\",\"versicolor\",\"versicolor\",\"versicolor\",\"versicolor\",\"versicolor\",\"versicolor\",\"versicolor\",\"versicolor\",\"versicolor\",\"versicolor\",\"versicolor\",\"versicolor\",\"versicolor\",\"virginica\",\"virginica\",\"virginica\",\"virginica\",\"virginica\",\"virginica\",\"virginica\",\"virginica\",\"virginica\",\"virginica\",\"virginica\",\"virginica\",\"virginica\",\"virginica\",\"virginica\",\"virginica\",\"virginica\",\"virginica\",\"virginica\",\"virginica\",\"virginica\",\"virginica\",\"virginica\",\"virginica\",\"virginica\",\"virginica\",\"virginica\",\"virginica\",\"virginica\",\"virginica\",\"virginica\",\"virginica\",\"virginica\",\"virginica\",\"virginica\",\"virginica\",\"virginica\",\"virginica\",\"virginica\",\"virginica\",\"virginica\",\"virginica\",\"virginica\",\"virginica\",\"virginica\",\"virginica\",\"virginica\",\"virginica\",\"virginica\",\"virginica\"]},\"selected\":{\"id\":\"feaebfc5-8972-4a1f-8a5a-e74bed016307\",\"type\":\"Selection\"},\"selection_policy\":{\"id\":\"a44270cf-81df-4ee4-b4a0-391049b528ea\",\"type\":\"UnionRenderers\"}},\"id\":\"542709f6-6e1b-414e-b1ba-149a3ecb6e3d\",\"type\":\"ColumnDataSource\"},{\"attributes\":{},\"id\":\"a80d160d-643a-4ba0-8e3a-ccfd8857a525\",\"type\":\"BasicTicker\"},{\"attributes\":{},\"id\":\"a62cb5f2-4cf0-4382-88ad-4bd824c7dc3f\",\"type\":\"WheelZoomTool\"},{\"attributes\":{\"overlay\":{\"id\":\"13f2cdde-a5d3-43b4-b39f-0809d67fb1cf\",\"type\":\"BoxAnnotation\"}},\"id\":\"5b2b1562-35e7-4982-92db-41ab5b133f78\",\"type\":\"BoxZoomTool\"},{\"attributes\":{},\"id\":\"dca1ffe6-c51e-48d1-bdf2-b13092f4a4b1\",\"type\":\"SaveTool\"},{\"attributes\":{},\"id\":\"ff087662-f0d7-4997-8645-d3e2e02d7c5c\",\"type\":\"ResetTool\"}],\"root_ids\":[\"56acde3e-258b-4c3c-b534-a22c08bbdc8d\"]},\"title\":\"Bokeh Application\",\"version\":\"0.12.16\"}};\n",
       "  var render_items = [{\"docid\":\"2b49d382-a095-4158-bdcd-82b1629634ee\",\"elementid\":\"2b66f82b-e08f-4177-92a4-ddef215db9cd\",\"modelid\":\"56acde3e-258b-4c3c-b534-a22c08bbdc8d\"}];\n",
       "  root.Bokeh.embed.embed_items_notebook(docs_json, render_items);\n",
       "\n",
       "  }\n",
       "  if (root.Bokeh !== undefined) {\n",
       "    embed_document(root);\n",
       "  } else {\n",
       "    var attempts = 0;\n",
       "    var timer = setInterval(function(root) {\n",
       "      if (root.Bokeh !== undefined) {\n",
       "        embed_document(root);\n",
       "        clearInterval(timer);\n",
       "      }\n",
       "      attempts++;\n",
       "      if (attempts > 100) {\n",
       "        console.log(\"Bokeh: ERROR: Unable to run BokehJS code because BokehJS library is missing\")\n",
       "        clearInterval(timer);\n",
       "      }\n",
       "    }, 10, root)\n",
       "  }\n",
       "})(window);"
      ],
      "application/vnd.bokehjs_exec.v0+json": ""
     },
     "metadata": {
      "application/vnd.bokehjs_exec.v0+json": {
       "id": "56acde3e-258b-4c3c-b534-a22c08bbdc8d"
      }
     },
     "output_type": "display_data"
    }
   ],
   "source": [
    "# columndatasource takes dataframe in parameter\n",
    "source = ColumnDataSource(data=df)\n",
    "# plot data with glyph\n",
    "p = figure(x_axis_label='sepal length (cm)', y_axis_label='petal length (cm)')\n",
    "p.circle(x='sepal length (cm)', y='petal length (cm)', source=source)\n",
    "show(p)\n"
   ]
  },
  {
   "cell_type": "code",
   "execution_count": 9,
   "metadata": {},
   "outputs": [
    {
     "data": {
      "text/html": [
       "\n",
       "<div class=\"bk-root\">\n",
       "    <div class=\"bk-plotdiv\" id=\"c911d2b8-ce6f-4e6f-9dc9-5e06943bf107\"></div>\n",
       "</div>"
      ]
     },
     "metadata": {},
     "output_type": "display_data"
    },
    {
     "data": {
      "application/javascript": [
       "(function(root) {\n",
       "  function embed_document(root) {\n",
       "    \n",
       "  var docs_json = {\"02021d3f-f9ee-4a31-8edb-813547da9dbe\":{\"roots\":{\"references\":[{\"attributes\":{\"callback\":null},\"id\":\"29c4fd0f-c3e8-41e3-9128-f901de22f2ab\",\"type\":\"DataRange1d\"},{\"attributes\":{\"plot\":{\"id\":\"56acde3e-258b-4c3c-b534-a22c08bbdc8d\",\"subtype\":\"Figure\",\"type\":\"Plot\"},\"ticker\":{\"id\":\"a80d160d-643a-4ba0-8e3a-ccfd8857a525\",\"type\":\"BasicTicker\"}},\"id\":\"812e1175-7048-480c-97ed-33a2962f9940\",\"type\":\"Grid\"},{\"attributes\":{\"fill_color\":{\"value\":\"#1f77b4\"},\"line_color\":{\"value\":\"#1f77b4\"},\"x\":{\"field\":\"sepal length (cm)\"},\"y\":{\"field\":\"petal length (cm)\"}},\"id\":\"0f52f0bf-7f6c-4696-83f4-a9c1cdad49c3\",\"type\":\"Circle\"},{\"attributes\":{},\"id\":\"06aa6f81-adfe-422c-a4dc-66a81e6c3a5c\",\"type\":\"LinearScale\"},{\"attributes\":{\"below\":[{\"id\":\"24184838-6e14-4066-9754-9adb28c88048\",\"type\":\"LinearAxis\"}],\"left\":[{\"id\":\"d463e3df-d043-4d4b-91b4-d42ec86cc7d9\",\"type\":\"LinearAxis\"}],\"renderers\":[{\"id\":\"24184838-6e14-4066-9754-9adb28c88048\",\"type\":\"LinearAxis\"},{\"id\":\"812e1175-7048-480c-97ed-33a2962f9940\",\"type\":\"Grid\"},{\"id\":\"d463e3df-d043-4d4b-91b4-d42ec86cc7d9\",\"type\":\"LinearAxis\"},{\"id\":\"8a4d7644-d562-4c77-aea3-728a35156355\",\"type\":\"Grid\"},{\"id\":\"13f2cdde-a5d3-43b4-b39f-0809d67fb1cf\",\"type\":\"BoxAnnotation\"},{\"id\":\"8bb1b922-4c40-40eb-a20d-529c89fa43ba\",\"type\":\"GlyphRenderer\"},{\"id\":\"30a8a7b0-2fb7-4b49-a977-44b221a8f446\",\"type\":\"Legend\"},{\"id\":\"90eddc57-6ddc-47ff-a94b-670c1835436c\",\"type\":\"GlyphRenderer\"}],\"title\":{\"id\":\"1cca1baa-9e8e-403f-8c57-119273d7d44f\",\"type\":\"Title\"},\"toolbar\":{\"id\":\"a1b5f0a7-59f4-4c6d-aadf-f1595bcbe3bb\",\"type\":\"Toolbar\"},\"x_range\":{\"id\":\"5f829a83-5e7c-4135-a878-0d48c068700b\",\"type\":\"DataRange1d\"},\"x_scale\":{\"id\":\"c0a6ca90-5cd3-4e8d-b2ce-b625a4c57243\",\"type\":\"LinearScale\"},\"y_range\":{\"id\":\"29c4fd0f-c3e8-41e3-9128-f901de22f2ab\",\"type\":\"DataRange1d\"},\"y_scale\":{\"id\":\"06aa6f81-adfe-422c-a4dc-66a81e6c3a5c\",\"type\":\"LinearScale\"}},\"id\":\"56acde3e-258b-4c3c-b534-a22c08bbdc8d\",\"subtype\":\"Figure\",\"type\":\"Plot\"},{\"attributes\":{\"axis_label\":\"petal length (cm)\",\"formatter\":{\"id\":\"3f3ec65c-4d6d-43b5-a009-eb3b5cad518e\",\"type\":\"BasicTickFormatter\"},\"plot\":{\"id\":\"56acde3e-258b-4c3c-b534-a22c08bbdc8d\",\"subtype\":\"Figure\",\"type\":\"Plot\"},\"ticker\":{\"id\":\"4668b679-0258-4eff-b39d-32e7c9ff6898\",\"type\":\"BasicTicker\"}},\"id\":\"d463e3df-d043-4d4b-91b4-d42ec86cc7d9\",\"type\":\"LinearAxis\"},{\"attributes\":{\"fill_alpha\":{\"value\":0.1},\"fill_color\":{\"value\":\"#1f77b4\"},\"line_alpha\":{\"value\":0.1},\"line_color\":{\"value\":\"#1f77b4\"},\"x\":{\"field\":\"sepal length (cm)\"},\"y\":{\"field\":\"petal length (cm)\"}},\"id\":\"4d122d1f-1de3-432f-b33a-7ccb3b1676db\",\"type\":\"Circle\"},{\"attributes\":{\"callback\":null},\"id\":\"5f829a83-5e7c-4135-a878-0d48c068700b\",\"type\":\"DataRange1d\"},{\"attributes\":{},\"id\":\"4668b679-0258-4eff-b39d-32e7c9ff6898\",\"type\":\"BasicTicker\"},{\"attributes\":{\"dimension\":1,\"plot\":{\"id\":\"56acde3e-258b-4c3c-b534-a22c08bbdc8d\",\"subtype\":\"Figure\",\"type\":\"Plot\"},\"ticker\":{\"id\":\"4668b679-0258-4eff-b39d-32e7c9ff6898\",\"type\":\"BasicTicker\"}},\"id\":\"8a4d7644-d562-4c77-aea3-728a35156355\",\"type\":\"Grid\"},{\"attributes\":{\"data_source\":{\"id\":\"542709f6-6e1b-414e-b1ba-149a3ecb6e3d\",\"type\":\"ColumnDataSource\"},\"glyph\":{\"id\":\"0f52f0bf-7f6c-4696-83f4-a9c1cdad49c3\",\"type\":\"Circle\"},\"hover_glyph\":null,\"muted_glyph\":null,\"nonselection_glyph\":{\"id\":\"4d122d1f-1de3-432f-b33a-7ccb3b1676db\",\"type\":\"Circle\"},\"selection_glyph\":null,\"view\":{\"id\":\"08867619-1ba5-4d8c-95a7-201946839013\",\"type\":\"CDSView\"}},\"id\":\"8bb1b922-4c40-40eb-a20d-529c89fa43ba\",\"type\":\"GlyphRenderer\"},{\"attributes\":{\"plot\":null,\"text\":\"\"},\"id\":\"1cca1baa-9e8e-403f-8c57-119273d7d44f\",\"type\":\"Title\"},{\"attributes\":{},\"id\":\"3f3ec65c-4d6d-43b5-a009-eb3b5cad518e\",\"type\":\"BasicTickFormatter\"},{\"attributes\":{\"bottom_units\":\"screen\",\"fill_alpha\":{\"value\":0.5},\"fill_color\":{\"value\":\"lightgrey\"},\"left_units\":\"screen\",\"level\":\"overlay\",\"line_alpha\":{\"value\":1.0},\"line_color\":{\"value\":\"black\"},\"line_dash\":[4,4],\"line_width\":{\"value\":2},\"plot\":null,\"render_mode\":\"css\",\"right_units\":\"screen\",\"top_units\":\"screen\"},\"id\":\"13f2cdde-a5d3-43b4-b39f-0809d67fb1cf\",\"type\":\"BoxAnnotation\"},{\"attributes\":{},\"id\":\"27afe766-447c-4998-90bd-804803640e2b\",\"type\":\"PanTool\"},{\"attributes\":{\"source\":{\"id\":\"542709f6-6e1b-414e-b1ba-149a3ecb6e3d\",\"type\":\"ColumnDataSource\"}},\"id\":\"08867619-1ba5-4d8c-95a7-201946839013\",\"type\":\"CDSView\"},{\"attributes\":{},\"id\":\"a80d160d-643a-4ba0-8e3a-ccfd8857a525\",\"type\":\"BasicTicker\"},{\"attributes\":{},\"id\":\"a62cb5f2-4cf0-4382-88ad-4bd824c7dc3f\",\"type\":\"WheelZoomTool\"},{\"attributes\":{\"overlay\":{\"id\":\"13f2cdde-a5d3-43b4-b39f-0809d67fb1cf\",\"type\":\"BoxAnnotation\"}},\"id\":\"5b2b1562-35e7-4982-92db-41ab5b133f78\",\"type\":\"BoxZoomTool\"},{\"attributes\":{},\"id\":\"dca1ffe6-c51e-48d1-bdf2-b13092f4a4b1\",\"type\":\"SaveTool\"},{\"attributes\":{},\"id\":\"ff087662-f0d7-4997-8645-d3e2e02d7c5c\",\"type\":\"ResetTool\"},{\"attributes\":{},\"id\":\"2ee4e5ab-e7bd-4773-87fa-0e6953aae53d\",\"type\":\"HelpTool\"},{\"attributes\":{\"fill_color\":{\"field\":\"target\",\"transform\":{\"id\":\"2e50a780-d6a4-4178-9f2f-62017c8a91cc\",\"type\":\"CategoricalColorMapper\"}},\"line_color\":{\"field\":\"target\",\"transform\":{\"id\":\"2e50a780-d6a4-4178-9f2f-62017c8a91cc\",\"type\":\"CategoricalColorMapper\"}},\"x\":{\"field\":\"sepal length (cm)\"},\"y\":{\"field\":\"petal length (cm)\"}},\"id\":\"e4af2f37-da97-4f06-a936-fe50b08c142b\",\"type\":\"Circle\"},{\"attributes\":{},\"id\":\"38b014ee-5819-4931-be95-936c35351d75\",\"type\":\"BasicTickFormatter\"},{\"attributes\":{\"source\":{\"id\":\"542709f6-6e1b-414e-b1ba-149a3ecb6e3d\",\"type\":\"ColumnDataSource\"}},\"id\":\"e34fe1be-c4c9-4bcd-8fe2-b6effbccf8e5\",\"type\":\"CDSView\"},{\"attributes\":{},\"id\":\"a44270cf-81df-4ee4-b4a0-391049b528ea\",\"type\":\"UnionRenderers\"},{\"attributes\":{\"items\":[{\"id\":\"ffb18072-0af8-412e-bd0b-c5010d59144c\",\"type\":\"LegendItem\"}],\"plot\":{\"id\":\"56acde3e-258b-4c3c-b534-a22c08bbdc8d\",\"subtype\":\"Figure\",\"type\":\"Plot\"}},\"id\":\"30a8a7b0-2fb7-4b49-a977-44b221a8f446\",\"type\":\"Legend\"},{\"attributes\":{\"fill_alpha\":{\"value\":0.1},\"fill_color\":{\"value\":\"#1f77b4\"},\"line_alpha\":{\"value\":0.1},\"line_color\":{\"value\":\"#1f77b4\"},\"x\":{\"field\":\"sepal length (cm)\"},\"y\":{\"field\":\"petal length (cm)\"}},\"id\":\"851e2a6f-0cab-433a-8e4f-8c037721e346\",\"type\":\"Circle\"},{\"attributes\":{\"data_source\":{\"id\":\"542709f6-6e1b-414e-b1ba-149a3ecb6e3d\",\"type\":\"ColumnDataSource\"},\"glyph\":{\"id\":\"e4af2f37-da97-4f06-a936-fe50b08c142b\",\"type\":\"Circle\"},\"hover_glyph\":null,\"muted_glyph\":null,\"nonselection_glyph\":{\"id\":\"851e2a6f-0cab-433a-8e4f-8c037721e346\",\"type\":\"Circle\"},\"selection_glyph\":null,\"view\":{\"id\":\"e34fe1be-c4c9-4bcd-8fe2-b6effbccf8e5\",\"type\":\"CDSView\"}},\"id\":\"90eddc57-6ddc-47ff-a94b-670c1835436c\",\"type\":\"GlyphRenderer\"},{\"attributes\":{\"label\":{\"field\":\"target\"},\"renderers\":[{\"id\":\"90eddc57-6ddc-47ff-a94b-670c1835436c\",\"type\":\"GlyphRenderer\"}]},\"id\":\"ffb18072-0af8-412e-bd0b-c5010d59144c\",\"type\":\"LegendItem\"},{\"attributes\":{},\"id\":\"feaebfc5-8972-4a1f-8a5a-e74bed016307\",\"type\":\"Selection\"},{\"attributes\":{\"active_drag\":\"auto\",\"active_inspect\":\"auto\",\"active_scroll\":\"auto\",\"active_tap\":\"auto\",\"tools\":[{\"id\":\"27afe766-447c-4998-90bd-804803640e2b\",\"type\":\"PanTool\"},{\"id\":\"a62cb5f2-4cf0-4382-88ad-4bd824c7dc3f\",\"type\":\"WheelZoomTool\"},{\"id\":\"5b2b1562-35e7-4982-92db-41ab5b133f78\",\"type\":\"BoxZoomTool\"},{\"id\":\"dca1ffe6-c51e-48d1-bdf2-b13092f4a4b1\",\"type\":\"SaveTool\"},{\"id\":\"ff087662-f0d7-4997-8645-d3e2e02d7c5c\",\"type\":\"ResetTool\"},{\"id\":\"2ee4e5ab-e7bd-4773-87fa-0e6953aae53d\",\"type\":\"HelpTool\"}]},\"id\":\"a1b5f0a7-59f4-4c6d-aadf-f1595bcbe3bb\",\"type\":\"Toolbar\"},{\"attributes\":{},\"id\":\"c0a6ca90-5cd3-4e8d-b2ce-b625a4c57243\",\"type\":\"LinearScale\"},{\"attributes\":{\"callback\":null,\"data\":{\"index\":[0,1,2,3,4,5,6,7,8,9,10,11,12,13,14,15,16,17,18,19,20,21,22,23,24,25,26,27,28,29,30,31,32,33,34,35,36,37,38,39,40,41,42,43,44,45,46,47,48,49,50,51,52,53,54,55,56,57,58,59,60,61,62,63,64,65,66,67,68,69,70,71,72,73,74,75,76,77,78,79,80,81,82,83,84,85,86,87,88,89,90,91,92,93,94,95,96,97,98,99,100,101,102,103,104,105,106,107,108,109,110,111,112,113,114,115,116,117,118,119,120,121,122,123,124,125,126,127,128,129,130,131,132,133,134,135,136,137,138,139,140,141,142,143,144,145,146,147,148,149],\"petal length (cm)\":{\"__ndarray__\":\"ZmZmZmZm9j9mZmZmZmb2P83MzMzMzPQ/AAAAAAAA+D9mZmZmZmb2PzMzMzMzM/s/ZmZmZmZm9j8AAAAAAAD4P2ZmZmZmZvY/AAAAAAAA+D8AAAAAAAD4P5qZmZmZmfk/ZmZmZmZm9j+amZmZmZnxPzMzMzMzM/M/AAAAAAAA+D/NzMzMzMz0P2ZmZmZmZvY/MzMzMzMz+z8AAAAAAAD4PzMzMzMzM/s/AAAAAAAA+D8AAAAAAADwPzMzMzMzM/s/ZmZmZmZm/j+amZmZmZn5P5qZmZmZmfk/AAAAAAAA+D9mZmZmZmb2P5qZmZmZmfk/mpmZmZmZ+T8AAAAAAAD4PwAAAAAAAPg/ZmZmZmZm9j8AAAAAAAD4PzMzMzMzM/M/zczMzMzM9D8AAAAAAAD4P83MzMzMzPQ/AAAAAAAA+D/NzMzMzMz0P83MzMzMzPQ/zczMzMzM9D+amZmZmZn5P2ZmZmZmZv4/ZmZmZmZm9j+amZmZmZn5P2ZmZmZmZvY/AAAAAAAA+D9mZmZmZmb2P83MzMzMzBJAAAAAAAAAEkCamZmZmZkTQAAAAAAAABBAZmZmZmZmEkAAAAAAAAASQM3MzMzMzBJAZmZmZmZmCkBmZmZmZmYSQDMzMzMzMw9AAAAAAAAADEDNzMzMzMwQQAAAAAAAABBAzczMzMzMEkDNzMzMzMwMQJqZmZmZmRFAAAAAAAAAEkBmZmZmZmYQQAAAAAAAABJAMzMzMzMzD0AzMzMzMzMTQAAAAAAAABBAmpmZmZmZE0DNzMzMzMwSQDMzMzMzMxFAmpmZmZmZEUAzMzMzMzMTQAAAAAAAABRAAAAAAAAAEkAAAAAAAAAMQGZmZmZmZg5AmpmZmZmZDUAzMzMzMzMPQGZmZmZmZhRAAAAAAAAAEkAAAAAAAAASQM3MzMzMzBJAmpmZmZmZEUBmZmZmZmYQQAAAAAAAABBAmpmZmZmZEUBmZmZmZmYSQAAAAAAAABBAZmZmZmZmCkDNzMzMzMwQQM3MzMzMzBBAzczMzMzMEEAzMzMzMzMRQAAAAAAAAAhAZmZmZmZmEEAAAAAAAAAYQGZmZmZmZhRAmpmZmZmZF0BmZmZmZmYWQDMzMzMzMxdAZmZmZmZmGkAAAAAAAAASQDMzMzMzMxlAMzMzMzMzF0BmZmZmZmYYQGZmZmZmZhRAMzMzMzMzFUAAAAAAAAAWQAAAAAAAABRAZmZmZmZmFEAzMzMzMzMVQAAAAAAAABZAzczMzMzMGkCamZmZmZkbQAAAAAAAABRAzczMzMzMFkCamZmZmZkTQM3MzMzMzBpAmpmZmZmZE0DNzMzMzMwWQAAAAAAAABhAMzMzMzMzE0CamZmZmZkTQGZmZmZmZhZAMzMzMzMzF0BmZmZmZmYYQJqZmZmZmRlAZmZmZmZmFkBmZmZmZmYUQGZmZmZmZhZAZmZmZmZmGEBmZmZmZmYWQAAAAAAAABZAMzMzMzMzE0CamZmZmZkVQGZmZmZmZhZAZmZmZmZmFEBmZmZmZmYUQJqZmZmZmRdAzczMzMzMFkDNzMzMzMwUQAAAAAAAABRAzczMzMzMFECamZmZmZkVQGZmZmZmZhRA\",\"dtype\":\"float64\",\"shape\":[150]},\"petal width (cm)\":{\"__ndarray__\":\"mpmZmZmZyT+amZmZmZnJP5qZmZmZmck/mpmZmZmZyT+amZmZmZnJP5qZmZmZmdk/MzMzMzMz0z+amZmZmZnJP5qZmZmZmck/mpmZmZmZuT+amZmZmZnJP5qZmZmZmck/mpmZmZmZuT+amZmZmZm5P5qZmZmZmck/mpmZmZmZ2T+amZmZmZnZPzMzMzMzM9M/MzMzMzMz0z8zMzMzMzPTP5qZmZmZmck/mpmZmZmZ2T+amZmZmZnJPwAAAAAAAOA/mpmZmZmZyT+amZmZmZnJP5qZmZmZmdk/mpmZmZmZyT+amZmZmZnJP5qZmZmZmck/mpmZmZmZyT+amZmZmZnZP5qZmZmZmbk/mpmZmZmZyT+amZmZmZm5P5qZmZmZmck/mpmZmZmZyT+amZmZmZm5P5qZmZmZmck/mpmZmZmZyT8zMzMzMzPTPzMzMzMzM9M/mpmZmZmZyT8zMzMzMzPjP5qZmZmZmdk/MzMzMzMz0z+amZmZmZnJP5qZmZmZmck/mpmZmZmZyT+amZmZmZnJP2ZmZmZmZvY/AAAAAAAA+D8AAAAAAAD4P83MzMzMzPQ/AAAAAAAA+D/NzMzMzMz0P5qZmZmZmfk/AAAAAAAA8D/NzMzMzMz0P2ZmZmZmZvY/AAAAAAAA8D8AAAAAAAD4PwAAAAAAAPA/ZmZmZmZm9j/NzMzMzMz0P2ZmZmZmZvY/AAAAAAAA+D8AAAAAAADwPwAAAAAAAPg/mpmZmZmZ8T/NzMzMzMz8P83MzMzMzPQ/AAAAAAAA+D8zMzMzMzPzP83MzMzMzPQ/ZmZmZmZm9j9mZmZmZmb2PzMzMzMzM/s/AAAAAAAA+D8AAAAAAADwP5qZmZmZmfE/AAAAAAAA8D8zMzMzMzPzP5qZmZmZmfk/AAAAAAAA+D+amZmZmZn5PwAAAAAAAPg/zczMzMzM9D/NzMzMzMz0P83MzMzMzPQ/MzMzMzMz8z9mZmZmZmb2PzMzMzMzM/M/AAAAAAAA8D/NzMzMzMz0PzMzMzMzM/M/zczMzMzM9D/NzMzMzMz0P5qZmZmZmfE/zczMzMzM9D8AAAAAAAAEQGZmZmZmZv4/zczMzMzMAEDNzMzMzMz8P5qZmZmZmQFAzczMzMzMAEAzMzMzMzP7P83MzMzMzPw/zczMzMzM/D8AAAAAAAAEQAAAAAAAAABAZmZmZmZm/j/NzMzMzMwAQAAAAAAAAABAMzMzMzMzA0BmZmZmZmYCQM3MzMzMzPw/mpmZmZmZAUBmZmZmZmYCQAAAAAAAAPg/ZmZmZmZmAkAAAAAAAAAAQAAAAAAAAABAzczMzMzM/D/NzMzMzMwAQM3MzMzMzPw/zczMzMzM/D/NzMzMzMz8P83MzMzMzABAmpmZmZmZ+T9mZmZmZmb+PwAAAAAAAABAmpmZmZmZAUAAAAAAAAD4P2ZmZmZmZvY/ZmZmZmZmAkAzMzMzMzMDQM3MzMzMzPw/zczMzMzM/D/NzMzMzMwAQDMzMzMzMwNAZmZmZmZmAkBmZmZmZmb+P2ZmZmZmZgJAAAAAAAAABEBmZmZmZmYCQGZmZmZmZv4/AAAAAAAAAEBmZmZmZmYCQM3MzMzMzPw/\",\"dtype\":\"float64\",\"shape\":[150]},\"sepal length (cm)\":{\"__ndarray__\":\"ZmZmZmZmFECamZmZmZkTQM3MzMzMzBJAZmZmZmZmEkAAAAAAAAAUQJqZmZmZmRVAZmZmZmZmEkAAAAAAAAAUQJqZmZmZmRFAmpmZmZmZE0CamZmZmZkVQDMzMzMzMxNAMzMzMzMzE0AzMzMzMzMRQDMzMzMzMxdAzczMzMzMFkCamZmZmZkVQGZmZmZmZhRAzczMzMzMFkBmZmZmZmYUQJqZmZmZmRVAZmZmZmZmFEBmZmZmZmYSQGZmZmZmZhRAMzMzMzMzE0AAAAAAAAAUQAAAAAAAABRAzczMzMzMFEDNzMzMzMwUQM3MzMzMzBJAMzMzMzMzE0CamZmZmZkVQM3MzMzMzBRAAAAAAAAAFkCamZmZmZkTQAAAAAAAABRAAAAAAAAAFkCamZmZmZkTQJqZmZmZmRFAZmZmZmZmFEAAAAAAAAAUQAAAAAAAABJAmpmZmZmZEUAAAAAAAAAUQGZmZmZmZhRAMzMzMzMzE0BmZmZmZmYUQGZmZmZmZhJAMzMzMzMzFUAAAAAAAAAUQAAAAAAAABxAmpmZmZmZGUCamZmZmZkbQAAAAAAAABZAAAAAAAAAGkDNzMzMzMwWQDMzMzMzMxlAmpmZmZmZE0BmZmZmZmYaQM3MzMzMzBRAAAAAAAAAFECamZmZmZkXQAAAAAAAABhAZmZmZmZmGEBmZmZmZmYWQM3MzMzMzBpAZmZmZmZmFkAzMzMzMzMXQM3MzMzMzBhAZmZmZmZmFkCamZmZmZkXQGZmZmZmZhhAMzMzMzMzGUBmZmZmZmYYQJqZmZmZmRlAZmZmZmZmGkAzMzMzMzMbQM3MzMzMzBpAAAAAAAAAGEDNzMzMzMwWQAAAAAAAABZAAAAAAAAAFkAzMzMzMzMXQAAAAAAAABhAmpmZmZmZFUAAAAAAAAAYQM3MzMzMzBpAMzMzMzMzGUBmZmZmZmYWQAAAAAAAABZAAAAAAAAAFkBmZmZmZmYYQDMzMzMzMxdAAAAAAAAAFEBmZmZmZmYWQM3MzMzMzBZAzczMzMzMFkDNzMzMzMwYQGZmZmZmZhRAzczMzMzMFkAzMzMzMzMZQDMzMzMzMxdAZmZmZmZmHEAzMzMzMzMZQAAAAAAAABpAZmZmZmZmHkCamZmZmZkTQDMzMzMzMx1AzczMzMzMGkDNzMzMzMwcQAAAAAAAABpAmpmZmZmZGUAzMzMzMzMbQM3MzMzMzBZAMzMzMzMzF0CamZmZmZkZQAAAAAAAABpAzczMzMzMHkDNzMzMzMweQAAAAAAAABhAmpmZmZmZG0BmZmZmZmYWQM3MzMzMzB5AMzMzMzMzGUDNzMzMzMwaQM3MzMzMzBxAzczMzMzMGEBmZmZmZmYYQJqZmZmZmRlAzczMzMzMHECamZmZmZkdQJqZmZmZmR9AmpmZmZmZGUAzMzMzMzMZQGZmZmZmZhhAzczMzMzMHkAzMzMzMzMZQJqZmZmZmRlAAAAAAAAAGECamZmZmZkbQM3MzMzMzBpAmpmZmZmZG0AzMzMzMzMXQDMzMzMzMxtAzczMzMzMGkDNzMzMzMwaQDMzMzMzMxlAAAAAAAAAGkDNzMzMzMwYQJqZmZmZmRdA\",\"dtype\":\"float64\",\"shape\":[150]},\"sepal width (cm)\":{\"__ndarray__\":\"AAAAAAAADEAAAAAAAAAIQJqZmZmZmQlAzczMzMzMCEDNzMzMzMwMQDMzMzMzMw9AMzMzMzMzC0AzMzMzMzMLQDMzMzMzMwdAzczMzMzMCECamZmZmZkNQDMzMzMzMwtAAAAAAAAACEAAAAAAAAAIQAAAAAAAABBAmpmZmZmZEUAzMzMzMzMPQAAAAAAAAAxAZmZmZmZmDkBmZmZmZmYOQDMzMzMzMwtAmpmZmZmZDUDNzMzMzMwMQGZmZmZmZgpAMzMzMzMzC0AAAAAAAAAIQDMzMzMzMwtAAAAAAAAADEAzMzMzMzMLQJqZmZmZmQlAzczMzMzMCEAzMzMzMzMLQGZmZmZmZhBAzczMzMzMEEDNzMzMzMwIQJqZmZmZmQlAAAAAAAAADEDNzMzMzMwIQAAAAAAAAAhAMzMzMzMzC0AAAAAAAAAMQGZmZmZmZgJAmpmZmZmZCUAAAAAAAAAMQGZmZmZmZg5AAAAAAAAACEBmZmZmZmYOQJqZmZmZmQlAmpmZmZmZDUBmZmZmZmYKQJqZmZmZmQlAmpmZmZmZCUDNzMzMzMwIQGZmZmZmZgJAZmZmZmZmBkBmZmZmZmYGQGZmZmZmZgpAMzMzMzMzA0AzMzMzMzMHQJqZmZmZmQVAAAAAAAAAAEAAAAAAAAAIQJqZmZmZmQFAMzMzMzMzB0AzMzMzMzMHQM3MzMzMzAhAAAAAAAAACECamZmZmZkFQJqZmZmZmQFAAAAAAAAABECamZmZmZkJQGZmZmZmZgZAAAAAAAAABEBmZmZmZmYGQDMzMzMzMwdAAAAAAAAACEBmZmZmZmYGQAAAAAAAAAhAMzMzMzMzB0DNzMzMzMwEQDMzMzMzMwNAMzMzMzMzA0CamZmZmZkFQJqZmZmZmQVAAAAAAAAACEAzMzMzMzMLQM3MzMzMzAhAZmZmZmZmAkAAAAAAAAAIQAAAAAAAAARAzczMzMzMBEAAAAAAAAAIQM3MzMzMzARAZmZmZmZmAkCamZmZmZkFQAAAAAAAAAhAMzMzMzMzB0AzMzMzMzMHQAAAAAAAAARAZmZmZmZmBkBmZmZmZmYKQJqZmZmZmQVAAAAAAAAACEAzMzMzMzMHQAAAAAAAAAhAAAAAAAAACEAAAAAAAAAEQDMzMzMzMwdAAAAAAAAABEDNzMzMzMwMQJqZmZmZmQlAmpmZmZmZBUAAAAAAAAAIQAAAAAAAAARAZmZmZmZmBkCamZmZmZkJQAAAAAAAAAhAZmZmZmZmDkDNzMzMzMwEQJqZmZmZmQFAmpmZmZmZCUBmZmZmZmYGQGZmZmZmZgZAmpmZmZmZBUBmZmZmZmYKQJqZmZmZmQlAZmZmZmZmBkAAAAAAAAAIQGZmZmZmZgZAAAAAAAAACEBmZmZmZmYGQGZmZmZmZg5AZmZmZmZmBkBmZmZmZmYGQM3MzMzMzARAAAAAAAAACEAzMzMzMzMLQM3MzMzMzAhAAAAAAAAACEDNzMzMzMwIQM3MzMzMzAhAzczMzMzMCECamZmZmZkFQJqZmZmZmQlAZmZmZmZmCkAAAAAAAAAIQAAAAAAAAARAAAAAAAAACEAzMzMzMzMLQAAAAAAAAAhA\",\"dtype\":\"float64\",\"shape\":[150]},\"target\":[\"setosa\",\"setosa\",\"setosa\",\"setosa\",\"setosa\",\"setosa\",\"setosa\",\"setosa\",\"setosa\",\"setosa\",\"setosa\",\"setosa\",\"setosa\",\"setosa\",\"setosa\",\"setosa\",\"setosa\",\"setosa\",\"setosa\",\"setosa\",\"setosa\",\"setosa\",\"setosa\",\"setosa\",\"setosa\",\"setosa\",\"setosa\",\"setosa\",\"setosa\",\"setosa\",\"setosa\",\"setosa\",\"setosa\",\"setosa\",\"setosa\",\"setosa\",\"setosa\",\"setosa\",\"setosa\",\"setosa\",\"setosa\",\"setosa\",\"setosa\",\"setosa\",\"setosa\",\"setosa\",\"setosa\",\"setosa\",\"setosa\",\"setosa\",\"versicolor\",\"versicolor\",\"versicolor\",\"versicolor\",\"versicolor\",\"versicolor\",\"versicolor\",\"versicolor\",\"versicolor\",\"versicolor\",\"versicolor\",\"versicolor\",\"versicolor\",\"versicolor\",\"versicolor\",\"versicolor\",\"versicolor\",\"versicolor\",\"versicolor\",\"versicolor\",\"versicolor\",\"versicolor\",\"versicolor\",\"versicolor\",\"versicolor\",\"versicolor\",\"versicolor\",\"versicolor\",\"versicolor\",\"versicolor\",\"versicolor\",\"versicolor\",\"versicolor\",\"versicolor\",\"versicolor\",\"versicolor\",\"versicolor\",\"versicolor\",\"versicolor\",\"versicolor\",\"versicolor\",\"versicolor\",\"versicolor\",\"versicolor\",\"versicolor\",\"versicolor\",\"versicolor\",\"versicolor\",\"versicolor\",\"versicolor\",\"virginica\",\"virginica\",\"virginica\",\"virginica\",\"virginica\",\"virginica\",\"virginica\",\"virginica\",\"virginica\",\"virginica\",\"virginica\",\"virginica\",\"virginica\",\"virginica\",\"virginica\",\"virginica\",\"virginica\",\"virginica\",\"virginica\",\"virginica\",\"virginica\",\"virginica\",\"virginica\",\"virginica\",\"virginica\",\"virginica\",\"virginica\",\"virginica\",\"virginica\",\"virginica\",\"virginica\",\"virginica\",\"virginica\",\"virginica\",\"virginica\",\"virginica\",\"virginica\",\"virginica\",\"virginica\",\"virginica\",\"virginica\",\"virginica\",\"virginica\",\"virginica\",\"virginica\",\"virginica\",\"virginica\",\"virginica\",\"virginica\",\"virginica\"]},\"selected\":{\"id\":\"feaebfc5-8972-4a1f-8a5a-e74bed016307\",\"type\":\"Selection\"},\"selection_policy\":{\"id\":\"a44270cf-81df-4ee4-b4a0-391049b528ea\",\"type\":\"UnionRenderers\"}},\"id\":\"542709f6-6e1b-414e-b1ba-149a3ecb6e3d\",\"type\":\"ColumnDataSource\"},{\"attributes\":{\"factors\":[\"setosa\",\"versicolor\",\"virginica\"],\"palette\":[\"red\",\"green\",\"blue\"]},\"id\":\"2e50a780-d6a4-4178-9f2f-62017c8a91cc\",\"type\":\"CategoricalColorMapper\"},{\"attributes\":{\"axis_label\":\"sepal length (cm)\",\"formatter\":{\"id\":\"38b014ee-5819-4931-be95-936c35351d75\",\"type\":\"BasicTickFormatter\"},\"plot\":{\"id\":\"56acde3e-258b-4c3c-b534-a22c08bbdc8d\",\"subtype\":\"Figure\",\"type\":\"Plot\"},\"ticker\":{\"id\":\"a80d160d-643a-4ba0-8e3a-ccfd8857a525\",\"type\":\"BasicTicker\"}},\"id\":\"24184838-6e14-4066-9754-9adb28c88048\",\"type\":\"LinearAxis\"}],\"root_ids\":[\"56acde3e-258b-4c3c-b534-a22c08bbdc8d\"]},\"title\":\"Bokeh Application\",\"version\":\"0.12.16\"}};\n",
       "  var render_items = [{\"docid\":\"02021d3f-f9ee-4a31-8edb-813547da9dbe\",\"elementid\":\"c911d2b8-ce6f-4e6f-9dc9-5e06943bf107\",\"modelid\":\"56acde3e-258b-4c3c-b534-a22c08bbdc8d\"}];\n",
       "  root.Bokeh.embed.embed_items_notebook(docs_json, render_items);\n",
       "\n",
       "  }\n",
       "  if (root.Bokeh !== undefined) {\n",
       "    embed_document(root);\n",
       "  } else {\n",
       "    var attempts = 0;\n",
       "    var timer = setInterval(function(root) {\n",
       "      if (root.Bokeh !== undefined) {\n",
       "        embed_document(root);\n",
       "        clearInterval(timer);\n",
       "      }\n",
       "      attempts++;\n",
       "      if (attempts > 100) {\n",
       "        console.log(\"Bokeh: ERROR: Unable to run BokehJS code because BokehJS library is missing\")\n",
       "        clearInterval(timer);\n",
       "      }\n",
       "    }, 10, root)\n",
       "  }\n",
       "})(window);"
      ],
      "application/vnd.bokehjs_exec.v0+json": ""
     },
     "metadata": {
      "application/vnd.bokehjs_exec.v0+json": {
       "id": "56acde3e-258b-4c3c-b534-a22c08bbdc8d"
      }
     },
     "output_type": "display_data"
    }
   ],
   "source": [
    "from bokeh.models import CategoricalColorMapper\n",
    "\n",
    "# CategoricalColorMapper is used to map color to factors all we need to do is initialize CategoricalColorMapper\n",
    "# with factor that you want to and mention palette i.e color\n",
    "color_mapper = CategoricalColorMapper(factors=np.unique(df.target),\n",
    "                                      palette=['red', 'green', 'blue'])\n",
    "# add dictionary to circle with field and transformer \n",
    "p.circle(x='sepal length (cm)', y='petal length (cm)', source=source,\n",
    "         color=dict(field='target',transform=color_mapper),\n",
    "            legend='target')\n",
    "\n",
    "show(p)"
   ]
  },
  {
   "cell_type": "code",
   "execution_count": 10,
   "metadata": {},
   "outputs": [],
   "source": [
    "from bokeh.palettes  import Spectral3\n",
    "from bokeh.layouts import gridplot"
   ]
  },
  {
   "cell_type": "code",
   "execution_count": 11,
   "metadata": {},
   "outputs": [
    {
     "data": {
      "text/html": [
       "\n",
       "<div class=\"bk-root\">\n",
       "    <div class=\"bk-plotdiv\" id=\"db25c0b6-955a-43f0-8b4f-717e6a36b6c7\"></div>\n",
       "</div>"
      ]
     },
     "metadata": {},
     "output_type": "display_data"
    },
    {
     "data": {
      "application/javascript": [
       "(function(root) {\n",
       "  function embed_document(root) {\n",
       "    \n",
       "  var docs_json = {\"dd94e090-3f98-4c49-96c9-989777444319\":{\"roots\":{\"references\":[{\"attributes\":{\"active_drag\":\"auto\",\"active_inspect\":\"auto\",\"active_scroll\":\"auto\",\"active_tap\":\"auto\",\"tools\":[{\"id\":\"aaaadadb-5993-426a-be24-51603bfab15f\",\"type\":\"BoxSelectTool\"},{\"id\":\"6fdee721-09f6-476e-8986-fc329c0a172d\",\"type\":\"LassoSelectTool\"},{\"id\":\"653eb685-65e6-4d99-9ec3-dbd916b208c9\",\"type\":\"HelpTool\"}]},\"id\":\"051c65f3-128a-4064-90b2-135b7a0ce815\",\"type\":\"Toolbar\"},{\"attributes\":{\"bottom_units\":\"screen\",\"fill_alpha\":{\"value\":0.5},\"fill_color\":{\"value\":\"lightgrey\"},\"left_units\":\"screen\",\"level\":\"overlay\",\"line_alpha\":{\"value\":1.0},\"line_color\":{\"value\":\"black\"},\"line_dash\":[4,4],\"line_width\":{\"value\":2},\"plot\":null,\"render_mode\":\"css\",\"right_units\":\"screen\",\"top_units\":\"screen\"},\"id\":\"4f556807-9155-46ff-b6d3-9b0e6cf42a00\",\"type\":\"BoxAnnotation\"},{\"attributes\":{\"callback\":null},\"id\":\"4c001630-2e92-4baf-b9a7-87309787210e\",\"type\":\"DataRange1d\"},{\"attributes\":{\"children\":[{\"id\":\"b1563506-0a13-4230-8750-ef1fd7180225\",\"type\":\"Row\"}]},\"id\":\"1e42cc52-d870-4c51-812a-6030e89c7acf\",\"type\":\"Column\"},{\"attributes\":{},\"id\":\"717731e6-a963-4045-9b6c-b20fb0047b51\",\"type\":\"LinearScale\"},{\"attributes\":{\"callback\":null},\"id\":\"4d69c3dd-c956-40df-9bf0-59b7b4dce043\",\"type\":\"DataRange1d\"},{\"attributes\":{},\"id\":\"8d8ea0dc-af32-404f-b65f-404bf71f722d\",\"type\":\"LinearScale\"},{\"attributes\":{},\"id\":\"8d3842c7-b1d0-4655-b7dd-ce7050c9f977\",\"type\":\"LinearScale\"},{\"attributes\":{\"plot\":{\"id\":\"062e470d-bb10-40e6-b8cf-413eeaa6e8e6\",\"subtype\":\"Figure\",\"type\":\"Plot\"},\"ticker\":{\"id\":\"c00a7b38-8d7f-4307-bc02-92945b23881e\",\"type\":\"BasicTicker\"}},\"id\":\"13a451a3-c41d-46f3-83c7-1a02b3e3491a\",\"type\":\"Grid\"},{\"attributes\":{\"formatter\":{\"id\":\"de1ee308-d873-4f20-804c-811fbf239f60\",\"type\":\"BasicTickFormatter\"},\"plot\":{\"id\":\"062e470d-bb10-40e6-b8cf-413eeaa6e8e6\",\"subtype\":\"Figure\",\"type\":\"Plot\"},\"ticker\":{\"id\":\"c00a7b38-8d7f-4307-bc02-92945b23881e\",\"type\":\"BasicTicker\"}},\"id\":\"a79ce3c6-8e22-4ee4-afd4-cf68736a3d1c\",\"type\":\"LinearAxis\"},{\"attributes\":{},\"id\":\"c00a7b38-8d7f-4307-bc02-92945b23881e\",\"type\":\"BasicTicker\"},{\"attributes\":{\"formatter\":{\"id\":\"26c4c8b2-bee1-484a-b8f0-2981a53f3895\",\"type\":\"BasicTickFormatter\"},\"plot\":{\"id\":\"062e470d-bb10-40e6-b8cf-413eeaa6e8e6\",\"subtype\":\"Figure\",\"type\":\"Plot\"},\"ticker\":{\"id\":\"fc709da1-5357-47db-b1a9-559eeedc1e4a\",\"type\":\"BasicTicker\"}},\"id\":\"d2b25a17-6c91-4349-836a-dbbaa6440f70\",\"type\":\"LinearAxis\"},{\"attributes\":{},\"id\":\"fc709da1-5357-47db-b1a9-559eeedc1e4a\",\"type\":\"BasicTicker\"},{\"attributes\":{\"factors\":[\"setosa\",\"versicolor\",\"virginica\"],\"palette\":[\"#99d594\",\"#ffffbf\",\"#fc8d59\"]},\"id\":\"f42f8913-64b9-420d-9fcf-cd07c5c30ef6\",\"type\":\"CategoricalColorMapper\"},{\"attributes\":{\"dimension\":1,\"plot\":{\"id\":\"062e470d-bb10-40e6-b8cf-413eeaa6e8e6\",\"subtype\":\"Figure\",\"type\":\"Plot\"},\"ticker\":{\"id\":\"fc709da1-5357-47db-b1a9-559eeedc1e4a\",\"type\":\"BasicTicker\"}},\"id\":\"bbba490c-9312-47fd-8954-09cd75a05ab0\",\"type\":\"Grid\"},{\"attributes\":{\"callback\":null,\"data\":{\"index\":[0,1,2,3,4,5,6,7,8,9,10,11,12,13,14,15,16,17,18,19,20,21,22,23,24,25,26,27,28,29,30,31,32,33,34,35,36,37,38,39,40,41,42,43,44,45,46,47,48,49,50,51,52,53,54,55,56,57,58,59,60,61,62,63,64,65,66,67,68,69,70,71,72,73,74,75,76,77,78,79,80,81,82,83,84,85,86,87,88,89,90,91,92,93,94,95,96,97,98,99,100,101,102,103,104,105,106,107,108,109,110,111,112,113,114,115,116,117,118,119,120,121,122,123,124,125,126,127,128,129,130,131,132,133,134,135,136,137,138,139,140,141,142,143,144,145,146,147,148,149],\"petal length (cm)\":{\"__ndarray__\":\"ZmZmZmZm9j9mZmZmZmb2P83MzMzMzPQ/AAAAAAAA+D9mZmZmZmb2PzMzMzMzM/s/ZmZmZmZm9j8AAAAAAAD4P2ZmZmZmZvY/AAAAAAAA+D8AAAAAAAD4P5qZmZmZmfk/ZmZmZmZm9j+amZmZmZnxPzMzMzMzM/M/AAAAAAAA+D/NzMzMzMz0P2ZmZmZmZvY/MzMzMzMz+z8AAAAAAAD4PzMzMzMzM/s/AAAAAAAA+D8AAAAAAADwPzMzMzMzM/s/ZmZmZmZm/j+amZmZmZn5P5qZmZmZmfk/AAAAAAAA+D9mZmZmZmb2P5qZmZmZmfk/mpmZmZmZ+T8AAAAAAAD4PwAAAAAAAPg/ZmZmZmZm9j8AAAAAAAD4PzMzMzMzM/M/zczMzMzM9D8AAAAAAAD4P83MzMzMzPQ/AAAAAAAA+D/NzMzMzMz0P83MzMzMzPQ/zczMzMzM9D+amZmZmZn5P2ZmZmZmZv4/ZmZmZmZm9j+amZmZmZn5P2ZmZmZmZvY/AAAAAAAA+D9mZmZmZmb2P83MzMzMzBJAAAAAAAAAEkCamZmZmZkTQAAAAAAAABBAZmZmZmZmEkAAAAAAAAASQM3MzMzMzBJAZmZmZmZmCkBmZmZmZmYSQDMzMzMzMw9AAAAAAAAADEDNzMzMzMwQQAAAAAAAABBAzczMzMzMEkDNzMzMzMwMQJqZmZmZmRFAAAAAAAAAEkBmZmZmZmYQQAAAAAAAABJAMzMzMzMzD0AzMzMzMzMTQAAAAAAAABBAmpmZmZmZE0DNzMzMzMwSQDMzMzMzMxFAmpmZmZmZEUAzMzMzMzMTQAAAAAAAABRAAAAAAAAAEkAAAAAAAAAMQGZmZmZmZg5AmpmZmZmZDUAzMzMzMzMPQGZmZmZmZhRAAAAAAAAAEkAAAAAAAAASQM3MzMzMzBJAmpmZmZmZEUBmZmZmZmYQQAAAAAAAABBAmpmZmZmZEUBmZmZmZmYSQAAAAAAAABBAZmZmZmZmCkDNzMzMzMwQQM3MzMzMzBBAzczMzMzMEEAzMzMzMzMRQAAAAAAAAAhAZmZmZmZmEEAAAAAAAAAYQGZmZmZmZhRAmpmZmZmZF0BmZmZmZmYWQDMzMzMzMxdAZmZmZmZmGkAAAAAAAAASQDMzMzMzMxlAMzMzMzMzF0BmZmZmZmYYQGZmZmZmZhRAMzMzMzMzFUAAAAAAAAAWQAAAAAAAABRAZmZmZmZmFEAzMzMzMzMVQAAAAAAAABZAzczMzMzMGkCamZmZmZkbQAAAAAAAABRAzczMzMzMFkCamZmZmZkTQM3MzMzMzBpAmpmZmZmZE0DNzMzMzMwWQAAAAAAAABhAMzMzMzMzE0CamZmZmZkTQGZmZmZmZhZAMzMzMzMzF0BmZmZmZmYYQJqZmZmZmRlAZmZmZmZmFkBmZmZmZmYUQGZmZmZmZhZAZmZmZmZmGEBmZmZmZmYWQAAAAAAAABZAMzMzMzMzE0CamZmZmZkVQGZmZmZmZhZAZmZmZmZmFEBmZmZmZmYUQJqZmZmZmRdAzczMzMzMFkDNzMzMzMwUQAAAAAAAABRAzczMzMzMFECamZmZmZkVQGZmZmZmZhRA\",\"dtype\":\"float64\",\"shape\":[150]},\"petal width (cm)\":{\"__ndarray__\":\"mpmZmZmZyT+amZmZmZnJP5qZmZmZmck/mpmZmZmZyT+amZmZmZnJP5qZmZmZmdk/MzMzMzMz0z+amZmZmZnJP5qZmZmZmck/mpmZmZmZuT+amZmZmZnJP5qZmZmZmck/mpmZmZmZuT+amZmZmZm5P5qZmZmZmck/mpmZmZmZ2T+amZmZmZnZPzMzMzMzM9M/MzMzMzMz0z8zMzMzMzPTP5qZmZmZmck/mpmZmZmZ2T+amZmZmZnJPwAAAAAAAOA/mpmZmZmZyT+amZmZmZnJP5qZmZmZmdk/mpmZmZmZyT+amZmZmZnJP5qZmZmZmck/mpmZmZmZyT+amZmZmZnZP5qZmZmZmbk/mpmZmZmZyT+amZmZmZm5P5qZmZmZmck/mpmZmZmZyT+amZmZmZm5P5qZmZmZmck/mpmZmZmZyT8zMzMzMzPTPzMzMzMzM9M/mpmZmZmZyT8zMzMzMzPjP5qZmZmZmdk/MzMzMzMz0z+amZmZmZnJP5qZmZmZmck/mpmZmZmZyT+amZmZmZnJP2ZmZmZmZvY/AAAAAAAA+D8AAAAAAAD4P83MzMzMzPQ/AAAAAAAA+D/NzMzMzMz0P5qZmZmZmfk/AAAAAAAA8D/NzMzMzMz0P2ZmZmZmZvY/AAAAAAAA8D8AAAAAAAD4PwAAAAAAAPA/ZmZmZmZm9j/NzMzMzMz0P2ZmZmZmZvY/AAAAAAAA+D8AAAAAAADwPwAAAAAAAPg/mpmZmZmZ8T/NzMzMzMz8P83MzMzMzPQ/AAAAAAAA+D8zMzMzMzPzP83MzMzMzPQ/ZmZmZmZm9j9mZmZmZmb2PzMzMzMzM/s/AAAAAAAA+D8AAAAAAADwP5qZmZmZmfE/AAAAAAAA8D8zMzMzMzPzP5qZmZmZmfk/AAAAAAAA+D+amZmZmZn5PwAAAAAAAPg/zczMzMzM9D/NzMzMzMz0P83MzMzMzPQ/MzMzMzMz8z9mZmZmZmb2PzMzMzMzM/M/AAAAAAAA8D/NzMzMzMz0PzMzMzMzM/M/zczMzMzM9D/NzMzMzMz0P5qZmZmZmfE/zczMzMzM9D8AAAAAAAAEQGZmZmZmZv4/zczMzMzMAEDNzMzMzMz8P5qZmZmZmQFAzczMzMzMAEAzMzMzMzP7P83MzMzMzPw/zczMzMzM/D8AAAAAAAAEQAAAAAAAAABAZmZmZmZm/j/NzMzMzMwAQAAAAAAAAABAMzMzMzMzA0BmZmZmZmYCQM3MzMzMzPw/mpmZmZmZAUBmZmZmZmYCQAAAAAAAAPg/ZmZmZmZmAkAAAAAAAAAAQAAAAAAAAABAzczMzMzM/D/NzMzMzMwAQM3MzMzMzPw/zczMzMzM/D/NzMzMzMz8P83MzMzMzABAmpmZmZmZ+T9mZmZmZmb+PwAAAAAAAABAmpmZmZmZAUAAAAAAAAD4P2ZmZmZmZvY/ZmZmZmZmAkAzMzMzMzMDQM3MzMzMzPw/zczMzMzM/D/NzMzMzMwAQDMzMzMzMwNAZmZmZmZmAkBmZmZmZmb+P2ZmZmZmZgJAAAAAAAAABEBmZmZmZmYCQGZmZmZmZv4/AAAAAAAAAEBmZmZmZmYCQM3MzMzMzPw/\",\"dtype\":\"float64\",\"shape\":[150]},\"sepal length (cm)\":{\"__ndarray__\":\"ZmZmZmZmFECamZmZmZkTQM3MzMzMzBJAZmZmZmZmEkAAAAAAAAAUQJqZmZmZmRVAZmZmZmZmEkAAAAAAAAAUQJqZmZmZmRFAmpmZmZmZE0CamZmZmZkVQDMzMzMzMxNAMzMzMzMzE0AzMzMzMzMRQDMzMzMzMxdAzczMzMzMFkCamZmZmZkVQGZmZmZmZhRAzczMzMzMFkBmZmZmZmYUQJqZmZmZmRVAZmZmZmZmFEBmZmZmZmYSQGZmZmZmZhRAMzMzMzMzE0AAAAAAAAAUQAAAAAAAABRAzczMzMzMFEDNzMzMzMwUQM3MzMzMzBJAMzMzMzMzE0CamZmZmZkVQM3MzMzMzBRAAAAAAAAAFkCamZmZmZkTQAAAAAAAABRAAAAAAAAAFkCamZmZmZkTQJqZmZmZmRFAZmZmZmZmFEAAAAAAAAAUQAAAAAAAABJAmpmZmZmZEUAAAAAAAAAUQGZmZmZmZhRAMzMzMzMzE0BmZmZmZmYUQGZmZmZmZhJAMzMzMzMzFUAAAAAAAAAUQAAAAAAAABxAmpmZmZmZGUCamZmZmZkbQAAAAAAAABZAAAAAAAAAGkDNzMzMzMwWQDMzMzMzMxlAmpmZmZmZE0BmZmZmZmYaQM3MzMzMzBRAAAAAAAAAFECamZmZmZkXQAAAAAAAABhAZmZmZmZmGEBmZmZmZmYWQM3MzMzMzBpAZmZmZmZmFkAzMzMzMzMXQM3MzMzMzBhAZmZmZmZmFkCamZmZmZkXQGZmZmZmZhhAMzMzMzMzGUBmZmZmZmYYQJqZmZmZmRlAZmZmZmZmGkAzMzMzMzMbQM3MzMzMzBpAAAAAAAAAGEDNzMzMzMwWQAAAAAAAABZAAAAAAAAAFkAzMzMzMzMXQAAAAAAAABhAmpmZmZmZFUAAAAAAAAAYQM3MzMzMzBpAMzMzMzMzGUBmZmZmZmYWQAAAAAAAABZAAAAAAAAAFkBmZmZmZmYYQDMzMzMzMxdAAAAAAAAAFEBmZmZmZmYWQM3MzMzMzBZAzczMzMzMFkDNzMzMzMwYQGZmZmZmZhRAzczMzMzMFkAzMzMzMzMZQDMzMzMzMxdAZmZmZmZmHEAzMzMzMzMZQAAAAAAAABpAZmZmZmZmHkCamZmZmZkTQDMzMzMzMx1AzczMzMzMGkDNzMzMzMwcQAAAAAAAABpAmpmZmZmZGUAzMzMzMzMbQM3MzMzMzBZAMzMzMzMzF0CamZmZmZkZQAAAAAAAABpAzczMzMzMHkDNzMzMzMweQAAAAAAAABhAmpmZmZmZG0BmZmZmZmYWQM3MzMzMzB5AMzMzMzMzGUDNzMzMzMwaQM3MzMzMzBxAzczMzMzMGEBmZmZmZmYYQJqZmZmZmRlAzczMzMzMHECamZmZmZkdQJqZmZmZmR9AmpmZmZmZGUAzMzMzMzMZQGZmZmZmZhhAzczMzMzMHkAzMzMzMzMZQJqZmZmZmRlAAAAAAAAAGECamZmZmZkbQM3MzMzMzBpAmpmZmZmZG0AzMzMzMzMXQDMzMzMzMxtAzczMzMzMGkDNzMzMzMwaQDMzMzMzMxlAAAAAAAAAGkDNzMzMzMwYQJqZmZmZmRdA\",\"dtype\":\"float64\",\"shape\":[150]},\"sepal width (cm)\":{\"__ndarray__\":\"AAAAAAAADEAAAAAAAAAIQJqZmZmZmQlAzczMzMzMCEDNzMzMzMwMQDMzMzMzMw9AMzMzMzMzC0AzMzMzMzMLQDMzMzMzMwdAzczMzMzMCECamZmZmZkNQDMzMzMzMwtAAAAAAAAACEAAAAAAAAAIQAAAAAAAABBAmpmZmZmZEUAzMzMzMzMPQAAAAAAAAAxAZmZmZmZmDkBmZmZmZmYOQDMzMzMzMwtAmpmZmZmZDUDNzMzMzMwMQGZmZmZmZgpAMzMzMzMzC0AAAAAAAAAIQDMzMzMzMwtAAAAAAAAADEAzMzMzMzMLQJqZmZmZmQlAzczMzMzMCEAzMzMzMzMLQGZmZmZmZhBAzczMzMzMEEDNzMzMzMwIQJqZmZmZmQlAAAAAAAAADEDNzMzMzMwIQAAAAAAAAAhAMzMzMzMzC0AAAAAAAAAMQGZmZmZmZgJAmpmZmZmZCUAAAAAAAAAMQGZmZmZmZg5AAAAAAAAACEBmZmZmZmYOQJqZmZmZmQlAmpmZmZmZDUBmZmZmZmYKQJqZmZmZmQlAmpmZmZmZCUDNzMzMzMwIQGZmZmZmZgJAZmZmZmZmBkBmZmZmZmYGQGZmZmZmZgpAMzMzMzMzA0AzMzMzMzMHQJqZmZmZmQVAAAAAAAAAAEAAAAAAAAAIQJqZmZmZmQFAMzMzMzMzB0AzMzMzMzMHQM3MzMzMzAhAAAAAAAAACECamZmZmZkFQJqZmZmZmQFAAAAAAAAABECamZmZmZkJQGZmZmZmZgZAAAAAAAAABEBmZmZmZmYGQDMzMzMzMwdAAAAAAAAACEBmZmZmZmYGQAAAAAAAAAhAMzMzMzMzB0DNzMzMzMwEQDMzMzMzMwNAMzMzMzMzA0CamZmZmZkFQJqZmZmZmQVAAAAAAAAACEAzMzMzMzMLQM3MzMzMzAhAZmZmZmZmAkAAAAAAAAAIQAAAAAAAAARAzczMzMzMBEAAAAAAAAAIQM3MzMzMzARAZmZmZmZmAkCamZmZmZkFQAAAAAAAAAhAMzMzMzMzB0AzMzMzMzMHQAAAAAAAAARAZmZmZmZmBkBmZmZmZmYKQJqZmZmZmQVAAAAAAAAACEAzMzMzMzMHQAAAAAAAAAhAAAAAAAAACEAAAAAAAAAEQDMzMzMzMwdAAAAAAAAABEDNzMzMzMwMQJqZmZmZmQlAmpmZmZmZBUAAAAAAAAAIQAAAAAAAAARAZmZmZmZmBkCamZmZmZkJQAAAAAAAAAhAZmZmZmZmDkDNzMzMzMwEQJqZmZmZmQFAmpmZmZmZCUBmZmZmZmYGQGZmZmZmZgZAmpmZmZmZBUBmZmZmZmYKQJqZmZmZmQlAZmZmZmZmBkAAAAAAAAAIQGZmZmZmZgZAAAAAAAAACEBmZmZmZmYGQGZmZmZmZg5AZmZmZmZmBkBmZmZmZmYGQM3MzMzMzARAAAAAAAAACEAzMzMzMzMLQM3MzMzMzAhAAAAAAAAACEDNzMzMzMwIQM3MzMzMzAhAzczMzMzMCECamZmZmZkFQJqZmZmZmQlAZmZmZmZmCkAAAAAAAAAIQAAAAAAAAARAAAAAAAAACEAzMzMzMzMLQAAAAAAAAAhA\",\"dtype\":\"float64\",\"shape\":[150]},\"target\":[\"setosa\",\"setosa\",\"setosa\",\"setosa\",\"setosa\",\"setosa\",\"setosa\",\"setosa\",\"setosa\",\"setosa\",\"setosa\",\"setosa\",\"setosa\",\"setosa\",\"setosa\",\"setosa\",\"setosa\",\"setosa\",\"setosa\",\"setosa\",\"setosa\",\"setosa\",\"setosa\",\"setosa\",\"setosa\",\"setosa\",\"setosa\",\"setosa\",\"setosa\",\"setosa\",\"setosa\",\"setosa\",\"setosa\",\"setosa\",\"setosa\",\"setosa\",\"setosa\",\"setosa\",\"setosa\",\"setosa\",\"setosa\",\"setosa\",\"setosa\",\"setosa\",\"setosa\",\"setosa\",\"setosa\",\"setosa\",\"setosa\",\"setosa\",\"versicolor\",\"versicolor\",\"versicolor\",\"versicolor\",\"versicolor\",\"versicolor\",\"versicolor\",\"versicolor\",\"versicolor\",\"versicolor\",\"versicolor\",\"versicolor\",\"versicolor\",\"versicolor\",\"versicolor\",\"versicolor\",\"versicolor\",\"versicolor\",\"versicolor\",\"versicolor\",\"versicolor\",\"versicolor\",\"versicolor\",\"versicolor\",\"versicolor\",\"versicolor\",\"versicolor\",\"versicolor\",\"versicolor\",\"versicolor\",\"versicolor\",\"versicolor\",\"versicolor\",\"versicolor\",\"versicolor\",\"versicolor\",\"versicolor\",\"versicolor\",\"versicolor\",\"versicolor\",\"versicolor\",\"versicolor\",\"versicolor\",\"versicolor\",\"versicolor\",\"versicolor\",\"versicolor\",\"versicolor\",\"versicolor\",\"versicolor\",\"virginica\",\"virginica\",\"virginica\",\"virginica\",\"virginica\",\"virginica\",\"virginica\",\"virginica\",\"virginica\",\"virginica\",\"virginica\",\"virginica\",\"virginica\",\"virginica\",\"virginica\",\"virginica\",\"virginica\",\"virginica\",\"virginica\",\"virginica\",\"virginica\",\"virginica\",\"virginica\",\"virginica\",\"virginica\",\"virginica\",\"virginica\",\"virginica\",\"virginica\",\"virginica\",\"virginica\",\"virginica\",\"virginica\",\"virginica\",\"virginica\",\"virginica\",\"virginica\",\"virginica\",\"virginica\",\"virginica\",\"virginica\",\"virginica\",\"virginica\",\"virginica\",\"virginica\",\"virginica\",\"virginica\",\"virginica\",\"virginica\",\"virginica\"]},\"selected\":{\"id\":\"ac4d2930-d213-4471-8cb7-c420e0d49b2a\",\"type\":\"Selection\"},\"selection_policy\":{\"id\":\"f848d5e1-ea78-4a38-a872-a8a6516ae897\",\"type\":\"UnionRenderers\"}},\"id\":\"0d5d0649-b49d-4680-902f-5c05488dcbe1\",\"type\":\"ColumnDataSource\"},{\"attributes\":{},\"id\":\"26c4c8b2-bee1-484a-b8f0-2981a53f3895\",\"type\":\"BasicTickFormatter\"},{\"attributes\":{},\"id\":\"1509b8c5-4866-4e2f-bc8a-37a05f676e97\",\"type\":\"BasicTickFormatter\"},{\"attributes\":{\"callback\":null,\"overlay\":{\"id\":\"4f556807-9155-46ff-b6d3-9b0e6cf42a00\",\"type\":\"BoxAnnotation\"}},\"id\":\"aaaadadb-5993-426a-be24-51603bfab15f\",\"type\":\"BoxSelectTool\"},{\"attributes\":{\"data_source\":{\"id\":\"0d5d0649-b49d-4680-902f-5c05488dcbe1\",\"type\":\"ColumnDataSource\"},\"glyph\":{\"id\":\"661d15f0-3c15-4e6b-bb9d-d09d282b78f2\",\"type\":\"Circle\"},\"hover_glyph\":null,\"muted_glyph\":null,\"nonselection_glyph\":{\"id\":\"35932955-23ac-4f71-b8f1-f26f05061772\",\"type\":\"Circle\"},\"selection_glyph\":null,\"view\":{\"id\":\"a9119592-928c-4e83-8093-d483cb168cf3\",\"type\":\"CDSView\"}},\"id\":\"1a27d3ec-c601-4048-9142-57a9e9f87eb1\",\"type\":\"GlyphRenderer\"},{\"attributes\":{\"source\":{\"id\":\"0d5d0649-b49d-4680-902f-5c05488dcbe1\",\"type\":\"ColumnDataSource\"}},\"id\":\"083d75fd-754b-47d8-b250-2c63d3981e46\",\"type\":\"CDSView\"},{\"attributes\":{\"fill_color\":{\"field\":\"target\",\"transform\":{\"id\":\"f42f8913-64b9-420d-9fcf-cd07c5c30ef6\",\"type\":\"CategoricalColorMapper\"}},\"line_color\":{\"field\":\"target\",\"transform\":{\"id\":\"f42f8913-64b9-420d-9fcf-cd07c5c30ef6\",\"type\":\"CategoricalColorMapper\"}},\"x\":{\"field\":\"sepal length (cm)\"},\"y\":{\"field\":\"petal length (cm)\"}},\"id\":\"661d15f0-3c15-4e6b-bb9d-d09d282b78f2\",\"type\":\"Circle\"},{\"attributes\":{\"callback\":null,\"overlay\":{\"id\":\"a3b52240-beb5-4316-9290-f1bbf4c6d5d5\",\"type\":\"PolyAnnotation\"}},\"id\":\"6fdee721-09f6-476e-8986-fc329c0a172d\",\"type\":\"LassoSelectTool\"},{\"attributes\":{\"callback\":null},\"id\":\"53292806-289c-4422-9f40-6e2b09936c35\",\"type\":\"DataRange1d\"},{\"attributes\":{},\"id\":\"653eb685-65e6-4d99-9ec3-dbd916b208c9\",\"type\":\"HelpTool\"},{\"attributes\":{},\"id\":\"7c424982-e147-4319-be42-53e1a1676f93\",\"type\":\"LinearScale\"},{\"attributes\":{\"fill_alpha\":{\"value\":0.1},\"fill_color\":{\"value\":\"#1f77b4\"},\"line_alpha\":{\"value\":0.1},\"line_color\":{\"value\":\"#1f77b4\"},\"x\":{\"field\":\"petal length (cm)\"},\"y\":{\"field\":\"petal length (cm)\"}},\"id\":\"c4d8c5d9-16bd-4b92-b5ec-c61a986bf0a8\",\"type\":\"Circle\"},{\"attributes\":{\"formatter\":{\"id\":\"b82adf7d-8be5-40ff-82f7-8f72625b039f\",\"type\":\"BasicTickFormatter\"},\"plot\":{\"id\":\"e2290638-eb70-4488-a2b2-f1b34bb0a141\",\"subtype\":\"Figure\",\"type\":\"Plot\"},\"ticker\":{\"id\":\"65589707-2d29-45fc-9046-1e4fbf73e440\",\"type\":\"BasicTicker\"}},\"id\":\"e0978c22-1aa3-4726-94da-c167549f1d31\",\"type\":\"LinearAxis\"},{\"attributes\":{\"data_source\":{\"id\":\"0d5d0649-b49d-4680-902f-5c05488dcbe1\",\"type\":\"ColumnDataSource\"},\"glyph\":{\"id\":\"934cbbd1-a99d-4cf7-951a-aa496787c3b6\",\"type\":\"Circle\"},\"hover_glyph\":null,\"muted_glyph\":null,\"nonselection_glyph\":{\"id\":\"c4d8c5d9-16bd-4b92-b5ec-c61a986bf0a8\",\"type\":\"Circle\"},\"selection_glyph\":null,\"view\":{\"id\":\"083d75fd-754b-47d8-b250-2c63d3981e46\",\"type\":\"CDSView\"}},\"id\":\"5a6cbd3b-c05f-4954-a33f-3d6fe58831f5\",\"type\":\"GlyphRenderer\"},{\"attributes\":{\"below\":[{\"id\":\"a79ce3c6-8e22-4ee4-afd4-cf68736a3d1c\",\"type\":\"LinearAxis\"}],\"left\":[{\"id\":\"d2b25a17-6c91-4349-836a-dbbaa6440f70\",\"type\":\"LinearAxis\"}],\"plot_height\":400,\"plot_width\":400,\"renderers\":[{\"id\":\"a79ce3c6-8e22-4ee4-afd4-cf68736a3d1c\",\"type\":\"LinearAxis\"},{\"id\":\"13a451a3-c41d-46f3-83c7-1a02b3e3491a\",\"type\":\"Grid\"},{\"id\":\"d2b25a17-6c91-4349-836a-dbbaa6440f70\",\"type\":\"LinearAxis\"},{\"id\":\"bbba490c-9312-47fd-8954-09cd75a05ab0\",\"type\":\"Grid\"},{\"id\":\"4f556807-9155-46ff-b6d3-9b0e6cf42a00\",\"type\":\"BoxAnnotation\"},{\"id\":\"a3b52240-beb5-4316-9290-f1bbf4c6d5d5\",\"type\":\"PolyAnnotation\"},{\"id\":\"189aa1b5-d134-49da-96dd-b14849727db2\",\"type\":\"Legend\"},{\"id\":\"5a6cbd3b-c05f-4954-a33f-3d6fe58831f5\",\"type\":\"GlyphRenderer\"}],\"title\":null,\"toolbar\":{\"id\":\"051c65f3-128a-4064-90b2-135b7a0ce815\",\"type\":\"Toolbar\"},\"toolbar_location\":null,\"x_range\":{\"id\":\"4c001630-2e92-4baf-b9a7-87309787210e\",\"type\":\"DataRange1d\"},\"x_scale\":{\"id\":\"717731e6-a963-4045-9b6c-b20fb0047b51\",\"type\":\"LinearScale\"},\"y_range\":{\"id\":\"4d69c3dd-c956-40df-9bf0-59b7b4dce043\",\"type\":\"DataRange1d\"},\"y_scale\":{\"id\":\"8d3842c7-b1d0-4655-b7dd-ce7050c9f977\",\"type\":\"LinearScale\"}},\"id\":\"062e470d-bb10-40e6-b8cf-413eeaa6e8e6\",\"subtype\":\"Figure\",\"type\":\"Plot\"},{\"attributes\":{\"plot\":{\"id\":\"e2290638-eb70-4488-a2b2-f1b34bb0a141\",\"subtype\":\"Figure\",\"type\":\"Plot\"},\"ticker\":{\"id\":\"65589707-2d29-45fc-9046-1e4fbf73e440\",\"type\":\"BasicTicker\"}},\"id\":\"862af320-4f08-49e3-913c-7e4493966203\",\"type\":\"Grid\"},{\"attributes\":{\"fill_alpha\":{\"value\":0.5},\"fill_color\":{\"value\":\"lightgrey\"},\"level\":\"overlay\",\"line_alpha\":{\"value\":1.0},\"line_color\":{\"value\":\"black\"},\"line_dash\":[4,4],\"line_width\":{\"value\":2},\"plot\":null,\"xs_units\":\"screen\",\"ys_units\":\"screen\"},\"id\":\"a3b52240-beb5-4316-9290-f1bbf4c6d5d5\",\"type\":\"PolyAnnotation\"},{\"attributes\":{\"bottom_units\":\"screen\",\"fill_alpha\":{\"value\":0.5},\"fill_color\":{\"value\":\"lightgrey\"},\"left_units\":\"screen\",\"level\":\"overlay\",\"line_alpha\":{\"value\":1.0},\"line_color\":{\"value\":\"black\"},\"line_dash\":[4,4],\"line_width\":{\"value\":2},\"plot\":null,\"render_mode\":\"css\",\"right_units\":\"screen\",\"top_units\":\"screen\"},\"id\":\"d1578c7b-c4f9-4d0a-af64-0463dbc450e7\",\"type\":\"BoxAnnotation\"},{\"attributes\":{\"items\":[{\"id\":\"4e14b047-ad2a-41c1-b3b8-8d38f20c74ae\",\"type\":\"LegendItem\"}],\"location\":\"top_left\",\"plot\":{\"id\":\"062e470d-bb10-40e6-b8cf-413eeaa6e8e6\",\"subtype\":\"Figure\",\"type\":\"Plot\"}},\"id\":\"189aa1b5-d134-49da-96dd-b14849727db2\",\"type\":\"Legend\"},{\"attributes\":{\"callback\":null},\"id\":\"a4ecd48c-e31b-4abc-9e37-6eee225d43be\",\"type\":\"DataRange1d\"},{\"attributes\":{},\"id\":\"f848d5e1-ea78-4a38-a872-a8a6516ae897\",\"type\":\"UnionRenderers\"},{\"attributes\":{\"active_drag\":\"auto\",\"active_inspect\":\"auto\",\"active_scroll\":\"auto\",\"active_tap\":\"auto\",\"tools\":[{\"id\":\"7512806b-c645-49f3-bc26-a4b1d2642c3b\",\"type\":\"BoxSelectTool\"},{\"id\":\"ccfe42f3-f969-4039-a4ea-27f894d3d425\",\"type\":\"LassoSelectTool\"},{\"id\":\"592cb774-baa6-4c70-b19b-69c06dde13b0\",\"type\":\"HelpTool\"}]},\"id\":\"52231985-87a1-4922-9603-f7e3ebe18bdc\",\"type\":\"Toolbar\"},{\"attributes\":{\"children\":[{\"id\":\"e2290638-eb70-4488-a2b2-f1b34bb0a141\",\"subtype\":\"Figure\",\"type\":\"Plot\"},{\"id\":\"062e470d-bb10-40e6-b8cf-413eeaa6e8e6\",\"subtype\":\"Figure\",\"type\":\"Plot\"}]},\"id\":\"b1563506-0a13-4230-8750-ef1fd7180225\",\"type\":\"Row\"},{\"attributes\":{\"label\":{\"field\":\"target\"},\"renderers\":[{\"id\":\"5a6cbd3b-c05f-4954-a33f-3d6fe58831f5\",\"type\":\"GlyphRenderer\"}]},\"id\":\"4e14b047-ad2a-41c1-b3b8-8d38f20c74ae\",\"type\":\"LegendItem\"},{\"attributes\":{\"below\":[{\"id\":\"e0978c22-1aa3-4726-94da-c167549f1d31\",\"type\":\"LinearAxis\"}],\"left\":[{\"id\":\"50e134ad-2eda-4710-8c22-01590faf60dc\",\"type\":\"LinearAxis\"}],\"plot_height\":400,\"plot_width\":400,\"renderers\":[{\"id\":\"e0978c22-1aa3-4726-94da-c167549f1d31\",\"type\":\"LinearAxis\"},{\"id\":\"862af320-4f08-49e3-913c-7e4493966203\",\"type\":\"Grid\"},{\"id\":\"50e134ad-2eda-4710-8c22-01590faf60dc\",\"type\":\"LinearAxis\"},{\"id\":\"bf9cbe08-8c00-4458-aae2-16bde4587d2a\",\"type\":\"Grid\"},{\"id\":\"d1578c7b-c4f9-4d0a-af64-0463dbc450e7\",\"type\":\"BoxAnnotation\"},{\"id\":\"6528a83e-e292-4f0d-8f82-b0f30539b711\",\"type\":\"PolyAnnotation\"},{\"id\":\"bb78849d-df99-4842-8339-c99200b86dc3\",\"type\":\"Legend\"},{\"id\":\"1a27d3ec-c601-4048-9142-57a9e9f87eb1\",\"type\":\"GlyphRenderer\"}],\"title\":null,\"toolbar\":{\"id\":\"52231985-87a1-4922-9603-f7e3ebe18bdc\",\"type\":\"Toolbar\"},\"toolbar_location\":null,\"x_range\":{\"id\":\"53292806-289c-4422-9f40-6e2b09936c35\",\"type\":\"DataRange1d\"},\"x_scale\":{\"id\":\"8d8ea0dc-af32-404f-b65f-404bf71f722d\",\"type\":\"LinearScale\"},\"y_range\":{\"id\":\"a4ecd48c-e31b-4abc-9e37-6eee225d43be\",\"type\":\"DataRange1d\"},\"y_scale\":{\"id\":\"7c424982-e147-4319-be42-53e1a1676f93\",\"type\":\"LinearScale\"}},\"id\":\"e2290638-eb70-4488-a2b2-f1b34bb0a141\",\"subtype\":\"Figure\",\"type\":\"Plot\"},{\"attributes\":{},\"id\":\"de1ee308-d873-4f20-804c-811fbf239f60\",\"type\":\"BasicTickFormatter\"},{\"attributes\":{},\"id\":\"65589707-2d29-45fc-9046-1e4fbf73e440\",\"type\":\"BasicTicker\"},{\"attributes\":{\"tools\":[{\"id\":\"7512806b-c645-49f3-bc26-a4b1d2642c3b\",\"type\":\"BoxSelectTool\"},{\"id\":\"ccfe42f3-f969-4039-a4ea-27f894d3d425\",\"type\":\"LassoSelectTool\"},{\"id\":\"592cb774-baa6-4c70-b19b-69c06dde13b0\",\"type\":\"HelpTool\"},{\"id\":\"aaaadadb-5993-426a-be24-51603bfab15f\",\"type\":\"BoxSelectTool\"},{\"id\":\"6fdee721-09f6-476e-8986-fc329c0a172d\",\"type\":\"LassoSelectTool\"},{\"id\":\"653eb685-65e6-4d99-9ec3-dbd916b208c9\",\"type\":\"HelpTool\"}]},\"id\":\"c5698512-672f-4edb-b8ce-db040f56b687\",\"type\":\"ProxyToolbar\"},{\"attributes\":{\"formatter\":{\"id\":\"1509b8c5-4866-4e2f-bc8a-37a05f676e97\",\"type\":\"BasicTickFormatter\"},\"plot\":{\"id\":\"e2290638-eb70-4488-a2b2-f1b34bb0a141\",\"subtype\":\"Figure\",\"type\":\"Plot\"},\"ticker\":{\"id\":\"df503d9a-142b-489f-93a8-0c5a4b7cd10c\",\"type\":\"BasicTicker\"}},\"id\":\"50e134ad-2eda-4710-8c22-01590faf60dc\",\"type\":\"LinearAxis\"},{\"attributes\":{},\"id\":\"df503d9a-142b-489f-93a8-0c5a4b7cd10c\",\"type\":\"BasicTicker\"},{\"attributes\":{\"dimension\":1,\"plot\":{\"id\":\"e2290638-eb70-4488-a2b2-f1b34bb0a141\",\"subtype\":\"Figure\",\"type\":\"Plot\"},\"ticker\":{\"id\":\"df503d9a-142b-489f-93a8-0c5a4b7cd10c\",\"type\":\"BasicTicker\"}},\"id\":\"bf9cbe08-8c00-4458-aae2-16bde4587d2a\",\"type\":\"Grid\"},{\"attributes\":{\"fill_color\":{\"field\":\"target\",\"transform\":{\"id\":\"f42f8913-64b9-420d-9fcf-cd07c5c30ef6\",\"type\":\"CategoricalColorMapper\"}},\"line_color\":{\"field\":\"target\",\"transform\":{\"id\":\"f42f8913-64b9-420d-9fcf-cd07c5c30ef6\",\"type\":\"CategoricalColorMapper\"}},\"x\":{\"field\":\"petal length (cm)\"},\"y\":{\"field\":\"petal length (cm)\"}},\"id\":\"934cbbd1-a99d-4cf7-951a-aa496787c3b6\",\"type\":\"Circle\"},{\"attributes\":{},\"id\":\"ac4d2930-d213-4471-8cb7-c420e0d49b2a\",\"type\":\"Selection\"},{\"attributes\":{\"callback\":null,\"overlay\":{\"id\":\"d1578c7b-c4f9-4d0a-af64-0463dbc450e7\",\"type\":\"BoxAnnotation\"}},\"id\":\"7512806b-c645-49f3-bc26-a4b1d2642c3b\",\"type\":\"BoxSelectTool\"},{\"attributes\":{\"source\":{\"id\":\"0d5d0649-b49d-4680-902f-5c05488dcbe1\",\"type\":\"ColumnDataSource\"}},\"id\":\"a9119592-928c-4e83-8093-d483cb168cf3\",\"type\":\"CDSView\"},{\"attributes\":{\"callback\":null,\"overlay\":{\"id\":\"6528a83e-e292-4f0d-8f82-b0f30539b711\",\"type\":\"PolyAnnotation\"}},\"id\":\"ccfe42f3-f969-4039-a4ea-27f894d3d425\",\"type\":\"LassoSelectTool\"},{\"attributes\":{\"items\":[{\"id\":\"248c275e-69d6-435f-b37e-190e3f220e38\",\"type\":\"LegendItem\"}],\"location\":\"top_left\",\"plot\":{\"id\":\"e2290638-eb70-4488-a2b2-f1b34bb0a141\",\"subtype\":\"Figure\",\"type\":\"Plot\"}},\"id\":\"bb78849d-df99-4842-8339-c99200b86dc3\",\"type\":\"Legend\"},{\"attributes\":{},\"id\":\"592cb774-baa6-4c70-b19b-69c06dde13b0\",\"type\":\"HelpTool\"},{\"attributes\":{\"toolbar\":{\"id\":\"c5698512-672f-4edb-b8ce-db040f56b687\",\"type\":\"ProxyToolbar\"},\"toolbar_location\":\"above\"},\"id\":\"9b136d3c-78f4-47a9-b850-1fff7d913383\",\"type\":\"ToolbarBox\"},{\"attributes\":{\"label\":{\"field\":\"target\"},\"renderers\":[{\"id\":\"1a27d3ec-c601-4048-9142-57a9e9f87eb1\",\"type\":\"GlyphRenderer\"}]},\"id\":\"248c275e-69d6-435f-b37e-190e3f220e38\",\"type\":\"LegendItem\"},{\"attributes\":{\"fill_alpha\":{\"value\":0.1},\"fill_color\":{\"value\":\"#1f77b4\"},\"line_alpha\":{\"value\":0.1},\"line_color\":{\"value\":\"#1f77b4\"},\"x\":{\"field\":\"sepal length (cm)\"},\"y\":{\"field\":\"petal length (cm)\"}},\"id\":\"35932955-23ac-4f71-b8f1-f26f05061772\",\"type\":\"Circle\"},{\"attributes\":{},\"id\":\"b82adf7d-8be5-40ff-82f7-8f72625b039f\",\"type\":\"BasicTickFormatter\"},{\"attributes\":{\"children\":[{\"id\":\"9b136d3c-78f4-47a9-b850-1fff7d913383\",\"type\":\"ToolbarBox\"},{\"id\":\"1e42cc52-d870-4c51-812a-6030e89c7acf\",\"type\":\"Column\"}]},\"id\":\"fe3a1c3c-797b-4b7e-b69f-bf237da97932\",\"type\":\"Column\"},{\"attributes\":{\"fill_alpha\":{\"value\":0.5},\"fill_color\":{\"value\":\"lightgrey\"},\"level\":\"overlay\",\"line_alpha\":{\"value\":1.0},\"line_color\":{\"value\":\"black\"},\"line_dash\":[4,4],\"line_width\":{\"value\":2},\"plot\":null,\"xs_units\":\"screen\",\"ys_units\":\"screen\"},\"id\":\"6528a83e-e292-4f0d-8f82-b0f30539b711\",\"type\":\"PolyAnnotation\"}],\"root_ids\":[\"fe3a1c3c-797b-4b7e-b69f-bf237da97932\"]},\"title\":\"Bokeh Application\",\"version\":\"0.12.16\"}};\n",
       "  var render_items = [{\"docid\":\"dd94e090-3f98-4c49-96c9-989777444319\",\"elementid\":\"db25c0b6-955a-43f0-8b4f-717e6a36b6c7\",\"modelid\":\"fe3a1c3c-797b-4b7e-b69f-bf237da97932\"}];\n",
       "  root.Bokeh.embed.embed_items_notebook(docs_json, render_items);\n",
       "\n",
       "  }\n",
       "  if (root.Bokeh !== undefined) {\n",
       "    embed_document(root);\n",
       "  } else {\n",
       "    var attempts = 0;\n",
       "    var timer = setInterval(function(root) {\n",
       "      if (root.Bokeh !== undefined) {\n",
       "        embed_document(root);\n",
       "        clearInterval(timer);\n",
       "      }\n",
       "      attempts++;\n",
       "      if (attempts > 100) {\n",
       "        console.log(\"Bokeh: ERROR: Unable to run BokehJS code because BokehJS library is missing\")\n",
       "        clearInterval(timer);\n",
       "      }\n",
       "    }, 10, root)\n",
       "  }\n",
       "})(window);"
      ],
      "application/vnd.bokehjs_exec.v0+json": ""
     },
     "metadata": {
      "application/vnd.bokehjs_exec.v0+json": {
       "id": "fe3a1c3c-797b-4b7e-b69f-bf237da97932"
      }
     },
     "output_type": "display_data"
    }
   ],
   "source": [
    "#make a source for dataframe this was already initialized already in above part \n",
    "source = ColumnDataSource(data=df)\n",
    "\n",
    "#create CategoricalColorMapper\n",
    "color_mapper = CategoricalColorMapper(factors=np.unique(df.target),\n",
    "                                      palette=Spectral3)\n",
    "#tools \n",
    "TOOLS = \"box_select,lasso_select,help\"\n",
    "\n",
    "# create a new plot and add a renderer\n",
    "left = figure(tools=TOOLS, plot_width=400, plot_height=400, title=None)\n",
    "left.circle(x='sepal length (cm)', y='petal length (cm)', source=source,\n",
    "         color=dict(field='target',transform=color_mapper),legend='target')\n",
    "left.legend.location='top_left'\n",
    "# create another new plot and add a renderer\n",
    "right = figure(tools=TOOLS, plot_width=400, plot_height=400, title=None)\n",
    "right.circle(x='petal length (cm)', y='petal length (cm)', source=source,\n",
    "         color=dict(field='target',transform=color_mapper),legend='target')\n",
    "right.legend.location='top_left'\n",
    "\n",
    "#Here we use gridplot for side by side plotting \n",
    "p = gridplot([[left, right]])\n",
    "\n",
    "show(p)"
   ]
  },
  {
   "cell_type": "markdown",
   "metadata": {},
   "source": [
    "# Categorical Data"
   ]
  },
  {
   "cell_type": "code",
   "execution_count": 12,
   "metadata": {},
   "outputs": [
    {
     "data": {
      "text/html": [
       "\n",
       "<div class=\"bk-root\">\n",
       "    <div class=\"bk-plotdiv\" id=\"fbd5a8db-f282-4a4b-8b36-6b5c68b04d0c\"></div>\n",
       "</div>"
      ]
     },
     "metadata": {},
     "output_type": "display_data"
    },
    {
     "data": {
      "application/javascript": [
       "(function(root) {\n",
       "  function embed_document(root) {\n",
       "    \n",
       "  var docs_json = {\"9f9ff7bf-0fd5-4ab7-b53b-d4778f11437b\":{\"roots\":{\"references\":[{\"attributes\":{\"source\":{\"id\":\"42729a56-f120-4bca-ac63-a3cfb304323b\",\"type\":\"ColumnDataSource\"}},\"id\":\"e1c11c7b-02e7-4273-9e16-fb76779e028c\",\"type\":\"CDSView\"},{\"attributes\":{},\"id\":\"b0a7f1d9-f59f-4373-804e-57a3021d3ceb\",\"type\":\"CategoricalTicker\"},{\"attributes\":{\"overlay\":{\"id\":\"b0929461-62d9-4e4c-95df-6538f698a707\",\"type\":\"BoxAnnotation\"}},\"id\":\"9a51c56e-ee16-4114-9646-0abfe07e941e\",\"type\":\"BoxZoomTool\"},{\"attributes\":{},\"id\":\"11c35e31-1dfd-4b35-8216-ee663b743037\",\"type\":\"WheelZoomTool\"},{\"attributes\":{\"data_source\":{\"id\":\"42729a56-f120-4bca-ac63-a3cfb304323b\",\"type\":\"ColumnDataSource\"},\"glyph\":{\"id\":\"0d7ef235-28b6-432c-988f-d6d584ba7d2a\",\"type\":\"VBar\"},\"hover_glyph\":null,\"muted_glyph\":null,\"nonselection_glyph\":{\"id\":\"54f8360b-e7a0-4d9f-bd28-6af4d51258d9\",\"type\":\"VBar\"},\"selection_glyph\":null,\"view\":{\"id\":\"e1c11c7b-02e7-4273-9e16-fb76779e028c\",\"type\":\"CDSView\"}},\"id\":\"b1eae75e-e780-4d24-be5f-beafd3917437\",\"type\":\"GlyphRenderer\"},{\"attributes\":{},\"id\":\"3c9388d3-3e18-4cb7-90c6-034dd32baa85\",\"type\":\"CategoricalTickFormatter\"},{\"attributes\":{},\"id\":\"9dcaf063-8397-410b-bd0b-a22203bbe7f7\",\"type\":\"HelpTool\"},{\"attributes\":{},\"id\":\"99a80c36-8ffe-401a-a075-582885260674\",\"type\":\"ResetTool\"},{\"attributes\":{\"callback\":null,\"factors\":[\"setosa\",\"versicolor\",\"virginica\"]},\"id\":\"33592bf1-a20c-4c3b-995e-25872c83ce99\",\"type\":\"FactorRange\"},{\"attributes\":{\"formatter\":{\"id\":\"5e5f770b-978a-4806-8037-2f972ae868b6\",\"type\":\"BasicTickFormatter\"},\"plot\":{\"id\":\"650b48d5-90d8-468e-892e-b7ff8d9cf464\",\"subtype\":\"Figure\",\"type\":\"Plot\"},\"ticker\":{\"id\":\"5fd2c461-0433-493d-8ace-c1d8f97be0c7\",\"type\":\"BasicTicker\"}},\"id\":\"9ae00a84-0cc1-445c-a611-4aae1c29f0e6\",\"type\":\"LinearAxis\"},{\"attributes\":{},\"id\":\"eb2dc1fe-c12a-4c46-b4f5-c376935196fa\",\"type\":\"SaveTool\"},{\"attributes\":{\"active_drag\":\"auto\",\"active_inspect\":\"auto\",\"active_scroll\":\"auto\",\"active_tap\":\"auto\",\"tools\":[{\"id\":\"4dee30c1-8736-4f5c-954f-e4cd018787a9\",\"type\":\"PanTool\"},{\"id\":\"11c35e31-1dfd-4b35-8216-ee663b743037\",\"type\":\"WheelZoomTool\"},{\"id\":\"9a51c56e-ee16-4114-9646-0abfe07e941e\",\"type\":\"BoxZoomTool\"},{\"id\":\"eb2dc1fe-c12a-4c46-b4f5-c376935196fa\",\"type\":\"SaveTool\"},{\"id\":\"99a80c36-8ffe-401a-a075-582885260674\",\"type\":\"ResetTool\"},{\"id\":\"9dcaf063-8397-410b-bd0b-a22203bbe7f7\",\"type\":\"HelpTool\"}]},\"id\":\"92577af8-6e2c-4291-ba2a-a98a16cedd05\",\"type\":\"Toolbar\"},{\"attributes\":{},\"id\":\"c710c718-c10e-4bed-8691-6bed57227400\",\"type\":\"CategoricalScale\"},{\"attributes\":{\"plot\":null,\"text\":\"\"},\"id\":\"506fb77d-d081-4831-a599-ca22a82cd15c\",\"type\":\"Title\"},{\"attributes\":{},\"id\":\"5e5f770b-978a-4806-8037-2f972ae868b6\",\"type\":\"BasicTickFormatter\"},{\"attributes\":{\"fill_alpha\":{\"value\":0.1},\"fill_color\":{\"value\":\"#1f77b4\"},\"line_alpha\":{\"value\":0.1},\"line_color\":{\"value\":\"#1f77b4\"},\"top\":{\"field\":\"top\"},\"width\":{\"value\":0.9},\"x\":{\"field\":\"x\"}},\"id\":\"54f8360b-e7a0-4d9f-bd28-6af4d51258d9\",\"type\":\"VBar\"},{\"attributes\":{\"callback\":null},\"id\":\"1dff4b2c-8f1c-4fcf-a445-ec149d8c8804\",\"type\":\"DataRange1d\"},{\"attributes\":{\"below\":[{\"id\":\"b0b84b53-b69b-433a-a358-494ccd034ee7\",\"type\":\"CategoricalAxis\"}],\"left\":[{\"id\":\"9ae00a84-0cc1-445c-a611-4aae1c29f0e6\",\"type\":\"LinearAxis\"}],\"plot_height\":250,\"renderers\":[{\"id\":\"b0b84b53-b69b-433a-a358-494ccd034ee7\",\"type\":\"CategoricalAxis\"},{\"id\":\"10a519e3-295f-44af-a322-d7af5cc19791\",\"type\":\"Grid\"},{\"id\":\"9ae00a84-0cc1-445c-a611-4aae1c29f0e6\",\"type\":\"LinearAxis\"},{\"id\":\"f8ca5e0d-7a96-4383-95a7-16d49e62dd29\",\"type\":\"Grid\"},{\"id\":\"b0929461-62d9-4e4c-95df-6538f698a707\",\"type\":\"BoxAnnotation\"},{\"id\":\"b1eae75e-e780-4d24-be5f-beafd3917437\",\"type\":\"GlyphRenderer\"}],\"title\":{\"id\":\"506fb77d-d081-4831-a599-ca22a82cd15c\",\"type\":\"Title\"},\"toolbar\":{\"id\":\"92577af8-6e2c-4291-ba2a-a98a16cedd05\",\"type\":\"Toolbar\"},\"toolbar_location\":null,\"x_range\":{\"id\":\"33592bf1-a20c-4c3b-995e-25872c83ce99\",\"type\":\"FactorRange\"},\"x_scale\":{\"id\":\"c710c718-c10e-4bed-8691-6bed57227400\",\"type\":\"CategoricalScale\"},\"y_range\":{\"id\":\"1dff4b2c-8f1c-4fcf-a445-ec149d8c8804\",\"type\":\"DataRange1d\"},\"y_scale\":{\"id\":\"8ab49c34-09e5-4b27-b56e-22efb27fd309\",\"type\":\"LinearScale\"}},\"id\":\"650b48d5-90d8-468e-892e-b7ff8d9cf464\",\"subtype\":\"Figure\",\"type\":\"Plot\"},{\"attributes\":{\"fill_color\":{\"value\":\"#1f77b4\"},\"line_color\":{\"value\":\"white\"},\"top\":{\"field\":\"top\"},\"width\":{\"value\":0.9},\"x\":{\"field\":\"x\"}},\"id\":\"0d7ef235-28b6-432c-988f-d6d584ba7d2a\",\"type\":\"VBar\"},{\"attributes\":{},\"id\":\"4dee30c1-8736-4f5c-954f-e4cd018787a9\",\"type\":\"PanTool\"},{\"attributes\":{\"bottom_units\":\"screen\",\"fill_alpha\":{\"value\":0.5},\"fill_color\":{\"value\":\"lightgrey\"},\"left_units\":\"screen\",\"level\":\"overlay\",\"line_alpha\":{\"value\":1.0},\"line_color\":{\"value\":\"black\"},\"line_dash\":[4,4],\"line_width\":{\"value\":2},\"plot\":null,\"render_mode\":\"css\",\"right_units\":\"screen\",\"top_units\":\"screen\"},\"id\":\"b0929461-62d9-4e4c-95df-6538f698a707\",\"type\":\"BoxAnnotation\"},{\"attributes\":{},\"id\":\"ff6a3a44-04c0-47a0-9193-4112ff316abf\",\"type\":\"Selection\"},{\"attributes\":{\"callback\":null,\"data\":{\"top\":[13,16,21],\"x\":[\"setosa\",\"versicolor\",\"virginica\"]},\"selected\":{\"id\":\"ff6a3a44-04c0-47a0-9193-4112ff316abf\",\"type\":\"Selection\"},\"selection_policy\":{\"id\":\"d32e5e70-63f9-444d-bd99-fe97bfb3a1d3\",\"type\":\"UnionRenderers\"}},\"id\":\"42729a56-f120-4bca-ac63-a3cfb304323b\",\"type\":\"ColumnDataSource\"},{\"attributes\":{\"plot\":{\"id\":\"650b48d5-90d8-468e-892e-b7ff8d9cf464\",\"subtype\":\"Figure\",\"type\":\"Plot\"},\"ticker\":{\"id\":\"b0a7f1d9-f59f-4373-804e-57a3021d3ceb\",\"type\":\"CategoricalTicker\"}},\"id\":\"10a519e3-295f-44af-a322-d7af5cc19791\",\"type\":\"Grid\"},{\"attributes\":{},\"id\":\"d32e5e70-63f9-444d-bd99-fe97bfb3a1d3\",\"type\":\"UnionRenderers\"},{\"attributes\":{\"dimension\":1,\"plot\":{\"id\":\"650b48d5-90d8-468e-892e-b7ff8d9cf464\",\"subtype\":\"Figure\",\"type\":\"Plot\"},\"ticker\":{\"id\":\"5fd2c461-0433-493d-8ace-c1d8f97be0c7\",\"type\":\"BasicTicker\"}},\"id\":\"f8ca5e0d-7a96-4383-95a7-16d49e62dd29\",\"type\":\"Grid\"},{\"attributes\":{\"formatter\":{\"id\":\"3c9388d3-3e18-4cb7-90c6-034dd32baa85\",\"type\":\"CategoricalTickFormatter\"},\"plot\":{\"id\":\"650b48d5-90d8-468e-892e-b7ff8d9cf464\",\"subtype\":\"Figure\",\"type\":\"Plot\"},\"ticker\":{\"id\":\"b0a7f1d9-f59f-4373-804e-57a3021d3ceb\",\"type\":\"CategoricalTicker\"}},\"id\":\"b0b84b53-b69b-433a-a358-494ccd034ee7\",\"type\":\"CategoricalAxis\"},{\"attributes\":{},\"id\":\"5fd2c461-0433-493d-8ace-c1d8f97be0c7\",\"type\":\"BasicTicker\"},{\"attributes\":{},\"id\":\"8ab49c34-09e5-4b27-b56e-22efb27fd309\",\"type\":\"LinearScale\"}],\"root_ids\":[\"650b48d5-90d8-468e-892e-b7ff8d9cf464\"]},\"title\":\"Bokeh Application\",\"version\":\"0.12.16\"}};\n",
       "  var render_items = [{\"docid\":\"9f9ff7bf-0fd5-4ab7-b53b-d4778f11437b\",\"elementid\":\"fbd5a8db-f282-4a4b-8b36-6b5c68b04d0c\",\"modelid\":\"650b48d5-90d8-468e-892e-b7ff8d9cf464\"}];\n",
       "  root.Bokeh.embed.embed_items_notebook(docs_json, render_items);\n",
       "\n",
       "  }\n",
       "  if (root.Bokeh !== undefined) {\n",
       "    embed_document(root);\n",
       "  } else {\n",
       "    var attempts = 0;\n",
       "    var timer = setInterval(function(root) {\n",
       "      if (root.Bokeh !== undefined) {\n",
       "        embed_document(root);\n",
       "        clearInterval(timer);\n",
       "      }\n",
       "      attempts++;\n",
       "      if (attempts > 100) {\n",
       "        console.log(\"Bokeh: ERROR: Unable to run BokehJS code because BokehJS library is missing\")\n",
       "        clearInterval(timer);\n",
       "      }\n",
       "    }, 10, root)\n",
       "  }\n",
       "})(window);"
      ],
      "application/vnd.bokehjs_exec.v0+json": ""
     },
     "metadata": {
      "application/vnd.bokehjs_exec.v0+json": {
       "id": "650b48d5-90d8-468e-892e-b7ff8d9cf464"
      }
     },
     "output_type": "display_data"
    }
   ],
   "source": [
    "new_df = df.sample(50)\n",
    "#get count of target data \n",
    "group=new_df.groupby('target').count()\n",
    "#change x axis  to factors \n",
    "p = figure(x_range=group.index.tolist(), plot_height=250, toolbar_location=None)\n",
    "#apply vbar glyph for bar plot\n",
    "p.vbar(x=group.index.tolist(), top=group['sepal length (cm)'].tolist(), width=0.9,\n",
    "       line_color='white')\n",
    "show(p)"
   ]
  }
 ],
 "metadata": {
  "kernelspec": {
   "display_name": "Python 3",
   "language": "python",
   "name": "python3"
  },
  "language_info": {
   "codemirror_mode": {
    "name": "ipython",
    "version": 3
   },
   "file_extension": ".py",
   "mimetype": "text/x-python",
   "name": "python",
   "nbconvert_exporter": "python",
   "pygments_lexer": "ipython3",
   "version": "3.6.8"
  }
 },
 "nbformat": 4,
 "nbformat_minor": 2
}
